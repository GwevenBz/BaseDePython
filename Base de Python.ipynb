{
 "cells": [
  {
   "cell_type": "code",
   "execution_count": 6,
   "id": "7e527503",
   "metadata": {},
   "outputs": [
    {
     "name": "stdout",
     "output_type": "stream",
     "text": [
      "Hello World !\n"
     ]
    }
   ],
   "source": [
    "print('Hello World !')"
   ]
  },
  {
   "cell_type": "code",
   "execution_count": 7,
   "id": "32be485d",
   "metadata": {},
   "outputs": [],
   "source": [
    "compteCourant = 500\n",
    "compteEpargne = 1000\n",
    "\n",
    "# ajouter 100 à notre épargne (Yeah!)\n",
    "compteEpargne = compteEpargne + 100\n",
    "\n",
    "# enlever 50 de notre compte courant (Snif)\n",
    "compteCourant = compteCourant - 50\n",
    "\n",
    "# calculer le nombre de jours à économiser pour atteindre 5000€\n",
    "nombreJoursEconomiser = (5000 - compteCourant) / 500\n",
    "\n",
    "# mettre à jour notre compte courant (encore) après les gains/pertes journaliers\n",
    "compteCourant = compteCourant + (30 - 10) * 7"
   ]
  },
  {
   "cell_type": "code",
   "execution_count": 8,
   "id": "9a9ce3eb",
   "metadata": {},
   "outputs": [
    {
     "data": {
      "text/plain": [
       "590"
      ]
     },
     "execution_count": 8,
     "metadata": {},
     "output_type": "execute_result"
    }
   ],
   "source": [
    "compteCourant"
   ]
  },
  {
   "cell_type": "code",
   "execution_count": 9,
   "id": "fe925cac",
   "metadata": {},
   "outputs": [
    {
     "data": {
      "text/plain": [
       "1100"
      ]
     },
     "execution_count": 9,
     "metadata": {},
     "output_type": "execute_result"
    }
   ],
   "source": [
    "compteEpargne"
   ]
  },
  {
   "cell_type": "code",
   "execution_count": 10,
   "id": "6bdce3bb",
   "metadata": {},
   "outputs": [
    {
     "name": "stdout",
     "output_type": "stream",
     "text": [
      "100\n",
      "729\n",
      "2\n"
     ]
    }
   ],
   "source": [
    "print(compteEpargne % 500) # -> 100\n",
    "# 1100 = 500 * 2 + 100, donc 1100 % 500 = le reste = 100\n",
    "\n",
    "print(9 ** 3) # -> 729, 9*9*9 = 729\n",
    "\n",
    "print(compteEpargne // 500) # -> 2\n",
    "# 1100 = 500 * 2 + 100, donc 1100 // 500 = résultat division entière = 2"
   ]
  },
  {
   "cell_type": "code",
   "execution_count": 11,
   "id": "ef0c96f2",
   "metadata": {},
   "outputs": [],
   "source": [
    "prenom = \"Benjamin\"\n",
    "pourcentageActivite = 72.3\n",
    "adresse = \"7 Cité Paradis, 75010 Paris\""
   ]
  },
  {
   "cell_type": "code",
   "execution_count": 12,
   "id": "b51f3209",
   "metadata": {},
   "outputs": [
    {
     "name": "stdout",
     "output_type": "stream",
     "text": [
      "8.25\n",
      "8\n"
     ]
    }
   ],
   "source": [
    "taux = 0.75\n",
    "interets = compteEpargne * (taux/100)\n",
    "print(interets)\n",
    "\n",
    "#permet de changer le type de variable\n",
    "interets = int(interets)\n",
    "print(interets)"
   ]
  },
  {
   "cell_type": "code",
   "execution_count": 13,
   "id": "bdcd1832",
   "metadata": {},
   "outputs": [
    {
     "name": "stdout",
     "output_type": "stream",
     "text": [
      "J'ai déjà été à Sydney 5 fois\n"
     ]
    }
   ],
   "source": [
    "#concaténer du texte avec du numérique\n",
    "# ne pas oublier de mettre les espaces\n",
    "\n",
    "ville = \"Sydney\"\n",
    "nombreVoyages = 5\n",
    "histoire = \"J'ai déjà été à \" + ville + \" \" + str(nombreVoyages) + \" fois\"\n",
    "print(histoire) # => \"J'ai déjà été à Syndey 5 fois\""
   ]
  },
  {
   "cell_type": "code",
   "execution_count": 14,
   "id": "e5406880",
   "metadata": {},
   "outputs": [],
   "source": [
    "#**les listes**\n",
    "\n",
    "nomClient = ['Georges Dupont', 'Luc Martin', 'Lucas Anderson', 'Alexandre Petit']\n",
    "# assigner la valeur 'Georges Dupond' au premier nom dans notre liste\n",
    "# c'est donc l'indice 0, car les indices commencent à 0 en python !\n",
    "nomClient[0] = 'Georges Dupond'"
   ]
  },
  {
   "cell_type": "code",
   "execution_count": 15,
   "id": "7eac94c3",
   "metadata": {},
   "outputs": [
    {
     "name": "stdout",
     "output_type": "stream",
     "text": [
      "Alexandre Petit\n",
      "['Luc Martin', 'Lucas Anderson']\n",
      "['Georges Dupond', 'Luc Martin']\n"
     ]
    }
   ],
   "source": [
    "# afficher le dernier élément\n",
    "print(nomClient[-1])\n",
    "\n",
    "# accéder du second élément au 3ème\n",
    "print(nomClient[1:3])\n",
    "\n",
    "# accéder à tous les éléments du début jusqu'au second\n",
    "print(nomClient[:2])"
   ]
  },
  {
   "cell_type": "code",
   "execution_count": 16,
   "id": "3086921d",
   "metadata": {},
   "outputs": [],
   "source": [
    "liste = []\n",
    "liste.append(7) # -> [7]\n",
    "liste.append(5) # -> [7, 5]\n",
    "liste.insert(1,12) # [7, 12, 5]\n",
    "liste[0] = 4 # -> [4, 12, 5]\n",
    "liste.remove(12) # [4, 5]\n",
    "liste.index(5) # affiche 1\n",
    "liste.extend([1, 2, 3]) # [4, 5, 1, 2, 3]\n",
    "del liste[3] # [4, 5, 1, 3]"
   ]
  },
  {
   "cell_type": "code",
   "execution_count": 17,
   "id": "7182a742",
   "metadata": {},
   "outputs": [],
   "source": [
    "#Décomposons ces quelques lignes :\n",
    "#les trois premières lignes correspondent à ce qui a été vu avant ;\n",
    "\n",
    "#vous ajoutez ensuite l’entier 12 à l’indice 1. L’ancienne valeur en position 1 est déplacée en position 2 ;\n",
    "\n",
    "#vous remplacez ensuite la valeur à l’indice 0 par 4 ;\n",
    "\n",
    "#avec la méthode .remove(), vous retirez l’entier 12 de notre liste ;\n",
    "\n",
    "#vous demandez ensuite l’indice du premier élément 5 dans notre liste (ici en seconde position, donc retourne 1) ;\n",
    "\n",
    "#vous ajoutez la liste  [1, 2, 3]  à la suite de notre liste initiale ;\n",
    "\n",
    "#et vous supprimez finalement l’élément situé en position 4 dans notre liste.\n",
    "\n",
    "#Cela vous laisse finalement avec la liste finale : [4, 5, 1, 3]."
   ]
  },
  {
   "cell_type": "code",
   "execution_count": 18,
   "id": "6cdb2316",
   "metadata": {},
   "outputs": [],
   "source": [
    "#les Divtionnaires"
   ]
  },
  {
   "cell_type": "code",
   "execution_count": 2,
   "id": "9b03cf79",
   "metadata": {},
   "outputs": [
    {
     "name": "stdout",
     "output_type": "stream",
     "text": [
      "150\n"
     ]
    }
   ],
   "source": [
    "comptes = {\"Georges Dupont\": 10000, \"Luc Martin\": 150, \"Lucas Anderson\": 300, \"Alexandre Petit\": 1800.74}\n",
    "print(comptes[\"Luc Martin\"])"
   ]
  },
  {
   "cell_type": "code",
   "execution_count": 3,
   "id": "8d71c26f",
   "metadata": {},
   "outputs": [
    {
     "name": "stdout",
     "output_type": "stream",
     "text": [
      "{'Georges Dupont': 10000, 'Luc Martin': 150, 'Lucas Anderson': 300, 'Alexandre Petit': 1800.74}\n"
     ]
    }
   ],
   "source": [
    "print(comptes)"
   ]
  },
  {
   "cell_type": "code",
   "execution_count": 4,
   "id": "00c8acea",
   "metadata": {},
   "outputs": [
    {
     "name": "stdout",
     "output_type": "stream",
     "text": [
      "1000\n"
     ]
    }
   ],
   "source": [
    "comptes['Georges Dupont'] -= 2000 # je soustrais 2000 au compte de Georges\n",
    "comptes['Cyril Andreje'] = 1000 # j'ajoute un nouvel individu dans mon dictionnaire\n",
    "print(comptes['Cyril Andreje']) # j'affiche la valeur du compte de Cyril"
   ]
  },
  {
   "cell_type": "code",
   "execution_count": 5,
   "id": "cea67f64",
   "metadata": {},
   "outputs": [
    {
     "data": {
      "text/plain": [
       "150"
      ]
     },
     "execution_count": 5,
     "metadata": {},
     "output_type": "execute_result"
    }
   ],
   "source": [
    "comptes.pop('Luc Martin') # supprime Luc Martin de notre dictionnaire"
   ]
  },
  {
   "cell_type": "code",
   "execution_count": 23,
   "id": "2e6cf212",
   "metadata": {},
   "outputs": [
    {
     "data": {
      "text/plain": [
       "4"
      ]
     },
     "execution_count": 23,
     "metadata": {},
     "output_type": "execute_result"
    }
   ],
   "source": [
    "len(comptes)"
   ]
  },
  {
   "cell_type": "code",
   "execution_count": 24,
   "id": "1e07f37d",
   "metadata": {},
   "outputs": [],
   "source": [
    "mon_tuple = (1, 2, 3, 'a', 'b')"
   ]
  },
  {
   "cell_type": "code",
   "execution_count": 25,
   "id": "c04841ce",
   "metadata": {},
   "outputs": [
    {
     "name": "stdout",
     "output_type": "stream",
     "text": [
      "2\n",
      "b\n"
     ]
    }
   ],
   "source": [
    "print(mon_tuple[1])\n",
    "print(mon_tuple[4]) "
   ]
  },
  {
   "cell_type": "code",
   "execution_count": 26,
   "id": "4de4c27f",
   "metadata": {},
   "outputs": [
    {
     "name": "stdout",
     "output_type": "stream",
     "text": [
      "1\n",
      "pomme\n"
     ]
    }
   ],
   "source": [
    "a, b = (1, 'pomme')\n",
    "print(a) # -> 1\n",
    "print(b) # -> 'pomme'"
   ]
  },
  {
   "cell_type": "code",
   "execution_count": 27,
   "id": "174282c1",
   "metadata": {},
   "outputs": [
    {
     "name": "stdout",
     "output_type": "stream",
     "text": [
      "(1, 2, 3, 'a', 'b')\n"
     ]
    }
   ],
   "source": [
    "print(mon_tuple)"
   ]
  },
  {
   "cell_type": "code",
   "execution_count": 28,
   "id": "88110e28",
   "metadata": {},
   "outputs": [],
   "source": [
    "#la structure conditionnelle"
   ]
  },
  {
   "cell_type": "code",
   "execution_count": 29,
   "id": "2f7da33b",
   "metadata": {},
   "outputs": [
    {
     "name": "stdout",
     "output_type": "stream",
     "text": [
      "Hello Antho !\n"
     ]
    }
   ],
   "source": [
    "nom = input('Quel est ton nom, cher(e) inconnu(e) ?')\n",
    "\n",
    "if len(nom) > 0:\n",
    "    print(\"Hello\", nom, \"!\")\n",
    "else:\n",
    "    print(\"Hello World !\")"
   ]
  },
  {
   "cell_type": "code",
   "execution_count": 30,
   "id": "c31ac51c",
   "metadata": {},
   "outputs": [
    {
     "data": {
      "text/plain": [
       "False"
      ]
     },
     "execution_count": 30,
     "metadata": {},
     "output_type": "execute_result"
    }
   ],
   "source": [
    "maListe = [4, 2, 3, 2, 10]\n",
    "maListeDeString = [\"a\", \"b\", \"c\", \"d\"]\n",
    "monString = \"La météo est vraiment bien aujourd'hui !\"\n",
    "\n",
    "4 in maListe # True\n",
    "0 in maListe # False\n",
    "0 in maListeDeString # False\n",
    "\"c\" in maListeDeString # True\n",
    "\"e\" in maListeDeString # False\n",
    "\"météo\" in monString # True\n",
    "\"vraiment\" in monString # True\n",
    "\"pluie ?\" in monString # False"
   ]
  },
  {
   "cell_type": "code",
   "execution_count": 31,
   "id": "32d2656e",
   "metadata": {},
   "outputs": [
    {
     "name": "stdout",
     "output_type": "stream",
     "text": [
      "Prêt en cours de validation : à l'étude\n"
     ]
    }
   ],
   "source": [
    "compte = input(\"Quel est le soldes de votre compte ?\")\n",
    "compte = int(compte) # transformer la réponse en entier\n",
    "\n",
    "if compte >= 10000:\n",
    "    print(\"Prêt accordé !\")\n",
    "elif compte >= 100 and compte < 10000:\n",
    "    print(\"Prêt en cours de validation : à l'étude\")\n",
    "else:\n",
    "    print(\"Prêt refusé\")"
   ]
  },
  {
   "cell_type": "code",
   "execution_count": 32,
   "id": "23e0a75f",
   "metadata": {},
   "outputs": [
    {
     "name": "stdout",
     "output_type": "stream",
     "text": [
      "E\n",
      "l\n",
      "é\n",
      "m\n",
      "e\n",
      "n\n",
      "t\n",
      "s\n"
     ]
    }
   ],
   "source": [
    "monString = \"Eléments\"\n",
    "\n",
    "for elt in monString:\n",
    "    print(elt)"
   ]
  },
  {
   "cell_type": "code",
   "execution_count": 33,
   "id": "bb1bf39e",
   "metadata": {},
   "outputs": [
    {
     "name": "stdout",
     "output_type": "stream",
     "text": [
      "J'ai planté 1 arbres\n",
      "J'ai planté 2 arbres\n",
      "J'ai planté 3 arbres\n",
      "J'ai planté 4 arbres\n",
      "J'ai planté 5 arbres\n",
      "J'ai planté 6 arbres\n",
      "J'ai planté 7 arbres\n",
      "J'ai planté 8 arbres\n",
      "J'ai planté 9 arbres\n",
      "J'ai planté 10 arbres\n",
      "J'ai une chouette forêt !\n"
     ]
    }
   ],
   "source": [
    "nombreArbres = 0\n",
    "\n",
    "while nombreArbres < 10:\n",
    "    nombreArbres += 1\n",
    "    print(\"J'ai planté\", nombreArbres, \"arbres\")\n",
    "    \n",
    "print(\"J'ai une chouette forêt !\")"
   ]
  },
  {
   "cell_type": "code",
   "execution_count": 34,
   "id": "1ccf1865",
   "metadata": {},
   "outputs": [
    {
     "name": "stdout",
     "output_type": "stream",
     "text": [
      "OpenClassRooms est vraiment top !\n",
      "OpenClassRooms est vraiment top !\n",
      "OpenClassRooms est vraiment top !\n",
      "OpenClassRooms est vraiment top !\n",
      "OpenClassRooms est vraiment top !\n"
     ]
    }
   ],
   "source": [
    "i = 0\n",
    "while i < 5:\n",
    "    print(\"OpenClassRooms est vraiment top !\")\n",
    "    i += 1"
   ]
  },
  {
   "cell_type": "code",
   "execution_count": 35,
   "id": "2c00d83c",
   "metadata": {},
   "outputs": [
    {
     "name": "stdout",
     "output_type": "stream",
     "text": [
      "0\n",
      "i != 2 & i != 5\n",
      "1\n",
      "i != 2 & i != 5\n",
      "2\n",
      "Cas spécial\n",
      "3\n",
      "i != 2 & i != 5\n",
      "4\n",
      "i != 2 & i != 5\n",
      "5\n",
      "Cas spécial\n",
      "6\n",
      "i != 2 & i != 5\n",
      "7\n",
      "i != 2 & i != 5\n",
      "8\n",
      "i != 2 & i != 5\n",
      "9\n",
      "i != 2 & i != 5\n"
     ]
    }
   ],
   "source": [
    "for i in range(10):\n",
    "    # instructions réalisées à chaque itération\n",
    "    print(i)\n",
    "    if (i == 2) or (i == 5):\n",
    "        print(\"Cas spécial\")\n",
    "        continue \n",
    "    # instructions non exécutées si i == 2 or 5 \n",
    "    print(\"i != 2 & i != 5\")\n"
   ]
  },
  {
   "cell_type": "code",
   "execution_count": 36,
   "id": "894e7eac",
   "metadata": {},
   "outputs": [
    {
     "name": "stdout",
     "output_type": "stream",
     "text": [
      "J'ai une orange !\n"
     ]
    }
   ],
   "source": [
    "panier = [\"pomme\", \"orange\", \"banane\"]\n",
    "\n",
    "for fruit in panier:\n",
    "    if fruit == \"orange\":\n",
    "        print(\"J'ai une\", fruit, \"!\")\n",
    "        break"
   ]
  },
  {
   "cell_type": "markdown",
   "id": "a8274b1f",
   "metadata": {},
   "source": [
    "#Les Modules"
   ]
  },
  {
   "cell_type": "code",
   "execution_count": 37,
   "id": "3aefbbb2",
   "metadata": {},
   "outputs": [],
   "source": [
    "'''\n",
    "Module geometry.py\n",
    "'''\n",
    "# variables\n",
    "pi = 3.14159265359\n",
    "phi = 1.6180\n",
    "\n",
    "# fonction qui calcule l'aire\n",
    "def aire(obj):\n",
    "    if type(obj) == carre:\n",
    "        return obj.a**2\n",
    "\n",
    "# definitions de quelques classes\n",
    "class carre(object):\n",
    "    def __init__(self,a):\n",
    "        self.a = a\n",
    "\n",
    "class triangle(object):\n",
    "    def __init__(self,a,b,c):\n",
    "        self.a = a\n",
    "        self.b = b\n",
    "        self.c = c"
   ]
  },
  {
   "cell_type": "code",
   "execution_count": 38,
   "id": "3ea75a59",
   "metadata": {},
   "outputs": [
    {
     "name": "stdout",
     "output_type": "stream",
     "text": [
      "on fait un bonhomme de neige\n"
     ]
    }
   ],
   "source": [
    "ensoleille = False\n",
    "neige = True\n",
    "if ensoleille:\n",
    "    print(\"on va à la plage !\")\n",
    "elif neige:\n",
    "    print(\"on fait un bonhomme de neige\")\n",
    "else:\n",
    "    print(\"on reste à la maison !\")"
   ]
  },
  {
   "cell_type": "code",
   "execution_count": 39,
   "id": "2bc5e562",
   "metadata": {},
   "outputs": [
    {
     "name": "stdout",
     "output_type": "stream",
     "text": [
      "on va à la plage !\n"
     ]
    }
   ],
   "source": [
    "avec_soleil = True\n",
    "en_semaine = False\n",
    "if avec_soleil and not en_semaine:\n",
    "    print(\"on va à la plage !\")\n",
    "elif avec_soleil and en_semaine:\n",
    "    print(\"on va au travail !\")\n",
    "else:\n",
    "    print(\"on reste à la maison !\")"
   ]
  },
  {
   "cell_type": "code",
   "execution_count": 40,
   "id": "f829d7f4",
   "metadata": {},
   "outputs": [
    {
     "name": "stdout",
     "output_type": "stream",
     "text": [
      "J'aime les pommes !\n"
     ]
    }
   ],
   "source": [
    "fruit = \"pomme\"\n",
    "match fruit:\n",
    "    case \"pomme\":\n",
    "        print(\"J'aime les pommes !\")\n",
    "    case \"banane\":\n",
    "        print(\"Je n'aime pas les bananes.\")\n",
    "    case \"orange\":\n",
    "        print(\"Les oranges sont bonnes pour la santé.\")\n",
    "    case _:\n",
    "        print(\"Je ne connais pas ce fruit.\")"
   ]
  },
  {
   "cell_type": "code",
   "execution_count": 41,
   "id": "0bf8dec3",
   "metadata": {},
   "outputs": [
    {
     "name": "stdout",
     "output_type": "stream",
     "text": [
      "3\n"
     ]
    }
   ],
   "source": [
    "\n",
    "nombre_a_gauche = input (\"Entrez un nombre entier: \")\n",
    "nombre_a_droite = input (\"Entrez un nombre entier: \")\n",
    "operation = input (\"Entrez l'opération souhaitée : +, -, / ou *\" )\n",
    "\n",
    "resultat = 0\n",
    "\n",
    "if not nombre_a_gauche.isnumeric() or not nombre_a_droite.isnumeric() :\n",
    "    print(\"Erreur ! Entrez un nombre entier SVP\")\n",
    "else:\n",
    "    nombre_a_droite = int(nombre_a_droite)\n",
    "    nombre_a_gauche = int(nombre_a_gauche)\n",
    "\n",
    "match operation :\n",
    "    case \"+\" :\n",
    "        resultat = nombre_a_droite + nombre_a_gauche\n",
    "    case \"-\" :\n",
    "        resultat = nombre_a_droite - nombre_a_gauche\n",
    "    case \"*\" :\n",
    "        resultat = nombre_a_droite * nombre_a_gauche\n",
    "    case \"/\" :\n",
    "        resultat = nombre_a_droite / nombre_a_gauche\n",
    "        if nombre_a_gauche == 0 or nombre_a_droite == 0 :\n",
    "            print(\"Ne pas diviser par zéro\")\n",
    "        else :  resultat = nombre_a_gauche / nombre_a_droite\n",
    "    case _:\n",
    "        print(\"Erreur: le symbole d'opération doit être '+', '-', '*' ou '/'.\")\n",
    "\n",
    "print(resultat)"
   ]
  },
  {
   "cell_type": "code",
   "execution_count": 42,
   "id": "71f967b4",
   "metadata": {},
   "outputs": [
    {
     "name": "stdout",
     "output_type": "stream",
     "text": [
      "0 bouteilles de bières au mur !\n",
      "1 bouteilles de bières au mur !\n",
      "2 bouteilles de bières au mur !\n",
      "3 bouteilles de bières au mur !\n",
      "4 bouteilles de bières au mur !\n",
      "5 bouteilles de bières au mur !\n",
      "6 bouteilles de bières au mur !\n",
      "7 bouteilles de bières au mur !\n",
      "8 bouteilles de bières au mur !\n",
      "9 bouteilles de bières au mur !\n"
     ]
    }
   ],
   "source": [
    "for x in range(10):\n",
    "    print(f\"{x} bouteilles de bières au mur !\")"
   ]
  },
  {
   "cell_type": "code",
   "execution_count": 43,
   "id": "94d889f7",
   "metadata": {},
   "outputs": [
    {
     "name": "stdout",
     "output_type": "stream",
     "text": [
      "liste de nombre : ['+']\n"
     ]
    }
   ],
   "source": [
    "ensemble_de_nombres = input(\"Entrez une liste de nombres, séparés par des virgules\")\n",
    "ensemble_de_nombres = ensemble_de_nombres.split(\",\")\n",
    "print('liste de nombre :',ensemble_de_nombres)"
   ]
  },
  {
   "cell_type": "code",
   "execution_count": 44,
   "id": "75503a5b",
   "metadata": {},
   "outputs": [
    {
     "ename": "ValueError",
     "evalue": "invalid literal for int() with base 10: '+'",
     "output_type": "error",
     "traceback": [
      "\u001b[1;31m---------------------------------------------------------------------------\u001b[0m",
      "\u001b[1;31mValueError\u001b[0m                                Traceback (most recent call last)",
      "Cell \u001b[1;32mIn[44], line 3\u001b[0m\n\u001b[0;32m      1\u001b[0m sommes \u001b[38;5;241m=\u001b[39m \u001b[38;5;241m0\u001b[39m\n\u001b[0;32m      2\u001b[0m \u001b[38;5;28;01mfor\u001b[39;00m nombre \u001b[38;5;129;01min\u001b[39;00m ensemble_de_nombres :\n\u001b[1;32m----> 3\u001b[0m     sommes \u001b[38;5;241m+\u001b[39m\u001b[38;5;241m=\u001b[39m \u001b[38;5;28;43mint\u001b[39;49m\u001b[43m(\u001b[49m\u001b[43mnombre\u001b[49m\u001b[43m)\u001b[49m\n\u001b[0;32m      4\u001b[0m \u001b[38;5;28mprint\u001b[39m(\u001b[38;5;124m\"\u001b[39m\u001b[38;5;124mla somme des nombre est de\u001b[39m\u001b[38;5;124m\"\u001b[39m, sommes)\n",
      "\u001b[1;31mValueError\u001b[0m: invalid literal for int() with base 10: '+'"
     ]
    }
   ],
   "source": [
    "sommes = 0\n",
    "for nombre in ensemble_de_nombres :\n",
    "    sommes += int(nombre)\n",
    "print(\"la somme des nombre est de\", sommes)"
   ]
  },
  {
   "cell_type": "code",
   "execution_count": null,
   "id": "8587926c",
   "metadata": {},
   "outputs": [
    {
     "name": "stdout",
     "output_type": "stream",
     "text": [
      "la mmoyenne est de 3\n"
     ]
    }
   ],
   "source": [
    "moyenne = 0\n",
    "moyenne = sommes / len(ensemble_de_nombres)\n",
    "\n",
    "print(\"la mmoyenne est de\", int(moyenne))"
   ]
  },
  {
   "cell_type": "code",
   "execution_count": null,
   "id": "deeebe50",
   "metadata": {},
   "outputs": [
    {
     "name": "stdout",
     "output_type": "stream",
     "text": [
      "Voici le nombre supérieur à la moyenne : 2\n"
     ]
    }
   ],
   "source": [
    "nombre_sup_moyenne = 0\n",
    "for nombre in ensemble_de_nombres :\n",
    "    if int(nombre) <  moyenne:\n",
    "        nombre_sup_moyenne += 1 \n",
    "print(\"Voici le nombre supérieur à la moyenne :\", nombre_sup_moyenne)\n",
    "\n"
   ]
  },
  {
   "cell_type": "code",
   "execution_count": null,
   "id": "a99e0c5d",
   "metadata": {},
   "outputs": [
    {
     "name": "stdout",
     "output_type": "stream",
     "text": [
      "2\n"
     ]
    }
   ],
   "source": [
    "nombre_pairs = 0 \n",
    "i = 0\n",
    "\n",
    "while i < len(ensemble_de_nombres):\n",
    "    if int(ensemble_de_nombres[i]) % 2 == 0:\n",
    "        nombre_pairs += 1\n",
    "    i += 1\n",
    "print(nombre_pairs)"
   ]
  },
  {
   "cell_type": "code",
   "execution_count": null,
   "id": "2052b85e",
   "metadata": {},
   "outputs": [],
   "source": [
    "def salaire_mensuel(salaire_annuel) :\n",
    "    return salaire_annuel / 11 \n",
    "\n",
    "def salaire_hebdomadaire(salaire_mensuel):\n",
    "    return salaire_mensuel / 4 \n",
    "\n",
    "\n",
    "def salaire_horaire(salaire_hebdomadaire, heures_travaillees):\n",
    "    return salaire_hebdomadaire / heures_travaillees\n",
    "\n",
    "def main():\n",
    "    salaire_annuel = float(input(\"Veuillez saisir votre salaire annuel svp\"))\n",
    "    heures_travaillees = float(input(\"Veuillez saisir les heures travaillées par semaine svp\"))\n",
    "\n",
    "    mensuel = salaire_mensuel(salaire_annuel)\n",
    "    print(mensuel)\n",
    "\n",
    "    hebdomadaire = salaire_hebdomadaire(mensuel)\n",
    "    print(hebdomadaire)\n",
    "\n",
    "    horaire = salaire_horaire(hebdomadaire, heures_travaillees)\n",
    "    print(salaire_horaire)\n",
    "\n",
    "    print(\"Votre salaire horaire est de\",horaire, \"euros\")\n"
   ]
  },
  {
   "cell_type": "code",
   "execution_count": null,
   "id": "47ab886e",
   "metadata": {},
   "outputs": [],
   "source": [
    "def salaire_mensuel(salaire_annuel):\n",
    "    return salaire_annuel / 12\n",
    "\n",
    "\n",
    "# Définition de la fonction salaire_hebdomadaire\n",
    "def salaire_hebdomadaire(salaire_mensuel):\n",
    "    return salaire_mensuel / 4\n",
    "\n",
    "\n",
    "# Définition de la fonction salaire_horaire\n",
    "def salaire_horaire(salaire_hebdomadaire, heures_travaillees):\n",
    "    return salaire_hebdomadaire / heures_travaillees\n",
    "\n",
    "\n",
    "def main():\n",
    "    # Demande à l'utilisateur de saisir son salaire annuel\n",
    "    salaire_annuel = float(input(\"Entrez votre salaire annuel : \"))\n",
    "    # Demande à l'utilisateur de saisir le nombre d'heures travaillées par semaine\n",
    "    heures_travaillees = float(\n",
    "        input(\"Entrez le nombre d'heures travaillées par semaine : \"))\n",
    "\n",
    "    # Calcul du salaire horaire\n",
    "    mensuel = salaire_mensuel(salaire_annuel)\n",
    "    hebdomadaire = salaire_hebdomadaire(mensuel)\n",
    "    horaire = salaire_horaire(hebdomadaire, heures_travaillees)\n",
    "\n",
    "    # Affichage du résultat\n",
    "    print(\"Votre salaire horaire est de\", horaire, \"euros.\")\n"
   ]
  },
  {
   "cell_type": "code",
   "execution_count": null,
   "id": "179e2330",
   "metadata": {},
   "outputs": [
    {
     "name": "stdout",
     "output_type": "stream",
     "text": [
      "Defaulting to user installation because normal site-packages is not writeable\n",
      "Collecting request2\n",
      "  Downloading request2-0.2.tar.gz (3.2 kB)\n",
      "  Installing build dependencies: started\n",
      "  Installing build dependencies: finished with status 'done'\n",
      "  Getting requirements to build wheel: started\n",
      "  Getting requirements to build wheel: finished with status 'done'\n",
      "  Preparing metadata (pyproject.toml): started\n",
      "  Preparing metadata (pyproject.toml): finished with status 'done'\n",
      "Collecting requests (from request2)\n",
      "  Downloading requests-2.32.3-py3-none-any.whl.metadata (4.6 kB)\n",
      "Collecting charset-normalizer<4,>=2 (from requests->request2)\n",
      "  Downloading charset_normalizer-3.3.2-cp312-cp312-win_amd64.whl.metadata (34 kB)\n",
      "Collecting idna<4,>=2.5 (from requests->request2)\n",
      "  Downloading idna-3.7-py3-none-any.whl.metadata (9.9 kB)\n",
      "Collecting urllib3<3,>=1.21.1 (from requests->request2)\n",
      "  Downloading urllib3-2.2.2-py3-none-any.whl.metadata (6.4 kB)\n",
      "Collecting certifi>=2017.4.17 (from requests->request2)\n",
      "  Downloading certifi-2024.7.4-py3-none-any.whl.metadata (2.2 kB)\n",
      "Downloading requests-2.32.3-py3-none-any.whl (64 kB)\n",
      "   ---------------------------------------- 0.0/64.9 kB ? eta -:--:--\n",
      "   ---------------------------------------- 64.9/64.9 kB 3.6 MB/s eta 0:00:00\n",
      "Downloading certifi-2024.7.4-py3-none-any.whl (162 kB)\n",
      "   ---------------------------------------- 0.0/163.0 kB ? eta -:--:--\n",
      "   ---------------------------------------- 163.0/163.0 kB 9.5 MB/s eta 0:00:00\n",
      "Downloading charset_normalizer-3.3.2-cp312-cp312-win_amd64.whl (100 kB)\n",
      "   ---------------------------------------- 0.0/100.4 kB ? eta -:--:--\n",
      "   ---------------------------------------- 100.4/100.4 kB ? eta 0:00:00\n",
      "Downloading idna-3.7-py3-none-any.whl (66 kB)\n",
      "   ---------------------------------------- 0.0/66.8 kB ? eta -:--:--\n",
      "   ---------------------------------------- 66.8/66.8 kB 3.8 MB/s eta 0:00:00\n",
      "Downloading urllib3-2.2.2-py3-none-any.whl (121 kB)\n",
      "   ---------------------------------------- 0.0/121.4 kB ? eta -:--:--\n",
      "   ---------------------------------------- 121.4/121.4 kB 7.4 MB/s eta 0:00:00\n",
      "Building wheels for collected packages: request2\n",
      "  Building wheel for request2 (pyproject.toml): started\n",
      "  Building wheel for request2 (pyproject.toml): finished with status 'done'\n",
      "  Created wheel for request2: filename=request2-0.2-py3-none-any.whl size=1974 sha256=c7d30fa12e71d40dc26c76ad1c0914186cc85f8fd4c607ef781d236b4c6d3d50\n",
      "  Stored in directory: c:\\users\\a-bez\\appdata\\local\\pip\\cache\\wheels\\34\\98\\c1\\ca1caca525038ae1b04d77a2106602f52c6baef223d61433ad\n",
      "Successfully built request2\n",
      "Installing collected packages: urllib3, idna, charset-normalizer, certifi, requests, request2\n",
      "Successfully installed certifi-2024.7.4 charset-normalizer-3.3.2 idna-3.7 request2-0.2 requests-2.32.3 urllib3-2.2.2\n",
      "Note: you may need to restart the kernel to use updated packages.\n"
     ]
    },
    {
     "name": "stderr",
     "output_type": "stream",
     "text": [
      "\n",
      "[notice] A new release of pip is available: 24.0 -> 24.1.2\n",
      "[notice] To update, run: C:\\Users\\A-Bez\\AppData\\Local\\Microsoft\\WindowsApps\\PythonSoftwareFoundation.Python.3.12_qbz5n2kfra8p0\\python.exe -m pip install --upgrade pip\n"
     ]
    }
   ],
   "source": [
    "pip install request2"
   ]
  },
  {
   "cell_type": "code",
   "execution_count": null,
   "id": "17967f64",
   "metadata": {},
   "outputs": [
    {
     "name": "stdout",
     "output_type": "stream",
     "text": [
      "b'<!DOCTYPE html>\\n<!--[if lt IE 9]><html class=\"lte-ie8 govuk-template\" lang=\"en\"><![endif]--><!--[if gt IE 8]><!--><html class=\"govuk-template\" lang=\"en\">\\n<!--<![endif]-->\\n  <head>\\n<meta http-equiv=\"Content-Type\" content=\"text/html; charset=UTF-8\">\\n<meta property=\"og:description\" content=\"Find news and communications from government\">\\n<meta property=\"og:title\" content=\"News and communications\">\\n<meta property=\"og:url\" content=\"https://www.gov.uk/search/news-and-communications\">\\n<meta property=\"og:type\" content=\"article\">\\n<meta property=\"og:site_name\" content=\"GOV.UK\">\\n<meta name=\"govuk:base_title\" content=\"News and communications - GOV.UK\">\\n<meta name=\"govuk:search-result-count\" content=\"129851\">\\n<meta name=\"twitter:card\" content=\"summary\">\\n<meta name=\"govuk:public-updated-at\" content=\"2021-02-09T10:00:56+00:00\">\\n<meta name=\"govuk:updated-at\" content=\"2021-02-09T10:00:56+00:00\">\\n<meta name=\"govuk:first-published-at\" content=\"2019-02-01T12:31:51+00:00\">\\n<meta name=\"govuk:static-analytics:strip-postcodes\" content=\"true\">\\n<meta name=\"govuk:content-id\" content=\"622e9691-4b4f-4e9c-bce1-098b0c4f5ee2\">\\n<meta name=\"govuk:schema-name\" content=\"finder\">\\n<meta name=\"govuk:rendering-app\" content=\"finder-frontend\">\\n<meta name=\"govuk:publishing-app\" content=\"search-api\">\\n<meta name=\"govuk:format\" content=\"finder\">\\n<meta name=\"description\" content=\"Find news and communications from government\">\\n    <meta charset=\"utf-8\">\\n    <title>News and communications - GOV.UK</title>\\n\\n    <script src=\"/assets/static/govuk_publishing_components/vendor/lux/lux-measurer-db6c8505a6690974922b8578eb1f2208d3073807f98d9a048efe9991f8dfc92d.js\" async=\"async\"></script>\\n    <script src=\"/assets/static/govuk_publishing_components/rum-loader-a65b10e18ceeba3bd8a2eac507c7f2c513cdc82f35097df903fdea87f1dc2e33.js\" async=\"async\" data-lux-reporter-script=\"/assets/static/govuk_publishing_components/vendor/lux/lux-reporter-3e40cfb6a389968bc37642bb4a2ec83997c77521f8698569553b6d5d939c7d2c.js\"></script>\\n\\n    <meta name=\"govuk:components_gem_version\" content=\"40.0.0\">\\n    <script src=\"/assets/static/govuk_publishing_components/load-analytics-c62df4470b105613d8cd50184d73e791989aa8356a2416f12527e6648e8ede40.js\"></script>\\n\\n    \\n\\n    <link rel=\"stylesheet\" href=\"/assets/static/application-7f0b2fac673c0bde455bfdb4ab0b4aeec526bbc6a47bead9f5cd03c4301891a7.css\" media=\"all\">\\n    <!--[if lt IE 9]><script src=\"/assets/static/govuk_publishing_components/ie-48d43b520ac8ae43b83963837de2215e8592407a75f0f081e9d70f95343799a3.js\" crossorigin=\"anonymous\" integrity=\"sha256-+A7rikJ8aNhHCnu3IVgeMFKFPfCYqkFUSJEV2fv/OSI=\"></script><![endif]-->\\n    <link rel=\"icon\" sizes=\"48x48\" href=\"/assets/static/favicon-f54816fc15997bd42cd90e4c50b896a1fc098c0c32957d4e5effbfa9f9b35e53.ico\">\\n    <link rel=\"icon\" sizes=\"any\" href=\"/assets/static/favicon-50144c9d83e59584c45b249ad9e9abfdd23689876c33f28457df13bbdd9c8688.svg\" type=\"image/svg+xml\">\\n    <link rel=\"mask-icon\" href=\"/assets/static/govuk-icon-mask-cdf4265165f8d7f9eec54aa2c1dfbb3d8b6d297c5d7919f0313e0836a5804bb6.svg\" color=\"#0b0c0c\">\\n    <link rel=\"apple-touch-icon\" href=\"/assets/static/govuk-icon-180-d2d7399ff2ba05372b6b2018cc67053e458a748cceea1a550d804dbec401e3ed.png\">\\n\\n    <meta name=\"theme-color\" content=\"#0b0c0c\">\\n    <meta name=\"viewport\" content=\"width=device-width, initial-scale=1\">\\n    <meta http-equiv=\"X-UA-Compatible\" content=\"IE=edge\">\\n\\n    <meta property=\"og:image\" content=\"https://www.gov.uk/assets/static/govuk-opengraph-image-03837e1cec82f217cf32514635a13c879b8c400ae3b1c207c5744411658c7635.png\">\\n\\n    \\n  <link rel=\"stylesheet\" href=\"/assets/finder-frontend/application-e0b177db822f7de4800156bd48f0975a4d1f1dd7bb0a3b7cca4aeb7255ec4828.css\" media=\"all\">\\n<link rel=\"stylesheet\" href=\"/assets/finder-frontend/components/_mobile-filters-431dc122e1da9d1098cb3271c665920229554ff04287267ff4bd756f7121abdf.css\">\\n<link rel=\"stylesheet\" href=\"/assets/finder-frontend/components/_expander-44a4161dc993f9a5a779c0e9f95c7c805b825b2b1b0287bc97210a2df54788e7.css\">\\n<link rel=\"stylesheet\" href=\"/assets/finder-frontend/govuk_publishing_components/components/_select-49664cc73f9df85d1b960d384b31399cb74e47bd98b82909994c0bb04809cfc0.css\">\\n<link rel=\"stylesheet\" href=\"/assets/finder-frontend/govuk_publishing_components/components/_option-select-0b6e57a0d11fd0a5b10fd3ddde4ee34827722c9cb2944d3634a3f77946379cd3.css\">\\n<link rel=\"stylesheet\" href=\"/assets/finder-frontend/govuk_publishing_components/components/_checkboxes-0dba11f5c9f7906458f47a097eb236aae8b007bef0274b8e7393fac5155bf903.css\">\\n<link rel=\"stylesheet\" href=\"/assets/finder-frontend/govuk_publishing_components/components/_subscription-links-b17d8ebc68501afd414bc02fdb00d91547f9afec671ad3f7080fe6c9d33e8117.css\">\\n<link rel=\"stylesheet\" href=\"/assets/finder-frontend/govuk_publishing_components/components/_document-list-2518015b760d83d68f9a95fb39a3f669a0fd145243bf8328323bc7dfe43f9cbf.css\">\\n<link rel=\"stylesheet\" href=\"/assets/finder-frontend/govuk_publishing_components/components/_previous-and-next-navigation-86c66c4a92cc4a6c4de190a85135a441da09d2199c984039c5c3b9af83ca88cd.css\">\\n<link rel=\"alternate\" type=\"application/atom+xml\" title=\"ATOM\" href=\"/search/news-and-communications.atom\">\\n<link rel=\"alternate\" type=\"application/json\" href=\"/api/content/search/news-and-communications\">\\n<link rel=\"canonical\" href=\"https://www.gov.uk/search/news-and-communications\">\\n<meta name=\"govuk:rendering-application\" content=\"finder-frontend\">\\n</head>\\n  <body class=\"gem-c-layout-for-public govuk-template__body \">\\n    <script nonce=\"oHOM7u6b4xjkZm0ij9H4Yw==\">\\n//<![CDATA[\\n      document.body.className += \\' js-enabled\\' + (\\'noModule\\' in HTMLScriptElement.prototype ? \\' govuk-frontend-supported\\' : \\'\\');\\n\\n//]]>\\n</script>    \\n<div id=\"global-cookie-message\" class=\"gem-c-cookie-banner govuk-clearfix govuk-cookie-banner js-banner-wrapper\" data-module=\"cookie-banner\" data-nosnippet role=\"region\" aria-label=\"Cookies on GOV.UK\" hidden>\\n  <div class=\"govuk-cookie-banner__message govuk-width-container\">\\n    <div class=\"govuk-grid-row\">\\n      <div class=\"govuk-grid-column-two-thirds\">\\n        <h2 class=\"govuk-cookie-banner__heading govuk-heading-m\">Cookies on GOV.UK</h2>\\n        <div tabindex=\"-1\" class=\"govuk-cookie-banner__content gem-c-cookie-banner__confirmation\">\\n          <span class=\"gem-c-cookie-banner__content\"><p class=\"govuk-body\">We use some essential cookies to make this website work.</p>\\n<p class=\"govuk-body\">We\\xe2\\x80\\x99d like to set additional cookies to understand how you use GOV.UK, remember your settings and improve government services.</p>\\n<p class=\"govuk-body\">We also use cookies set by other sites to help us deliver content from their services.</p></span>\\n          <p class=\"gem-c-cookie-banner__confirmation-message--accepted govuk-body\" hidden data-ga4-cookie-banner data-module=\"ga4-link-tracker\" data-ga4-track-links-only data-ga4-set-indexes data-ga4-link=\\'{\"event_name\":\"navigation\",\"type\":\"cookie banner\",\"section\":\"You have accepted additional cookies\"}\\'>You have accepted additional cookies. <span class=\"gem-c-cookie-banner__confirmation-message\">You can <a class=\"govuk-link\" data-module=\"gem-track-click\" data-track-category=\"cookieBanner\" data-track-action=\"Cookie banner settings clicked from confirmation\" href=\"/help/cookies\">change your cookie settings</a> at any time.</span></p>\\n          <p class=\"gem-c-cookie-banner__confirmation-message--rejected govuk-body\" hidden>You have rejected additional cookies. <span class=\"gem-c-cookie-banner__confirmation-message\">You can <a class=\"govuk-link\" data-module=\"gem-track-click\" data-track-category=\"cookieBanner\" data-track-action=\"Cookie banner settings clicked from confirmation\" href=\"/help/cookies\">change your cookie settings</a> at any time.</span></p>\\n        </div>\\n      </div>\\n    </div>\\n    <div class=\"js-confirmation-buttons govuk-button-group\">\\n        \\n\\n\\n  <button class=\"gem-c-button govuk-button\" type=\"submit\" data-module=\"gem-track-click\" data-accept-cookies=\"true\" data-track-category=\"cookieBanner\" data-track-action=\"Cookie banner accepted\" data-cookie-types=\"all\">Accept additional cookies</button>\\n\\n\\n        \\n\\n\\n  <button class=\"gem-c-button govuk-button\" type=\"submit\" data-module=\"gem-track-click\" data-reject-cookies=\"true\" data-track-category=\"cookieBanner\" data-track-action=\"Cookie banner rejected\">Reject additional cookies</button>\\n\\n\\n        <a class=\"govuk-link\" href=\"/help/cookies\">View cookies</a>\\n    </div>\\n    <div hidden class=\"js-hide-button govuk-button-group\">\\n      <button class=\"gem-c-cookie-banner__hide-button govuk-button\" data-hide-cookie-banner=\"true\" data-module=\"gem-track-click ga4-event-tracker\" data-track-category=\"cookieBanner\" data-track-action=\"Hide cookie banner\" data-ga4-event=\\'{\"event_name\":\"select_content\",\"type\":\"cookie banner\",\"action\":\"closed\",\"section\":\"You have accepted additional cookies\"}\\'>\\n          Hide this message\\n        </button>\\n    </div>\\n  </div>\\n</div>\\n\\n    <a class=\"gem-c-skip-link govuk-skip-link govuk-!-display-none-print\" data-module=\"govuk-skip-link\" href=\"#content\">Skip to main content</a>\\n\\n          <header role=\"banner\" class=\"gem-c-layout-super-navigation-header\" data-module=\"gem-track-click ga4-event-tracker ga4-link-tracker\" data-track-links-only=\"\" data-ga4-expandable=\"\">\\n  <div class=\"gem-c-layout-super-navigation-header__container govuk-clearfix\">\\n    <div class=\"govuk-width-container\">\\n      <div class=\"gem-c-layout-super-navigation-header__header-logo\">\\n        <a class=\"govuk-header__link govuk-header__link--homepage\" data-track-action=\"logoLink\" data-track-category=\"headerClicked\" data-track-label=\"https://www.gov.uk\" data-track-dimension=\"GOV.UK\" data-track-dimension-index=\"29\" data-ga4-link=\\'{\"event_name\":\"navigation\",\"type\":\"header menu bar\",\"external\":\"false\",\"text\":\"GOV.UK\",\"section\":\"Logo\",\"index_link\":1,\"index_section\":0,\"index_section_count\":2,\"index_total\":1}\\' id=\"logo\" aria-label=\"Go to the GOV.UK homepage\" href=\"https://www.gov.uk\">\\n          \\n  <svg aria-label=\"GOV.UK\" focusable=\"false\" role=\"img\" class=\"govuk-header__logotype\" xmlns=\"http://www.w3.org/2000/svg\" viewbox=\"0 0 148 30\" height=\"30\" width=\"148\">\\n    <title>GOV.UK</title>\\n    <path d=\"M22.6 10.4c-1 .4-2-.1-2.4-1-.4-.9.1-2 1-2.4.9-.4 2 .1 2.4 1s-.1 2-1 2.4m-5.9 6.7c-.9.4-2-.1-2.4-1-.4-.9.1-2 1-2.4.9-.4 2 .1 2.4 1s-.1 2-1 2.4m10.8-3.7c-1 .4-2-.1-2.4-1-.4-.9.1-2 1-2.4.9-.4 2 .1 2.4 1s0 2-1 2.4m3.3 4.8c-1 .4-2-.1-2.4-1-.4-.9.1-2 1-2.4.9-.4 2 .1 2.4 1s-.1 2-1 2.4M17 4.7l2.3 1.2V2.5l-2.3.7-.2-.2.9-3h-3.4l.9 3-.2.2c-.1.1-2.3-.7-2.3-.7v3.4L15 4.7c.1.1.1.2.2.2l-1.3 4c-.1.2-.1.4-.1.6 0 1.1.8 2 1.9 2.2h.7c1-.2 1.9-1.1 1.9-2.1 0-.2 0-.4-.1-.6l-1.3-4c-.1-.2 0-.2.1-.3m-7.6 5.7c.9.4 2-.1 2.4-1 .4-.9-.1-2-1-2.4-.9-.4-2 .1-2.4 1s0 2 1 2.4m-5 3c.9.4 2-.1 2.4-1 .4-.9-.1-2-1-2.4-.9-.4-2 .1-2.4 1s.1 2 1 2.4m-3.2 4.8c.9.4 2-.1 2.4-1 .4-.9-.1-2-1-2.4-.9-.4-2 .1-2.4 1s0 2 1 2.4m14.8 11c4.4 0 8.6.3 12.3.8 1.1-4.5 2.4-7 3.7-8.8l-2.5-.9c.2 1.3.3 1.9 0 2.7-.4-.4-.8-1.1-1.1-2.3l-1.2 4c.7-.5 1.3-.8 2-.9-1.1 2.5-2.6 3.1-3.5 3-1.1-.2-1.7-1.2-1.5-2.1.3-1.2 1.5-1.5 2.1-.1 1.1-2.3-.8-3-2-2.3 1.9-1.9 2.1-3.5.6-5.6-2.1 1.6-2.1 3.2-1.2 5.5-1.2-1.4-3.2-.6-2.5 1.6.9-1.4 2.1-.5 1.9.8-.2 1.1-1.7 2.1-3.5 1.9-2.7-.2-2.9-2.1-2.9-3.6.7-.1 1.9.5 2.9 1.9l.4-4.3c-1.1 1.1-2.1 1.4-3.2 1.4.4-1.2 2.1-3 2.1-3h-5.4s1.7 1.9 2.1 3c-1.1 0-2.1-.2-3.2-1.4l.4 4.3c1-1.4 2.2-2 2.9-1.9-.1 1.5-.2 3.4-2.9 3.6-1.9.2-3.4-.8-3.5-1.9-.2-1.3 1-2.2 1.9-.8.7-2.3-1.2-3-2.5-1.6.9-2.2.9-3.9-1.2-5.5-1.5 2-1.3 3.7.6 5.6-1.2-.7-3.1 0-2 2.3.6-1.4 1.8-1.1 2.1.1.2.9-.3 1.9-1.5 2.1-.9.2-2.4-.5-3.5-3 .6 0 1.2.3 2 .9l-1.2-4c-.3 1.1-.7 1.9-1.1 2.3-.3-.8-.2-1.4 0-2.7l-2.9.9C1.3 23 2.6 25.5 3.7 30c3.7-.5 7.9-.8 12.3-.8m28.3-11.6c0 .9.1 1.7.3 2.5.2.8.6 1.5 1 2.2.5.6 1 1.1 1.7 1.5.7.4 1.5.6 2.5.6.9 0 1.7-.1 2.3-.4s1.1-.7 1.5-1.1c.4-.4.6-.9.8-1.5.1-.5.2-1 .2-1.5v-.2h-5.3v-3.2h9.4V28H55v-2.5c-.3.4-.6.8-1 1.1-.4.3-.8.6-1.3.9-.5.2-1 .4-1.6.6s-1.2.2-1.8.2c-1.5 0-2.9-.3-4-.8-1.2-.6-2.2-1.3-3-2.3-.8-1-1.4-2.1-1.8-3.4-.3-1.4-.5-2.8-.5-4.3s.2-2.9.7-4.2c.5-1.3 1.1-2.4 2-3.4.9-1 1.9-1.7 3.1-2.3 1.2-.6 2.6-.8 4.1-.8 1 0 1.9.1 2.8.3.9.2 1.7.6 2.4 1s1.4.9 1.9 1.5c.6.6 1 1.3 1.4 2l-3.7 2.1c-.2-.4-.5-.9-.8-1.2-.3-.4-.6-.7-1-1-.4-.3-.8-.5-1.3-.7-.5-.2-1.1-.2-1.7-.2-1 0-1.8.2-2.5.6-.7.4-1.3.9-1.7 1.5-.5.6-.8 1.4-1 2.2-.3.8-.4 1.9-.4 2.7zM71.5 6.8c1.5 0 2.9.3 4.2.8 1.2.6 2.3 1.3 3.1 2.3.9 1 1.5 2.1 2 3.4s.7 2.7.7 4.2-.2 2.9-.7 4.2c-.4 1.3-1.1 2.4-2 3.4-.9 1-1.9 1.7-3.1 2.3-1.2.6-2.6.8-4.2.8s-2.9-.3-4.2-.8c-1.2-.6-2.3-1.3-3.1-2.3-.9-1-1.5-2.1-2-3.4-.4-1.3-.7-2.7-.7-4.2s.2-2.9.7-4.2c.4-1.3 1.1-2.4 2-3.4.9-1 1.9-1.7 3.1-2.3 1.2-.5 2.6-.8 4.2-.8zm0 17.6c.9 0 1.7-.2 2.4-.5s1.3-.8 1.7-1.4c.5-.6.8-1.3 1.1-2.2.2-.8.4-1.7.4-2.7v-.1c0-1-.1-1.9-.4-2.7-.2-.8-.6-1.6-1.1-2.2-.5-.6-1.1-1.1-1.7-1.4-.7-.3-1.5-.5-2.4-.5s-1.7.2-2.4.5-1.3.8-1.7 1.4c-.5.6-.8 1.3-1.1 2.2-.2.8-.4 1.7-.4 2.7v.1c0 1 .1 1.9.4 2.7.2.8.6 1.6 1.1 2.2.5.6 1.1 1.1 1.7 1.4.6.3 1.4.5 2.4.5zM88.9 28 83 7h4.7l4 15.7h.1l4-15.7h4.7l-5.9 21h-5.7zm28.8-3.6c.6 0 1.2-.1 1.7-.3.5-.2 1-.4 1.4-.8.4-.4.7-.8.9-1.4.2-.6.3-1.2.3-2v-13h4.1v13.6c0 1.2-.2 2.2-.6 3.1s-1 1.7-1.8 2.4c-.7.7-1.6 1.2-2.7 1.5-1 .4-2.2.5-3.4.5-1.2 0-2.4-.2-3.4-.5-1-.4-1.9-.9-2.7-1.5-.8-.7-1.3-1.5-1.8-2.4-.4-.9-.6-2-.6-3.1V6.9h4.2v13c0 .8.1 1.4.3 2 .2.6.5 1 .9 1.4.4.4.8.6 1.4.8.6.2 1.1.3 1.8.3zm13-17.4h4.2v9.1l7.4-9.1h5.2l-7.2 8.4L148 28h-4.9l-5.5-9.4-2.7 3V28h-4.2V7zm-27.6 16.1c-1.5 0-2.7 1.2-2.7 2.7s1.2 2.7 2.7 2.7 2.7-1.2 2.7-2.7-1.2-2.7-2.7-2.7z\"></path>\\n  </svg>\\n\\n</a>\\n</div>    </div>\\n    <nav aria-labelledby=\"super-navigation-menu-heading\" class=\"gem-c-layout-super-navigation-header__content\" data-module=\"super-navigation-mega-menu\">\\n      <h2 id=\"super-navigation-menu-heading\" class=\"govuk-visually-hidden\">\\n        Navigation menu\\n      </h2>\\n\\n\\n      <div class=\"govuk-width-container gem-c-layout-super-navigation-header__button-width-container\">\\n        <div class=\"gem-c-layout-super-navigation-header__button-container\">\\n          <div class=\"gem-c-layout-super-navigation-header__navigation-item\">\\n            <a class=\"gem-c-layout-super-navigation-header__navigation-item-link\" data-track-action=\"menuLink\" data-track-category=\"headerClicked\" data-track-label=\"/browse\" data-track-dimension=\"Menu\" data-track-dimension-index=\"29\" href=\"/browse\"><span class=\"gem-c-layout-super-navigation-header__navigation-item-link-inner\">                Menu\\n</span></a>\\n            <button aria-controls=\"super-navigation-menu\" aria-expanded=\"false\" aria-label=\"Show navigation menu\" class=\"gem-c-layout-super-navigation-header__navigation-top-toggle-button\" data-text-for-hide=\"Hide navigation menu\" data-text-for-show=\"Show navigation menu\" data-toggle-desktop-group=\"top\" data-toggle-mobile-group=\"top\" data-tracking-key=\"menu\" data-ga4-event=\\'{\"event_name\":\"select_content\",\"type\":\"header menu bar\",\"text\":\"Menu\",\"index_section\":1,\"index_section_count\":2,\"section\":\"Menu\"}\\' hidden=\"hidden\" id=\"super-navigation-menu-toggle\" type=\"button\">\\n              <span class=\"gem-c-layout-super-navigation-header__navigation-top-toggle-button-inner\">Menu</span>\\n</button>          </div>\\n\\n          <div class=\"gem-c-layout-super-navigation-header__search-item\">\\n            <button id=\"super-search-menu-toggle\" class=\"gem-c-layout-super-navigation-header__search-toggle-button\" aria-controls=\"super-search-menu\" aria-expanded=\"true\" aria-label=\"Hide search menu\" data-text-for-hide=\"Hide search menu\" data-text-for-show=\"Show search menu\" data-toggle-mobile-group=\"top\" data-toggle-desktop-group=\"top\" data-tracking-key=\"search\" data-ga4-event=\\'{\"event_name\":\"select_content\",\"type\":\"header menu bar\",\"text\":\"Search\",\"index_section\":2,\"index_section_count\":2,\"section\":\"Search\"}\\' hidden=\"hidden\" type=\"button\">\\n              <span class=\"govuk-visually-hidden\">\\n                Search GOV.UK\\n              </span>\\n              \\n<svg class=\"gem-c-layout-super-navigation-header__search-toggle-button-link-icon\" width=\"27\" height=\"27\" viewbox=\"0 0 27 27\" fill=\"none\" xmlns=\"http://www.w3.org/2000/svg\" aria-hidden=\"true\" focusable=\"false\">\\n  <circle cx=\"12.0161\" cy=\"11.0161\" r=\"8.51613\" stroke=\"currentColor\" stroke-width=\"3\"></circle>\\n  <line x1=\"17.8668\" y1=\"17.3587\" x2=\"26.4475\" y2=\"25.9393\" stroke=\"currentColor\" stroke-width=\"3\"></line>\\n</svg>\\n              <span aria-hidden=\"true\" class=\"gem-c-layout-super-navigation-header__navigation-top-toggle-close-icon\" focusable=\"false\">\\n                \\xc3\\x97\\n              </span>\\n</button>\\n            <a class=\"gem-c-layout-super-navigation-header__search-item-link\" href=\"/search\">\\n              <span class=\"govuk-visually-hidden\">\\n                Search GOV.UK\\n              </span>\\n              \\n<svg class=\"gem-c-layout-super-navigation-header__search-item-link-icon\" width=\"27\" height=\"27\" viewbox=\"0 0 27 27\" fill=\"none\" xmlns=\"http://www.w3.org/2000/svg\" aria-hidden=\"true\" focusable=\"false\">\\n  <circle cx=\"12.0161\" cy=\"11.0161\" r=\"8.51613\" stroke=\"currentColor\" stroke-width=\"3\"></circle>\\n  <line x1=\"17.8668\" y1=\"17.3587\" x2=\"26.4475\" y2=\"25.9393\" stroke=\"currentColor\" stroke-width=\"3\"></line>\\n</svg>\\n</a>          </div>\\n</div>      </div>\\n\\n      <div id=\"super-navigation-menu\" hidden=\"hidden\" class=\"gem-c-layout-super-navigation-header__navigation-dropdown-menu\">\\n        <div class=\"govuk-width-container\">\\n          <div class=\"govuk-grid-row gem-c-layout-super-navigation-header__navigation-items\">\\n\\n\\n              <div class=\"govuk-grid-column-two-thirds-from-desktop gem-c-layout-super-navigation-header__column--services-and-information\">\\n                <h3 class=\"govuk-heading-m gem-c-layout-super-navigation-header__column-header\">\\n                  Services and information\\n                </h3>\\n                <ul class=\"gem-c-layout-super-navigation-header__navigation-second-items gem-c-layout-super-navigation-header__navigation-second-items--services-and-information\">\\n                      <li class=\"gem-c-layout-super-navigation-header__dropdown-list-item\">\\n                        <a class=\"govuk-link gem-c-layout-super-navigation-header__navigation-second-item-link\" data-track-action=\"servicesandinformationLink\" data-track-category=\"headerClicked\" data-track-label=\"/browse/benefits\" data-track-dimension=\"Benefits\" data-track-dimension-index=\"29\" data-ga4-link=\\'{\"event_name\":\"navigation\",\"type\":\"header menu bar\",\"index_section\":1,\"index_link\":1,\"index_section_count\":3,\"index_total\":16,\"section\":\"Services and information\"}\\' href=\"https://www.gov.uk/browse/benefits\">Benefits</a>\\n                        \\n                      </li>\\n                      <li class=\"gem-c-layout-super-navigation-header__dropdown-list-item\">\\n                        <a class=\"govuk-link gem-c-layout-super-navigation-header__navigation-second-item-link\" data-track-action=\"servicesandinformationLink\" data-track-category=\"headerClicked\" data-track-label=\"/browse/births-deaths-marriages\" data-track-dimension=\"Births, death, marriages and care\" data-track-dimension-index=\"29\" data-ga4-link=\\'{\"event_name\":\"navigation\",\"type\":\"header menu bar\",\"index_section\":1,\"index_link\":2,\"index_section_count\":3,\"index_total\":16,\"section\":\"Services and information\"}\\' href=\"https://www.gov.uk/browse/births-deaths-marriages\">Births, death, marriages and care</a>\\n                        \\n                      </li>\\n                      <li class=\"gem-c-layout-super-navigation-header__dropdown-list-item\">\\n                        <a class=\"govuk-link gem-c-layout-super-navigation-header__navigation-second-item-link\" data-track-action=\"servicesandinformationLink\" data-track-category=\"headerClicked\" data-track-label=\"/browse/business\" data-track-dimension=\"Business and self-employed\" data-track-dimension-index=\"29\" data-ga4-link=\\'{\"event_name\":\"navigation\",\"type\":\"header menu bar\",\"index_section\":1,\"index_link\":3,\"index_section_count\":3,\"index_total\":16,\"section\":\"Services and information\"}\\' href=\"https://www.gov.uk/browse/business\">Business and self-employed</a>\\n                        \\n                      </li>\\n                      <li class=\"gem-c-layout-super-navigation-header__dropdown-list-item\">\\n                        <a class=\"govuk-link gem-c-layout-super-navigation-header__navigation-second-item-link\" data-track-action=\"servicesandinformationLink\" data-track-category=\"headerClicked\" data-track-label=\"/browse/childcare-parenting\" data-track-dimension=\"Childcare and parenting\" data-track-dimension-index=\"29\" data-ga4-link=\\'{\"event_name\":\"navigation\",\"type\":\"header menu bar\",\"index_section\":1,\"index_link\":4,\"index_section_count\":3,\"index_total\":16,\"section\":\"Services and information\"}\\' href=\"https://www.gov.uk/browse/childcare-parenting\">Childcare and parenting</a>\\n                        \\n                      </li>\\n                      <li class=\"gem-c-layout-super-navigation-header__dropdown-list-item\">\\n                        <a class=\"govuk-link gem-c-layout-super-navigation-header__navigation-second-item-link\" data-track-action=\"servicesandinformationLink\" data-track-category=\"headerClicked\" data-track-label=\"/browse/citizenship\" data-track-dimension=\"Citizenship and living in the UK\" data-track-dimension-index=\"29\" data-ga4-link=\\'{\"event_name\":\"navigation\",\"type\":\"header menu bar\",\"index_section\":1,\"index_link\":5,\"index_section_count\":3,\"index_total\":16,\"section\":\"Services and information\"}\\' href=\"https://www.gov.uk/browse/citizenship\">Citizenship and living in the UK</a>\\n                        \\n                      </li>\\n                      <li class=\"gem-c-layout-super-navigation-header__dropdown-list-item\">\\n                        <a class=\"govuk-link gem-c-layout-super-navigation-header__navigation-second-item-link\" data-track-action=\"servicesandinformationLink\" data-track-category=\"headerClicked\" data-track-label=\"/browse/justice\" data-track-dimension=\"Crime, justice and the law\" data-track-dimension-index=\"29\" data-ga4-link=\\'{\"event_name\":\"navigation\",\"type\":\"header menu bar\",\"index_section\":1,\"index_link\":6,\"index_section_count\":3,\"index_total\":16,\"section\":\"Services and information\"}\\' href=\"https://www.gov.uk/browse/justice\">Crime, justice and the law</a>\\n                        \\n                      </li>\\n                      <li class=\"gem-c-layout-super-navigation-header__dropdown-list-item\">\\n                        <a class=\"govuk-link gem-c-layout-super-navigation-header__navigation-second-item-link\" data-track-action=\"servicesandinformationLink\" data-track-category=\"headerClicked\" data-track-label=\"/browse/disabilities\" data-track-dimension=\"Disabled people\" data-track-dimension-index=\"29\" data-ga4-link=\\'{\"event_name\":\"navigation\",\"type\":\"header menu bar\",\"index_section\":1,\"index_link\":7,\"index_section_count\":3,\"index_total\":16,\"section\":\"Services and information\"}\\' href=\"https://www.gov.uk/browse/disabilities\">Disabled people</a>\\n                        \\n                      </li>\\n                      <li class=\"gem-c-layout-super-navigation-header__dropdown-list-item\">\\n                        <a class=\"govuk-link gem-c-layout-super-navigation-header__navigation-second-item-link\" data-track-action=\"servicesandinformationLink\" data-track-category=\"headerClicked\" data-track-label=\"/browse/driving\" data-track-dimension=\"Driving and transport\" data-track-dimension-index=\"29\" data-ga4-link=\\'{\"event_name\":\"navigation\",\"type\":\"header menu bar\",\"index_section\":1,\"index_link\":8,\"index_section_count\":3,\"index_total\":16,\"section\":\"Services and information\"}\\' href=\"https://www.gov.uk/browse/driving\">Driving and transport</a>\\n                        \\n                      </li>\\n                      <li class=\"gem-c-layout-super-navigation-header__dropdown-list-item\">\\n                        <a class=\"govuk-link gem-c-layout-super-navigation-header__navigation-second-item-link\" data-track-action=\"servicesandinformationLink\" data-track-category=\"headerClicked\" data-track-label=\"/browse/education\" data-track-dimension=\"Education and learning\" data-track-dimension-index=\"29\" data-ga4-link=\\'{\"event_name\":\"navigation\",\"type\":\"header menu bar\",\"index_section\":1,\"index_link\":9,\"index_section_count\":3,\"index_total\":16,\"section\":\"Services and information\"}\\' href=\"https://www.gov.uk/browse/education\">Education and learning</a>\\n                        \\n                      </li>\\n                      <li class=\"gem-c-layout-super-navigation-header__dropdown-list-item\">\\n                        <a class=\"govuk-link gem-c-layout-super-navigation-header__navigation-second-item-link\" data-track-action=\"servicesandinformationLink\" data-track-category=\"headerClicked\" data-track-label=\"/browse/employing-people\" data-track-dimension=\"Employing people\" data-track-dimension-index=\"29\" data-ga4-link=\\'{\"event_name\":\"navigation\",\"type\":\"header menu bar\",\"index_section\":1,\"index_link\":10,\"index_section_count\":3,\"index_total\":16,\"section\":\"Services and information\"}\\' href=\"https://www.gov.uk/browse/employing-people\">Employing people</a>\\n                        \\n                      </li>\\n                      <li class=\"gem-c-layout-super-navigation-header__dropdown-list-item\">\\n                        <a class=\"govuk-link gem-c-layout-super-navigation-header__navigation-second-item-link\" data-track-action=\"servicesandinformationLink\" data-track-category=\"headerClicked\" data-track-label=\"/browse/environment-countryside\" data-track-dimension=\"Environment and countryside\" data-track-dimension-index=\"29\" data-ga4-link=\\'{\"event_name\":\"navigation\",\"type\":\"header menu bar\",\"index_section\":1,\"index_link\":11,\"index_section_count\":3,\"index_total\":16,\"section\":\"Services and information\"}\\' href=\"https://www.gov.uk/browse/environment-countryside\">Environment and countryside</a>\\n                        \\n                      </li>\\n                      <li class=\"gem-c-layout-super-navigation-header__dropdown-list-item\">\\n                        <a class=\"govuk-link gem-c-layout-super-navigation-header__navigation-second-item-link\" data-track-action=\"servicesandinformationLink\" data-track-category=\"headerClicked\" data-track-label=\"/browse/housing-local-services\" data-track-dimension=\"Housing and local services\" data-track-dimension-index=\"29\" data-ga4-link=\\'{\"event_name\":\"navigation\",\"type\":\"header menu bar\",\"index_section\":1,\"index_link\":12,\"index_section_count\":3,\"index_total\":16,\"section\":\"Services and information\"}\\' href=\"https://www.gov.uk/browse/housing-local-services\">Housing and local services</a>\\n                        \\n                      </li>\\n                      <li class=\"gem-c-layout-super-navigation-header__dropdown-list-item\">\\n                        <a class=\"govuk-link gem-c-layout-super-navigation-header__navigation-second-item-link\" data-track-action=\"servicesandinformationLink\" data-track-category=\"headerClicked\" data-track-label=\"/browse/tax\" data-track-dimension=\"Money and tax\" data-track-dimension-index=\"29\" data-ga4-link=\\'{\"event_name\":\"navigation\",\"type\":\"header menu bar\",\"index_section\":1,\"index_link\":13,\"index_section_count\":3,\"index_total\":16,\"section\":\"Services and information\"}\\' href=\"https://www.gov.uk/browse/tax\">Money and tax</a>\\n                        \\n                      </li>\\n                      <li class=\"gem-c-layout-super-navigation-header__dropdown-list-item\">\\n                        <a class=\"govuk-link gem-c-layout-super-navigation-header__navigation-second-item-link\" data-track-action=\"servicesandinformationLink\" data-track-category=\"headerClicked\" data-track-label=\"/browse/abroad\" data-track-dimension=\"Passports, travel and living abroad\" data-track-dimension-index=\"29\" data-ga4-link=\\'{\"event_name\":\"navigation\",\"type\":\"header menu bar\",\"index_section\":1,\"index_link\":14,\"index_section_count\":3,\"index_total\":16,\"section\":\"Services and information\"}\\' href=\"https://www.gov.uk/browse/abroad\">Passports, travel and living abroad</a>\\n                        \\n                      </li>\\n                      <li class=\"gem-c-layout-super-navigation-header__dropdown-list-item\">\\n                        <a class=\"govuk-link gem-c-layout-super-navigation-header__navigation-second-item-link\" data-track-action=\"servicesandinformationLink\" data-track-category=\"headerClicked\" data-track-label=\"/browse/visas-immigration\" data-track-dimension=\"Visas and immigration\" data-track-dimension-index=\"29\" data-ga4-link=\\'{\"event_name\":\"navigation\",\"type\":\"header menu bar\",\"index_section\":1,\"index_link\":15,\"index_section_count\":3,\"index_total\":16,\"section\":\"Services and information\"}\\' href=\"https://www.gov.uk/browse/visas-immigration\">Visas and immigration</a>\\n                        \\n                      </li>\\n                      <li class=\"gem-c-layout-super-navigation-header__dropdown-list-item\">\\n                        <a class=\"govuk-link gem-c-layout-super-navigation-header__navigation-second-item-link\" data-track-action=\"servicesandinformationLink\" data-track-category=\"headerClicked\" data-track-label=\"/browse/working\" data-track-dimension=\"Working, jobs and pensions\" data-track-dimension-index=\"29\" data-ga4-link=\\'{\"event_name\":\"navigation\",\"type\":\"header menu bar\",\"index_section\":1,\"index_link\":16,\"index_section_count\":3,\"index_total\":16,\"section\":\"Services and information\"}\\' href=\"https://www.gov.uk/browse/working\">Working, jobs and pensions</a>\\n                        \\n                      </li>\\n                </ul>\\n              </div>\\n\\n              <div class=\"govuk-grid-column-one-third-from-desktop gem-c-layout-super-navigation-header__column--government-activity\">\\n                <h3 class=\"govuk-heading-m gem-c-layout-super-navigation-header__column-header\">\\n                  Government activity\\n                </h3>\\n                <ul class=\"gem-c-layout-super-navigation-header__navigation-second-items gem-c-layout-super-navigation-header__navigation-second-items--government-activity\">\\n                      <li class=\"gem-c-layout-super-navigation-header__dropdown-list-item\">\\n                        <a class=\"govuk-link gem-c-layout-super-navigation-header__navigation-second-item-link gem-c-layout-super-navigation-header__navigation-second-item-link--with-description\" data-track-action=\"governmentactivityLink\" data-track-category=\"headerClicked\" data-track-label=\"/government/organisations\" data-track-dimension=\"Departments\" data-track-dimension-index=\"29\" data-ga4-link=\\'{\"event_name\":\"navigation\",\"type\":\"header menu bar\",\"index_section\":2,\"index_link\":1,\"index_section_count\":3,\"index_total\":6,\"section\":\"Government activity\"}\\' href=\"https://www.gov.uk/government/organisations\">Departments</a>\\n                        <p class=\"gem-c-layout-super-navigation-header__navigation-second-item-description\">Departments, agencies and public bodies</p>\\n                      </li>\\n                      <li class=\"gem-c-layout-super-navigation-header__dropdown-list-item\">\\n                        <a class=\"govuk-link gem-c-layout-super-navigation-header__navigation-second-item-link gem-c-layout-super-navigation-header__navigation-second-item-link--with-description\" data-track-action=\"governmentactivityLink\" data-track-category=\"headerClicked\" data-track-label=\"/search/news-and-communications\" data-track-dimension=\"News\" data-track-dimension-index=\"29\" data-ga4-link=\\'{\"event_name\":\"navigation\",\"type\":\"header menu bar\",\"index_section\":2,\"index_link\":2,\"index_section_count\":3,\"index_total\":6,\"section\":\"Government activity\"}\\' href=\"https://www.gov.uk/search/news-and-communications\">News</a>\\n                        <p class=\"gem-c-layout-super-navigation-header__navigation-second-item-description\">News stories, speeches, letters and notices</p>\\n                      </li>\\n                      <li class=\"gem-c-layout-super-navigation-header__dropdown-list-item\">\\n                        <a class=\"govuk-link gem-c-layout-super-navigation-header__navigation-second-item-link gem-c-layout-super-navigation-header__navigation-second-item-link--with-description\" data-track-action=\"governmentactivityLink\" data-track-category=\"headerClicked\" data-track-label=\"/search/guidance-and-regulation\" data-track-dimension=\"Guidance and regulation\" data-track-dimension-index=\"29\" data-ga4-link=\\'{\"event_name\":\"navigation\",\"type\":\"header menu bar\",\"index_section\":2,\"index_link\":3,\"index_section_count\":3,\"index_total\":6,\"section\":\"Government activity\"}\\' href=\"https://www.gov.uk/search/guidance-and-regulation\">Guidance and regulation</a>\\n                        <p class=\"gem-c-layout-super-navigation-header__navigation-second-item-description\">Detailed guidance, regulations and rules</p>\\n                      </li>\\n                      <li class=\"gem-c-layout-super-navigation-header__dropdown-list-item\">\\n                        <a class=\"govuk-link gem-c-layout-super-navigation-header__navigation-second-item-link gem-c-layout-super-navigation-header__navigation-second-item-link--with-description\" data-track-action=\"governmentactivityLink\" data-track-category=\"headerClicked\" data-track-label=\"/search/research-and-statistics\" data-track-dimension=\"Research and statistics\" data-track-dimension-index=\"29\" data-ga4-link=\\'{\"event_name\":\"navigation\",\"type\":\"header menu bar\",\"index_section\":2,\"index_link\":4,\"index_section_count\":3,\"index_total\":6,\"section\":\"Government activity\"}\\' href=\"https://www.gov.uk/search/research-and-statistics\">Research and statistics</a>\\n                        <p class=\"gem-c-layout-super-navigation-header__navigation-second-item-description\">Reports, analysis and official statistics</p>\\n                      </li>\\n                      <li class=\"gem-c-layout-super-navigation-header__dropdown-list-item\">\\n                        <a class=\"govuk-link gem-c-layout-super-navigation-header__navigation-second-item-link gem-c-layout-super-navigation-header__navigation-second-item-link--with-description\" data-track-action=\"governmentactivityLink\" data-track-category=\"headerClicked\" data-track-label=\"/search/policy-papers-and-consultations\" data-track-dimension=\"Policy papers and consultations\" data-track-dimension-index=\"29\" data-ga4-link=\\'{\"event_name\":\"navigation\",\"type\":\"header menu bar\",\"index_section\":2,\"index_link\":5,\"index_section_count\":3,\"index_total\":6,\"section\":\"Government activity\"}\\' href=\"https://www.gov.uk/search/policy-papers-and-consultations\">Policy papers and consultations</a>\\n                        <p class=\"gem-c-layout-super-navigation-header__navigation-second-item-description\">Consultations and strategy</p>\\n                      </li>\\n                      <li class=\"gem-c-layout-super-navigation-header__dropdown-list-item\">\\n                        <a class=\"govuk-link gem-c-layout-super-navigation-header__navigation-second-item-link gem-c-layout-super-navigation-header__navigation-second-item-link--with-description\" data-track-action=\"governmentactivityLink\" data-track-category=\"headerClicked\" data-track-label=\"/search/transparency-and-freedom-of-information-releases\" data-track-dimension=\"Transparency\" data-track-dimension-index=\"29\" data-ga4-link=\\'{\"event_name\":\"navigation\",\"type\":\"header menu bar\",\"index_section\":2,\"index_link\":6,\"index_section_count\":3,\"index_total\":6,\"section\":\"Government activity\"}\\' href=\"https://www.gov.uk/search/transparency-and-freedom-of-information-releases\">Transparency</a>\\n                        <p class=\"gem-c-layout-super-navigation-header__navigation-second-item-description\">Data, Freedom of Information releases and corporate reports</p>\\n                      </li>\\n                </ul>\\n              </div>\\n          </div>\\n        </div>\\n</div>\\n      <div id=\"super-search-menu\" hidden=\"hidden\" class=\"gem-c-layout-super-navigation-header__navigation-dropdown-menu\">\\n        <div class=\"govuk-width-container gem-c-layout-super-navigation-header__search-container gem-c-layout-super-navigation-header__search-items\">\\n          <h3 class=\"govuk-visually-hidden\">\\n            Search\\n          </h3>\\n          <div class=\"govuk-grid-row\">\\n            <div class=\"govuk-grid-column-full\">\\n              <form class=\"gem-c-layout-super-navigation-header__search-form\" id=\"search\" data-module=\"ga4-form-tracker\" data-ga4-form=\\'{\"event_name\":\"search\",\"type\":\"header menu bar\",\"section\":\"Search GOV.UK\",\"action\":\"search\",\"url\":\"/search/all\",\"index_section\":3,\"index_section_count\":3}\\' data-ga4-form-include-text data-ga4-form-no-answer-undefined action=\"https://www.gov.uk/search\" method=\"get\" role=\"search\" aria-label=\"Site-wide\">\\n                \\n<div class=\"gem-c-search govuk-!-display-none-print  govuk-!-margin-bottom-0 gem-c-search--large gem-c-search--on-white gem-c-search--separate-label\" data-module=\"gem-toggle-input-class-on-focus\">\\n    <label for=\"search-main-985916b5\" class=\"govuk-label govuk-label--m gem-c-layout-super-navigation-header__search-label--large-navbar\">Search GOV.UK</label>\\n  <div class=\"gem-c-search__item-wrapper\">\\n    <input enterkeyhint=\"search\" class=\"gem-c-search__item gem-c-search__input js-class-toggle\" id=\"search-main-985916b5\" name=\"q\" title=\"Search\" type=\"search\" value=\"\">\\n    <div class=\"gem-c-search__item gem-c-search__submit-wrapper\">\\n      <button class=\"gem-c-search__submit\" type=\"submit\" data-track-category=\"headerClicked\" data-track-action=\"searchSubmitted\" data-track-label=\"/search/all\" data-track-dimension=\"Search on GOV.UK\" data-track-dimension-index=\"29\" data-module=\"gem-track-click\" enterkeyhint=\"search\">\\n        Search\\n        \\n<svg class=\"gem-c-search__icon\" width=\"27\" height=\"27\" viewbox=\"0 0 27 27\" fill=\"none\" xmlns=\"http://www.w3.org/2000/svg\" aria-hidden=\"true\" focusable=\"false\">\\n  <circle cx=\"12.0161\" cy=\"11.0161\" r=\"8.51613\" stroke=\"currentColor\" stroke-width=\"3\"></circle>\\n  <line x1=\"17.8668\" y1=\"17.3587\" x2=\"26.4475\" y2=\"25.9393\" stroke=\"currentColor\" stroke-width=\"3\"></line>\\n</svg>\\n</button>    </div>\\n  </div>\\n</div>\\n\\n              </form>\\n            </div>\\n          </div>\\n        </div>\\n</div>    </nav>\\n  </div>\\n</header>\\n\\n    \\n\\n      <div class=\"\">\\n        <div class=\"gem-c-layout-for-public__blue-bar govuk-width-container\"></div>\\n</div>\\n\\n      <div id=\"wrapper\" class=\"govuk-width-container\">\\n        \\n  <main id=\"content\" class=\"finder-frontend-content\">\\n    <div class=\"finder-frontend\">\\n      \\n\\n\\n<form method=\"get\" action=\"/search/news-and-communications\" class=\"js-live-search-form\" data-ga4-change-category=\"clear-all-filters\">\\n  <input type=\"hidden\" name=\"parent\" value=\"\">\\n\\n    <div class=\"govuk-width-container\">\\n\\n    \\n<div class=\"gem-c-contextual-breadcrumbs\">\\n    \\n\\n\\n<div data-module=\"gem-track-click ga4-link-tracker\" class=\"gem-c-breadcrumbs govuk-breadcrumbs govuk-breadcrumbs--collapse-on-mobile\">\\n  <ol class=\"govuk-breadcrumbs__list\">\\n        <li class=\"govuk-breadcrumbs__list-item\">\\n          <a data-track-category=\"homeLinkClicked\" data-track-action=\"homeBreadcrumb\" data-track-label=\"\" data-track-options=\"{}\" data-ga4-link=\\'{\"event_name\":\"navigation\",\"type\":\"breadcrumb\",\"index_link\":\"1\",\"index_total\":\"1\"}\\' class=\"govuk-breadcrumbs__link\" href=\"/\">Home</a>\\n        </li>\\n  </ol>\\n</div>\\n</div>\\n\\n\\n  <div class=\"govuk-grid-row\">\\n    <div class=\"govuk-grid-column-two-thirds\">\\n        \\n\\n<div class=\"gem-c-title govuk-!-margin-top-8 govuk-!-margin-bottom-8\">\\n\\n  <h1 class=\"gem-c-title__text govuk-heading-xl\">\\n    News and communications\\n  </h1>\\n</div>\\n\\n    </div>\\n\\n\\n\\n  </div>\\n</div>\\n\\n\\n  <div class=\"govuk-width-container\">\\n    <div class=\"govuk-grid-row\">\\n      <div class=\"govuk-grid-column-one-third\">\\n        <div class=\"filter-form\">\\n    <div id=\"keywords\" role=\"search\" aria-label=\"News and communications\" data-ga4-change-category=\"update-keyword text\">\\n      \\n<div class=\"gem-c-search govuk-!-display-none-print  gem-c-search--on-white gem-c-search--separate-label\" data-module=\"gem-toggle-input-class-on-focus\">\\n    <label for=\"finder-keyword-search\" class=\"gem-c-search__label\">        Search <span class=\"govuk-visually-hidden\">News and communications</span>\\n</label>\\n  <div class=\"gem-c-search__item-wrapper\">\\n    <input aria-controls=\"js-search-results-info\" enterkeyhint=\"search\" class=\"gem-c-search__item gem-c-search__input js-class-toggle\" id=\"finder-keyword-search\" name=\"keywords\" title=\"Search\" type=\"search\" value=\"\">\\n    <div class=\"gem-c-search__item gem-c-search__submit-wrapper\">\\n      <button class=\"gem-c-search__submit\" type=\"submit\" data-module=\"gem-track-click\" enterkeyhint=\"search\">\\n        Search\\n        \\n<svg class=\"gem-c-search__icon\" width=\"27\" height=\"27\" viewbox=\"0 0 27 27\" fill=\"none\" xmlns=\"http://www.w3.org/2000/svg\" aria-hidden=\"true\" focusable=\"false\">\\n  <circle cx=\"12.0161\" cy=\"11.0161\" r=\"8.51613\" stroke=\"currentColor\" stroke-width=\"3\"></circle>\\n  <line x1=\"17.8668\" y1=\"17.3587\" x2=\"26.4475\" y2=\"25.9393\" stroke=\"currentColor\" stroke-width=\"3\"></line>\\n</svg>\\n</button>    </div>\\n  </div>\\n</div>\\n\\n    </div>\\n      <div class=\"app-c-mobile-filters\">\\n  <button class=\"app-c-button-as-link app-mobile-filters-link js-toggle-mobile-filters\" data-toggle=\"mobile-filters-modal\" data-target=\"facet-wrapper\" data-module=\"ga4-event-tracker\" data-ga4-expandable=\"\" data-open-on-load=\"\">\\n      Filter <span class=\"govuk-visually-hidden\"> results</span>\\n      <span class=\"js-selected-filter-count\"></span>\\n  </button>\\n  <svg version=\"1.1\" viewbox=\"0 0 1024 1024\" xmlns=\"http://www.w3.org/2000/svg\" class=\"mobile-filters-expander__icon mobile-filters-expander__icon--up\" aria-hidden=\"true\" focusable=\"false\"><path d=\"m798.16 609.84l-256-256c-16.683-16.683-43.691-16.683-60.331 0l-256 256c-16.683 16.683-16.683 43.691 0 60.331s43.691 16.683 60.331 0l225.84-225.84 225.84 225.84c16.683 16.683 43.691 16.683 60.331 0s16.683-43.691 0-60.331z\"></path></svg>\\n  <svg version=\"1.1\" viewbox=\"0 0 1024 1024\" xmlns=\"http://www.w3.org/2000/svg\" class=\"mobile-filters-expander__icon mobile-filters-expander__icon--down\" aria-hidden=\"true\" focusable=\"false\"><path d=\"m225.84 414.16l256 256c16.683 16.683 43.691 16.683 60.331 0l256-256c16.683-16.683 16.683-43.691 0-60.331s-43.691-16.683-60.331 0l-225.84 225.84-225.84-225.84c-16.683-16.683-43.691-16.683-60.331 0s-16.683 43.691 0 60.331z\"></path></svg>\\n</div>\\n\\n\\n      <a class=\"gem-c-skip-link govuk-skip-link govuk-!-display-none-print\" data-module=\"govuk-skip-link\" href=\"#js-results\">Skip to results</a>\\n\\n\\n    <div id=\"facet-wrapper\" data-module=\"mobile-filters-modal\" class=\"facets\" role=\"search\" aria-label=\"Search filters\">\\n      <div class=\"facets__box\">\\n        <h2 class=\"govuk-visually-hidden\">Filter</h2>\\n        <div class=\"facets__header\">\\n          <div>\\n            <h3 class=\"gem-c-heading govuk-heading-s   govuk-!-margin-bottom-0\">\\n  <span class=\"js-result-count govuk-!-font-weight-regular\">129,851 results</span>\\n</h3>\\n          </div>\\n        </div>\\n        <div class=\"facets__content\" data-module=\"ga4-event-tracker\" data-ga4-filter-container>\\n            <div id=\"related_to_brexit\">\\n\\n\\n    <input type=\"hidden\" name=\"related_to_brexit\" id=\"related_to_brexit_0\" autocomplete=\"off\">\\n</div>\\n\\n                <div data-ga4-filter-parent=\"Topic\" data-ga4-index=\\'{\"index_section\":1,\"index_section_count\":3}\\' data-module=\"expander\" data-open-on-load=\"false\" data-button-data-attributes=\\'{\"ga4_expandable\":\"\",\"ga4_event\":{\"event_name\":\"select_content\",\"type\":\"finder\",\"section\":\"Topic\",\"index_section\":1,\"index_section_count\":3}}\\' class=\"app-c-expander\">\\n    <h3 class=\"app-c-expander__heading\">\\n      <span class=\"app-c-expander__title js-toggle\">Topic</span>\\n      <svg version=\"1.1\" viewbox=\"0 0 1024 1024\" xmlns=\"http://www.w3.org/2000/svg\" width=\"0\" height=\"0\" class=\"app-c-expander__icon app-c-expander__icon--up\" aria-hidden=\"true\" focusable=\"false\"><path d=\"m798.16 609.84l-256-256c-16.683-16.683-43.691-16.683-60.331 0l-256 256c-16.683 16.683-16.683 43.691 0 60.331s43.691 16.683 60.331 0l225.84-225.84 225.84 225.84c16.683 16.683 43.691 16.683 60.331 0s16.683-43.691 0-60.331z\"></path></svg>\\n      <svg version=\"1.1\" viewbox=\"0 0 1024 1024\" xmlns=\"http://www.w3.org/2000/svg\" width=\"0\" height=\"0\" class=\"app-c-expander__icon app-c-expander__icon--down\" aria-hidden=\"true\" focusable=\"false\"><path d=\"m225.84 414.16l256 256c16.683 16.683 43.691 16.683 60.331 0l256-256c16.683-16.683 16.683-43.691 0-60.331s-43.691-16.683-60.331 0l-225.84 225.84-225.84-225.84c-16.683-16.683-43.691-16.683-60.331 0s-16.683 43.691 0 60.331z\"></path></svg>\\n    </h3>\\n    <div class=\"app-c-expander__content js-content \" id=\"expander-content-2c111704\">\\n      \\n    <div class=\"js-taxonomy-select\" data-ga4-change-category=\"update-filter select\" data-ga4-section=\"Topic\">\\n        <div class=\"govuk-form-group gem-c-select\">\\n      <label class=\"govuk-label\" for=\"level_one_taxon\">Topic</label>\\n\\n\\n\\n    <select name=\"level_one_taxon\" id=\"level_one_taxon\" class=\"govuk-select gem-c-select__select--full-width\"><option value=\"\">All topics</option>\\n<option value=\"d6c2de5d-ef90-45d1-82d4-5f2438369eea\">Brexit</option>\\n<option value=\"495afdb6-47be-4df1-8b38-91c8adb1eefc\">Business and industry</option>\\n<option value=\"5b7b9532-a775-4bd2-a3aa-6ce380184b6c\">COVID-19</option>\\n<option value=\"a544d48b-1e9e-47fb-b427-7a987c658c14\">Corporate information</option>\\n<option value=\"ba951b09-5146-43be-87af-44075eac3ae9\">Crime, justice and law</option>\\n<option value=\"e491505c-77ae-45b2-84be-8c94b94f6a2b\">Defence and armed forces</option>\\n<option value=\"c58fdadd-7743-46d6-9629-90bb3ccc4ef0\">Education, training and skills</option>\\n<option value=\"ba3a9702-da22-487f-86c1-8334a730e559\">Entering and staying in the UK</option>\\n<option value=\"3cf97f69-84de-41ae-bc7b-7e2cc238fa58\">Environment</option>\\n<option value=\"9597c30a-605a-4e36-8bc1-47e5cdae41b3\">Going and being abroad</option>\\n<option value=\"e48ab80a-de80-4e83-bf59-26316856a5f9\">Government</option>\\n<option value=\"8124ead8-8ebc-4faf-88ad-dd5cbcc92ba8\">Health and social care</option>\\n<option value=\"4794066e-e3cc-425e-8cc4-e7ff3edb4c39\">Housing, local and community</option>\\n<option value=\"37d0fa26-abed-4c74-8835-b3b51ae1c8b2\">International</option>\\n<option value=\"20086ead-41fc-49cf-8a62-d4e1126f41fc\">Life circumstances</option>\\n<option value=\"6acc9db4-780e-4a46-92b4-1812e3c2c48a\">Money</option>\\n<option value=\"206b7f3a-49b5-476f-af0f-fd27e2a68473\">Parenting, childcare and children\\'s services </option>\\n<option value=\"503c5bc7-809a-47b9-83e2-bd0c212dbabb\">Regional and local government</option>\\n<option value=\"e2ca2f1a-0ff3-43ce-b813-16645ff27904\">Society and culture</option>\\n<option value=\"a4038b29-b332-4f13-98b1-1c9709e216bc\">Transport</option>\\n<option value=\"dded88e2-f92e-424f-b73e-6ad24a839c51\">Welfare</option>\\n<option value=\"d0f1e5a3-c8f4-4780-8678-994f19104b21\">Work</option></select>\\n</div>\\n\\n      <div class=\"js-required govuk-form-group\" data-ga4-section=\"Sub-topic\">\\n          <div class=\"govuk-form-group gem-c-select\">\\n      <label class=\"govuk-label\" for=\"level_two_taxon\">Sub-topic</label>\\n\\n\\n\\n    <select name=\"level_two_taxon\" id=\"level_two_taxon\" class=\"govuk-select gem-c-select__select--full-width\"><option value=\"\">All sub-topics</option>\\n<option data-topic-parent=\"d6c2de5d-ef90-45d1-82d4-5f2438369eea\" value=\"634fd193-8039-4a70-a059-919c34ff4bfc\">Brexit: business guidance</option>\\n<option data-topic-parent=\"d6c2de5d-ef90-45d1-82d4-5f2438369eea\" value=\"614b2e65-56ac-4f8d-bb9c-d1a14167ba25\">Brexit: guidance for individuals</option>\\n<option data-topic-parent=\"495afdb6-47be-4df1-8b38-91c8adb1eefc\" value=\"13fb7519-c48e-4577-90f8-aaf483fa0c03\">Business and the environment</option>\\n<option data-topic-parent=\"495afdb6-47be-4df1-8b38-91c8adb1eefc\" value=\"33bc0eed-62c7-4b0b-9a93-626c9e10c025\">Business regulation</option>\\n<option data-topic-parent=\"495afdb6-47be-4df1-8b38-91c8adb1eefc\" value=\"80cb30f4-0361-49ea-ad84-bc10910318bf\">Charities and social enterprises</option>\\n<option data-topic-parent=\"495afdb6-47be-4df1-8b38-91c8adb1eefc\" value=\"544a5fe2-b97c-4239-a6be-620469146a8b\">Corporate governance</option>\\n<option data-topic-parent=\"495afdb6-47be-4df1-8b38-91c8adb1eefc\" value=\"d7e02519-b7ba-4297-80a8-01cd0e5f2cb2\">Financial services</option>\\n<option data-topic-parent=\"495afdb6-47be-4df1-8b38-91c8adb1eefc\" value=\"74f7449e-08f8-4325-b8db-3703cb99f4d0\">Industrial strategy</option>\\n<option data-topic-parent=\"495afdb6-47be-4df1-8b38-91c8adb1eefc\" value=\"d34ba9b3-28d8-40d5-a2d3-f52d216c2590\">Manufacturing</option>\\n<option data-topic-parent=\"495afdb6-47be-4df1-8b38-91c8adb1eefc\" value=\"4ef6d013-ec2d-4ae8-a1a0-5a984e6e6c42\">Media and communications</option>\\n<option data-topic-parent=\"495afdb6-47be-4df1-8b38-91c8adb1eefc\" value=\"8aa41155-58ff-4d7d-a11a-7e3ef42863dd\">Running a business</option>\\n<option data-topic-parent=\"495afdb6-47be-4df1-8b38-91c8adb1eefc\" value=\"ccb77bcc-56b4-419a-b5ce-f7c2234e0546\">Science and innovation</option>\\n<option data-topic-parent=\"495afdb6-47be-4df1-8b38-91c8adb1eefc\" value=\"ed2ca1f7-5463-4eda-9324-b597e269e242\">Trade and investment</option>\\n<option data-topic-parent=\"495afdb6-47be-4df1-8b38-91c8adb1eefc\" value=\"a1e4659c-dc15-48be-bc4f-6c609ae061dc\">UK economy</option>\\n<option data-topic-parent=\"5b7b9532-a775-4bd2-a3aa-6ce380184b6c\" value=\"14e7aabf-97c7-4b33-941d-4dda274f793e\">Driving and transport in the UK during COVID-19</option>\\n<option data-topic-parent=\"5b7b9532-a775-4bd2-a3aa-6ce380184b6c\" value=\"272308f4-05c8-4d0d-abc7-b7c2e3ccd249\">Education, universities and childcare during COVID-19</option>\\n<option data-topic-parent=\"5b7b9532-a775-4bd2-a3aa-6ce380184b6c\" value=\"0f3357e6-23ae-4ad2-9d31-a55a72cbb227\">Health and wellbeing during COVID-19</option>\\n<option data-topic-parent=\"5b7b9532-a775-4bd2-a3aa-6ce380184b6c\" value=\"c2bbb66f-b108-4147-8db1-c637d0d28790\">Healthcare workers, carers and care settings during COVID-19</option>\\n<option data-topic-parent=\"5b7b9532-a775-4bd2-a3aa-6ce380184b6c\" value=\"2f386752-3743-47a8-ae66-110131cf96aa\">Housing and accommodation during COVID-19</option>\\n<option data-topic-parent=\"5b7b9532-a775-4bd2-a3aa-6ce380184b6c\" value=\"c7dbc2d2-d070-4315-952a-fb77faa78021\">International travel, immigration and repatriation during COVID-19</option>\\n<option data-topic-parent=\"5b7b9532-a775-4bd2-a3aa-6ce380184b6c\" value=\"5c37c642-d4dc-43ff-a7af-3fb30e18c642\">Rules and restrictions during COVID-19</option>\\n<option data-topic-parent=\"5b7b9532-a775-4bd2-a3aa-6ce380184b6c\" value=\"65666cdf-b177-4d79-9687-b9c32805e450\">Support for businesses and self-employed people during COVID-19</option>\\n<option data-topic-parent=\"5b7b9532-a775-4bd2-a3aa-6ce380184b6c\" value=\"b9ade971-9c53-4318-b95b-906a122ed2f8\">Testing for COVID-19</option>\\n<option data-topic-parent=\"5b7b9532-a775-4bd2-a3aa-6ce380184b6c\" value=\"bfcbc853-d88d-4d79-9a48-a797a4e59a03\">Vaccinations for COVID-19</option>\\n<option data-topic-parent=\"5b7b9532-a775-4bd2-a3aa-6ce380184b6c\" value=\"fa584e4c-8be1-418c-babe-1e3e0c64ebee\">Volunteering and offering help during COVID-19</option>\\n<option data-topic-parent=\"5b7b9532-a775-4bd2-a3aa-6ce380184b6c\" value=\"b7f57213-4b16-446d-8ded-81955d782680\">Work and financial support during COVID-19</option>\\n<option data-topic-parent=\"ba951b09-5146-43be-87af-44075eac3ae9\" value=\"66f7bd95-7e8b-4f33-ad7f-77a13ae92d49\">Administrative justice reform</option>\\n<option data-topic-parent=\"ba951b09-5146-43be-87af-44075eac3ae9\" value=\"15492103-227c-47c4-bb98-0380458b81df\">Attorney General guidance to the legal profession</option>\\n<option data-topic-parent=\"ba951b09-5146-43be-87af-44075eac3ae9\" value=\"562132d3-7f14-46e8-953b-d7e0d56cf021\">Byelaws</option>\\n<option data-topic-parent=\"ba951b09-5146-43be-87af-44075eac3ae9\" value=\"7ed17bb3-42cd-432a-80fa-c4ee82ad4f2a\">Civil justice reform</option>\\n<option data-topic-parent=\"ba951b09-5146-43be-87af-44075eac3ae9\" value=\"58643944-9cc3-4f61-8805-4c1d090bf21d\">Counter-extremism </option>\\n<option data-topic-parent=\"ba951b09-5146-43be-87af-44075eac3ae9\" value=\"165bfd10-8402-4719-b38e-62ca618d3b8f\">Counter-terrorism</option>\\n<option data-topic-parent=\"ba951b09-5146-43be-87af-44075eac3ae9\" value=\"357110bb-cbc5-4708-9711-1b26e6c63e86\">Courts, sentencing and tribunals</option>\\n<option data-topic-parent=\"ba951b09-5146-43be-87af-44075eac3ae9\" value=\"7f4eaf37-60f8-4d8c-a968-7829098e05ff\">Crime prevention</option>\\n<option data-topic-parent=\"ba951b09-5146-43be-87af-44075eac3ae9\" value=\"23100f5c-25d2-4d3f-8a63-f32e619a32d5\">Criminal justice reform</option>\\n<option data-topic-parent=\"ba951b09-5146-43be-87af-44075eac3ae9\" value=\"6cbc4c56-f412-4116-bd2f-66dfbdcd94ae\">Criminal record disclosure</option>\\n<option data-topic-parent=\"ba951b09-5146-43be-87af-44075eac3ae9\" value=\"17b10a3e-2530-49cc-8cf6-1e002458b0b0\">Data protection</option>\\n<option data-topic-parent=\"ba951b09-5146-43be-87af-44075eac3ae9\" value=\"a15cc825-5319-40a9-8396-0153920f8f0b\">Domestic violence</option>\\n<option data-topic-parent=\"ba951b09-5146-43be-87af-44075eac3ae9\" value=\"fae66b20-eacd-4a41-a417-81cae5fa4b8c\">Family justice system</option>\\n<option data-topic-parent=\"ba951b09-5146-43be-87af-44075eac3ae9\" value=\"783cf728-cd63-47ce-aa63-b466b2ea3982\">Forced marriage</option>\\n<option data-topic-parent=\"ba951b09-5146-43be-87af-44075eac3ae9\" value=\"afd65c1c-dee0-4f5b-8bd6-4f502e4870af\">Justice system transparency</option>\\n<option data-topic-parent=\"ba951b09-5146-43be-87af-44075eac3ae9\" value=\"587fd3ee-c009-4a49-8b30-557300c55bd1\">Knife, gun and gang crime</option>\\n<option data-topic-parent=\"ba951b09-5146-43be-87af-44075eac3ae9\" value=\"cade4e7d-0397-459d-a880-3d2753dd39c2\">Law and practice</option>\\n<option data-topic-parent=\"ba951b09-5146-43be-87af-44075eac3ae9\" value=\"4919a97c-3249-496c-8485-b7c8d36d6ef0\">Legal aid</option>\\n<option data-topic-parent=\"ba951b09-5146-43be-87af-44075eac3ae9\" value=\"1906f68c-2d10-4182-9a0f-31a1f7d77c29\">Legal aid reform</option>\\n<option data-topic-parent=\"ba951b09-5146-43be-87af-44075eac3ae9\" value=\"ff10faa5-1bc0-41a4-8629-d528915ad7e4\">Policing</option>\\n<option data-topic-parent=\"ba951b09-5146-43be-87af-44075eac3ae9\" value=\"1dd3f25a-9237-4143-b2d2-cd7f6863c9c0\">Prisons and probation</option>\\n<option data-topic-parent=\"ba951b09-5146-43be-87af-44075eac3ae9\" value=\"459b36eb-65f0-43a6-95ab-f3fb0bdaff50\">Reoffending and rehabilitation</option>\\n<option data-topic-parent=\"ba951b09-5146-43be-87af-44075eac3ae9\" value=\"fa5b3b7e-682a-49fd-bf99-d2cfe3e16a26\">Reporting crimes and getting compensation</option>\\n<option data-topic-parent=\"ba951b09-5146-43be-87af-44075eac3ae9\" value=\"70505387-138c-431c-a82d-94ff81f97e18\">Sentencing reform</option>\\n<option data-topic-parent=\"ba951b09-5146-43be-87af-44075eac3ae9\" value=\"e9926d96-9bfd-4d8f-ad4e-301254216298\">Statutory rights</option>\\n<option data-topic-parent=\"ba951b09-5146-43be-87af-44075eac3ae9\" value=\"d1b7471b-bdd1-4719-9376-b79d2f854807\">Victims of crime</option>\\n<option data-topic-parent=\"ba951b09-5146-43be-87af-44075eac3ae9\" value=\"756613a3-522d-4402-beb9-532b5708ba74\">Violence against women and girls</option>\\n<option data-topic-parent=\"ba951b09-5146-43be-87af-44075eac3ae9\" value=\"1fb1ae8d-c975-43ba-9672-13ee0993e98b\">Young people and the law</option>\\n<option data-topic-parent=\"ba951b09-5146-43be-87af-44075eac3ae9\" value=\"ed952e5a-2ea7-44c0-aed9-c97ffe58993b\">Your rights and the law</option>\\n<option data-topic-parent=\"e491505c-77ae-45b2-84be-8c94b94f6a2b\" value=\"268c139d-8d58-43ed-85f4-19c511e283e7\">Armed Forces Covenant</option>\\n<option data-topic-parent=\"e491505c-77ae-45b2-84be-8c94b94f6a2b\" value=\"8ff8cf05-a6e6-4757-a896-4fabd9f3229a\">Armed forces</option>\\n<option data-topic-parent=\"e491505c-77ae-45b2-84be-8c94b94f6a2b\" value=\"8f589b76-f3ee-4eca-adf6-2ad70807ad8c\">Armed forces and Ministry of Defence reform</option>\\n<option data-topic-parent=\"e491505c-77ae-45b2-84be-8c94b94f6a2b\" value=\"253c217e-5d8e-4ec6-acfb-e5165674cac5\">Armed forces support for activities in the UK</option>\\n<option data-topic-parent=\"e491505c-77ae-45b2-84be-8c94b94f6a2b\" value=\"9f183c2c-2256-42d7-a12d-ced7b7f24195\">International defence commitments</option>\\n<option data-topic-parent=\"e491505c-77ae-45b2-84be-8c94b94f6a2b\" value=\"72241f43-600b-4c34-9205-5a07060a2711\">Military awards and commemorations</option>\\n<option data-topic-parent=\"e491505c-77ae-45b2-84be-8c94b94f6a2b\" value=\"ac5d432a-11a9-40e1-bb83-0de26106b9d6\">Military equipment, logistics and technology</option>\\n<option data-topic-parent=\"e491505c-77ae-45b2-84be-8c94b94f6a2b\" value=\"4b9f1f6f-0c16-4a99-94e5-e58a3fba461f\">Military recruitment, training and operations</option>\\n<option data-topic-parent=\"e491505c-77ae-45b2-84be-8c94b94f6a2b\" value=\"e33ce727-bb6b-47a2-894b-b7174cb7faee\">Ministry of Defence estate</option>\\n<option data-topic-parent=\"e491505c-77ae-45b2-84be-8c94b94f6a2b\" value=\"45c29c6b-1bc4-4b3b-af9d-0d05e019269d\">Nuclear disarmament</option>\\n<option data-topic-parent=\"e491505c-77ae-45b2-84be-8c94b94f6a2b\" value=\"735f4865-8b48-4ea8-99c2-94f121839367\">Stability in the Western Balkans</option>\\n<option data-topic-parent=\"e491505c-77ae-45b2-84be-8c94b94f6a2b\" value=\"e4b9e05a-6c04-4e18-945f-4584c08c4628\">Support services for military and defence personnel and their families</option>\\n<option data-topic-parent=\"e491505c-77ae-45b2-84be-8c94b94f6a2b\" value=\"d6fc8b39-351d-4d3f-a938-4a86f38906bc\">UK nuclear deterrent</option>\\n<option data-topic-parent=\"e491505c-77ae-45b2-84be-8c94b94f6a2b\" value=\"1f21cce7-fc86-433c-a79b-1a4f0acb5a3a\">Veterans and family support</option>\\n<option data-topic-parent=\"e491505c-77ae-45b2-84be-8c94b94f6a2b\" value=\"761b3ded-bc40-498e-8964-d31c9664970a\">Weapons proliferation</option>\\n<option data-topic-parent=\"c58fdadd-7743-46d6-9629-90bb3ccc4ef0\" value=\"d2005b89-352f-4896-aced-1d17504330e6\">Education of disadvantaged children</option>\\n<option data-topic-parent=\"c58fdadd-7743-46d6-9629-90bb3ccc4ef0\" value=\"23265b25-7ec3-4960-8517-4ff8d4d92cac\">Funding and finance for students</option>\\n<option data-topic-parent=\"c58fdadd-7743-46d6-9629-90bb3ccc4ef0\" value=\"dd767840-363e-43ad-8835-c9ab516633de\">Further and higher education, skills and vocational training</option>\\n<option data-topic-parent=\"c58fdadd-7743-46d6-9629-90bb3ccc4ef0\" value=\"f0dcb0b9-2f2c-46b0-adea-42a4fe608170\">Inspections and performance of education providers</option>\\n<option data-topic-parent=\"c58fdadd-7743-46d6-9629-90bb3ccc4ef0\" value=\"db605204-0f03-441b-837f-16613c6b3f8f\">Pupil wellbeing, behaviour and attendance</option>\\n<option data-topic-parent=\"c58fdadd-7743-46d6-9629-90bb3ccc4ef0\" value=\"42e6e5c3-3a06-4a6f-abd4-a4b85d9c6b16\">Running and managing a school</option>\\n<option data-topic-parent=\"c58fdadd-7743-46d6-9629-90bb3ccc4ef0\" value=\"1a26ae19-00f2-4be1-b9b6-aa72876a0278\">School and academy financial management and assurance</option>\\n<option data-topic-parent=\"c58fdadd-7743-46d6-9629-90bb3ccc4ef0\" value=\"90e8a226-8d40-4c1f-91e4-36a712b34e57\">School and academy funding</option>\\n<option data-topic-parent=\"c58fdadd-7743-46d6-9629-90bb3ccc4ef0\" value=\"7c75c541-403f-4cb1-9b34-4ddde816a80d\">School curriculum</option>\\n<option data-topic-parent=\"c58fdadd-7743-46d6-9629-90bb3ccc4ef0\" value=\"47b6ce42-0bfa-42ee-9ff1-7a9c71ee9727\">Special educational needs and disability (SEND) and high needs</option>\\n<option data-topic-parent=\"c58fdadd-7743-46d6-9629-90bb3ccc4ef0\" value=\"a8bffaae-5c8c-439f-92f0-c9fbf32ce1d9\">Starting and attending school</option>\\n<option data-topic-parent=\"c58fdadd-7743-46d6-9629-90bb3ccc4ef0\" value=\"ff00b8b2-dcdb-4659-93c2-291c9be354f3\">Teaching and leadership</option>\\n<option data-topic-parent=\"ba3a9702-da22-487f-86c1-8334a730e559\" value=\"262e9ea7-90fc-4ac8-8aa7-fc294282a1d4\">Border control</option>\\n<option data-topic-parent=\"ba3a9702-da22-487f-86c1-8334a730e559\" value=\"6dc91505-fdbd-4b6b-9bd5-fef3dc8baf42\">Immigration adviser services</option>\\n<option data-topic-parent=\"ba3a9702-da22-487f-86c1-8334a730e559\" value=\"fa13521f-9285-45b0-bd65-4a472a8037e7\">Immigration offences</option>\\n<option data-topic-parent=\"ba3a9702-da22-487f-86c1-8334a730e559\" value=\"c64eb759-93ff-4bfd-86f2-16753fc1e062\">Immigration rules</option>\\n<option data-topic-parent=\"ba3a9702-da22-487f-86c1-8334a730e559\" value=\"0fab9131-f877-4286-b4d8-922fbfb402b6\">Inspections of border, immigration and asylum services</option>\\n<option data-topic-parent=\"ba3a9702-da22-487f-86c1-8334a730e559\" value=\"fef7e737-6f1a-4ef4-b844-aa24b630ad03\">Permanent stay in the UK</option>\\n<option data-topic-parent=\"ba3a9702-da22-487f-86c1-8334a730e559\" value=\"08a8a69f-2825-4fe2-a4cf-c83458a5629e\">Refugees, asylum and human rights</option>\\n<option data-topic-parent=\"ba3a9702-da22-487f-86c1-8334a730e559\" value=\"6e85c12f-f52b-41b3-93ad-59e5f19d64f6\">Rights of foreign nationals in the UK</option>\\n<option data-topic-parent=\"ba3a9702-da22-487f-86c1-8334a730e559\" value=\"18c7918f-cde5-4e66-b5f4-cd15c33cc1cc\">Travel and identity documents for foreign nationals</option>\\n<option data-topic-parent=\"ba3a9702-da22-487f-86c1-8334a730e559\" value=\"29480b00-dc4d-49a0-b48c-25dda8569325\">Visas and entry clearance</option>\\n<option data-topic-parent=\"ba3a9702-da22-487f-86c1-8334a730e559\" value=\"f48188df-8130-4d36-98e0-e72125d016a2\">Visas and immigration corporate</option>\\n<option data-topic-parent=\"3cf97f69-84de-41ae-bc7b-7e2cc238fa58\" value=\"22ad4441-9fb5-447b-950c-bf33466b31bb\">Chemicals</option>\\n<option data-topic-parent=\"3cf97f69-84de-41ae-bc7b-7e2cc238fa58\" value=\"62e08e6f-9161-42c6-b9dd-0cf8fcab2c69\">Climate change and energy</option>\\n<option data-topic-parent=\"3cf97f69-84de-41ae-bc7b-7e2cc238fa58\" value=\"b14a6778-60a2-483a-924c-774d1040cbf4\">Commercial fishing, fisheries and vessels</option>\\n<option data-topic-parent=\"3cf97f69-84de-41ae-bc7b-7e2cc238fa58\" value=\"899d76d6-4d59-409e-a7a4-2a7e47c9361b\">Energy infrastructure</option>\\n<option data-topic-parent=\"3cf97f69-84de-41ae-bc7b-7e2cc238fa58\" value=\"4e561949-4a26-49c2-918d-6ad2972c4d33\">Environmental permits</option>\\n<option data-topic-parent=\"3cf97f69-84de-41ae-bc7b-7e2cc238fa58\" value=\"52ff5c99-a17b-42c4-a9d7-2cc92cccca39\">Food and farming</option>\\n<option data-topic-parent=\"3cf97f69-84de-41ae-bc7b-7e2cc238fa58\" value=\"42fdd045-cadf-474b-b8a6-ca20a77c43bb\">Marine</option>\\n<option data-topic-parent=\"3cf97f69-84de-41ae-bc7b-7e2cc238fa58\" value=\"a1efce91-28c3-4a33-a2fd-48364b1119a4\">Pollution and environmental quality</option>\\n<option data-topic-parent=\"3cf97f69-84de-41ae-bc7b-7e2cc238fa58\" value=\"71f685fe-0dc3-469d-92c2-1000ad86d7d9\">River maintenance, flooding and coastal erosion</option>\\n<option data-topic-parent=\"3cf97f69-84de-41ae-bc7b-7e2cc238fa58\" value=\"9949c2c1-ff96-4b4f-b584-c700e316c9de\">Rural and countryside</option>\\n<option data-topic-parent=\"3cf97f69-84de-41ae-bc7b-7e2cc238fa58\" value=\"f4e9e92d-9192-4e17-90c6-553339bc04c3\">Waste and recycling</option>\\n<option data-topic-parent=\"3cf97f69-84de-41ae-bc7b-7e2cc238fa58\" value=\"cb4c8377-6fcb-4022-a7a1-98395eb50508\">Water industry</option>\\n<option data-topic-parent=\"3cf97f69-84de-41ae-bc7b-7e2cc238fa58\" value=\"695dc6f2-27cc-4d8b-adc4-8d07c2bff748\">Wildlife, animals, biodiversity and ecosystems</option>\\n<option data-topic-parent=\"9597c30a-605a-4e36-8bc1-47e5cdae41b3\" value=\"3dbeb4a3-33c0-4bda-bd21-b721b0f8736f\">British nationals overseas</option>\\n<option data-topic-parent=\"9597c30a-605a-4e36-8bc1-47e5cdae41b3\" value=\"d956c72a-246d-4787-af39-00bf58b2ea66\">Living abroad</option>\\n<option data-topic-parent=\"9597c30a-605a-4e36-8bc1-47e5cdae41b3\" value=\"27b9c5cd-b390-4332-89be-73491df35a41\">Passports</option>\\n<option data-topic-parent=\"9597c30a-605a-4e36-8bc1-47e5cdae41b3\" value=\"d96e4efc-9c26-4d9b-9fa7-a036b5c11a65\">Travel abroad</option>\\n<option data-topic-parent=\"e48ab80a-de80-4e83-bf59-26316856a5f9\" value=\"67f50352-bc30-482f-a2d0-a05714e3cea8\">Cyber security</option>\\n<option data-topic-parent=\"e48ab80a-de80-4e83-bf59-26316856a5f9\" value=\"b7374969-dfdf-46eb-97f3-7772c011c10d\">Data</option>\\n<option data-topic-parent=\"e48ab80a-de80-4e83-bf59-26316856a5f9\" value=\"95d06252-5d75-42fb-9c5c-038ab6b482e4\">Democracy</option>\\n<option data-topic-parent=\"e48ab80a-de80-4e83-bf59-26316856a5f9\" value=\"78c2148c-a7cd-448b-8105-9f78ded119d1\">Emergency preparation, response and recovery</option>\\n<option data-topic-parent=\"e48ab80a-de80-4e83-bf59-26316856a5f9\" value=\"3afd1d79-597d-4f97-bc7a-83766dcab2f4\">Europe</option>\\n<option data-topic-parent=\"e48ab80a-de80-4e83-bf59-26316856a5f9\" value=\"f3f4b5d3-49c4-487b-bd5b-be75f11ec8c5\">Government efficiency, transparency and accountability</option>\\n<option data-topic-parent=\"e48ab80a-de80-4e83-bf59-26316856a5f9\" value=\"dfe808c3-6a58-4266-8f50-a93d931bfaaf\">Government reform </option>\\n<option data-topic-parent=\"e48ab80a-de80-4e83-bf59-26316856a5f9\" value=\"90c9b9f1-0a4f-4639-b1e9-2bfb23d611bd\">Government technology and digital services</option>\\n<option data-topic-parent=\"e48ab80a-de80-4e83-bf59-26316856a5f9\" value=\"8a98b827-82ad-49b4-819e-82c208c551c4\">National security</option>\\n<option data-topic-parent=\"e48ab80a-de80-4e83-bf59-26316856a5f9\" value=\"ccd41790-a498-4cd1-a510-125d67e0f585\">Public sector land use</option>\\n<option data-topic-parent=\"e48ab80a-de80-4e83-bf59-26316856a5f9\" value=\"383f2d71-b239-4d90-b89b-600340b34332\">Public services</option>\\n<option data-topic-parent=\"e48ab80a-de80-4e83-bf59-26316856a5f9\" value=\"3894b4d1-bb7f-4c3d-a680-c904ccabd91e\">Sustainable development</option>\\n<option data-topic-parent=\"8124ead8-8ebc-4faf-88ad-dd5cbcc92ba8\" value=\"c50bd0f5-3077-43cc-8500-8e68b67c8b79\">Blood regulation and safety</option>\\n<option data-topic-parent=\"8124ead8-8ebc-4faf-88ad-dd5cbcc92ba8\" value=\"d69977ab-4fb1-4ad6-b379-e967c5b7528b\">Disabled people</option>\\n<option data-topic-parent=\"8124ead8-8ebc-4faf-88ad-dd5cbcc92ba8\" value=\"cebc01ee-f70a-4397-a552-622e10b62508\">Medicines, medical devices</option>\\n<option data-topic-parent=\"8124ead8-8ebc-4faf-88ad-dd5cbcc92ba8\" value=\"f3dcc290-752f-4bbe-b379-9155d919a58d\">National Health Service</option>\\n<option data-topic-parent=\"8124ead8-8ebc-4faf-88ad-dd5cbcc92ba8\" value=\"d6a4884e-769d-4b81-8ba5-b64394362d92\">Public health</option>\\n<option data-topic-parent=\"8124ead8-8ebc-4faf-88ad-dd5cbcc92ba8\" value=\"2eb09bb6-b069-4604-a55a-08e6cd46d257\">Research and innovation in health and social care</option>\\n<option data-topic-parent=\"8124ead8-8ebc-4faf-88ad-dd5cbcc92ba8\" value=\"7d67047c-bf22-4c34-b566-b46d6973f961\">Social care</option>\\n<option data-topic-parent=\"8124ead8-8ebc-4faf-88ad-dd5cbcc92ba8\" value=\"88c55513-b473-4627-a856-6ae95b6b4e08\">Technology in health and social care</option>\\n<option data-topic-parent=\"4794066e-e3cc-425e-8cc4-e7ff3edb4c39\" value=\"6bb7a2d2-1693-4682-a52c-a17d7fca9c3e\">Household energy</option>\\n<option data-topic-parent=\"4794066e-e3cc-425e-8cc4-e7ff3edb4c39\" value=\"4ad66168-274d-4d83-9195-f4ab0ccc97cb\">Housing and communities</option>\\n<option data-topic-parent=\"4794066e-e3cc-425e-8cc4-e7ff3edb4c39\" value=\"82730dd2-4ead-4ae6-943b-2c910e758279\">Land registration</option>\\n<option data-topic-parent=\"4794066e-e3cc-425e-8cc4-e7ff3edb4c39\" value=\"e3147d4f-4bd5-4a14-a386-4ba7ccb058b4\">Planning and building</option>\\n<option data-topic-parent=\"37d0fa26-abed-4c74-8835-b3b51ae1c8b2\" value=\"b1c19cf1-7533-480b-97e2-ab4c4812c7fa\">Anti-corruption</option>\\n<option data-topic-parent=\"37d0fa26-abed-4c74-8835-b3b51ae1c8b2\" value=\"d6dba75a-42bd-4e1e-984c-2bddb6b41951\">Foreign affairs</option>\\n<option data-topic-parent=\"37d0fa26-abed-4c74-8835-b3b51ae1c8b2\" value=\"cb7db7bb-d0b4-4e22-9f0b-58a28c2db38c\">Human rights internationally</option>\\n<option data-topic-parent=\"37d0fa26-abed-4c74-8835-b3b51ae1c8b2\" value=\"9fb30a53-70fb-4f1c-878b-0064b202d1ba\">International aid and development</option>\\n<option data-topic-parent=\"37d0fa26-abed-4c74-8835-b3b51ae1c8b2\" value=\"c7fded2a-fedc-4977-be5d-efd4f6a34a73\">Sexual violence in conflict</option>\\n<option data-topic-parent=\"37d0fa26-abed-4c74-8835-b3b51ae1c8b2\" value=\"6a10a7ae-4729-4941-9889-c2330b6a893b\">The Commonwealth</option>\\n<option data-topic-parent=\"37d0fa26-abed-4c74-8835-b3b51ae1c8b2\" value=\"d376bc0d-6c47-4399-b1bf-d9adefa47df0\">UK prosperity and security: Asia, Latin America and Africa</option>\\n<option data-topic-parent=\"20086ead-41fc-49cf-8a62-d4e1126f41fc\" value=\"f875c256-b84a-417a-b2b5-ff7e301a41c7\">Certificates, register offices, changes of name or gender</option>\\n<option data-topic-parent=\"20086ead-41fc-49cf-8a62-d4e1126f41fc\" value=\"0fffa994-b76d-4539-8bf9-2a6c6751580d\">Death and bereavement</option>\\n<option data-topic-parent=\"20086ead-41fc-49cf-8a62-d4e1126f41fc\" value=\"0a018d28-e3a8-4db7-a593-c8a0bfb57319\">Having a child, parenting and adoption</option>\\n<option data-topic-parent=\"20086ead-41fc-49cf-8a62-d4e1126f41fc\" value=\"6bf58181-7ebe-4599-8a93-281f9b7af810\">Lasting power of attorney, being in care and managing finances</option>\\n<option data-topic-parent=\"20086ead-41fc-49cf-8a62-d4e1126f41fc\" value=\"fe0b40e6-f742-45b0-9b2c-2cb976ce18ad\">Marriage, civil partnership and divorce</option>\\n<option data-topic-parent=\"20086ead-41fc-49cf-8a62-d4e1126f41fc\" value=\"ab663472-1f7b-473c-ac15-e433ff9bd7e6\">Missing persons</option>\\n<option data-topic-parent=\"6acc9db4-780e-4a46-92b4-1812e3c2c48a\" value=\"28262ae3-599c-4259-ae30-3c83a5ec02a1\">Business tax</option>\\n<option data-topic-parent=\"6acc9db4-780e-4a46-92b4-1812e3c2c48a\" value=\"7c4cf197-2dba-4a82-83e2-6c8bb332525c\">Court claims, debt and bankruptcy</option>\\n<option data-topic-parent=\"6acc9db4-780e-4a46-92b4-1812e3c2c48a\" value=\"b20215a9-25fb-4fa6-80a3-42e23f5352c2\">Dealing with HMRC</option>\\n<option data-topic-parent=\"6acc9db4-780e-4a46-92b4-1812e3c2c48a\" value=\"5605545e-03ca-4520-9519-163ea341bc86\">Expenses and employee benefits</option>\\n<option data-topic-parent=\"6acc9db4-780e-4a46-92b4-1812e3c2c48a\" value=\"a7b67f4f-1234-4a0c-90ba-eeed4c5183cd\">Money laundering regulations</option>\\n<option data-topic-parent=\"6acc9db4-780e-4a46-92b4-1812e3c2c48a\" value=\"a5c88a77-03ba-4100-bd33-7ee2ce602dc8\">Personal tax</option>\\n<option data-topic-parent=\"6acc9db4-780e-4a46-92b4-1812e3c2c48a\" value=\"35136812-221c-4ba2-8ed1-46e409ca5e10\">Tax evasion and avoidance</option>\\n<option data-topic-parent=\"206b7f3a-49b5-476f-af0f-fd27e2a68473\" value=\"5a9e6b26-ae64-4129-93ee-968028381e83\">Adoption, fostering and surrogacy</option>\\n<option data-topic-parent=\"206b7f3a-49b5-476f-af0f-fd27e2a68473\" value=\"f1d9c348-5c5e-4fc6-9172-13a62537d3ae\">Childcare and early years</option>\\n<option data-topic-parent=\"206b7f3a-49b5-476f-af0f-fd27e2a68473\" value=\"2389dfd4-a0c4-4bd2-b7e6-06f465463d22\">Children\\'s health and welfare</option>\\n<option data-topic-parent=\"206b7f3a-49b5-476f-af0f-fd27e2a68473\" value=\"1423ec9f-d62c-40f7-b10e-a2bdf020d8b7\">Divorce, separation and legal issues</option>\\n<option data-topic-parent=\"206b7f3a-49b5-476f-af0f-fd27e2a68473\" value=\"a44b1c68-807c-45fe-bc7b-a47586617863\">Financial help if you have children</option>\\n<option data-topic-parent=\"206b7f3a-49b5-476f-af0f-fd27e2a68473\" value=\"e4335adc-5dc3-47c0-bb27-4998792212eb\">Pregnancy and birth</option>\\n<option data-topic-parent=\"206b7f3a-49b5-476f-af0f-fd27e2a68473\" value=\"20eb4e84-98ee-404b-a4bd-fe8a36d5d71d\">Safeguarding and social care for children</option>\\n<option data-topic-parent=\"206b7f3a-49b5-476f-af0f-fd27e2a68473\" value=\"43fcdde6-59c5-487f-a969-a046b334cbec\">Youth employment and social issues</option>\\n<option data-topic-parent=\"503c5bc7-809a-47b9-83e2-bd0c212dbabb\" value=\"f2c9ec1e-bbdd-45b8-afd7-fab0c9371d4b\">Devolution</option>\\n<option data-topic-parent=\"503c5bc7-809a-47b9-83e2-bd0c212dbabb\" value=\"15191831-40b4-4f6e-ade3-e82d7c775afd\">Local councils and services</option>\\n<option data-topic-parent=\"503c5bc7-809a-47b9-83e2-bd0c212dbabb\" value=\"c914fd40-dd0a-45c4-a6ff-bce0cda31bde\">Local government</option>\\n<option data-topic-parent=\"503c5bc7-809a-47b9-83e2-bd0c212dbabb\" value=\"3b643153-c4ff-45aa-b923-0be70b083071\">Local government spending</option>\\n<option data-topic-parent=\"503c5bc7-809a-47b9-83e2-bd0c212dbabb\" value=\"88b0ec49-b8fc-4fbb-8418-68b88719b8c8\">Localism</option>\\n<option data-topic-parent=\"503c5bc7-809a-47b9-83e2-bd0c212dbabb\" value=\"a1e624ed-e268-44ab-ac3f-4d3cb2bb8cb5\">Northern Ireland</option>\\n<option data-topic-parent=\"503c5bc7-809a-47b9-83e2-bd0c212dbabb\" value=\"e2aac912-93c5-4b19-bd3d-9c12676e985c\">Scotland</option>\\n<option data-topic-parent=\"503c5bc7-809a-47b9-83e2-bd0c212dbabb\" value=\"68ad6c84-49fd-4871-95bc-5bd48c0f81e1\">Wales</option>\\n<option data-topic-parent=\"e2ca2f1a-0ff3-43ce-b813-16645ff27904\" value=\"b29cf14b-54c6-402c-a9f0-77218602d1af\">Arts and culture</option>\\n<option data-topic-parent=\"e2ca2f1a-0ff3-43ce-b813-16645ff27904\" value=\"0d74fa5d-e56e-4765-904e-2337fa46218e\">British citizenship </option>\\n<option data-topic-parent=\"e2ca2f1a-0ff3-43ce-b813-16645ff27904\" value=\"0bb6e269-4c6d-432d-96b6-f2b343a7603c\">Charities, volunteering and honours</option>\\n<option data-topic-parent=\"e2ca2f1a-0ff3-43ce-b813-16645ff27904\" value=\"668cd623-c7a8-4159-9575-90caac36d4b4\">Community and society</option>\\n<option data-topic-parent=\"e2ca2f1a-0ff3-43ce-b813-16645ff27904\" value=\"16bb50c0-2ca2-49e9-8b21-088789e66d5e\">Digital inclusion and accessibility in society</option>\\n<option data-topic-parent=\"e2ca2f1a-0ff3-43ce-b813-16645ff27904\" value=\"b297e49c-7da4-4bc1-8714-da80fa0758d3\">Equality, rights and citizenship</option>\\n<option data-topic-parent=\"e2ca2f1a-0ff3-43ce-b813-16645ff27904\" value=\"2e444a6b-c6b5-4c7b-a66a-d7e059914979\">Loneliness</option>\\n<option data-topic-parent=\"e2ca2f1a-0ff3-43ce-b813-16645ff27904\" value=\"3506d46e-62d7-4602-93f5-fcb9bb2aade8\">National events and ceremonies</option>\\n<option data-topic-parent=\"e2ca2f1a-0ff3-43ce-b813-16645ff27904\" value=\"ecc8978c-cc6b-463e-a3d5-d5428c3e9f7d\">Online safety</option>\\n<option data-topic-parent=\"e2ca2f1a-0ff3-43ce-b813-16645ff27904\" value=\"f9e476ef-654d-41ec-97d9-2b6842d4361d\">Sports and leisure</option>\\n<option data-topic-parent=\"e2ca2f1a-0ff3-43ce-b813-16645ff27904\" value=\"96c479bc-9b6c-49d3-8e86-3821f43a6fb0\">Tourism</option>\\n<option data-topic-parent=\"e2ca2f1a-0ff3-43ce-b813-16645ff27904\" value=\"ae747de8-96ad-4f66-9d6d-4d5c357e9956\">Young people</option>\\n<option data-topic-parent=\"a4038b29-b332-4f13-98b1-1c9709e216bc\" value=\"51efa3dd-e9bc-42b2-aa26-06bf5f543015\">Aviation</option>\\n<option data-topic-parent=\"a4038b29-b332-4f13-98b1-1c9709e216bc\" value=\"3767d89c-b00c-431e-8b0b-b91c8ff26238\">Careers in transport</option>\\n<option data-topic-parent=\"a4038b29-b332-4f13-98b1-1c9709e216bc\" value=\"d39a3eae-b358-4472-83e2-2e17a86e2ad8\">Corporate and operational information (transport)</option>\\n<option data-topic-parent=\"a4038b29-b332-4f13-98b1-1c9709e216bc\" value=\"84a394d2-b388-4e4e-904e-136ca3f5dd7d\">Driving and road transport</option>\\n<option data-topic-parent=\"a4038b29-b332-4f13-98b1-1c9709e216bc\" value=\"3e4df71e-474d-4a40-bd6a-b3072affa151\">Freight, haulage and cargo</option>\\n<option data-topic-parent=\"a4038b29-b332-4f13-98b1-1c9709e216bc\" value=\"3b4d6319-fcef-4637-b35a-e3df76321894\">Local transport</option>\\n<option data-topic-parent=\"a4038b29-b332-4f13-98b1-1c9709e216bc\" value=\"4a9ab4d7-0d03-4c61-9e16-47787cbf53cd\">Maritime and shipping</option>\\n<option data-topic-parent=\"a4038b29-b332-4f13-98b1-1c9709e216bc\" value=\"13d01427-33b5-4ca4-bf7a-68425f54e236\">Rail</option>\\n<option data-topic-parent=\"a4038b29-b332-4f13-98b1-1c9709e216bc\" value=\"95202728-fb55-4aac-a53e-6a8f1553348a\">Road infrastructure</option>\\n<option data-topic-parent=\"a4038b29-b332-4f13-98b1-1c9709e216bc\" value=\"4d72b9fa-a11a-485e-9c22-8fb426e0feaa\">Transport accessibility and disability</option>\\n<option data-topic-parent=\"a4038b29-b332-4f13-98b1-1c9709e216bc\" value=\"230a94c8-362a-4e3f-9a83-823472aa202a\">Transport modelling and appraisal</option>\\n<option data-topic-parent=\"a4038b29-b332-4f13-98b1-1c9709e216bc\" value=\"82e9e133-20aa-424d-bc61-f30b29e2d05b\">Transport planning</option>\\n<option data-topic-parent=\"a4038b29-b332-4f13-98b1-1c9709e216bc\" value=\"02a5bdc0-9a62-4286-9128-c923845fa1c5\">Transport security</option>\\n<option data-topic-parent=\"dded88e2-f92e-424f-b73e-6ad24a839c51\" value=\"536f83c0-8c67-47a3-88a4-d5b1eda591ed\">Benefits entitlement</option>\\n<option data-topic-parent=\"dded88e2-f92e-424f-b73e-6ad24a839c51\" value=\"29dbee2a-5865-489b-860f-7eef54a5165a\">Benefits for families</option>\\n<option data-topic-parent=\"dded88e2-f92e-424f-b73e-6ad24a839c51\" value=\"05a9527b-e6e9-4a68-8dd7-7d84e6a24eef\">Carers and disability benefits</option>\\n<option data-topic-parent=\"dded88e2-f92e-424f-b73e-6ad24a839c51\" value=\"7a1ba896-b85a-4137-81d9-ab05b7ce67dd\">Child Benefit</option>\\n<option data-topic-parent=\"dded88e2-f92e-424f-b73e-6ad24a839c51\" value=\"a4822791-855a-4f14-877a-e199b5c58126\">Child maintenance reform</option>\\n<option data-topic-parent=\"dded88e2-f92e-424f-b73e-6ad24a839c51\" value=\"ac7b8472-5d09-4679-9551-87847b0ac827\">Death and benefits</option>\\n<option data-topic-parent=\"dded88e2-f92e-424f-b73e-6ad24a839c51\" value=\"6c4c443c-2e11-4d25-aa93-2e3a38d9499c\">Heating and housing benefits</option>\\n<option data-topic-parent=\"dded88e2-f92e-424f-b73e-6ad24a839c51\" value=\"2a1bd1b1-5025-4313-9e5b-8352dd46f1d6\">Jobseeker\\'s Allowance and low income benefits</option>\\n<option data-topic-parent=\"dded88e2-f92e-424f-b73e-6ad24a839c51\" value=\"a7f3005b-a3cd-4060-a127-725accb54f2e\">Tax credits</option>\\n<option data-topic-parent=\"dded88e2-f92e-424f-b73e-6ad24a839c51\" value=\"62fcbba5-3a75-4d15-85a6-d8a80b03d57c\">Universal Credit</option>\\n<option data-topic-parent=\"dded88e2-f92e-424f-b73e-6ad24a839c51\" value=\"76b03d8c-e5cc-4ba0-8630-c7cc71fb87ad\">Welfare reform</option>\\n<option data-topic-parent=\"d0f1e5a3-c8f4-4780-8678-994f19104b21\" value=\"0133b1b3-9ecd-48ad-b226-538b46a17ff4\">Government graduate schemes</option>\\n<option data-topic-parent=\"d0f1e5a3-c8f4-4780-8678-994f19104b21\" value=\"b83f3fc7-4057-4aee-a9db-4d5fb8b49e2a\">Health and safety at work</option>\\n<option data-topic-parent=\"d0f1e5a3-c8f4-4780-8678-994f19104b21\" value=\"36c7772d-f1ef-4506-a9af-be366bf49af4\">Health and safety reform</option>\\n<option data-topic-parent=\"d0f1e5a3-c8f4-4780-8678-994f19104b21\" value=\"4c18a195-9b74-4882-8d11-bf224ceb8292\">Labour market reform</option>\\n<option data-topic-parent=\"d0f1e5a3-c8f4-4780-8678-994f19104b21\" value=\"374b4837-cf2a-4529-a7f1-559d92b3d90d\">Payroll</option>\\n<option data-topic-parent=\"d0f1e5a3-c8f4-4780-8678-994f19104b21\" value=\"6df55cf4-d25c-41d2-aec9-824c67a9eb51\">Pensions and ageing society</option>\\n<option data-topic-parent=\"d0f1e5a3-c8f4-4780-8678-994f19104b21\" value=\"460718d9-82e4-40a7-bbe8-8824a4a05590\">Secondments with government</option>\\n<option data-topic-parent=\"d0f1e5a3-c8f4-4780-8678-994f19104b21\" value=\"24e91c04-21cb-479a-8f23-df0eaab31788\">Self-employment</option>\\n<option data-topic-parent=\"d0f1e5a3-c8f4-4780-8678-994f19104b21\" value=\"5f1f5537-e9e6-488d-85f6-bd91327987ec\">Trade unions</option>\\n<option data-topic-parent=\"d0f1e5a3-c8f4-4780-8678-994f19104b21\" value=\"5b9686c9-eaf8-48bd-9351-5fac0e721a02\">Work and disabled people</option>\\n<option data-topic-parent=\"d0f1e5a3-c8f4-4780-8678-994f19104b21\" value=\"092348a4-b896-4f8f-a0dc-e6d4605a4904\">Working, jobs and pensions</option></select>\\n</div>\\n      </div>\\n    </div>\\n\\n    </div>\\n</div>\\n              <input type=\"hidden\" name=\"topic\" id=\"topic\" autocomplete=\"off\">\\n\\n            <div id=\"organisations\">\\n\\n\\n    <input type=\"hidden\" name=\"organisations\" id=\"organisations_0\" autocomplete=\"off\">\\n</div>\\n\\n              \\n\\n\\n<div data-ga4-change-category=\"update-filter checkbox\" data-ga4-filter-parent=\"\" data-ga4-section=\"Person\" data-ga4-index=\\'{\"index_section\":2,\"index_section_count\":3}\\' data-module=\"option-select\" data-closed-on-load=\"true\" data-input-aria-controls=\"js-search-results-info\" data-filter-element=\"    &amp;lt;label for=&amp;quot;input-43519a4e&amp;quot; class=&amp;quot;govuk-label govuk-visually-hidden&amp;quot;&amp;gt;\\n      Filter Person\\n&amp;lt;/label&amp;gt;\\n    &amp;lt;input name=&amp;quot;option-select-filter&amp;quot; id=&amp;quot;input-43519a4e&amp;quot; class=&amp;quot;gem-c-option-select__filter-input govuk-input&amp;quot; type=&amp;quot;text&amp;quot; aria-describedby=&amp;quot;checkboxes-e16c431f-count&amp;quot; aria-controls=&amp;quot;checkboxes-e16c431f&amp;quot;&amp;gt;\\n\" data-button-data-attributes=\\'{\"ga4-expandable\":\"\",\"ga4-event\":{\"event_name\":\"select_content\",\"type\":\"finder\",\"section\":\"Person\",\"index_section\":2,\"index_section_count\":3}}\\' class=\"gem-c-option-select\">\\n  <h3 class=\"gem-c-option-select__heading js-container-heading\">\\n    <span class=\"gem-c-option-select__title js-container-button\" id=\"option-select-title-person\">Person</span>\\n    <svg version=\"1.1\" viewbox=\"0 0 1024 1024\" xmlns=\"http://www.w3.org/2000/svg\" width=\"0\" height=\"0\" class=\"gem-c-option-select__icon gem-c-option-select__icon--up\" aria-hidden=\"true\" focusable=\"false\"><path d=\"m798.16 609.84l-256-256c-16.683-16.683-43.691-16.683-60.331 0l-256 256c-16.683 16.683-16.683 43.691 0 60.331s43.691 16.683 60.331 0l225.84-225.84 225.84 225.84c16.683 16.683 43.691 16.683 60.331 0s16.683-43.691 0-60.331z\"></path></svg>\\n    <svg version=\"1.1\" viewbox=\"0 0 1024 1024\" xmlns=\"http://www.w3.org/2000/svg\" width=\"0\" height=\"0\" class=\"gem-c-option-select__icon gem-c-option-select__icon--down\" aria-hidden=\"true\" focusable=\"false\"><path d=\"m225.84 414.16l256 256c16.683 16.683 43.691 16.683 60.331 0l256-256c16.683-16.683 16.683-43.691 0-60.331s-43.691-16.683-60.331 0l-225.84 225.84-225.84-225.84c-16.683-16.683-43.691-16.683-60.331 0s-16.683 43.691 0 60.331z\"></path></svg>\\n  </h3>\\n\\n  <div class=\"gem-c-option-select__container js-options-container\" id=\"people\" tabindex=\"-1\">\\n    <div class=\"gem-c-option-select__container-inner js-auto-height-inner\">\\n        <span id=\"checkboxes-e16c431f-count\" class=\"gem-c-option-select__count govuk-visually-hidden\" aria-live=\"polite\" data-single=\"option found\" data-multiple=\"options found\" data-selected=\"selected\"></span>\\n      \\n<div id=\"checkboxes-e16c431f\" data-module=\"gem-checkboxes govuk-checkboxes\" class=\"gem-c-checkboxes govuk-form-group govuk-checkboxes--small\">\\n      <fieldset class=\"govuk-fieldset\">\\n        <legend class=\"govuk-fieldset__legend govuk-fieldset__legend--m gem-c-checkboxes__legend--hidden\">Person</legend>\\n\\n\\n\\n\\n        <div class=\"govuk-checkboxes\">\\n              <div class=\"govuk-checkboxes__item\">\\n                <input type=\"checkbox\" name=\"people[]\" id=\"people-ben-key\" value=\"ben-key\" class=\"govuk-checkboxes__input\" data-controls=\"js-search-results-info\"><label for=\"people-ben-key\" class=\"govuk-label govuk-checkboxes__label\">Admiral Sir Ben Key KCB CBE ADC</label>\\n\\n</div>\\n\\n              <div class=\"govuk-checkboxes__item\">\\n                <input type=\"checkbox\" name=\"people[]\" id=\"people-george-zambellas\" value=\"george-zambellas\" class=\"govuk-checkboxes__input\" data-controls=\"js-search-results-info\"><label for=\"people-george-zambellas\" class=\"govuk-label govuk-checkboxes__label\">Admiral Sir George Zambellas KCB DSC ADC</label>\\n\\n</div>\\n\\n              <div class=\"govuk-checkboxes__item\">\\n                <input type=\"checkbox\" name=\"people[]\" id=\"people-mark-stanhope\" value=\"mark-stanhope\" class=\"govuk-checkboxes__input\" data-controls=\"js-search-results-info\"><label for=\"people-mark-stanhope\" class=\"govuk-label govuk-checkboxes__label\">Admiral Sir Mark Stanhope GCB OBE ADC</label>\\n\\n</div>\\n\\n              <div class=\"govuk-checkboxes__item\">\\n                <input type=\"checkbox\" name=\"people[]\" id=\"people-sir-philip-jones\" value=\"sir-philip-jones\" class=\"govuk-checkboxes__input\" data-controls=\"js-search-results-info\"><label for=\"people-sir-philip-jones\" class=\"govuk-label govuk-checkboxes__label\">Admiral Sir Philip Jones KCB ADC</label>\\n\\n</div>\\n\\n              <div class=\"govuk-checkboxes__item\">\\n                <input type=\"checkbox\" name=\"people[]\" id=\"people-tony-radakin\" value=\"tony-radakin\" class=\"govuk-checkboxes__input\" data-controls=\"js-search-results-info\"><label for=\"people-tony-radakin\" class=\"govuk-label govuk-checkboxes__label\">Admiral Sir Tony Radakin KCB ADC</label>\\n\\n</div>\\n\\n              <div class=\"govuk-checkboxes__item\">\\n                <input type=\"checkbox\" name=\"people[]\" id=\"people-aidan-liddle\" value=\"aidan-liddle\" class=\"govuk-checkboxes__input\" data-controls=\"js-search-results-info\"><label for=\"people-aidan-liddle\" class=\"govuk-label govuk-checkboxes__label\">Aidan Liddle</label>\\n\\n</div>\\n\\n              <div class=\"govuk-checkboxes__item\">\\n                <input type=\"checkbox\" name=\"people[]\" id=\"people-ailsa-terry\" value=\"ailsa-terry\" class=\"govuk-checkboxes__input\" data-controls=\"js-search-results-info\"><label for=\"people-ailsa-terry\" class=\"govuk-label govuk-checkboxes__label\">Ailsa Terry CMG</label>\\n\\n</div>\\n\\n              <div class=\"govuk-checkboxes__item\">\\n                <input type=\"checkbox\" name=\"people[]\" id=\"people-andrew-pulford\" value=\"andrew-pulford\" class=\"govuk-checkboxes__input\" data-controls=\"js-search-results-info\"><label for=\"people-andrew-pulford\" class=\"govuk-label govuk-checkboxes__label\">Air Chief Marshal Sir Andrew Pulford KCB CBE ADC RAF</label>\\n\\n</div>\\n\\n              <div class=\"govuk-checkboxes__item\">\\n                <input type=\"checkbox\" name=\"people[]\" id=\"people-mike-wigston\" value=\"mike-wigston\" class=\"govuk-checkboxes__input\" data-controls=\"js-search-results-info\"><label for=\"people-mike-wigston\" class=\"govuk-label govuk-checkboxes__label\">Air Chief Marshal Sir Mike Wigston KCB CBE ADC</label>\\n\\n</div>\\n\\n              <div class=\"govuk-checkboxes__item\">\\n                <input type=\"checkbox\" name=\"people[]\" id=\"people-richard-knighton\" value=\"richard-knighton\" class=\"govuk-checkboxes__input\" data-controls=\"js-search-results-info\"><label for=\"people-richard-knighton\" class=\"govuk-label govuk-checkboxes__label\">Air Chief Marshal Sir Richard Knighton KCB ADC FREng</label>\\n\\n</div>\\n\\n              <div class=\"govuk-checkboxes__item\">\\n                <input type=\"checkbox\" name=\"people[]\" id=\"people-stuart-peach\" value=\"stuart-peach\" class=\"govuk-checkboxes__input\" data-controls=\"js-search-results-info\"><label for=\"people-stuart-peach\" class=\"govuk-label govuk-checkboxes__label\">Air Chief Marshal The Lord Peach KG GBE KCB DL</label>\\n\\n</div>\\n\\n              <div class=\"govuk-checkboxes__item\">\\n                <input type=\"checkbox\" name=\"people[]\" id=\"people-alan-charlton\" value=\"alan-charlton\" class=\"govuk-checkboxes__input\" data-controls=\"js-search-results-info\"><label for=\"people-alan-charlton\" class=\"govuk-label govuk-checkboxes__label\">Alan Charlton CMG CVO</label>\\n\\n</div>\\n\\n              <div class=\"govuk-checkboxes__item\">\\n                <input type=\"checkbox\" name=\"people[]\" id=\"people-alan-lovell\" value=\"alan-lovell\" class=\"govuk-checkboxes__input\" data-controls=\"js-search-results-info\"><label for=\"people-alan-lovell\" class=\"govuk-label govuk-checkboxes__label\">Alan Lovell</label>\\n\\n</div>\\n\\n              <div class=\"govuk-checkboxes__item\">\\n                <input type=\"checkbox\" name=\"people[]\" id=\"people-alan-mak\" value=\"alan-mak\" class=\"govuk-checkboxes__input\" data-controls=\"js-search-results-info\"><label for=\"people-alan-mak\" class=\"govuk-label govuk-checkboxes__label\">Alan Mak MP</label>\\n\\n</div>\\n\\n              <div class=\"govuk-checkboxes__item\">\\n                <input type=\"checkbox\" name=\"people[]\" id=\"people-alex-burghart\" value=\"alex-burghart\" class=\"govuk-checkboxes__input\" data-controls=\"js-search-results-info\"><label for=\"people-alex-burghart\" class=\"govuk-label govuk-checkboxes__label\">Alex Burghart MP</label>\\n\\n</div>\\n\\n              <div class=\"govuk-checkboxes__item\">\\n                <input type=\"checkbox\" name=\"people[]\" id=\"people-alex-ellis\" value=\"alex-ellis\" class=\"govuk-checkboxes__input\" data-controls=\"js-search-results-info\"><label for=\"people-alex-ellis\" class=\"govuk-label govuk-checkboxes__label\">Alex Ellis KCMG</label>\\n\\n</div>\\n\\n              <div class=\"govuk-checkboxes__item\">\\n                <input type=\"checkbox\" name=\"people[]\" id=\"people-alex-younger\" value=\"alex-younger\" class=\"govuk-checkboxes__input\" data-controls=\"js-search-results-info\"><label for=\"people-alex-younger\" class=\"govuk-label govuk-checkboxes__label\">Alex Younger</label>\\n\\n</div>\\n\\n              <div class=\"govuk-checkboxes__item\">\\n                <input type=\"checkbox\" name=\"people[]\" id=\"people-alexandra-hall-hall\" value=\"alexandra-hall-hall\" class=\"govuk-checkboxes__input\" data-controls=\"js-search-results-info\"><label for=\"people-alexandra-hall-hall\" class=\"govuk-label govuk-checkboxes__label\">Alexandra Hall Hall</label>\\n\\n</div>\\n\\n              <div class=\"govuk-checkboxes__item\">\\n                <input type=\"checkbox\" name=\"people[]\" id=\"people-alison-blackburne\" value=\"alison-blackburne\" class=\"govuk-checkboxes__input\" data-controls=\"js-search-results-info\"><label for=\"people-alison-blackburne\" class=\"govuk-label govuk-checkboxes__label\">Alison Blackburne</label>\\n\\n</div>\\n\\n              <div class=\"govuk-checkboxes__item\">\\n                <input type=\"checkbox\" name=\"people[]\" id=\"people-alison-blake\" value=\"alison-blake\" class=\"govuk-checkboxes__input\" data-controls=\"js-search-results-info\"><label for=\"people-alison-blake\" class=\"govuk-label govuk-checkboxes__label\">Alison Blake CMG</label>\\n\\n</div>\\n\\n              <div class=\"govuk-checkboxes__item\">\\n                <input type=\"checkbox\" name=\"people[]\" id=\"people-alison-kemp\" value=\"alison-kemp\" class=\"govuk-checkboxes__input\" data-controls=\"js-search-results-info\"><label for=\"people-alison-kemp\" class=\"govuk-label govuk-checkboxes__label\">Alison Kemp</label>\\n\\n</div>\\n\\n              <div class=\"govuk-checkboxes__item\">\\n                <input type=\"checkbox\" name=\"people[]\" id=\"people-alyson-king\" value=\"alyson-king\" class=\"govuk-checkboxes__input\" data-controls=\"js-search-results-info\"><label for=\"people-alyson-king\" class=\"govuk-label govuk-checkboxes__label\">Alyson King OBE</label>\\n\\n</div>\\n\\n              <div class=\"govuk-checkboxes__item\">\\n                <input type=\"checkbox\" name=\"people[]\" id=\"people-amal-clooney\" value=\"amal-clooney\" class=\"govuk-checkboxes__input\" data-controls=\"js-search-results-info\"><label for=\"people-amal-clooney\" class=\"govuk-label govuk-checkboxes__label\">Amal Clooney</label>\\n\\n</div>\\n\\n              <div class=\"govuk-checkboxes__item\">\\n                <input type=\"checkbox\" name=\"people[]\" id=\"people-amanda-solloway\" value=\"amanda-solloway\" class=\"govuk-checkboxes__input\" data-controls=\"js-search-results-info\"><label for=\"people-amanda-solloway\" class=\"govuk-label govuk-checkboxes__label\">Amanda Solloway</label>\\n\\n</div>\\n\\n              <div class=\"govuk-checkboxes__item\">\\n                <input type=\"checkbox\" name=\"people[]\" id=\"people-amanda-spiel-man\" value=\"amanda-spiel-man\" class=\"govuk-checkboxes__input\" data-controls=\"js-search-results-info\"><label for=\"people-amanda-spiel-man\" class=\"govuk-label govuk-checkboxes__label\">Amanda Spielman</label>\\n\\n</div>\\n\\n              <div class=\"govuk-checkboxes__item\">\\n                <input type=\"checkbox\" name=\"people[]\" id=\"people-andrea-jenkyns\" value=\"andrea-jenkyns\" class=\"govuk-checkboxes__input\" data-controls=\"js-search-results-info\"><label for=\"people-andrea-jenkyns\" class=\"govuk-label govuk-checkboxes__label\">Andrea Jenkyns</label>\\n\\n</div>\\n\\n              <div class=\"govuk-checkboxes__item\">\\n                <input type=\"checkbox\" name=\"people[]\" id=\"people-andrew-bowie\" value=\"andrew-bowie\" class=\"govuk-checkboxes__input\" data-controls=\"js-search-results-info\"><label for=\"people-andrew-bowie\" class=\"govuk-label govuk-checkboxes__label\">Andrew Bowie MP</label>\\n\\n</div>\\n\\n              <div class=\"govuk-checkboxes__item\">\\n                <input type=\"checkbox\" name=\"people[]\" id=\"people-andrew-griffith\" value=\"andrew-griffith\" class=\"govuk-checkboxes__input\" data-controls=\"js-search-results-info\"><label for=\"people-andrew-griffith\" class=\"govuk-label govuk-checkboxes__label\">Andrew Griffith MP</label>\\n\\n</div>\\n\\n              <div class=\"govuk-checkboxes__item\">\\n                <input type=\"checkbox\" name=\"people[]\" id=\"people-andrew-griffiths\" value=\"andrew-griffiths\" class=\"govuk-checkboxes__input\" data-controls=\"js-search-results-info\"><label for=\"people-andrew-griffiths\" class=\"govuk-label govuk-checkboxes__label\">Andrew Griffiths</label>\\n\\n</div>\\n\\n              <div class=\"govuk-checkboxes__item\">\\n                <input type=\"checkbox\" name=\"people[]\" id=\"people-andrew-gwynne\" value=\"andrew-gwynne\" class=\"govuk-checkboxes__input\" data-controls=\"js-search-results-info\"><label for=\"people-andrew-gwynne\" class=\"govuk-label govuk-checkboxes__label\">Andrew Gwynne MP</label>\\n\\n</div>\\n\\n              <div class=\"govuk-checkboxes__item\">\\n                <input type=\"checkbox\" name=\"people[]\" id=\"people-andrew-heyn\" value=\"andrew-heyn\" class=\"govuk-checkboxes__input\" data-controls=\"js-search-results-info\"><label for=\"people-andrew-heyn\" class=\"govuk-label govuk-checkboxes__label\">Andrew Heyn CMG OBE</label>\\n\\n</div>\\n\\n              <div class=\"govuk-checkboxes__item\">\\n                <input type=\"checkbox\" name=\"people[]\" id=\"people-andrew-james-sparkes-cmg\" value=\"andrew-james-sparkes-cmg\" class=\"govuk-checkboxes__input\" data-controls=\"js-search-results-info\"><label for=\"people-andrew-james-sparkes-cmg\" class=\"govuk-label govuk-checkboxes__label\">Andrew James Sparkes CMG</label>\\n\\n</div>\\n\\n              <div class=\"govuk-checkboxes__item\">\\n                <input type=\"checkbox\" name=\"people[]\" id=\"people-andrew-john-pearce\" value=\"andrew-john-pearce\" class=\"govuk-checkboxes__input\" data-controls=\"js-search-results-info\"><label for=\"people-andrew-john-pearce\" class=\"govuk-label govuk-checkboxes__label\">Andrew John Pearce OBE</label>\\n\\n</div>\\n\\n              <div class=\"govuk-checkboxes__item\">\\n                <input type=\"checkbox\" name=\"people[]\" id=\"people-andrew-jones\" value=\"andrew-jones\" class=\"govuk-checkboxes__input\" data-controls=\"js-search-results-info\"><label for=\"people-andrew-jones\" class=\"govuk-label govuk-checkboxes__label\">Andrew Jones</label>\\n\\n</div>\\n\\n              <div class=\"govuk-checkboxes__item\">\\n                <input type=\"checkbox\" name=\"people[]\" id=\"people-andrew-mcallister\" value=\"andrew-mcallister\" class=\"govuk-checkboxes__input\" data-controls=\"js-search-results-info\"><label for=\"people-andrew-mcallister\" class=\"govuk-label govuk-checkboxes__label\">Andrew McAllister</label>\\n\\n</div>\\n\\n              <div class=\"govuk-checkboxes__item\">\\n                <input type=\"checkbox\" name=\"people[]\" id=\"people-andrew-noble\" value=\"andrew-noble\" class=\"govuk-checkboxes__input\" data-controls=\"js-search-results-info\"><label for=\"people-andrew-noble\" class=\"govuk-label govuk-checkboxes__label\">Andrew Noble LVO</label>\\n\\n</div>\\n\\n              <div class=\"govuk-checkboxes__item\">\\n                <input type=\"checkbox\" name=\"people[]\" id=\"people-andrew-page\" value=\"andrew-page\" class=\"govuk-checkboxes__input\" data-controls=\"js-search-results-info\"><label for=\"people-andrew-page\" class=\"govuk-label govuk-checkboxes__label\">Andrew Page</label>\\n\\n</div>\\n\\n              <div class=\"govuk-checkboxes__item\">\\n                <input type=\"checkbox\" name=\"people[]\" id=\"people-andrew-percy\" value=\"andrew-percy\" class=\"govuk-checkboxes__input\" data-controls=\"js-search-results-info\"><label for=\"people-andrew-percy\" class=\"govuk-label govuk-checkboxes__label\">Andrew Percy</label>\\n\\n</div>\\n\\n              <div class=\"govuk-checkboxes__item\">\\n                <input type=\"checkbox\" name=\"people[]\" id=\"people-andrew-sells\" value=\"andrew-sells\" class=\"govuk-checkboxes__input\" data-controls=\"js-search-results-info\"><label for=\"people-andrew-sells\" class=\"govuk-label govuk-checkboxes__label\">Andrew Sells</label>\\n\\n</div>\\n\\n              <div class=\"govuk-checkboxes__item\">\\n                <input type=\"checkbox\" name=\"people[]\" id=\"people-andrew-selous\" value=\"andrew-selous\" class=\"govuk-checkboxes__input\" data-controls=\"js-search-results-info\"><label for=\"people-andrew-selous\" class=\"govuk-label govuk-checkboxes__label\">Andrew Selous</label>\\n\\n</div>\\n\\n              <div class=\"govuk-checkboxes__item\">\\n                <input type=\"checkbox\" name=\"people[]\" id=\"people-andrew-staines\" value=\"andrew-staines\" class=\"govuk-checkboxes__input\" data-controls=\"js-search-results-info\"><label for=\"people-andrew-staines\" class=\"govuk-label govuk-checkboxes__label\">Andrew Staines</label>\\n\\n</div>\\n\\n              <div class=\"govuk-checkboxes__item\">\\n                <input type=\"checkbox\" name=\"people[]\" id=\"people-andrew-stunell\" value=\"andrew-stunell\" class=\"govuk-checkboxes__input\" data-controls=\"js-search-results-info\"><label for=\"people-andrew-stunell\" class=\"govuk-label govuk-checkboxes__label\">Andrew Stunell OBE</label>\\n\\n</div>\\n\\n              <div class=\"govuk-checkboxes__item\">\\n                <input type=\"checkbox\" name=\"people[]\" id=\"people-andy-start\" value=\"andy-start\" class=\"govuk-checkboxes__input\" data-controls=\"js-search-results-info\"><label for=\"people-andy-start\" class=\"govuk-label govuk-checkboxes__label\">Andy Start</label>\\n\\n</div>\\n\\n              <div class=\"govuk-checkboxes__item\">\\n                <input type=\"checkbox\" name=\"people[]\" id=\"people-ann-pope\" value=\"ann-pope\" class=\"govuk-checkboxes__input\" data-controls=\"js-search-results-info\"><label for=\"people-ann-pope\" class=\"govuk-label govuk-checkboxes__label\">Ann Pope</label>\\n\\n</div>\\n\\n              <div class=\"govuk-checkboxes__item\">\\n                <input type=\"checkbox\" name=\"people[]\" id=\"people-anneliese-dodds\" value=\"anneliese-dodds\" class=\"govuk-checkboxes__input\" data-controls=\"js-search-results-info\"><label for=\"people-anneliese-dodds\" class=\"govuk-label govuk-checkboxes__label\">Anneliese Dodds MP</label>\\n\\n</div>\\n\\n              <div class=\"govuk-checkboxes__item\">\\n                <input type=\"checkbox\" name=\"people[]\" id=\"people-anthony-browne\" value=\"anthony-browne\" class=\"govuk-checkboxes__input\" data-controls=\"js-search-results-info\"><label for=\"people-anthony-browne\" class=\"govuk-label govuk-checkboxes__label\">Anthony Browne</label>\\n\\n</div>\\n\\n              <div class=\"govuk-checkboxes__item\">\\n                <input type=\"checkbox\" name=\"people[]\" id=\"people-antonia-romeo\" value=\"antonia-romeo\" class=\"govuk-checkboxes__input\" data-controls=\"js-search-results-info\"><label for=\"people-antonia-romeo\" class=\"govuk-label govuk-checkboxes__label\">Antonia Romeo</label>\\n\\n</div>\\n\\n              <div class=\"govuk-checkboxes__item\">\\n                <input type=\"checkbox\" name=\"people[]\" id=\"people-antony-phillipson\" value=\"antony-phillipson\" class=\"govuk-checkboxes__input\" data-controls=\"js-search-results-info\"><label for=\"people-antony-phillipson\" class=\"govuk-label govuk-checkboxes__label\">Antony Phillipson CMG</label>\\n\\n</div>\\n\\n              <div class=\"govuk-checkboxes__item\">\\n                <input type=\"checkbox\" name=\"people[]\" id=\"people-anwar-choudhury\" value=\"anwar-choudhury\" class=\"govuk-checkboxes__input\" data-controls=\"js-search-results-info\"><label for=\"people-anwar-choudhury\" class=\"govuk-label govuk-checkboxes__label\">Anwar Choudhury</label>\\n\\n</div>\\n\\n              <div class=\"govuk-checkboxes__item\">\\n                <input type=\"checkbox\" name=\"people[]\" id=\"people-asif-ahmad\" value=\"asif-ahmad\" class=\"govuk-checkboxes__input\" data-controls=\"js-search-results-info\"><label for=\"people-asif-ahmad\" class=\"govuk-label govuk-checkboxes__label\">Asif Ahmad CMG</label>\\n\\n</div>\\n\\n              <div class=\"govuk-checkboxes__item\">\\n                <input type=\"checkbox\" name=\"people[]\" id=\"people-ros-altmann\" value=\"ros-altmann\" class=\"govuk-checkboxes__input\" data-controls=\"js-search-results-info\"><label for=\"people-ros-altmann\" class=\"govuk-label govuk-checkboxes__label\">Baroness Altmann CBE</label>\\n\\n</div>\\n\\n              <div class=\"govuk-checkboxes__item\">\\n                <input type=\"checkbox\" name=\"people[]\" id=\"people-baroness-barran\" value=\"baroness-barran\" class=\"govuk-checkboxes__input\" data-controls=\"js-search-results-info\"><label for=\"people-baroness-barran\" class=\"govuk-label govuk-checkboxes__label\">Baroness Barran MBE</label>\\n\\n</div>\\n\\n              <div class=\"govuk-checkboxes__item\">\\n                <input type=\"checkbox\" name=\"people[]\" id=\"people-baroness-berridge-of-the-vale-of-catmose\" value=\"baroness-berridge-of-the-vale-of-catmose\" class=\"govuk-checkboxes__input\" data-controls=\"js-search-results-info\"><label for=\"people-baroness-berridge-of-the-vale-of-catmose\" class=\"govuk-label govuk-checkboxes__label\">Baroness Berridge of The Vale of Catmose</label>\\n\\n</div>\\n\\n              <div class=\"govuk-checkboxes__item\">\\n                <input type=\"checkbox\" name=\"people[]\" id=\"people-nicola-blackwood\" value=\"nicola-blackwood\" class=\"govuk-checkboxes__input\" data-controls=\"js-search-results-info\"><label for=\"people-nicola-blackwood\" class=\"govuk-label govuk-checkboxes__label\">Baroness Blackwood</label>\\n\\n</div>\\n\\n              <div class=\"govuk-checkboxes__item\">\\n                <input type=\"checkbox\" name=\"people[]\" id=\"people-baroness-buscombe\" value=\"baroness-buscombe\" class=\"govuk-checkboxes__input\" data-controls=\"js-search-results-info\"><label for=\"people-baroness-buscombe\" class=\"govuk-label govuk-checkboxes__label\">Baroness Buscombe</label>\\n\\n</div>\\n\\n              <div class=\"govuk-checkboxes__item\">\\n                <input type=\"checkbox\" name=\"people[]\" id=\"people-caroline-chisholm-of-owlpen\" value=\"caroline-chisholm-of-owlpen\" class=\"govuk-checkboxes__input\" data-controls=\"js-search-results-info\"><label for=\"people-caroline-chisholm-of-owlpen\" class=\"govuk-label govuk-checkboxes__label\">Baroness Chisholm of Owlpen</label>\\n\\n</div>\\n\\n              <div class=\"govuk-checkboxes__item\">\\n                <input type=\"checkbox\" name=\"people[]\" id=\"people-deborah-stedman-scott\" value=\"deborah-stedman-scott\" class=\"govuk-checkboxes__input\" data-controls=\"js-search-results-info\"><label for=\"people-deborah-stedman-scott\" class=\"govuk-label govuk-checkboxes__label\">Baroness Deborah Stedman-Scott OBE DL</label>\\n\\n</div>\\n\\n              <div class=\"govuk-checkboxes__item\">\\n                <input type=\"checkbox\" name=\"people[]\" id=\"people-rona-fairhead\" value=\"rona-fairhead\" class=\"govuk-checkboxes__input\" data-controls=\"js-search-results-info\"><label for=\"people-rona-fairhead\" class=\"govuk-label govuk-checkboxes__label\">Baroness Fairhead CBE</label>\\n\\n</div>\\n\\n              <div class=\"govuk-checkboxes__item\">\\n                <input type=\"checkbox\" name=\"people[]\" id=\"people-baroness-garden-of-frognal\" value=\"baroness-garden-of-frognal\" class=\"govuk-checkboxes__input\" data-controls=\"js-search-results-info\"><label for=\"people-baroness-garden-of-frognal\" class=\"govuk-label govuk-checkboxes__label\">Baroness Garden of Frognal</label>\\n\\n</div>\\n\\n              <div class=\"govuk-checkboxes__item\">\\n                <input type=\"checkbox\" name=\"people[]\" id=\"people-baroness-goldie\" value=\"baroness-goldie\" class=\"govuk-checkboxes__input\" data-controls=\"js-search-results-info\"><label for=\"people-baroness-goldie\" class=\"govuk-label govuk-checkboxes__label\">Baroness Goldie DL</label>\\n\\n</div>\\n\\n              <div class=\"govuk-checkboxes__item\">\\n                <input type=\"checkbox\" name=\"people[]\" id=\"people-baroness-hanham\" value=\"baroness-hanham\" class=\"govuk-checkboxes__input\" data-controls=\"js-search-results-info\"><label for=\"people-baroness-hanham\" class=\"govuk-label govuk-checkboxes__label\">Baroness Hanham CBE</label>\\n\\n</div>\\n\\n              <div class=\"govuk-checkboxes__item\">\\n                <input type=\"checkbox\" name=\"people[]\" id=\"people-baroness-kramer\" value=\"baroness-kramer\" class=\"govuk-checkboxes__input\" data-controls=\"js-search-results-info\"><label for=\"people-baroness-kramer\" class=\"govuk-label govuk-checkboxes__label\">Baroness Kramer</label>\\n\\n</div>\\n\\n              <div class=\"govuk-checkboxes__item\">\\n                <input type=\"checkbox\" name=\"people[]\" id=\"people-baroness-manzoor\" value=\"baroness-manzoor\" class=\"govuk-checkboxes__input\" data-controls=\"js-search-results-info\"><label for=\"people-baroness-manzoor\" class=\"govuk-label govuk-checkboxes__label\">Baroness Manzoor CBE</label>\\n\\n</div>\\n\\n              <div class=\"govuk-checkboxes__item\">\\n                <input type=\"checkbox\" name=\"people[]\" id=\"people-baroness-neville-jones\" value=\"baroness-neville-jones\" class=\"govuk-checkboxes__input\" data-controls=\"js-search-results-info\"><label for=\"people-baroness-neville-jones\" class=\"govuk-label govuk-checkboxes__label\">Baroness Neville-Jones</label>\\n\\n</div>\\n\\n              <div class=\"govuk-checkboxes__item\">\\n                <input type=\"checkbox\" name=\"people[]\" id=\"people-baroness-neville-rolfe-dbe\" value=\"baroness-neville-rolfe-dbe\" class=\"govuk-checkboxes__input\" data-controls=\"js-search-results-info\"><label for=\"people-baroness-neville-rolfe-dbe\" class=\"govuk-label govuk-checkboxes__label\">Baroness Neville-Rolfe DBE CMG</label>\\n\\n</div>\\n\\n              <div class=\"govuk-checkboxes__item\">\\n                <input type=\"checkbox\" name=\"people[]\" id=\"people-baroness-northover\" value=\"baroness-northover\" class=\"govuk-checkboxes__input\" data-controls=\"js-search-results-info\"><label for=\"people-baroness-northover\" class=\"govuk-label govuk-checkboxes__label\">Baroness Northover</label>\\n\\n</div>\\n\\n              <div class=\"govuk-checkboxes__item\">\\n                <input type=\"checkbox\" name=\"people[]\" id=\"people-baroness-penn\" value=\"baroness-penn\" class=\"govuk-checkboxes__input\" data-controls=\"js-search-results-info\"><label for=\"people-baroness-penn\" class=\"govuk-label govuk-checkboxes__label\">Baroness Penn</label>\\n\\n</div>\\n\\n              <div class=\"govuk-checkboxes__item\">\\n                <input type=\"checkbox\" name=\"people[]\" id=\"people-baroness-randerson\" value=\"baroness-randerson\" class=\"govuk-checkboxes__input\" data-controls=\"js-search-results-info\"><label for=\"people-baroness-randerson\" class=\"govuk-label govuk-checkboxes__label\">Baroness Randerson</label>\\n\\n</div>\\n\\n              <div class=\"govuk-checkboxes__item\">\\n                <input type=\"checkbox\" name=\"people[]\" id=\"people-baroness-scott-of-bybrook\" value=\"baroness-scott-of-bybrook\" class=\"govuk-checkboxes__input\" data-controls=\"js-search-results-info\"><label for=\"people-baroness-scott-of-bybrook\" class=\"govuk-label govuk-checkboxes__label\">Baroness Scott of Bybrook OBE</label>\\n\\n</div>\\n\\n              <div class=\"govuk-checkboxes__item\">\\n                <input type=\"checkbox\" name=\"people[]\" id=\"people-baroness-joanna-shields\" value=\"baroness-joanna-shields\" class=\"govuk-checkboxes__input\" data-controls=\"js-search-results-info\"><label for=\"people-baroness-joanna-shields\" class=\"govuk-label govuk-checkboxes__label\">Baroness Shields OBE</label>\\n\\n</div>\\n\\n              <div class=\"govuk-checkboxes__item\">\\n                <input type=\"checkbox\" name=\"people[]\" id=\"people-baroness-sugg\" value=\"baroness-sugg\" class=\"govuk-checkboxes__input\" data-controls=\"js-search-results-info\"><label for=\"people-baroness-sugg\" class=\"govuk-label govuk-checkboxes__label\">Baroness Sugg CBE</label>\\n\\n</div>\\n\\n              <div class=\"govuk-checkboxes__item\">\\n                <input type=\"checkbox\" name=\"people[]\" id=\"people-baroness-swinburne\" value=\"baroness-swinburne\" class=\"govuk-checkboxes__input\" data-controls=\"js-search-results-info\"><label for=\"people-baroness-swinburne\" class=\"govuk-label govuk-checkboxes__label\">Baroness Swinburne</label>\\n\\n</div>\\n\\n              <div class=\"govuk-checkboxes__item\">\\n                <input type=\"checkbox\" name=\"people[]\" id=\"people-baroness-vere-of-norbiton\" value=\"baroness-vere-of-norbiton\" class=\"govuk-checkboxes__input\" data-controls=\"js-search-results-info\"><label for=\"people-baroness-vere-of-norbiton\" class=\"govuk-label govuk-checkboxes__label\">Baroness Vere of Norbiton</label>\\n\\n</div>\\n\\n              <div class=\"govuk-checkboxes__item\">\\n                <input type=\"checkbox\" name=\"people[]\" id=\"people-baroness-verma\" value=\"baroness-verma\" class=\"govuk-checkboxes__input\" data-controls=\"js-search-results-info\"><label for=\"people-baroness-verma\" class=\"govuk-label govuk-checkboxes__label\">Baroness Verma</label>\\n\\n</div>\\n\\n              <div class=\"govuk-checkboxes__item\">\\n                <input type=\"checkbox\" name=\"people[]\" id=\"people-baroness-wilcox\" value=\"baroness-wilcox\" class=\"govuk-checkboxes__input\" data-controls=\"js-search-results-info\"><label for=\"people-baroness-wilcox\" class=\"govuk-label govuk-checkboxes__label\">Baroness Wilcox</label>\\n\\n</div>\\n\\n              <div class=\"govuk-checkboxes__item\">\\n                <input type=\"checkbox\" name=\"people[]\" id=\"people-bernadette-conroy\" value=\"bernadette-conroy\" class=\"govuk-checkboxes__input\" data-controls=\"js-search-results-info\"><label for=\"people-bernadette-conroy\" class=\"govuk-label govuk-checkboxes__label\">Bernadette Conroy</label>\\n\\n</div>\\n\\n              <div class=\"govuk-checkboxes__item\">\\n                <input type=\"checkbox\" name=\"people[]\" id=\"people-bernard-gray--2\" value=\"bernard-gray--2\" class=\"govuk-checkboxes__input\" data-controls=\"js-search-results-info\"><label for=\"people-bernard-gray--2\" class=\"govuk-label govuk-checkboxes__label\">Bernard Gray</label>\\n\\n</div>\\n\\n              <div class=\"govuk-checkboxes__item\">\\n                <input type=\"checkbox\" name=\"people[]\" id=\"people-bharat-joshi\" value=\"bharat-joshi\" class=\"govuk-checkboxes__input\" data-controls=\"js-search-results-info\"><label for=\"people-bharat-joshi\" class=\"govuk-label govuk-checkboxes__label\">Bharat Joshi</label>\\n\\n</div>\\n\\n              <div class=\"govuk-checkboxes__item\">\\n                <input type=\"checkbox\" name=\"people[]\" id=\"people-bim-afolami\" value=\"bim-afolami\" class=\"govuk-checkboxes__input\" data-controls=\"js-search-results-info\"><label for=\"people-bim-afolami\" class=\"govuk-label govuk-checkboxes__label\">Bim Afolami MP</label>\\n\\n</div>\\n\\n              <div class=\"govuk-checkboxes__item\">\\n                <input type=\"checkbox\" name=\"people[]\" id=\"people-bob-neill\" value=\"bob-neill\" class=\"govuk-checkboxes__input\" data-controls=\"js-search-results-info\"><label for=\"people-bob-neill\" class=\"govuk-label govuk-checkboxes__label\">Bob Neill</label>\\n\\n</div>\\n\\n              <div class=\"govuk-checkboxes__item\">\\n                <input type=\"checkbox\" name=\"people[]\" id=\"people-brian-davidson\" value=\"brian-davidson\" class=\"govuk-checkboxes__input\" data-controls=\"js-search-results-info\"><label for=\"people-brian-davidson\" class=\"govuk-label govuk-checkboxes__label\">Brian Davidson CMG</label>\\n\\n</div>\\n\\n              <div class=\"govuk-checkboxes__item\">\\n                <input type=\"checkbox\" name=\"people[]\" id=\"people-brian-olley\" value=\"brian-olley\" class=\"govuk-checkboxes__input\" data-controls=\"js-search-results-info\"><label for=\"people-brian-olley\" class=\"govuk-label govuk-checkboxes__label\">Brian Olley</label>\\n\\n</div>\\n\\n              <div class=\"govuk-checkboxes__item\">\\n                <input type=\"checkbox\" name=\"people[]\" id=\"people-bridget-brind\" value=\"bridget-brind\" class=\"govuk-checkboxes__input\" data-controls=\"js-search-results-info\"><label for=\"people-bridget-brind\" class=\"govuk-label govuk-checkboxes__label\">Bridget Brind OBE</label>\\n\\n</div>\\n\\n              <div class=\"govuk-checkboxes__item\">\\n                <input type=\"checkbox\" name=\"people[]\" id=\"people-brooks-newmark\" value=\"brooks-newmark\" class=\"govuk-checkboxes__input\" data-controls=\"js-search-results-info\"><label for=\"people-brooks-newmark\" class=\"govuk-label govuk-checkboxes__label\">Brooks Newmark</label>\\n\\n</div>\\n\\n              <div class=\"govuk-checkboxes__item\">\\n                <input type=\"checkbox\" name=\"people[]\" id=\"people-bruce-bucknell\" value=\"bruce-bucknell\" class=\"govuk-checkboxes__input\" data-controls=\"js-search-results-info\"><label for=\"people-bruce-bucknell\" class=\"govuk-label govuk-checkboxes__label\">Bruce Bucknell</label>\\n\\n</div>\\n\\n              <div class=\"govuk-checkboxes__item\">\\n                <input type=\"checkbox\" name=\"people[]\" id=\"people-caroline-dinenage\" value=\"caroline-dinenage\" class=\"govuk-checkboxes__input\" data-controls=\"js-search-results-info\"><label for=\"people-caroline-dinenage\" class=\"govuk-label govuk-checkboxes__label\">Caroline Dinenage MP</label>\\n\\n</div>\\n\\n              <div class=\"govuk-checkboxes__item\">\\n                <input type=\"checkbox\" name=\"people[]\" id=\"people-caroline-hurndall\" value=\"caroline-hurndall\" class=\"govuk-checkboxes__input\" data-controls=\"js-search-results-info\"><label for=\"people-caroline-hurndall\" class=\"govuk-label govuk-checkboxes__label\">Caroline Hurndall MBE</label>\\n\\n</div>\\n\\n              <div class=\"govuk-checkboxes__item\">\\n                <input type=\"checkbox\" name=\"people[]\" id=\"people-caroline-wilson\" value=\"caroline-wilson\" class=\"govuk-checkboxes__input\" data-controls=\"js-search-results-info\"><label for=\"people-caroline-wilson\" class=\"govuk-label govuk-checkboxes__label\">Caroline Wilson DCMG</label>\\n\\n</div>\\n\\n              <div class=\"govuk-checkboxes__item\">\\n                <input type=\"checkbox\" name=\"people[]\" id=\"people-carolyn-davidson\" value=\"carolyn-davidson\" class=\"govuk-checkboxes__input\" data-controls=\"js-search-results-info\"><label for=\"people-carolyn-davidson\" class=\"govuk-label govuk-checkboxes__label\">Carolyn Davidson</label>\\n\\n</div>\\n\\n              <div class=\"govuk-checkboxes__item\">\\n                <input type=\"checkbox\" name=\"people[]\" id=\"people-caron-rohsler\" value=\"caron-rohsler\" class=\"govuk-checkboxes__input\" data-controls=\"js-search-results-info\"><label for=\"people-caron-rohsler\" class=\"govuk-label govuk-checkboxes__label\">Caron R\\xc3\\xb6hsler</label>\\n\\n</div>\\n\\n              <div class=\"govuk-checkboxes__item\">\\n                <input type=\"checkbox\" name=\"people[]\" id=\"people-catherine-arnold\" value=\"catherine-arnold\" class=\"govuk-checkboxes__input\" data-controls=\"js-search-results-info\"><label for=\"people-catherine-arnold\" class=\"govuk-label govuk-checkboxes__label\">Catherine Arnold OBE</label>\\n\\n</div>\\n\\n              <div class=\"govuk-checkboxes__item\">\\n                <input type=\"checkbox\" name=\"people[]\" id=\"people-catherine-large\" value=\"catherine-large\" class=\"govuk-checkboxes__input\" data-controls=\"js-search-results-info\"><label for=\"people-catherine-large\" class=\"govuk-label govuk-checkboxes__label\">Catherine Large OBE</label>\\n\\n</div>\\n\\n              <div class=\"govuk-checkboxes__item\">\\n                <input type=\"checkbox\" name=\"people[]\" id=\"people-catherine-west\" value=\"catherine-west\" class=\"govuk-checkboxes__input\" data-controls=\"js-search-results-info\"><label for=\"people-catherine-west\" class=\"govuk-label govuk-checkboxes__label\">Catherine West MP</label>\\n\\n</div>\\n\\n              <div class=\"govuk-checkboxes__item\">\\n                <input type=\"checkbox\" name=\"people[]\" id=\"people-catriona-laing-cb\" value=\"catriona-laing-cb\" class=\"govuk-checkboxes__input\" data-controls=\"js-search-results-info\"><label for=\"people-catriona-laing-cb\" class=\"govuk-label govuk-checkboxes__label\">Catriona Laing CB</label>\\n\\n</div>\\n\\n              <div class=\"govuk-checkboxes__item\">\\n                <input type=\"checkbox\" name=\"people[]\" id=\"people-charles-hay\" value=\"charles-hay\" class=\"govuk-checkboxes__input\" data-controls=\"js-search-results-info\"><label for=\"people-charles-hay\" class=\"govuk-label govuk-checkboxes__label\">Charles Hay MVO</label>\\n\\n</div>\\n\\n              <div class=\"govuk-checkboxes__item\">\\n                <input type=\"checkbox\" name=\"people[]\" id=\"people-charles-hendry\" value=\"charles-hendry\" class=\"govuk-checkboxes__input\" data-controls=\"js-search-results-info\"><label for=\"people-charles-hendry\" class=\"govuk-label govuk-checkboxes__label\">Charles Hendry</label>\\n\\n</div>\\n\\n              <div class=\"govuk-checkboxes__item\">\\n                <input type=\"checkbox\" name=\"people[]\" id=\"people-charlie-taylor\" value=\"charlie-taylor\" class=\"govuk-checkboxes__input\" data-controls=\"js-search-results-info\"><label for=\"people-charlie-taylor\" class=\"govuk-label govuk-checkboxes__label\">Charlie Taylor</label>\\n\\n</div>\\n\\n              <div class=\"govuk-checkboxes__item\">\\n                <input type=\"checkbox\" name=\"people[]\" id=\"people-chloe-smith\" value=\"chloe-smith\" class=\"govuk-checkboxes__input\" data-controls=\"js-search-results-info\"><label for=\"people-chloe-smith\" class=\"govuk-label govuk-checkboxes__label\">Chloe Smith</label>\\n\\n</div>\\n\\n              <div class=\"govuk-checkboxes__item\">\\n                <input type=\"checkbox\" name=\"people[]\" id=\"people-chris\" value=\"chris\" class=\"govuk-checkboxes__input\" data-controls=\"js-search-results-info\"><label for=\"people-chris\" class=\"govuk-label govuk-checkboxes__label\">Chris Brown</label>\\n\\n</div>\\n\\n              <div class=\"govuk-checkboxes__item\">\\n                <input type=\"checkbox\" name=\"people[]\" id=\"people-chris-jones--2\" value=\"chris-jones--2\" class=\"govuk-checkboxes__input\" data-controls=\"js-search-results-info\"><label for=\"people-chris-jones--2\" class=\"govuk-label govuk-checkboxes__label\">Chris Jones</label>\\n\\n</div>\\n\\n              <div class=\"govuk-checkboxes__item\">\\n                <input type=\"checkbox\" name=\"people[]\" id=\"people-clare-lombardelli\" value=\"clare-lombardelli\" class=\"govuk-checkboxes__input\" data-controls=\"js-search-results-info\"><label for=\"people-clare-lombardelli\" class=\"govuk-label govuk-checkboxes__label\">Clare Lombardelli</label>\\n\\n</div>\\n\\n              <div class=\"govuk-checkboxes__item\">\\n                <input type=\"checkbox\" name=\"people[]\" id=\"people-claudia-sturt\" value=\"claudia-sturt\" class=\"govuk-checkboxes__input\" data-controls=\"js-search-results-info\"><label for=\"people-claudia-sturt\" class=\"govuk-label govuk-checkboxes__label\">Claudia Sturt</label>\\n\\n</div>\\n\\n              <div class=\"govuk-checkboxes__item\">\\n                <input type=\"checkbox\" name=\"people[]\" id=\"people-clive-tucker\" value=\"clive-tucker\" class=\"govuk-checkboxes__input\" data-controls=\"js-search-results-info\"><label for=\"people-clive-tucker\" class=\"govuk-label govuk-checkboxes__label\">Clive Tucker</label>\\n\\n</div>\\n\\n              <div class=\"govuk-checkboxes__item\">\\n                <input type=\"checkbox\" name=\"people[]\" id=\"people-colin-clark\" value=\"colin-clark\" class=\"govuk-checkboxes__input\" data-controls=\"js-search-results-info\"><label for=\"people-colin-clark\" class=\"govuk-label govuk-checkboxes__label\">Colin Clark</label>\\n\\n</div>\\n\\n              <div class=\"govuk-checkboxes__item\">\\n                <input type=\"checkbox\" name=\"people[]\" id=\"people-colin-roberts\" value=\"colin-roberts\" class=\"govuk-checkboxes__input\" data-controls=\"js-search-results-info\"><label for=\"people-colin-roberts\" class=\"govuk-label govuk-checkboxes__label\">Colin Roberts</label>\\n\\n</div>\\n\\n              <div class=\"govuk-checkboxes__item\">\\n                <input type=\"checkbox\" name=\"people[]\" id=\"people-corinne-kitsell\" value=\"corinne-kitsell\" class=\"govuk-checkboxes__input\" data-controls=\"js-search-results-info\"><label for=\"people-corinne-kitsell\" class=\"govuk-label govuk-checkboxes__label\">Corinne Kitsell OBE</label>\\n\\n</div>\\n\\n              <div class=\"govuk-checkboxes__item\">\\n                <input type=\"checkbox\" name=\"people[]\" id=\"people-crispin-blunt\" value=\"crispin-blunt\" class=\"govuk-checkboxes__input\" data-controls=\"js-search-results-info\"><label for=\"people-crispin-blunt\" class=\"govuk-label govuk-checkboxes__label\">Crispin Blunt</label>\\n\\n</div>\\n\\n              <div class=\"govuk-checkboxes__item\">\\n                <input type=\"checkbox\" name=\"people[]\" id=\"people-barbara-woodward\" value=\"barbara-woodward\" class=\"govuk-checkboxes__input\" data-controls=\"js-search-results-info\"><label for=\"people-barbara-woodward\" class=\"govuk-label govuk-checkboxes__label\">Dame Barbara Woodward DCMG OBE</label>\\n\\n</div>\\n\\n              <div class=\"govuk-checkboxes__item\">\\n                <input type=\"checkbox\" name=\"people[]\" id=\"people-bernadette-kelly\" value=\"bernadette-kelly\" class=\"govuk-checkboxes__input\" data-controls=\"js-search-results-info\"><label for=\"people-bernadette-kelly\" class=\"govuk-label govuk-checkboxes__label\">Dame Bernadette Kelly DCB</label>\\n\\n</div>\\n\\n              <div class=\"govuk-checkboxes__item\">\\n                <input type=\"checkbox\" name=\"people[]\" id=\"people-caroline-spelman\" value=\"caroline-spelman\" class=\"govuk-checkboxes__input\" data-controls=\"js-search-results-info\"><label for=\"people-caroline-spelman\" class=\"govuk-label govuk-checkboxes__label\">Dame Caroline Spelman</label>\\n\\n</div>\\n\\n              <div class=\"govuk-checkboxes__item\">\\n                <input type=\"checkbox\" name=\"people[]\" id=\"people-fiona-caldicott\" value=\"fiona-caldicott\" class=\"govuk-checkboxes__input\" data-controls=\"js-search-results-info\"><label for=\"people-fiona-caldicott\" class=\"govuk-label govuk-checkboxes__label\">Dame Fiona Caldicott</label>\\n\\n</div>\\n\\n              <div class=\"govuk-checkboxes__item\">\\n                <input type=\"checkbox\" name=\"people[]\" id=\"people-glenys-stacey\" value=\"glenys-stacey\" class=\"govuk-checkboxes__input\" data-controls=\"js-search-results-info\"><label for=\"people-glenys-stacey\" class=\"govuk-label govuk-checkboxes__label\">Dame Glenys Stacey</label>\\n\\n</div>\\n\\n              <div class=\"govuk-checkboxes__item\">\\n                <input type=\"checkbox\" name=\"people[]\" id=\"people-helen-stephenson\" value=\"helen-stephenson\" class=\"govuk-checkboxes__input\" data-controls=\"js-search-results-info\"><label for=\"people-helen-stephenson\" class=\"govuk-label govuk-checkboxes__label\">Dame Helen Stephenson</label>\\n\\n</div>\\n\\n              <div class=\"govuk-checkboxes__item\">\\n                <input type=\"checkbox\" name=\"people[]\" id=\"people-judith-macgregor\" value=\"judith-macgregor\" class=\"govuk-checkboxes__input\" data-controls=\"js-search-results-info\"><label for=\"people-judith-macgregor\" class=\"govuk-label govuk-checkboxes__label\">Dame Judith Macgregor DCMG, LVO</label>\\n\\n</div>\\n\\n              <div class=\"govuk-checkboxes__item\">\\n                <input type=\"checkbox\" name=\"people[]\" id=\"people-louise-casey\" value=\"louise-casey\" class=\"govuk-checkboxes__input\" data-controls=\"js-search-results-info\"><label for=\"people-louise-casey\" class=\"govuk-label govuk-checkboxes__label\">Dame Louise Casey CB</label>\\n\\n</div>\\n\\n              <div class=\"govuk-checkboxes__item\">\\n                <input type=\"checkbox\" name=\"people[]\" id=\"people-menna-rawlings\" value=\"menna-rawlings\" class=\"govuk-checkboxes__input\" data-controls=\"js-search-results-info\"><label for=\"people-menna-rawlings\" class=\"govuk-label govuk-checkboxes__label\">Dame Menna Rawlings DCMG CVO</label>\\n\\n</div>\\n\\n              <div class=\"govuk-checkboxes__item\">\\n                <input type=\"checkbox\" name=\"people[]\" id=\"people-dame-nicola-brewer\" value=\"dame-nicola-brewer\" class=\"govuk-checkboxes__input\" data-controls=\"js-search-results-info\"><label for=\"people-dame-nicola-brewer\" class=\"govuk-label govuk-checkboxes__label\">Dame Nicola Brewer</label>\\n\\n</div>\\n\\n              <div class=\"govuk-checkboxes__item\">\\n                <input type=\"checkbox\" name=\"people[]\" id=\"people-una-o-brien\" value=\"una-o-brien\" class=\"govuk-checkboxes__input\" data-controls=\"js-search-results-info\"><label for=\"people-una-o-brien\" class=\"govuk-label govuk-checkboxes__label\">Dame Una O\\'Brien DCB</label>\\n\\n</div>\\n\\n              <div class=\"govuk-checkboxes__item\">\\n                <input type=\"checkbox\" name=\"people[]\" id=\"people-damian-collins\" value=\"damian-collins\" class=\"govuk-checkboxes__input\" data-controls=\"js-search-results-info\"><label for=\"people-damian-collins\" class=\"govuk-label govuk-checkboxes__label\">Damian Collins</label>\\n\\n</div>\\n\\n              <div class=\"govuk-checkboxes__item\">\\n                <input type=\"checkbox\" name=\"people[]\" id=\"people-dan-rogerson\" value=\"dan-rogerson\" class=\"govuk-checkboxes__input\" data-controls=\"js-search-results-info\"><label for=\"people-dan-rogerson\" class=\"govuk-label govuk-checkboxes__label\">Dan Rogerson</label>\\n\\n</div>\\n\\n              <div class=\"govuk-checkboxes__item\">\\n                <input type=\"checkbox\" name=\"people[]\" id=\"people-martin-fidler\" value=\"martin-fidler\" class=\"govuk-checkboxes__input\" data-controls=\"js-search-results-info\"><label for=\"people-martin-fidler\" class=\"govuk-label govuk-checkboxes__label\">Dan Salter</label>\\n\\n</div>\\n\\n              <div class=\"govuk-checkboxes__item\">\\n                <input type=\"checkbox\" name=\"people[]\" id=\"people-daniel-pruce--2\" value=\"daniel-pruce--2\" class=\"govuk-checkboxes__input\" data-controls=\"js-search-results-info\"><label for=\"people-daniel-pruce--2\" class=\"govuk-label govuk-checkboxes__label\">Daniel Pruce</label>\\n\\n</div>\\n\\n              <div class=\"govuk-checkboxes__item\">\\n                <input type=\"checkbox\" name=\"people[]\" id=\"people-daniel-zeichner\" value=\"daniel-zeichner\" class=\"govuk-checkboxes__input\" data-controls=\"js-search-results-info\"><label for=\"people-daniel-zeichner\" class=\"govuk-label govuk-checkboxes__label\">Daniel Zeichner MP</label>\\n\\n</div>\\n\\n              <div class=\"govuk-checkboxes__item\">\\n                <input type=\"checkbox\" name=\"people[]\" id=\"people-david-belgrove-obe\" value=\"david-belgrove-obe\" class=\"govuk-checkboxes__input\" data-controls=\"js-search-results-info\"><label for=\"people-david-belgrove-obe\" class=\"govuk-label govuk-checkboxes__label\">David Belgrove OBE</label>\\n\\n</div>\\n\\n              <div class=\"govuk-checkboxes__item\">\\n                <input type=\"checkbox\" name=\"people[]\" id=\"people-david-campbell\" value=\"david-campbell\" class=\"govuk-checkboxes__input\" data-controls=\"js-search-results-info\"><label for=\"people-david-campbell\" class=\"govuk-label govuk-checkboxes__label\">David Campbell</label>\\n\\n</div>\\n\\n              <div class=\"govuk-checkboxes__item\">\\n                <input type=\"checkbox\" name=\"people[]\" id=\"people-david-concar\" value=\"david-concar\" class=\"govuk-checkboxes__input\" data-controls=\"js-search-results-info\"><label for=\"people-david-concar\" class=\"govuk-label govuk-checkboxes__label\">David Concar</label>\\n\\n</div>\\n\\n              <div class=\"govuk-checkboxes__item\">\\n                <input type=\"checkbox\" name=\"people[]\" id=\"people-david-currie\" value=\"david-currie\" class=\"govuk-checkboxes__input\" data-controls=\"js-search-results-info\"><label for=\"people-david-currie\" class=\"govuk-label govuk-checkboxes__label\">David Currie</label>\\n\\n</div>\\n\\n              <div class=\"govuk-checkboxes__item\">\\n                <input type=\"checkbox\" name=\"people[]\" id=\"people-david-duguid\" value=\"david-duguid\" class=\"govuk-checkboxes__input\" data-controls=\"js-search-results-info\"><label for=\"people-david-duguid\" class=\"govuk-label govuk-checkboxes__label\">David Duguid</label>\\n\\n</div>\\n\\n              <div class=\"govuk-checkboxes__item\">\\n                <input type=\"checkbox\" name=\"people[]\" id=\"people-david-heath\" value=\"david-heath\" class=\"govuk-checkboxes__input\" data-controls=\"js-search-results-info\"><label for=\"people-david-heath\" class=\"govuk-label govuk-checkboxes__label\">David Heath CBE</label>\\n\\n</div>\\n\\n              <div class=\"govuk-checkboxes__item\">\\n                <input type=\"checkbox\" name=\"people[]\" id=\"people-david-johnston\" value=\"david-johnston\" class=\"govuk-checkboxes__input\" data-controls=\"js-search-results-info\"><label for=\"people-david-johnston\" class=\"govuk-label govuk-checkboxes__label\">David Johnston OBE</label>\\n\\n</div>\\n\\n              <div class=\"govuk-checkboxes__item\">\\n                <input type=\"checkbox\" name=\"people[]\" id=\"people-david-moran\" value=\"david-moran\" class=\"govuk-checkboxes__input\" data-controls=\"js-search-results-info\"><label for=\"people-david-moran\" class=\"govuk-label govuk-checkboxes__label\">David Moran</label>\\n\\n</div>\\n\\n              <div class=\"govuk-checkboxes__item\">\\n                <input type=\"checkbox\" name=\"people[]\" id=\"people-david-mowat\" value=\"david-mowat\" class=\"govuk-checkboxes__input\" data-controls=\"js-search-results-info\"><label for=\"people-david-mowat\" class=\"govuk-label govuk-checkboxes__label\">David Mowat</label>\\n\\n</div>\\n\\n              <div class=\"govuk-checkboxes__item\">\\n                <input type=\"checkbox\" name=\"people[]\" id=\"people-david-quarrey\" value=\"david-quarrey\" class=\"govuk-checkboxes__input\" data-controls=\"js-search-results-info\"><label for=\"people-david-quarrey\" class=\"govuk-label govuk-checkboxes__label\">David Quarrey CMG</label>\\n\\n</div>\\n\\n              <div class=\"govuk-checkboxes__item\">\\n                <input type=\"checkbox\" name=\"people[]\" id=\"people-david-rutley\" value=\"david-rutley\" class=\"govuk-checkboxes__input\" data-controls=\"js-search-results-info\"><label for=\"people-david-rutley\" class=\"govuk-label govuk-checkboxes__label\">David Rutley</label>\\n\\n</div>\\n\\n              <div class=\"govuk-checkboxes__item\">\\n                <input type=\"checkbox\" name=\"people[]\" id=\"people-david-stewart\" value=\"david-stewart\" class=\"govuk-checkboxes__input\" data-controls=\"js-search-results-info\"><label for=\"people-david-stewart\" class=\"govuk-label govuk-checkboxes__label\">David Stewart</label>\\n\\n</div>\\n\\n              <div class=\"govuk-checkboxes__item\">\\n                <input type=\"checkbox\" name=\"people[]\" id=\"people-dean-russell\" value=\"dean-russell\" class=\"govuk-checkboxes__input\" data-controls=\"js-search-results-info\"><label for=\"people-dean-russell\" class=\"govuk-label govuk-checkboxes__label\">Dean Russell</label>\\n\\n</div>\\n\\n              <div class=\"govuk-checkboxes__item\">\\n                <input type=\"checkbox\" name=\"people[]\" id=\"people-dehenna-davison\" value=\"dehenna-davison\" class=\"govuk-checkboxes__input\" data-controls=\"js-search-results-info\"><label for=\"people-dehenna-davison\" class=\"govuk-label govuk-checkboxes__label\">Dehenna Davison</label>\\n\\n</div>\\n\\n              <div class=\"govuk-checkboxes__item\">\\n                <input type=\"checkbox\" name=\"people[]\" id=\"people-deirdre-brown\" value=\"deirdre-brown\" class=\"govuk-checkboxes__input\" data-controls=\"js-search-results-info\"><label for=\"people-deirdre-brown\" class=\"govuk-label govuk-checkboxes__label\">Deirdre Brown MBE</label>\\n\\n</div>\\n\\n              <div class=\"govuk-checkboxes__item\">\\n                <input type=\"checkbox\" name=\"people[]\" id=\"people-dianna-patricia-melrose\" value=\"dianna-patricia-melrose\" class=\"govuk-checkboxes__input\" data-controls=\"js-search-results-info\"><label for=\"people-dianna-patricia-melrose\" class=\"govuk-label govuk-checkboxes__label\">Dianna Patricia Melrose</label>\\n\\n</div>\\n\\n              <div class=\"govuk-checkboxes__item\">\\n                <input type=\"checkbox\" name=\"people[]\" id=\"people-dominic-mcallister\" value=\"dominic-mcallister\" class=\"govuk-checkboxes__input\" data-controls=\"js-search-results-info\"><label for=\"people-dominic-mcallister\" class=\"govuk-label govuk-checkboxes__label\">Dominic McAllister</label>\\n\\n</div>\\n\\n              <div class=\"govuk-checkboxes__item\">\\n                <input type=\"checkbox\" name=\"people[]\" id=\"people-douglas-ross\" value=\"douglas-ross\" class=\"govuk-checkboxes__input\" data-controls=\"js-search-results-info\"><label for=\"people-douglas-ross\" class=\"govuk-label govuk-checkboxes__label\">Douglas Ross</label>\\n\\n</div>\\n\\n              <div class=\"govuk-checkboxes__item\">\\n                <input type=\"checkbox\" name=\"people[]\" id=\"people-alexander-evans\" value=\"alexander-evans\" class=\"govuk-checkboxes__input\" data-controls=\"js-search-results-info\"><label for=\"people-alexander-evans\" class=\"govuk-label govuk-checkboxes__label\">Dr Alexander Evans OBE</label>\\n\\n</div>\\n\\n              <div class=\"govuk-checkboxes__item\">\\n                <input type=\"checkbox\" name=\"people[]\" id=\"people-andrea-coscelli\" value=\"andrea-coscelli\" class=\"govuk-checkboxes__input\" data-controls=\"js-search-results-info\"><label for=\"people-andrea-coscelli\" class=\"govuk-label govuk-checkboxes__label\">Dr Andrea Coscelli CBE</label>\\n\\n</div>\\n\\n              <div class=\"govuk-checkboxes__item\">\\n                <input type=\"checkbox\" name=\"people[]\" id=\"people-caroline-johnson\" value=\"caroline-johnson\" class=\"govuk-checkboxes__input\" data-controls=\"js-search-results-info\"><label for=\"people-caroline-johnson\" class=\"govuk-label govuk-checkboxes__label\">Dr Caroline Johnson MP</label>\\n\\n</div>\\n\\n              <div class=\"govuk-checkboxes__item\">\\n                <input type=\"checkbox\" name=\"people[]\" id=\"people-carolyn-browne\" value=\"carolyn-browne\" class=\"govuk-checkboxes__input\" data-controls=\"js-search-results-info\"><label for=\"people-carolyn-browne\" class=\"govuk-label govuk-checkboxes__label\">Dr Carolyn Browne</label>\\n\\n</div>\\n\\n              <div class=\"govuk-checkboxes__item\">\\n                <input type=\"checkbox\" name=\"people[]\" id=\"people-christian-turner\" value=\"christian-turner\" class=\"govuk-checkboxes__input\" data-controls=\"js-search-results-info\"><label for=\"people-christian-turner\" class=\"govuk-label govuk-checkboxes__label\">Dr Christian Turner CMG</label>\\n\\n</div>\\n\\n              <div class=\"govuk-checkboxes__item\">\\n                <input type=\"checkbox\" name=\"people[]\" id=\"people-daniel-poulter\" value=\"daniel-poulter\" class=\"govuk-checkboxes__input\" data-controls=\"js-search-results-info\"><label for=\"people-daniel-poulter\" class=\"govuk-label govuk-checkboxes__label\">Dr Daniel Poulter</label>\\n\\n</div>\\n\\n              <div class=\"govuk-checkboxes__item\">\\n                <input type=\"checkbox\" name=\"people[]\" id=\"people-felicity-harvey\" value=\"felicity-harvey\" class=\"govuk-checkboxes__input\" data-controls=\"js-search-results-info\"><label for=\"people-felicity-harvey\" class=\"govuk-label govuk-checkboxes__label\">Dr Felicity Harvey CBE</label>\\n\\n</div>\\n\\n              <div class=\"govuk-checkboxes__item\">\\n                <input type=\"checkbox\" name=\"people[]\" id=\"people-ian-stockford\" value=\"ian-stockford\" class=\"govuk-checkboxes__input\" data-controls=\"js-search-results-info\"><label for=\"people-ian-stockford\" class=\"govuk-label govuk-checkboxes__label\">Dr Ian Stockford</label>\\n\\n</div>\\n\\n              <div class=\"govuk-checkboxes__item\">\\n                <input type=\"checkbox\" name=\"people[]\" id=\"people-james-davies\" value=\"james-davies\" class=\"govuk-checkboxes__input\" data-controls=\"js-search-results-info\"><label for=\"people-james-davies\" class=\"govuk-label govuk-checkboxes__label\">Dr James Davies</label>\\n\\n</div>\\n\\n              <div class=\"govuk-checkboxes__item\">\\n                <input type=\"checkbox\" name=\"people[]\" id=\"people-jane-martin\" value=\"jane-martin\" class=\"govuk-checkboxes__input\" data-controls=\"js-search-results-info\"><label for=\"people-jane-martin\" class=\"govuk-label govuk-checkboxes__label\">Dr Jane Martin CBE</label>\\n\\n</div>\\n\\n              <div class=\"govuk-checkboxes__item\">\\n                <input type=\"checkbox\" name=\"people[]\" id=\"people-jo-saxton\" value=\"jo-saxton\" class=\"govuk-checkboxes__input\" data-controls=\"js-search-results-info\"><label for=\"people-jo-saxton\" class=\"govuk-label govuk-checkboxes__label\">Dr Jo Saxton</label>\\n\\n</div>\\n\\n              <div class=\"govuk-checkboxes__item\">\\n                <input type=\"checkbox\" name=\"people[]\" id=\"people-john-murton\" value=\"john-murton\" class=\"govuk-checkboxes__input\" data-controls=\"js-search-results-info\"><label for=\"people-john-murton\" class=\"govuk-label govuk-checkboxes__label\">Dr John Murton CMG</label>\\n\\n</div>\\n\\n              <div class=\"govuk-checkboxes__item\">\\n                <input type=\"checkbox\" name=\"people[]\" id=\"people-michael-grenfell\" value=\"michael-grenfell\" class=\"govuk-checkboxes__input\" data-controls=\"js-search-results-info\"><label for=\"people-michael-grenfell\" class=\"govuk-label govuk-checkboxes__label\">Dr Michael Grenfell</label>\\n\\n</div>\\n\\n              <div class=\"govuk-checkboxes__item\">\\n                <input type=\"checkbox\" name=\"people[]\" id=\"people-michelle-meadows\" value=\"michelle-meadows\" class=\"govuk-checkboxes__input\" data-controls=\"js-search-results-info\"><label for=\"people-michelle-meadows\" class=\"govuk-label govuk-checkboxes__label\">Dr Michelle Meadows</label>\\n\\n</div>\\n\\n              <div class=\"govuk-checkboxes__item\">\\n                <input type=\"checkbox\" name=\"people[]\" id=\"people-phil-evans\" value=\"phil-evans\" class=\"govuk-checkboxes__input\" data-controls=\"js-search-results-info\"><label for=\"people-phil-evans\" class=\"govuk-label govuk-checkboxes__label\">Dr Phil Evans CBE</label>\\n\\n</div>\\n\\n              <div class=\"govuk-checkboxes__item\">\\n                <input type=\"checkbox\" name=\"people[]\" id=\"people-phillip-lee\" value=\"phillip-lee\" class=\"govuk-checkboxes__input\" data-controls=\"js-search-results-info\"><label for=\"people-phillip-lee\" class=\"govuk-label govuk-checkboxes__label\">Dr Phillip Lee</label>\\n\\n</div>\\n\\n              <div class=\"govuk-checkboxes__item\">\\n                <input type=\"checkbox\" name=\"people[]\" id=\"people-tony-juniper\" value=\"tony-juniper\" class=\"govuk-checkboxes__input\" data-controls=\"js-search-results-info\"><label for=\"people-tony-juniper\" class=\"govuk-label govuk-checkboxes__label\">Dr Tony Juniper CBE</label>\\n\\n</div>\\n\\n              <div class=\"govuk-checkboxes__item\">\\n                <input type=\"checkbox\" name=\"people[]\" id=\"people-tony-sewell\" value=\"tony-sewell\" class=\"govuk-checkboxes__input\" data-controls=\"js-search-results-info\"><label for=\"people-tony-sewell\" class=\"govuk-label govuk-checkboxes__label\">Dr Tony Sewell CBE</label>\\n\\n</div>\\n\\n              <div class=\"govuk-checkboxes__item\">\\n                <input type=\"checkbox\" name=\"people[]\" id=\"people-duncan-norman\" value=\"duncan-norman\" class=\"govuk-checkboxes__input\" data-controls=\"js-search-results-info\"><label for=\"people-duncan-norman\" class=\"govuk-label govuk-checkboxes__label\">Duncan Norman MBE</label>\\n\\n</div>\\n\\n              <div class=\"govuk-checkboxes__item\">\\n                <input type=\"checkbox\" name=\"people[]\" id=\"people-lord-attlee\" value=\"lord-attlee\" class=\"govuk-checkboxes__input\" data-controls=\"js-search-results-info\"><label for=\"people-lord-attlee\" class=\"govuk-label govuk-checkboxes__label\">Earl Attlee</label>\\n\\n</div>\\n\\n              <div class=\"govuk-checkboxes__item\">\\n                <input type=\"checkbox\" name=\"people[]\" id=\"people-ed-vaizey\" value=\"ed-vaizey\" class=\"govuk-checkboxes__input\" data-controls=\"js-search-results-info\"><label for=\"people-ed-vaizey\" class=\"govuk-label govuk-checkboxes__label\">Ed Vaizey</label>\\n\\n</div>\\n\\n              <div class=\"govuk-checkboxes__item\">\\n                <input type=\"checkbox\" name=\"people[]\" id=\"people-eddie-hughes\" value=\"eddie-hughes\" class=\"govuk-checkboxes__input\" data-controls=\"js-search-results-info\"><label for=\"people-eddie-hughes\" class=\"govuk-label govuk-checkboxes__label\">Eddie Hughes</label>\\n\\n</div>\\n\\n              <div class=\"govuk-checkboxes__item\">\\n                <input type=\"checkbox\" name=\"people[]\" id=\"people-edward-wood\" value=\"edward-wood\" class=\"govuk-checkboxes__input\" data-controls=\"js-search-results-info\"><label for=\"people-edward-wood\" class=\"govuk-label govuk-checkboxes__label\">Edward Frederick Lindley Wood, Viscount Halifax</label>\\n\\n</div>\\n\\n              <div class=\"govuk-checkboxes__item\">\\n                <input type=\"checkbox\" name=\"people[]\" id=\"people-edward-timpson\" value=\"edward-timpson\" class=\"govuk-checkboxes__input\" data-controls=\"js-search-results-info\"><label for=\"people-edward-timpson\" class=\"govuk-label govuk-checkboxes__label\">Edward Timpson CBE KC</label>\\n\\n</div>\\n\\n              <div class=\"govuk-checkboxes__item\">\\n                <input type=\"checkbox\" name=\"people[]\" id=\"people-eileen-milner\" value=\"eileen-milner\" class=\"govuk-checkboxes__input\" data-controls=\"js-search-results-info\"><label for=\"people-eileen-milner\" class=\"govuk-label govuk-checkboxes__label\">Eileen Milner</label>\\n\\n</div>\\n\\n              <div class=\"govuk-checkboxes__item\">\\n                <input type=\"checkbox\" name=\"people[]\" id=\"people-eleanor-schooling\" value=\"eleanor-schooling\" class=\"govuk-checkboxes__input\" data-controls=\"js-search-results-info\"><label for=\"people-eleanor-schooling\" class=\"govuk-label govuk-checkboxes__label\">Eleanor Schooling CBE</label>\\n\\n</div>\\n\\n              <div class=\"govuk-checkboxes__item\">\\n                <input type=\"checkbox\" name=\"people[]\" id=\"people-elizabeth-carriere\" value=\"elizabeth-carriere\" class=\"govuk-checkboxes__input\" data-controls=\"js-search-results-info\"><label for=\"people-elizabeth-carriere\" class=\"govuk-label govuk-checkboxes__label\">Elizabeth Carriere</label>\\n\\n</div>\\n\\n              <div class=\"govuk-checkboxes__item\">\\n                <input type=\"checkbox\" name=\"people[]\" id=\"people-emma-howard-boyd\" value=\"emma-howard-boyd\" class=\"govuk-checkboxes__input\" data-controls=\"js-search-results-info\"><label for=\"people-emma-howard-boyd\" class=\"govuk-label govuk-checkboxes__label\">Emma Howard Boyd</label>\\n\\n</div>\\n\\n              <div class=\"govuk-checkboxes__item\">\\n                <input type=\"checkbox\" name=\"people[]\" id=\"people-emma-wade-smith\" value=\"emma-wade-smith\" class=\"govuk-checkboxes__input\" data-controls=\"js-search-results-info\"><label for=\"people-emma-wade-smith\" class=\"govuk-label govuk-checkboxes__label\">Emma Wade-Smith OBE</label>\\n\\n</div>\\n\\n              <div class=\"govuk-checkboxes__item\">\\n                <input type=\"checkbox\" name=\"people[]\" id=\"people-blythe-esther\" value=\"blythe-esther\" class=\"govuk-checkboxes__input\" data-controls=\"js-search-results-info\"><label for=\"people-blythe-esther\" class=\"govuk-label govuk-checkboxes__label\">Esther Blythe</label>\\n\\n</div>\\n\\n              <div class=\"govuk-checkboxes__item\">\\n                <input type=\"checkbox\" name=\"people[]\" id=\"people-fay-jones\" value=\"fay-jones\" class=\"govuk-checkboxes__input\" data-controls=\"js-search-results-info\"><label for=\"people-fay-jones\" class=\"govuk-label govuk-checkboxes__label\">Fay Jones</label>\\n\\n</div>\\n\\n              <div class=\"govuk-checkboxes__item\">\\n                <input type=\"checkbox\" name=\"people[]\" id=\"people-felicity-buchan\" value=\"felicity-buchan\" class=\"govuk-checkboxes__input\" data-controls=\"js-search-results-info\"><label for=\"people-felicity-buchan\" class=\"govuk-label govuk-checkboxes__label\">Felicity Buchan</label>\\n\\n</div>\\n\\n              <div class=\"govuk-checkboxes__item\">\\n                <input type=\"checkbox\" name=\"people[]\" id=\"people-fergus-cochrane-dyet-obe\" value=\"fergus-cochrane-dyet-obe\" class=\"govuk-checkboxes__input\" data-controls=\"js-search-results-info\"><label for=\"people-fergus-cochrane-dyet-obe\" class=\"govuk-label govuk-checkboxes__label\">Fergus Cochrane-Dyet OBE</label>\\n\\n</div>\\n\\n              <div class=\"govuk-checkboxes__item\">\\n                <input type=\"checkbox\" name=\"people[]\" id=\"people-fiona-bruce\" value=\"fiona-bruce\" class=\"govuk-checkboxes__input\" data-controls=\"js-search-results-info\"><label for=\"people-fiona-bruce\" class=\"govuk-label govuk-checkboxes__label\">Fiona Bruce</label>\\n\\n</div>\\n\\n              <div class=\"govuk-checkboxes__item\">\\n                <input type=\"checkbox\" name=\"people[]\" id=\"people-fiona-clouder\" value=\"fiona-clouder\" class=\"govuk-checkboxes__input\" data-controls=\"js-search-results-info\"><label for=\"people-fiona-clouder\" class=\"govuk-label govuk-checkboxes__label\">Fiona Clouder</label>\\n\\n</div>\\n\\n              <div class=\"govuk-checkboxes__item\">\\n                <input type=\"checkbox\" name=\"people[]\" id=\"people-gareth-bacon\" value=\"gareth-bacon\" class=\"govuk-checkboxes__input\" data-controls=\"js-search-results-info\"><label for=\"people-gareth-bacon\" class=\"govuk-label govuk-checkboxes__label\">Gareth Bacon MP</label>\\n\\n</div>\\n\\n              <div class=\"govuk-checkboxes__item\">\\n                <input type=\"checkbox\" name=\"people[]\" id=\"people-gareth-davies--2\" value=\"gareth-davies--2\" class=\"govuk-checkboxes__input\" data-controls=\"js-search-results-info\"><label for=\"people-gareth-davies--2\" class=\"govuk-label govuk-checkboxes__label\">Gareth Davies MP</label>\\n\\n</div>\\n\\n              <div class=\"govuk-checkboxes__item\">\\n                <input type=\"checkbox\" name=\"people[]\" id=\"people-gareth-johnson\" value=\"gareth-johnson\" class=\"govuk-checkboxes__input\" data-controls=\"js-search-results-info\"><label for=\"people-gareth-johnson\" class=\"govuk-label govuk-checkboxes__label\">Gareth Johnson</label>\\n\\n</div>\\n\\n              <div class=\"govuk-checkboxes__item\">\\n                <input type=\"checkbox\" name=\"people[]\" id=\"people-sir-chris-deverell\" value=\"sir-chris-deverell\" class=\"govuk-checkboxes__input\" data-controls=\"js-search-results-info\"><label for=\"people-sir-chris-deverell\" class=\"govuk-label govuk-checkboxes__label\">General Sir Chris Deverell KCB MBE ADC Gen</label>\\n\\n</div>\\n\\n              <div class=\"govuk-checkboxes__item\">\\n                <input type=\"checkbox\" name=\"people[]\" id=\"people-david-richards\" value=\"david-richards\" class=\"govuk-checkboxes__input\" data-controls=\"js-search-results-info\"><label for=\"people-david-richards\" class=\"govuk-label govuk-checkboxes__label\">General Sir David Richards GCB CBE DSO ADC Gen</label>\\n\\n</div>\\n\\n              <div class=\"govuk-checkboxes__item\">\\n                <input type=\"checkbox\" name=\"people[]\" id=\"people-jim-hockenhull\" value=\"jim-hockenhull\" class=\"govuk-checkboxes__input\" data-controls=\"js-search-results-info\"><label for=\"people-jim-hockenhull\" class=\"govuk-label govuk-checkboxes__label\">General Sir Jim Hockenhull KBE ADC Gen</label>\\n\\n</div>\\n\\n              <div class=\"govuk-checkboxes__item\">\\n                <input type=\"checkbox\" name=\"people[]\" id=\"people-mark-carleton-smith\" value=\"mark-carleton-smith\" class=\"govuk-checkboxes__input\" data-controls=\"js-search-results-info\"><label for=\"people-mark-carleton-smith\" class=\"govuk-label govuk-checkboxes__label\">General Sir Mark Carleton-Smith KCB CBE ADC Gen</label>\\n\\n</div>\\n\\n              <div class=\"govuk-checkboxes__item\">\\n                <input type=\"checkbox\" name=\"people[]\" id=\"people-nicholas-houghton\" value=\"nicholas-houghton\" class=\"govuk-checkboxes__input\" data-controls=\"js-search-results-info\"><label for=\"people-nicholas-houghton\" class=\"govuk-label govuk-checkboxes__label\">General Sir Nicholas Houghton GCB CBE ADC Gen</label>\\n\\n</div>\\n\\n              <div class=\"govuk-checkboxes__item\">\\n                <input type=\"checkbox\" name=\"people[]\" id=\"people-nicholas-patrick-carter\" value=\"nicholas-patrick-carter\" class=\"govuk-checkboxes__input\" data-controls=\"js-search-results-info\"><label for=\"people-nicholas-patrick-carter\" class=\"govuk-label govuk-checkboxes__label\">General Sir Nick Carter GCB CBE DSO ADC Gen</label>\\n\\n</div>\\n\\n              <div class=\"govuk-checkboxes__item\">\\n                <input type=\"checkbox\" name=\"people[]\" id=\"people-patrick-sanders\" value=\"patrick-sanders\" class=\"govuk-checkboxes__input\" data-controls=\"js-search-results-info\"><label for=\"people-patrick-sanders\" class=\"govuk-label govuk-checkboxes__label\">General Sir Patrick Sanders KCB CBE DSO ADC Gen</label>\\n\\n</div>\\n\\n              <div class=\"govuk-checkboxes__item\">\\n                <input type=\"checkbox\" name=\"people[]\" id=\"people-george-fergusson\" value=\"george-fergusson\" class=\"govuk-checkboxes__input\" data-controls=\"js-search-results-info\"><label for=\"people-george-fergusson\" class=\"govuk-label govuk-checkboxes__label\">George Fergusson</label>\\n\\n</div>\\n\\n              <div class=\"govuk-checkboxes__item\">\\n                <input type=\"checkbox\" name=\"people[]\" id=\"people-george-freeman\" value=\"george-freeman\" class=\"govuk-checkboxes__input\" data-controls=\"js-search-results-info\"><label for=\"people-george-freeman\" class=\"govuk-label govuk-checkboxes__label\">George Freeman MP</label>\\n\\n</div>\\n\\n              <div class=\"govuk-checkboxes__item\">\\n                <input type=\"checkbox\" name=\"people[]\" id=\"people-gerald-howarth\" value=\"gerald-howarth\" class=\"govuk-checkboxes__input\" data-controls=\"js-search-results-info\"><label for=\"people-gerald-howarth\" class=\"govuk-label govuk-checkboxes__label\">Gerald Howarth</label>\\n\\n</div>\\n\\n              <div class=\"govuk-checkboxes__item\">\\n                <input type=\"checkbox\" name=\"people[]\" id=\"people-giles-lever\" value=\"giles-lever\" class=\"govuk-checkboxes__input\" data-controls=\"js-search-results-info\"><label for=\"people-giles-lever\" class=\"govuk-label govuk-checkboxes__label\">Giles Lever</label>\\n\\n</div>\\n\\n              <div class=\"govuk-checkboxes__item\">\\n                <input type=\"checkbox\" name=\"people[]\" id=\"people-graham-zebedee\" value=\"graham-zebedee\" class=\"govuk-checkboxes__input\" data-controls=\"js-search-results-info\"><label for=\"people-graham-zebedee\" class=\"govuk-label govuk-checkboxes__label\">Graham Zebedee CMG</label>\\n\\n</div>\\n\\n              <div class=\"govuk-checkboxes__item\">\\n                <input type=\"checkbox\" name=\"people[]\" id=\"people-greg-dorey\" value=\"greg-dorey\" class=\"govuk-checkboxes__input\" data-controls=\"js-search-results-info\"><label for=\"people-greg-dorey\" class=\"govuk-label govuk-checkboxes__label\">Greg Dorey</label>\\n\\n</div>\\n\\n              <div class=\"govuk-checkboxes__item\">\\n                <input type=\"checkbox\" name=\"people[]\" id=\"people-greg-quinn\" value=\"greg-quinn\" class=\"govuk-checkboxes__input\" data-controls=\"js-search-results-info\"><label for=\"people-greg-quinn\" class=\"govuk-label govuk-checkboxes__label\">Greg Quinn</label>\\n\\n</div>\\n\\n              <div class=\"govuk-checkboxes__item\">\\n                <input type=\"checkbox\" name=\"people[]\" id=\"people-guto-bebb\" value=\"guto-bebb\" class=\"govuk-checkboxes__input\" data-controls=\"js-search-results-info\"><label for=\"people-guto-bebb\" class=\"govuk-label govuk-checkboxes__label\">Guto Bebb</label>\\n\\n</div>\\n\\n              <div class=\"govuk-checkboxes__item\">\\n                <input type=\"checkbox\" name=\"people[]\" id=\"people-guy-opperman\" value=\"guy-opperman\" class=\"govuk-checkboxes__input\" data-controls=\"js-search-results-info\"><label for=\"people-guy-opperman\" class=\"govuk-label govuk-checkboxes__label\">Guy Opperman</label>\\n\\n</div>\\n\\n              <div class=\"govuk-checkboxes__item\">\\n                <input type=\"checkbox\" name=\"people[]\" id=\"people-harriet-thompson\" value=\"harriet-thompson\" class=\"govuk-checkboxes__input\" data-controls=\"js-search-results-info\"><label for=\"people-harriet-thompson\" class=\"govuk-label govuk-checkboxes__label\">Harriet Thompson</label>\\n\\n</div>\\n\\n              <div class=\"govuk-checkboxes__item\">\\n                <input type=\"checkbox\" name=\"people[]\" id=\"people-harriett-baldwin\" value=\"harriett-baldwin\" class=\"govuk-checkboxes__input\" data-controls=\"js-search-results-info\"><label for=\"people-harriett-baldwin\" class=\"govuk-label govuk-checkboxes__label\">Harriett Baldwin MP</label>\\n\\n</div>\\n\\n              <div class=\"govuk-checkboxes__item\">\\n                <input type=\"checkbox\" name=\"people[]\" id=\"people-heather-wheeler\" value=\"heather-wheeler\" class=\"govuk-checkboxes__input\" data-controls=\"js-search-results-info\"><label for=\"people-heather-wheeler\" class=\"govuk-label govuk-checkboxes__label\">Heather Wheeler</label>\\n\\n</div>\\n\\n              <div class=\"govuk-checkboxes__item\">\\n                <input type=\"checkbox\" name=\"people[]\" id=\"people-helen-grant\" value=\"helen-grant\" class=\"govuk-checkboxes__input\" data-controls=\"js-search-results-info\"><label for=\"people-helen-grant\" class=\"govuk-label govuk-checkboxes__label\">Helen Grant OBE MP</label>\\n\\n</div>\\n\\n              <div class=\"govuk-checkboxes__item\">\\n                <input type=\"checkbox\" name=\"people[]\" id=\"people-helen-kilpatrick\" value=\"helen-kilpatrick\" class=\"govuk-checkboxes__input\" data-controls=\"js-search-results-info\"><label for=\"people-helen-kilpatrick\" class=\"govuk-label govuk-checkboxes__label\">Helen Kilpatrick CB</label>\\n\\n</div>\\n\\n              <div class=\"govuk-checkboxes__item\">\\n                <input type=\"checkbox\" name=\"people[]\" id=\"people-helen-whately\" value=\"helen-whately\" class=\"govuk-checkboxes__input\" data-controls=\"js-search-results-info\"><label for=\"people-helen-whately\" class=\"govuk-label govuk-checkboxes__label\">Helen Whately MP</label>\\n\\n</div>\\n\\n              <div class=\"govuk-checkboxes__item\">\\n                <input type=\"checkbox\" name=\"people[]\" id=\"people-hema-kotecha\" value=\"hema-kotecha\" class=\"govuk-checkboxes__input\" data-controls=\"js-search-results-info\"><label for=\"people-hema-kotecha\" class=\"govuk-label govuk-checkboxes__label\">Hema Kotecha</label>\\n\\n</div>\\n\\n              <div class=\"govuk-checkboxes__item\">\\n                <input type=\"checkbox\" name=\"people[]\" id=\"people-henry-bellingham\" value=\"henry-bellingham\" class=\"govuk-checkboxes__input\" data-controls=\"js-search-results-info\"><label for=\"people-henry-bellingham\" class=\"govuk-label govuk-checkboxes__label\">Henry Bellingham</label>\\n\\n</div>\\n\\n              <div class=\"govuk-checkboxes__item\">\\n                <input type=\"checkbox\" name=\"people[]\" id=\"people-herbert-henry-asquith\" value=\"herbert-henry-asquith\" class=\"govuk-checkboxes__input\" data-controls=\"js-search-results-info\"><label for=\"people-herbert-henry-asquith\" class=\"govuk-label govuk-checkboxes__label\">Herbert Henry Asquith</label>\\n\\n</div>\\n\\n              <div class=\"govuk-checkboxes__item\">\\n                <input type=\"checkbox\" name=\"people[]\" id=\"people-paul-madden\" value=\"paul-madden\" class=\"govuk-checkboxes__input\" data-controls=\"js-search-results-info\"><label for=\"people-paul-madden\" class=\"govuk-label govuk-checkboxes__label\">His Excellency Paul Madden CMG</label>\\n\\n</div>\\n\\n              <div class=\"govuk-checkboxes__item\">\\n                <input type=\"checkbox\" name=\"people[]\" id=\"people-howard-drake\" value=\"howard-drake\" class=\"govuk-checkboxes__input\" data-controls=\"js-search-results-info\"><label for=\"people-howard-drake\" class=\"govuk-label govuk-checkboxes__label\">Howard Drake OBE</label>\\n\\n</div>\\n\\n              <div class=\"govuk-checkboxes__item\">\\n                <input type=\"checkbox\" name=\"people[]\" id=\"people-hugo-shorter\" value=\"hugo-shorter\" class=\"govuk-checkboxes__input\" data-controls=\"js-search-results-info\"><label for=\"people-hugo-shorter\" class=\"govuk-label govuk-checkboxes__label\">Hugo Shorter</label>\\n\\n</div>\\n\\n              <div class=\"govuk-checkboxes__item\">\\n                <input type=\"checkbox\" name=\"people[]\" id=\"people-huw-merriman\" value=\"huw-merriman\" class=\"govuk-checkboxes__input\" data-controls=\"js-search-results-info\"><label for=\"people-huw-merriman\" class=\"govuk-label govuk-checkboxes__label\">Huw Merriman</label>\\n\\n</div>\\n\\n              <div class=\"govuk-checkboxes__item\">\\n                <input type=\"checkbox\" name=\"people[]\" id=\"people-iain-lindsay\" value=\"iain-lindsay\" class=\"govuk-checkboxes__input\" data-controls=\"js-search-results-info\"><label for=\"people-iain-lindsay\" class=\"govuk-label govuk-checkboxes__label\">Iain Lindsay OBE</label>\\n\\n</div>\\n\\n              <div class=\"govuk-checkboxes__item\">\\n                <input type=\"checkbox\" name=\"people[]\" id=\"people-iain-stewart\" value=\"iain-stewart\" class=\"govuk-checkboxes__input\" data-controls=\"js-search-results-info\"><label for=\"people-iain-stewart\" class=\"govuk-label govuk-checkboxes__label\">Iain Stewart</label>\\n\\n</div>\\n\\n              <div class=\"govuk-checkboxes__item\">\\n                <input type=\"checkbox\" name=\"people[]\" id=\"people-iain-walker\" value=\"iain-walker\" class=\"govuk-checkboxes__input\" data-controls=\"js-search-results-info\"><label for=\"people-iain-walker\" class=\"govuk-label govuk-checkboxes__label\">Iain Walker</label>\\n\\n</div>\\n\\n              <div class=\"govuk-checkboxes__item\">\\n                <input type=\"checkbox\" name=\"people[]\" id=\"people-ian-duddy\" value=\"ian-duddy\" class=\"govuk-checkboxes__input\" data-controls=\"js-search-results-info\"><label for=\"people-ian-duddy\" class=\"govuk-label govuk-checkboxes__label\">Ian Duddy</label>\\n\\n</div>\\n\\n              <div class=\"govuk-checkboxes__item\">\\n                <input type=\"checkbox\" name=\"people[]\" id=\"people-ian-felton\" value=\"ian-felton\" class=\"govuk-checkboxes__input\" data-controls=\"js-search-results-info\"><label for=\"people-ian-felton\" class=\"govuk-label govuk-checkboxes__label\">Ian Felton</label>\\n\\n</div>\\n\\n              <div class=\"govuk-checkboxes__item\">\\n                <input type=\"checkbox\" name=\"people[]\" id=\"people-ian-hughes\" value=\"ian-hughes\" class=\"govuk-checkboxes__input\" data-controls=\"js-search-results-info\"><label for=\"people-ian-hughes\" class=\"govuk-label govuk-checkboxes__label\">Ian Hughes</label>\\n\\n</div>\\n\\n              <div class=\"govuk-checkboxes__item\">\\n                <input type=\"checkbox\" name=\"people[]\" id=\"people-ian-robert-whitting\" value=\"ian-robert-whitting\" class=\"govuk-checkboxes__input\" data-controls=\"js-search-results-info\"><label for=\"people-ian-robert-whitting\" class=\"govuk-label govuk-checkboxes__label\">Ian Whitting OBE</label>\\n\\n</div>\\n\\n              <div class=\"govuk-checkboxes__item\">\\n                <input type=\"checkbox\" name=\"people[]\" id=\"people-jackie-doyle-price\" value=\"jackie-doyle-price\" class=\"govuk-checkboxes__input\" data-controls=\"js-search-results-info\"><label for=\"people-jackie-doyle-price\" class=\"govuk-label govuk-checkboxes__label\">Jackie Doyle-Price</label>\\n\\n</div>\\n\\n              <div class=\"govuk-checkboxes__item\">\\n                <input type=\"checkbox\" name=\"people[]\" id=\"people-jacob-young\" value=\"jacob-young\" class=\"govuk-checkboxes__input\" data-controls=\"js-search-results-info\"><label for=\"people-jacob-young\" class=\"govuk-label govuk-checkboxes__label\">Jacob Young</label>\\n\\n</div>\\n\\n              <div class=\"govuk-checkboxes__item\">\\n                <input type=\"checkbox\" name=\"people[]\" id=\"people-james-cartlidge\" value=\"james-cartlidge\" class=\"govuk-checkboxes__input\" data-controls=\"js-search-results-info\"><label for=\"people-james-cartlidge\" class=\"govuk-label govuk-checkboxes__label\">James Cartlidge MP</label>\\n\\n</div>\\n\\n              <div class=\"govuk-checkboxes__item\">\\n                <input type=\"checkbox\" name=\"people[]\" id=\"people-james-dauris\" value=\"james-dauris\" class=\"govuk-checkboxes__input\" data-controls=\"js-search-results-info\"><label for=\"people-james-dauris\" class=\"govuk-label govuk-checkboxes__label\">James Dauris</label>\\n\\n</div>\\n\\n              <div class=\"govuk-checkboxes__item\">\\n                <input type=\"checkbox\" name=\"people[]\" id=\"people-james-duddridge\" value=\"james-duddridge\" class=\"govuk-checkboxes__input\" data-controls=\"js-search-results-info\"><label for=\"people-james-duddridge\" class=\"govuk-label govuk-checkboxes__label\">James Duddridge</label>\\n\\n</div>\\n\\n              <div class=\"govuk-checkboxes__item\">\\n                <input type=\"checkbox\" name=\"people[]\" id=\"people-james-kariuki\" value=\"james-kariuki\" class=\"govuk-checkboxes__input\" data-controls=\"js-search-results-info\"><label for=\"people-james-kariuki\" class=\"govuk-label govuk-checkboxes__label\">James Kariuki</label>\\n\\n</div>\\n\\n              <div class=\"govuk-checkboxes__item\">\\n                <input type=\"checkbox\" name=\"people[]\" id=\"people-james-thornton\" value=\"james-thornton\" class=\"govuk-checkboxes__input\" data-controls=\"js-search-results-info\"><label for=\"people-james-thornton\" class=\"govuk-label govuk-checkboxes__label\">James Thornton</label>\\n\\n</div>\\n\\n              <div class=\"govuk-checkboxes__item\">\\n                <input type=\"checkbox\" name=\"people[]\" id=\"people-james-wharton\" value=\"james-wharton\" class=\"govuk-checkboxes__input\" data-controls=\"js-search-results-info\"><label for=\"people-james-wharton\" class=\"govuk-label govuk-checkboxes__label\">James Wharton</label>\\n\\n</div>\\n\\n              <div class=\"govuk-checkboxes__item\">\\n                <input type=\"checkbox\" name=\"people[]\" id=\"people-jamie-bowden\" value=\"jamie-bowden\" class=\"govuk-checkboxes__input\" data-controls=\"js-search-results-info\"><label for=\"people-jamie-bowden\" class=\"govuk-label govuk-checkboxes__label\">Jamie Bowden</label>\\n\\n</div>\\n\\n              <div class=\"govuk-checkboxes__item\">\\n                <input type=\"checkbox\" name=\"people[]\" id=\"people-jane-ellison\" value=\"jane-ellison\" class=\"govuk-checkboxes__input\" data-controls=\"js-search-results-info\"><label for=\"people-jane-ellison\" class=\"govuk-label govuk-checkboxes__label\">Jane Ellison</label>\\n\\n</div>\\n\\n              <div class=\"govuk-checkboxes__item\">\\n                <input type=\"checkbox\" name=\"people[]\" id=\"people-jane-hunt\" value=\"jane-hunt\" class=\"govuk-checkboxes__input\" data-controls=\"js-search-results-info\"><label for=\"people-jane-hunt\" class=\"govuk-label govuk-checkboxes__label\">Jane Hunt</label>\\n\\n</div>\\n\\n              <div class=\"govuk-checkboxes__item\">\\n                <input type=\"checkbox\" name=\"people[]\" id=\"people-jane-marriott\" value=\"jane-marriott\" class=\"govuk-checkboxes__input\" data-controls=\"js-search-results-info\"><label for=\"people-jane-marriott\" class=\"govuk-label govuk-checkboxes__label\">Jane Marriott CMG OBE</label>\\n\\n</div>\\n\\n              <div class=\"govuk-checkboxes__item\">\\n                <input type=\"checkbox\" name=\"people[]\" id=\"people-jeff-glekin\" value=\"jeff-glekin\" class=\"govuk-checkboxes__input\" data-controls=\"js-search-results-info\"><label for=\"people-jeff-glekin\" class=\"govuk-label govuk-checkboxes__label\">Jeff Glekin</label>\\n\\n</div>\\n\\n              <div class=\"govuk-checkboxes__item\">\\n                <input type=\"checkbox\" name=\"people[]\" id=\"people-jennie-granger\" value=\"jennie-granger\" class=\"govuk-checkboxes__input\" data-controls=\"js-search-results-info\"><label for=\"people-jennie-granger\" class=\"govuk-label govuk-checkboxes__label\">Jennie Granger</label>\\n\\n</div>\\n\\n              <div class=\"govuk-checkboxes__item\">\\n                <input type=\"checkbox\" name=\"people[]\" id=\"people-jenny-willott\" value=\"jenny-willott\" class=\"govuk-checkboxes__input\" data-controls=\"js-search-results-info\"><label for=\"people-jenny-willott\" class=\"govuk-label govuk-checkboxes__label\">Jenny Willott</label>\\n\\n</div>\\n\\n              <div class=\"govuk-checkboxes__item\">\\n                <input type=\"checkbox\" name=\"people[]\" id=\"people-jeremy-benson\" value=\"jeremy-benson\" class=\"govuk-checkboxes__input\" data-controls=\"js-search-results-info\"><label for=\"people-jeremy-benson\" class=\"govuk-label govuk-checkboxes__label\">Jeremy Benson</label>\\n\\n</div>\\n\\n              <div class=\"govuk-checkboxes__item\">\\n                <input type=\"checkbox\" name=\"people[]\" id=\"people-jeremy-browne\" value=\"jeremy-browne\" class=\"govuk-checkboxes__input\" data-controls=\"js-search-results-info\"><label for=\"people-jeremy-browne\" class=\"govuk-label govuk-checkboxes__label\">Jeremy Browne</label>\\n\\n</div>\\n\\n              <div class=\"govuk-checkboxes__item\">\\n                <input type=\"checkbox\" name=\"people[]\" id=\"people-jim-mcalpine\" value=\"jim-mcalpine\" class=\"govuk-checkboxes__input\" data-controls=\"js-search-results-info\"><label for=\"people-jim-mcalpine\" class=\"govuk-label govuk-checkboxes__label\">Jim McAlpine</label>\\n\\n</div>\\n\\n              <div class=\"govuk-checkboxes__item\">\\n                <input type=\"checkbox\" name=\"people[]\" id=\"people-jo-churchill\" value=\"jo-churchill\" class=\"govuk-checkboxes__input\" data-controls=\"js-search-results-info\"><label for=\"people-jo-churchill\" class=\"govuk-label govuk-checkboxes__label\">Jo Churchill</label>\\n\\n</div>\\n\\n              <div class=\"govuk-checkboxes__item\">\\n                <input type=\"checkbox\" name=\"people[]\" id=\"people-jo-farrar\" value=\"jo-farrar\" class=\"govuk-checkboxes__input\" data-controls=\"js-search-results-info\"><label for=\"people-jo-farrar\" class=\"govuk-label govuk-checkboxes__label\">Jo Farrar</label>\\n\\n</div>\\n\\n              <div class=\"govuk-checkboxes__item\">\\n                <input type=\"checkbox\" name=\"people[]\" id=\"people-jo-lomas\" value=\"jo-lomas\" class=\"govuk-checkboxes__input\" data-controls=\"js-search-results-info\"><label for=\"people-jo-lomas\" class=\"govuk-label govuk-checkboxes__label\">Jo Lomas</label>\\n\\n</div>\\n\\n              <div class=\"govuk-checkboxes__item\">\\n                <input type=\"checkbox\" name=\"people[]\" id=\"people-jo-stevens\" value=\"jo-stevens\" class=\"govuk-checkboxes__input\" data-controls=\"js-search-results-info\"><label for=\"people-jo-stevens\" class=\"govuk-label govuk-checkboxes__label\">Jo Stevens MP</label>\\n\\n</div>\\n\\n              <div class=\"govuk-checkboxes__item\">\\n                <input type=\"checkbox\" name=\"people[]\" id=\"people-jo-swinson\" value=\"jo-swinson\" class=\"govuk-checkboxes__input\" data-controls=\"js-search-results-info\"><label for=\"people-jo-swinson\" class=\"govuk-label govuk-checkboxes__label\">Jo Swinson</label>\\n\\n</div>\\n\\n              <div class=\"govuk-checkboxes__item\">\\n                <input type=\"checkbox\" name=\"people[]\" id=\"people-joanna-roper\" value=\"joanna-roper\" class=\"govuk-checkboxes__input\" data-controls=\"js-search-results-info\"><label for=\"people-joanna-roper\" class=\"govuk-label govuk-checkboxes__label\">Joanna Roper CMG</label>\\n\\n</div>\\n\\n              <div class=\"govuk-checkboxes__item\">\\n                <input type=\"checkbox\" name=\"people[]\" id=\"people-john-kittmer\" value=\"john-kittmer\" class=\"govuk-checkboxes__input\" data-controls=\"js-search-results-info\"><label for=\"people-john-kittmer\" class=\"govuk-label govuk-checkboxes__label\">John Kittmer</label>\\n\\n</div>\\n\\n              <div class=\"govuk-checkboxes__item\">\\n                <input type=\"checkbox\" name=\"people[]\" id=\"people-john-lamont\" value=\"john-lamont\" class=\"govuk-checkboxes__input\" data-controls=\"js-search-results-info\"><label for=\"people-john-lamont\" class=\"govuk-label govuk-checkboxes__label\">John Lamont MP</label>\\n\\n</div>\\n\\n              <div class=\"govuk-checkboxes__item\">\\n                <input type=\"checkbox\" name=\"people[]\" id=\"people-john-manzoni\" value=\"john-manzoni\" class=\"govuk-checkboxes__input\" data-controls=\"js-search-results-info\"><label for=\"people-john-manzoni\" class=\"govuk-label govuk-checkboxes__label\">John Manzoni</label>\\n\\n</div>\\n\\n              <div class=\"govuk-checkboxes__item\">\\n                <input type=\"checkbox\" name=\"people[]\" id=\"people-john-penrose\" value=\"john-penrose\" class=\"govuk-checkboxes__input\" data-controls=\"js-search-results-info\"><label for=\"people-john-penrose\" class=\"govuk-label govuk-checkboxes__label\">John Penrose</label>\\n\\n</div>\\n\\n              <div class=\"govuk-checkboxes__item\">\\n                <input type=\"checkbox\" name=\"people[]\" id=\"people-john-rankin\" value=\"john-rankin\" class=\"govuk-checkboxes__input\" data-controls=\"js-search-results-info\"><label for=\"people-john-rankin\" class=\"govuk-label govuk-checkboxes__label\">John Rankin</label>\\n\\n</div>\\n\\n              <div class=\"govuk-checkboxes__item\">\\n                <input type=\"checkbox\" name=\"people[]\" id=\"people-jon-benjamin\" value=\"jon-benjamin\" class=\"govuk-checkboxes__input\" data-controls=\"js-search-results-info\"><label for=\"people-jon-benjamin\" class=\"govuk-label govuk-checkboxes__label\">Jon Benjamin</label>\\n\\n</div>\\n\\n              <div class=\"govuk-checkboxes__item\">\\n                <input type=\"checkbox\" name=\"people[]\" id=\"people-jon-rouse\" value=\"jon-rouse\" class=\"govuk-checkboxes__input\" data-controls=\"js-search-results-info\"><label for=\"people-jon-rouse\" class=\"govuk-label govuk-checkboxes__label\">Jon Rouse</label>\\n\\n</div>\\n\\n              <div class=\"govuk-checkboxes__item\">\\n                <input type=\"checkbox\" name=\"people[]\" id=\"people-jonathan-allen\" value=\"jonathan-allen\" class=\"govuk-checkboxes__input\" data-controls=\"js-search-results-info\"><label for=\"people-jonathan-allen\" class=\"govuk-label govuk-checkboxes__label\">Jonathan Allen CMG</label>\\n\\n</div>\\n\\n              <div class=\"govuk-checkboxes__item\">\\n                <input type=\"checkbox\" name=\"people[]\" id=\"people-jonathan-brenton\" value=\"jonathan-brenton\" class=\"govuk-checkboxes__input\" data-controls=\"js-search-results-info\"><label for=\"people-jonathan-brenton\" class=\"govuk-label govuk-checkboxes__label\">Jonathan Brenton</label>\\n\\n</div>\\n\\n              <div class=\"govuk-checkboxes__item\">\\n                <input type=\"checkbox\" name=\"people[]\" id=\"people-jonathan-djanogly\" value=\"jonathan-djanogly\" class=\"govuk-checkboxes__input\" data-controls=\"js-search-results-info\"><label for=\"people-jonathan-djanogly\" class=\"govuk-label govuk-checkboxes__label\">Jonathan Djanogly</label>\\n\\n</div>\\n\\n              <div class=\"govuk-checkboxes__item\">\\n                <input type=\"checkbox\" name=\"people[]\" id=\"people-jonathan-gullis\" value=\"jonathan-gullis\" class=\"govuk-checkboxes__input\" data-controls=\"js-search-results-info\"><label for=\"people-jonathan-gullis\" class=\"govuk-label govuk-checkboxes__label\">Jonathan Gullis</label>\\n\\n</div>\\n\\n              <div class=\"govuk-checkboxes__item\">\\n                <input type=\"checkbox\" name=\"people[]\" id=\"people-jonathan-reynolds\" value=\"jonathan-reynolds\" class=\"govuk-checkboxes__input\" data-controls=\"js-search-results-info\"><label for=\"people-jonathan-reynolds\" class=\"govuk-label govuk-checkboxes__label\">Jonathan Reynolds MP</label>\\n\\n</div>\\n\\n              <div class=\"govuk-checkboxes__item\">\\n                <input type=\"checkbox\" name=\"people[]\" id=\"people-jonathan-scott\" value=\"jonathan-scott\" class=\"govuk-checkboxes__input\" data-controls=\"js-search-results-info\"><label for=\"people-jonathan-scott\" class=\"govuk-label govuk-checkboxes__label\">Jonathan Scott</label>\\n\\n</div>\\n\\n              <div class=\"govuk-checkboxes__item\">\\n                <input type=\"checkbox\" name=\"people[]\" id=\"people-julia-lopez\" value=\"julia-lopez\" class=\"govuk-checkboxes__input\" data-controls=\"js-search-results-info\"><label for=\"people-julia-lopez\" class=\"govuk-label govuk-checkboxes__label\">Julia Lopez MP</label>\\n\\n</div>\\n\\n              <div class=\"govuk-checkboxes__item\">\\n                <input type=\"checkbox\" name=\"people[]\" id=\"people-julian-braithwaite\" value=\"julian-braithwaite\" class=\"govuk-checkboxes__input\" data-controls=\"js-search-results-info\"><label for=\"people-julian-braithwaite\" class=\"govuk-label govuk-checkboxes__label\">Julian Braithwaite</label>\\n\\n</div>\\n\\n              <div class=\"govuk-checkboxes__item\">\\n                <input type=\"checkbox\" name=\"people[]\" id=\"people-julian-brazier\" value=\"julian-brazier\" class=\"govuk-checkboxes__input\" data-controls=\"js-search-results-info\"><label for=\"people-julian-brazier\" class=\"govuk-label govuk-checkboxes__label\">Julian Brazier</label>\\n\\n</div>\\n\\n              <div class=\"govuk-checkboxes__item\">\\n                <input type=\"checkbox\" name=\"people[]\" id=\"people-julie-marson\" value=\"julie-marson\" class=\"govuk-checkboxes__input\" data-controls=\"js-search-results-info\"><label for=\"people-julie-marson\" class=\"govuk-label govuk-checkboxes__label\">Julie Marson</label>\\n\\n</div>\\n\\n              <div class=\"govuk-checkboxes__item\">\\n                <input type=\"checkbox\" name=\"people[]\" id=\"people-justin-bedford\" value=\"justin-bedford\" class=\"govuk-checkboxes__input\" data-controls=\"js-search-results-info\"><label for=\"people-justin-bedford\" class=\"govuk-label govuk-checkboxes__label\">Justin Bedford</label>\\n\\n</div>\\n\\n              <div class=\"govuk-checkboxes__item\">\\n                <input type=\"checkbox\" name=\"people[]\" id=\"people-justin-tomlinson\" value=\"justin-tomlinson\" class=\"govuk-checkboxes__input\" data-controls=\"js-search-results-info\"><label for=\"people-justin-tomlinson\" class=\"govuk-label govuk-checkboxes__label\">Justin Tomlinson</label>\\n\\n</div>\\n\\n              <div class=\"govuk-checkboxes__item\">\\n                <input type=\"checkbox\" name=\"people[]\" id=\"people-kara-owen\" value=\"kara-owen\" class=\"govuk-checkboxes__input\" data-controls=\"js-search-results-info\"><label for=\"people-kara-owen\" class=\"govuk-label govuk-checkboxes__label\">Kara Owen CMG</label>\\n\\n</div>\\n\\n              <div class=\"govuk-checkboxes__item\">\\n                <input type=\"checkbox\" name=\"people[]\" id=\"people-karen-bell\" value=\"karen-bell\" class=\"govuk-checkboxes__input\" data-controls=\"js-search-results-info\"><label for=\"people-karen-bell\" class=\"govuk-label govuk-checkboxes__label\">Karen Bell</label>\\n\\n</div>\\n\\n              <div class=\"govuk-checkboxes__item\">\\n                <input type=\"checkbox\" name=\"people[]\" id=\"people-karen-pierce\" value=\"karen-pierce\" class=\"govuk-checkboxes__input\" data-controls=\"js-search-results-info\"><label for=\"people-karen-pierce\" class=\"govuk-label govuk-checkboxes__label\">Karen Pierce DCMG</label>\\n\\n</div>\\n\\n              <div class=\"govuk-checkboxes__item\">\\n                <input type=\"checkbox\" name=\"people[]\" id=\"people-karl-mccartney-mccartney\" value=\"karl-mccartney-mccartney\" class=\"govuk-checkboxes__input\" data-controls=\"js-search-results-info\"><label for=\"people-karl-mccartney-mccartney\" class=\"govuk-label govuk-checkboxes__label\">Karl McCartney</label>\\n\\n</div>\\n\\n              <div class=\"govuk-checkboxes__item\">\\n                <input type=\"checkbox\" name=\"people[]\" id=\"people-katharine-birbalsingh\" value=\"katharine-birbalsingh\" class=\"govuk-checkboxes__input\" data-controls=\"js-search-results-info\"><label for=\"people-katharine-birbalsingh\" class=\"govuk-label govuk-checkboxes__label\">Katharine Birbalsingh CBE</label>\\n\\n</div>\\n\\n              <div class=\"govuk-checkboxes__item\">\\n                <input type=\"checkbox\" name=\"people[]\" id=\"people-keith-fraser\" value=\"keith-fraser\" class=\"govuk-checkboxes__input\" data-controls=\"js-search-results-info\"><label for=\"people-keith-fraser\" class=\"govuk-label govuk-checkboxes__label\">Keith Fraser</label>\\n\\n</div>\\n\\n              <div class=\"govuk-checkboxes__item\">\\n                <input type=\"checkbox\" name=\"people[]\" id=\"people-keith-scott\" value=\"keith-scott\" class=\"govuk-checkboxes__input\" data-controls=\"js-search-results-info\"><label for=\"people-keith-scott\" class=\"govuk-label govuk-checkboxes__label\">Keith Scott</label>\\n\\n</div>\\n\\n              <div class=\"govuk-checkboxes__item\">\\n                <input type=\"checkbox\" name=\"people[]\" id=\"people-kevin-foster\" value=\"kevin-foster\" class=\"govuk-checkboxes__input\" data-controls=\"js-search-results-info\"><label for=\"people-kevin-foster\" class=\"govuk-label govuk-checkboxes__label\">Kevin Foster</label>\\n\\n</div>\\n\\n              <div class=\"govuk-checkboxes__item\">\\n                <input type=\"checkbox\" name=\"people[]\" id=\"people-kevin-gallagher\" value=\"kevin-gallagher\" class=\"govuk-checkboxes__input\" data-controls=\"js-search-results-info\"><label for=\"people-kevin-gallagher\" class=\"govuk-label govuk-checkboxes__label\">Kevin Gallagher</label>\\n\\n</div>\\n\\n              <div class=\"govuk-checkboxes__item\">\\n                <input type=\"checkbox\" name=\"people[]\" id=\"people-kevin-hollinrake\" value=\"kevin-hollinrake\" class=\"govuk-checkboxes__input\" data-controls=\"js-search-results-info\"><label for=\"people-kevin-hollinrake\" class=\"govuk-label govuk-checkboxes__label\">Kevin Hollinrake MP</label>\\n\\n</div>\\n\\n              <div class=\"govuk-checkboxes__item\">\\n                <input type=\"checkbox\" name=\"people[]\" id=\"people-kris-hopkins\" value=\"kris-hopkins\" class=\"govuk-checkboxes__input\" data-controls=\"js-search-results-info\"><label for=\"people-kris-hopkins\" class=\"govuk-label govuk-checkboxes__label\">Kris Hopkins</label>\\n\\n</div>\\n\\n              <div class=\"govuk-checkboxes__item\">\\n                <input type=\"checkbox\" name=\"people[]\" id=\"people-laura-clarke\" value=\"laura-clarke\" class=\"govuk-checkboxes__input\" data-controls=\"js-search-results-info\"><label for=\"people-laura-clarke\" class=\"govuk-label govuk-checkboxes__label\">Laura Clarke OBE</label>\\n\\n</div>\\n\\n              <div class=\"govuk-checkboxes__item\">\\n                <input type=\"checkbox\" name=\"people[]\" id=\"people-laura-farris\" value=\"laura-farris\" class=\"govuk-checkboxes__input\" data-controls=\"js-search-results-info\"><label for=\"people-laura-farris\" class=\"govuk-label govuk-checkboxes__label\">Laura Farris</label>\\n\\n</div>\\n\\n              <div class=\"govuk-checkboxes__item\">\\n                <input type=\"checkbox\" name=\"people[]\" id=\"people-lee-rowley\" value=\"lee-rowley\" class=\"govuk-checkboxes__input\" data-controls=\"js-search-results-info\"><label for=\"people-lee-rowley\" class=\"govuk-label govuk-checkboxes__label\">Lee Rowley</label>\\n\\n</div>\\n\\n              <div class=\"govuk-checkboxes__item\">\\n                <input type=\"checkbox\" name=\"people[]\" id=\"people-leigh-turner\" value=\"leigh-turner\" class=\"govuk-checkboxes__input\" data-controls=\"js-search-results-info\"><label for=\"people-leigh-turner\" class=\"govuk-label govuk-checkboxes__label\">Leigh Turner CMG</label>\\n\\n</div>\\n\\n              <div class=\"govuk-checkboxes__item\">\\n                <input type=\"checkbox\" name=\"people[]\" id=\"people-leo-docherty\" value=\"leo-docherty\" class=\"govuk-checkboxes__input\" data-controls=\"js-search-results-info\"><label for=\"people-leo-docherty\" class=\"govuk-label govuk-checkboxes__label\">Leo Docherty</label>\\n\\n</div>\\n\\n              <div class=\"govuk-checkboxes__item\">\\n                <input type=\"checkbox\" name=\"people[]\" id=\"people-richard-nugee\" value=\"richard-nugee\" class=\"govuk-checkboxes__input\" data-controls=\"js-search-results-info\"><label for=\"people-richard-nugee\" class=\"govuk-label govuk-checkboxes__label\">Lieutenant General Richard Nugee CB CVO CBE</label>\\n\\n</div>\\n\\n              <div class=\"govuk-checkboxes__item\">\\n                <input type=\"checkbox\" name=\"people[]\" id=\"people-lin-homer\" value=\"lin-homer\" class=\"govuk-checkboxes__input\" data-controls=\"js-search-results-info\"><label for=\"people-lin-homer\" class=\"govuk-label govuk-checkboxes__label\">Lin Homer</label>\\n\\n</div>\\n\\n              <div class=\"govuk-checkboxes__item\">\\n                <input type=\"checkbox\" name=\"people[]\" id=\"people-lindsay-skoll\" value=\"lindsay-skoll\" class=\"govuk-checkboxes__input\" data-controls=\"js-search-results-info\"><label for=\"people-lindsay-skoll\" class=\"govuk-label govuk-checkboxes__label\">Lindsay Skoll CMG</label>\\n\\n</div>\\n\\n              <div class=\"govuk-checkboxes__item\">\\n                <input type=\"checkbox\" name=\"people[]\" id=\"people-lisa-nandy\" value=\"lisa-nandy\" class=\"govuk-checkboxes__input\" data-controls=\"js-search-results-info\"><label for=\"people-lisa-nandy\" class=\"govuk-label govuk-checkboxes__label\">Lisa Nandy MP</label>\\n\\n</div>\\n\\n              <div class=\"govuk-checkboxes__item\">\\n                <input type=\"checkbox\" name=\"people[]\" id=\"people-lisa-phillips\" value=\"lisa-phillips\" class=\"govuk-checkboxes__input\" data-controls=\"js-search-results-info\"><label for=\"people-lisa-phillips\" class=\"govuk-label govuk-checkboxes__label\">Lisa Phillips</label>\\n\\n</div>\\n\\n              <div class=\"govuk-checkboxes__item\">\\n                <input type=\"checkbox\" name=\"people[]\" id=\"people-david-wolfson-qc\" value=\"david-wolfson-qc\" class=\"govuk-checkboxes__input\" data-controls=\"js-search-results-info\"><label for=\"people-david-wolfson-qc\" class=\"govuk-label govuk-checkboxes__label\">Lord (David) Wolfson of Tredegar KC</label>\\n\\n</div>\\n\\n              <div class=\"govuk-checkboxes__item\">\\n                <input type=\"checkbox\" name=\"people[]\" id=\"people-lord-ahmad-of-wimbledon\" value=\"lord-ahmad-of-wimbledon\" class=\"govuk-checkboxes__input\" data-controls=\"js-search-results-info\"><label for=\"people-lord-ahmad-of-wimbledon\" class=\"govuk-label govuk-checkboxes__label\">Lord (Tariq) Ahmad of Wimbledon KCMG</label>\\n\\n</div>\\n\\n              <div class=\"govuk-checkboxes__item\">\\n                <input type=\"checkbox\" name=\"people[]\" id=\"people-theodore-agnew\" value=\"theodore-agnew\" class=\"govuk-checkboxes__input\" data-controls=\"js-search-results-info\"><label for=\"people-theodore-agnew\" class=\"govuk-label govuk-checkboxes__label\">Lord Agnew</label>\\n\\n</div>\\n\\n              <div class=\"govuk-checkboxes__item\">\\n                <input type=\"checkbox\" name=\"people[]\" id=\"people-lord-astor-of-hever\" value=\"lord-astor-of-hever\" class=\"govuk-checkboxes__input\" data-controls=\"js-search-results-info\"><label for=\"people-lord-astor-of-hever\" class=\"govuk-label govuk-checkboxes__label\">Lord Astor of Hever DL</label>\\n\\n</div>\\n\\n              <div class=\"govuk-checkboxes__item\">\\n                <input type=\"checkbox\" name=\"people[]\" id=\"people-christopher-bellamy\" value=\"christopher-bellamy\" class=\"govuk-checkboxes__input\" data-controls=\"js-search-results-info\"><label for=\"people-christopher-bellamy\" class=\"govuk-label govuk-checkboxes__label\">Lord Bellamy KC</label>\\n\\n</div>\\n\\n              <div class=\"govuk-checkboxes__item\">\\n                <input type=\"checkbox\" name=\"people[]\" id=\"people-lord-bethell-of-romford\" value=\"lord-bethell-of-romford\" class=\"govuk-checkboxes__input\" data-controls=\"js-search-results-info\"><label for=\"people-lord-bethell-of-romford\" class=\"govuk-label govuk-checkboxes__label\">Lord Bethell of Romford</label>\\n\\n</div>\\n\\n              <div class=\"govuk-checkboxes__item\">\\n                <input type=\"checkbox\" name=\"people[]\" id=\"people-lord-bourne-of-aberystwyth\" value=\"lord-bourne-of-aberystwyth\" class=\"govuk-checkboxes__input\" data-controls=\"js-search-results-info\"><label for=\"people-lord-bourne-of-aberystwyth\" class=\"govuk-label govuk-checkboxes__label\">Lord Bourne of Aberystwyth</label>\\n\\n</div>\\n\\n              <div class=\"govuk-checkboxes__item\">\\n                <input type=\"checkbox\" name=\"people[]\" id=\"people-george-bridges\" value=\"george-bridges\" class=\"govuk-checkboxes__input\" data-controls=\"js-search-results-info\"><label for=\"people-george-bridges\" class=\"govuk-label govuk-checkboxes__label\">Lord Bridges of Headley MBE</label>\\n\\n</div>\\n\\n              <div class=\"govuk-checkboxes__item\">\\n                <input type=\"checkbox\" name=\"people[]\" id=\"people-lord-caine\" value=\"lord-caine\" class=\"govuk-checkboxes__input\" data-controls=\"js-search-results-info\"><label for=\"people-lord-caine\" class=\"govuk-label govuk-checkboxes__label\">Lord Caine</label>\\n\\n</div>\\n\\n              <div class=\"govuk-checkboxes__item\">\\n                <input type=\"checkbox\" name=\"people[]\" id=\"people-lord-callanan\" value=\"lord-callanan\" class=\"govuk-checkboxes__input\" data-controls=\"js-search-results-info\"><label for=\"people-lord-callanan\" class=\"govuk-label govuk-checkboxes__label\">Lord Callanan</label>\\n\\n</div>\\n\\n              <div class=\"govuk-checkboxes__item\">\\n                <input type=\"checkbox\" name=\"people[]\" id=\"people-lord-cameron-of-lochiel\" value=\"lord-cameron-of-lochiel\" class=\"govuk-checkboxes__input\" data-controls=\"js-search-results-info\"><label for=\"people-lord-cameron-of-lochiel\" class=\"govuk-label govuk-checkboxes__label\">Lord Cameron of Lochiel</label>\\n\\n</div>\\n\\n              <div class=\"govuk-checkboxes__item\">\\n                <input type=\"checkbox\" name=\"people[]\" id=\"people-lord-davies-of-gower\" value=\"lord-davies-of-gower\" class=\"govuk-checkboxes__input\" data-controls=\"js-search-results-info\"><label for=\"people-lord-davies-of-gower\" class=\"govuk-label govuk-checkboxes__label\">Lord Davies of Gower</label>\\n\\n</div>\\n\\n              <div class=\"govuk-checkboxes__item\">\\n                <input type=\"checkbox\" name=\"people[]\" id=\"people-lord-de-mauley\" value=\"lord-de-mauley\" class=\"govuk-checkboxes__input\" data-controls=\"js-search-results-info\"><label for=\"people-lord-de-mauley\" class=\"govuk-label govuk-checkboxes__label\">Lord de Mauley TD</label>\\n\\n</div>\\n\\n              <div class=\"govuk-checkboxes__item\">\\n                <input type=\"checkbox\" name=\"people[]\" id=\"people-paul-deighton\" value=\"paul-deighton\" class=\"govuk-checkboxes__input\" data-controls=\"js-search-results-info\"><label for=\"people-paul-deighton\" class=\"govuk-label govuk-checkboxes__label\">Lord Deighton</label>\\n\\n</div>\\n\\n              <div class=\"govuk-checkboxes__item\">\\n                <input type=\"checkbox\" name=\"people[]\" id=\"people-ian-duncan\" value=\"ian-duncan\" class=\"govuk-checkboxes__input\" data-controls=\"js-search-results-info\"><label for=\"people-ian-duncan\" class=\"govuk-label govuk-checkboxes__label\">Lord Duncan of Springbank</label>\\n\\n</div>\\n\\n              <div class=\"govuk-checkboxes__item\">\\n                <input type=\"checkbox\" name=\"people[]\" id=\"people-andrew-dunlop\" value=\"andrew-dunlop\" class=\"govuk-checkboxes__input\" data-controls=\"js-search-results-info\"><label for=\"people-andrew-dunlop\" class=\"govuk-label govuk-checkboxes__label\">Lord Dunlop</label>\\n\\n</div>\\n\\n              <div class=\"govuk-checkboxes__item\">\\n                <input type=\"checkbox\" name=\"people[]\" id=\"people-lord-faulks\" value=\"lord-faulks\" class=\"govuk-checkboxes__input\" data-controls=\"js-search-results-info\"><label for=\"people-lord-faulks\" class=\"govuk-label govuk-checkboxes__label\">Lord Faulks KC</label>\\n\\n</div>\\n\\n              <div class=\"govuk-checkboxes__item\">\\n                <input type=\"checkbox\" name=\"people[]\" id=\"people-lord-gardiner-of-kimble\" value=\"lord-gardiner-of-kimble\" class=\"govuk-checkboxes__input\" data-controls=\"js-search-results-info\"><label for=\"people-lord-gardiner-of-kimble\" class=\"govuk-label govuk-checkboxes__label\">Lord Gardiner of Kimble</label>\\n\\n</div>\\n\\n              <div class=\"govuk-checkboxes__item\">\\n                <input type=\"checkbox\" name=\"people[]\" id=\"people-zac-goldsmith\" value=\"zac-goldsmith\" class=\"govuk-checkboxes__input\" data-controls=\"js-search-results-info\"><label for=\"people-zac-goldsmith\" class=\"govuk-label govuk-checkboxes__label\">Lord Goldsmith</label>\\n\\n</div>\\n\\n              <div class=\"govuk-checkboxes__item\">\\n                <input type=\"checkbox\" name=\"people[]\" id=\"people-lord-green-of-hurstpierpoint\" value=\"lord-green-of-hurstpierpoint\" class=\"govuk-checkboxes__input\" data-controls=\"js-search-results-info\"><label for=\"people-lord-green-of-hurstpierpoint\" class=\"govuk-label govuk-checkboxes__label\">Lord Green of Hurstpierpoint</label>\\n\\n</div>\\n\\n              <div class=\"govuk-checkboxes__item\">\\n                <input type=\"checkbox\" name=\"people[]\" id=\"people-gerry-grimstone\" value=\"gerry-grimstone\" class=\"govuk-checkboxes__input\" data-controls=\"js-search-results-info\"><label for=\"people-gerry-grimstone\" class=\"govuk-label govuk-checkboxes__label\">Lord Grimstone of Boscobel Kt</label>\\n\\n</div>\\n\\n              <div class=\"govuk-checkboxes__item\">\\n                <input type=\"checkbox\" name=\"people[]\" id=\"people-richard-harrington\" value=\"richard-harrington\" class=\"govuk-checkboxes__input\" data-controls=\"js-search-results-info\"><label for=\"people-richard-harrington\" class=\"govuk-label govuk-checkboxes__label\">Lord Harrington</label>\\n\\n</div>\\n\\n              <div class=\"govuk-checkboxes__item\">\\n                <input type=\"checkbox\" name=\"people[]\" id=\"people-lord-hendy-of-richmond-hill\" value=\"lord-hendy-of-richmond-hill\" class=\"govuk-checkboxes__input\" data-controls=\"js-search-results-info\"><label for=\"people-lord-hendy-of-richmond-hill\" class=\"govuk-label govuk-checkboxes__label\">Lord Hendy of Richmond Hill CBE</label>\\n\\n</div>\\n\\n              <div class=\"govuk-checkboxes__item\">\\n                <input type=\"checkbox\" name=\"people[]\" id=\"people-dominic-johnson\" value=\"dominic-johnson\" class=\"govuk-checkboxes__input\" data-controls=\"js-search-results-info\"><label for=\"people-dominic-johnson\" class=\"govuk-label govuk-checkboxes__label\">Lord Johnson</label>\\n\\n</div>\\n\\n              <div class=\"govuk-checkboxes__item\">\\n                <input type=\"checkbox\" name=\"people[]\" id=\"people-jonathan-evans\" value=\"jonathan-evans\" class=\"govuk-checkboxes__input\" data-controls=\"js-search-results-info\"><label for=\"people-jonathan-evans\" class=\"govuk-label govuk-checkboxes__label\">Lord Jonathan Evans KCB DL</label>\\n\\n</div>\\n\\n              <div class=\"govuk-checkboxes__item\">\\n                <input type=\"checkbox\" name=\"people[]\" id=\"people-lord-kamall\" value=\"lord-kamall\" class=\"govuk-checkboxes__input\" data-controls=\"js-search-results-info\"><label for=\"people-lord-kamall\" class=\"govuk-label govuk-checkboxes__label\">Lord Kamall</label>\\n\\n</div>\\n\\n              <div class=\"govuk-checkboxes__item\">\\n                <input type=\"checkbox\" name=\"people[]\" id=\"people-ian-livingston\" value=\"ian-livingston\" class=\"govuk-checkboxes__input\" data-controls=\"js-search-results-info\"><label for=\"people-ian-livingston\" class=\"govuk-label govuk-checkboxes__label\">Lord Livingston</label>\\n\\n</div>\\n\\n              <div class=\"govuk-checkboxes__item\">\\n                <input type=\"checkbox\" name=\"people[]\" id=\"people-nick-markham\" value=\"nick-markham\" class=\"govuk-checkboxes__input\" data-controls=\"js-search-results-info\"><label for=\"people-nick-markham\" class=\"govuk-label govuk-checkboxes__label\">Lord Markham CBE</label>\\n\\n</div>\\n\\n              <div class=\"govuk-checkboxes__item\">\\n                <input type=\"checkbox\" name=\"people[]\" id=\"people-simon-murray--2\" value=\"simon-murray--2\" class=\"govuk-checkboxes__input\" data-controls=\"js-search-results-info\"><label for=\"people-simon-murray--2\" class=\"govuk-label govuk-checkboxes__label\">Lord Murray of Blidworth</label>\\n\\n</div>\\n\\n              <div class=\"govuk-checkboxes__item\">\\n                <input type=\"checkbox\" name=\"people[]\" id=\"people-lord-nash\" value=\"lord-nash\" class=\"govuk-checkboxes__input\" data-controls=\"js-search-results-info\"><label for=\"people-lord-nash\" class=\"govuk-label govuk-checkboxes__label\">Lord Nash</label>\\n\\n</div>\\n\\n              <div class=\"govuk-checkboxes__item\">\\n                <input type=\"checkbox\" name=\"people[]\" id=\"people-lord-newby\" value=\"lord-newby\" class=\"govuk-checkboxes__input\" data-controls=\"js-search-results-info\"><label for=\"people-lord-newby\" class=\"govuk-label govuk-checkboxes__label\">Lord Newby OBE</label>\\n\\n</div>\\n\\n              <div class=\"govuk-checkboxes__item\">\\n                <input type=\"checkbox\" name=\"people[]\" id=\"people-lord-oshaughnessy\" value=\"lord-oshaughnessy\" class=\"govuk-checkboxes__input\" data-controls=\"js-search-results-info\"><label for=\"people-lord-oshaughnessy\" class=\"govuk-label govuk-checkboxes__label\">Lord O\\'Shaughnessy</label>\\n\\n</div>\\n\\n              <div class=\"govuk-checkboxes__item\">\\n                <input type=\"checkbox\" name=\"people[]\" id=\"people-malcolm-offord\" value=\"malcolm-offord\" class=\"govuk-checkboxes__input\" data-controls=\"js-search-results-info\"><label for=\"people-malcolm-offord\" class=\"govuk-label govuk-checkboxes__label\">Lord Offord of Garvel CVO</label>\\n\\n</div>\\n\\n              <div class=\"govuk-checkboxes__item\">\\n                <input type=\"checkbox\" name=\"people[]\" id=\"people-jim-oneill\" value=\"jim-oneill\" class=\"govuk-checkboxes__input\" data-controls=\"js-search-results-info\"><label for=\"people-jim-oneill\" class=\"govuk-label govuk-checkboxes__label\">Lord O\\xe2\\x80\\x99Neill of Gatley</label>\\n\\n</div>\\n\\n              <div class=\"govuk-checkboxes__item\">\\n                <input type=\"checkbox\" name=\"people[]\" id=\"people-lord-parkinson-of-whitley-bay\" value=\"lord-parkinson-of-whitley-bay\" class=\"govuk-checkboxes__input\" data-controls=\"js-search-results-info\"><label for=\"people-lord-parkinson-of-whitley-bay\" class=\"govuk-label govuk-checkboxes__label\">Lord Parkinson of Whitley Bay</label>\\n\\n</div>\\n\\n              <div class=\"govuk-checkboxes__item\">\\n                <input type=\"checkbox\" name=\"people[]\" id=\"people-patrick-vallance\" value=\"patrick-vallance\" class=\"govuk-checkboxes__input\" data-controls=\"js-search-results-info\"><label for=\"people-patrick-vallance\" class=\"govuk-label govuk-checkboxes__label\">Lord Patrick Vallance</label>\\n\\n</div>\\n\\n              <div class=\"govuk-checkboxes__item\">\\n                <input type=\"checkbox\" name=\"people[]\" id=\"people-paul-bew\" value=\"paul-bew\" class=\"govuk-checkboxes__input\" data-controls=\"js-search-results-info\"><label for=\"people-paul-bew\" class=\"govuk-label govuk-checkboxes__label\">Lord Paul Bew</label>\\n\\n</div>\\n\\n              <div class=\"govuk-checkboxes__item\">\\n                <input type=\"checkbox\" name=\"people[]\" id=\"people-mark-price\" value=\"mark-price\" class=\"govuk-checkboxes__input\" data-controls=\"js-search-results-info\"><label for=\"people-mark-price\" class=\"govuk-label govuk-checkboxes__label\">Lord Price CVO</label>\\n\\n</div>\\n\\n              <div class=\"govuk-checkboxes__item\">\\n                <input type=\"checkbox\" name=\"people[]\" id=\"people-david-prior\" value=\"david-prior\" class=\"govuk-checkboxes__input\" data-controls=\"js-search-results-info\"><label for=\"people-david-prior\" class=\"govuk-label govuk-checkboxes__label\">Lord Prior of Brampton</label>\\n\\n</div>\\n\\n              <div class=\"govuk-checkboxes__item\">\\n                <input type=\"checkbox\" name=\"people[]\" id=\"people-lord-sassoon-of-ashley-park\" value=\"lord-sassoon-of-ashley-park\" class=\"govuk-checkboxes__input\" data-controls=\"js-search-results-info\"><label for=\"people-lord-sassoon-of-ashley-park\" class=\"govuk-label govuk-checkboxes__label\">Lord Sassoon of Ashley Park</label>\\n\\n</div>\\n\\n              <div class=\"govuk-checkboxes__item\">\\n                <input type=\"checkbox\" name=\"people[]\" id=\"people-lord-sharpe-of-epsom-obe\" value=\"lord-sharpe-of-epsom-obe\" class=\"govuk-checkboxes__input\" data-controls=\"js-search-results-info\"><label for=\"people-lord-sharpe-of-epsom-obe\" class=\"govuk-label govuk-checkboxes__label\">Lord Sharpe of Epsom OBE</label>\\n\\n</div>\\n\\n              <div class=\"govuk-checkboxes__item\">\\n                <input type=\"checkbox\" name=\"people[]\" id=\"people-stephen-greenhalgh\" value=\"stephen-greenhalgh\" class=\"govuk-checkboxes__input\" data-controls=\"js-search-results-info\"><label for=\"people-stephen-greenhalgh\" class=\"govuk-label govuk-checkboxes__label\">Lord Stephen Greenhalgh</label>\\n\\n</div>\\n\\n              <div class=\"govuk-checkboxes__item\">\\n                <input type=\"checkbox\" name=\"people[]\" id=\"people-keith-stewart\" value=\"keith-stewart\" class=\"govuk-checkboxes__input\" data-controls=\"js-search-results-info\"><label for=\"people-keith-stewart\" class=\"govuk-label govuk-checkboxes__label\">Lord Stewart of Dirleton KC</label>\\n\\n</div>\\n\\n              <div class=\"govuk-checkboxes__item\">\\n                <input type=\"checkbox\" name=\"people[]\" id=\"people-simon-woolley\" value=\"simon-woolley\" class=\"govuk-checkboxes__input\" data-controls=\"js-search-results-info\"><label for=\"people-simon-woolley\" class=\"govuk-label govuk-checkboxes__label\">Lord Woolley CBE</label>\\n\\n</div>\\n\\n              <div class=\"govuk-checkboxes__item\">\\n                <input type=\"checkbox\" name=\"people[]\" id=\"people-lorna-fitzjohn\" value=\"lorna-fitzjohn\" class=\"govuk-checkboxes__input\" data-controls=\"js-search-results-info\"><label for=\"people-lorna-fitzjohn\" class=\"govuk-label govuk-checkboxes__label\">Lorna Fitzjohn</label>\\n\\n</div>\\n\\n              <div class=\"govuk-checkboxes__item\">\\n                <input type=\"checkbox\" name=\"people[]\" id=\"people-louise-de-sousa\" value=\"louise-de-sousa\" class=\"govuk-checkboxes__input\" data-controls=\"js-search-results-info\"><label for=\"people-louise-de-sousa\" class=\"govuk-label govuk-checkboxes__label\">Louise De Sousa</label>\\n\\n</div>\\n\\n              <div class=\"govuk-checkboxes__item\">\\n                <input type=\"checkbox\" name=\"people[]\" id=\"people-lucia-wilde\" value=\"lucia-wilde\" class=\"govuk-checkboxes__input\" data-controls=\"js-search-results-info\"><label for=\"people-lucia-wilde\" class=\"govuk-label govuk-checkboxes__label\">Lucia Wilde</label>\\n\\n</div>\\n\\n              <div class=\"govuk-checkboxes__item\">\\n                <input type=\"checkbox\" name=\"people[]\" id=\"people-luke-hall\" value=\"luke-hall\" class=\"govuk-checkboxes__input\" data-controls=\"js-search-results-info\"><label for=\"people-luke-hall\" class=\"govuk-label govuk-checkboxes__label\">Luke Hall</label>\\n\\n</div>\\n\\n              <div class=\"govuk-checkboxes__item\">\\n                <input type=\"checkbox\" name=\"people[]\" id=\"people-luke-pollard\" value=\"luke-pollard\" class=\"govuk-checkboxes__input\" data-controls=\"js-search-results-info\"><label for=\"people-luke-pollard\" class=\"govuk-label govuk-checkboxes__label\">Luke Pollard MP</label>\\n\\n</div>\\n\\n              <div class=\"govuk-checkboxes__item\">\\n                <input type=\"checkbox\" name=\"people[]\" id=\"people-maggie-throup-mp\" value=\"maggie-throup-mp\" class=\"govuk-checkboxes__input\" data-controls=\"js-search-results-info\"><label for=\"people-maggie-throup-mp\" class=\"govuk-label govuk-checkboxes__label\">Maggie Throup</label>\\n\\n</div>\\n\\n              <div class=\"govuk-checkboxes__item\">\\n                <input type=\"checkbox\" name=\"people[]\" id=\"people-marcine-waterman\" value=\"marcine-waterman\" class=\"govuk-checkboxes__input\" data-controls=\"js-search-results-info\"><label for=\"people-marcine-waterman\" class=\"govuk-label govuk-checkboxes__label\">Marcine Waterman</label>\\n\\n</div>\\n\\n              <div class=\"govuk-checkboxes__item\">\\n                <input type=\"checkbox\" name=\"people[]\" id=\"people-marcus-bokkerink\" value=\"marcus-bokkerink\" class=\"govuk-checkboxes__input\" data-controls=\"js-search-results-info\"><label for=\"people-marcus-bokkerink\" class=\"govuk-label govuk-checkboxes__label\">Marcus Bokkerink</label>\\n\\n</div>\\n\\n              <div class=\"govuk-checkboxes__item\">\\n                <input type=\"checkbox\" name=\"people[]\" id=\"people-margot-james\" value=\"margot-james\" class=\"govuk-checkboxes__input\" data-controls=\"js-search-results-info\"><label for=\"people-margot-james\" class=\"govuk-label govuk-checkboxes__label\">Margot James</label>\\n\\n</div>\\n\\n              <div class=\"govuk-checkboxes__item\">\\n                <input type=\"checkbox\" name=\"people[]\" id=\"people-maria-caulfield\" value=\"maria-caulfield\" class=\"govuk-checkboxes__input\" data-controls=\"js-search-results-info\"><label for=\"people-maria-caulfield\" class=\"govuk-label govuk-checkboxes__label\">Maria Caulfield</label>\\n\\n</div>\\n\\n              <div class=\"govuk-checkboxes__item\">\\n                <input type=\"checkbox\" name=\"people[]\" id=\"people-marianne-young\" value=\"marianne-young\" class=\"govuk-checkboxes__input\" data-controls=\"js-search-results-info\"><label for=\"people-marianne-young\" class=\"govuk-label govuk-checkboxes__label\">Marianne Young</label>\\n\\n</div>\\n\\n              <div class=\"govuk-checkboxes__item\">\\n                <input type=\"checkbox\" name=\"people[]\" id=\"people-mark-garnier\" value=\"mark-garnier\" class=\"govuk-checkboxes__input\" data-controls=\"js-search-results-info\"><label for=\"people-mark-garnier\" class=\"govuk-label govuk-checkboxes__label\">Mark Garnier MP</label>\\n\\n</div>\\n\\n              <div class=\"govuk-checkboxes__item\">\\n                <input type=\"checkbox\" name=\"people[]\" id=\"people-mark-gooding\" value=\"mark-gooding\" class=\"govuk-checkboxes__input\" data-controls=\"js-search-results-info\"><label for=\"people-mark-gooding\" class=\"govuk-label govuk-checkboxes__label\">Mark Gooding OBE</label>\\n\\n</div>\\n\\n              <div class=\"govuk-checkboxes__item\">\\n                <input type=\"checkbox\" name=\"people[]\" id=\"people-mark-hoban\" value=\"mark-hoban\" class=\"govuk-checkboxes__input\" data-controls=\"js-search-results-info\"><label for=\"people-mark-hoban\" class=\"govuk-label govuk-checkboxes__label\">Mark Hoban</label>\\n\\n</div>\\n\\n              <div class=\"govuk-checkboxes__item\">\\n                <input type=\"checkbox\" name=\"people[]\" id=\"people-mark-kent\" value=\"mark-kent\" class=\"govuk-checkboxes__input\" data-controls=\"js-search-results-info\"><label for=\"people-mark-kent\" class=\"govuk-label govuk-checkboxes__label\">Mark Kent CMG</label>\\n\\n</div>\\n\\n              <div class=\"govuk-checkboxes__item\">\\n                <input type=\"checkbox\" name=\"people[]\" id=\"people-mark-lowcock\" value=\"mark-lowcock\" class=\"govuk-checkboxes__input\" data-controls=\"js-search-results-info\"><label for=\"people-mark-lowcock\" class=\"govuk-label govuk-checkboxes__label\">Mark Lowcock</label>\\n\\n</div>\\n\\n              <div class=\"govuk-checkboxes__item\">\\n                <input type=\"checkbox\" name=\"people[]\" id=\"people-mark-prisk\" value=\"mark-prisk\" class=\"govuk-checkboxes__input\" data-controls=\"js-search-results-info\"><label for=\"people-mark-prisk\" class=\"govuk-label govuk-checkboxes__label\">Mark Prisk</label>\\n\\n</div>\\n\\n              <div class=\"govuk-checkboxes__item\">\\n                <input type=\"checkbox\" name=\"people[]\" id=\"people-mark-simmonds\" value=\"mark-simmonds\" class=\"govuk-checkboxes__input\" data-controls=\"js-search-results-info\"><label for=\"people-mark-simmonds\" class=\"govuk-label govuk-checkboxes__label\">Mark Simmonds</label>\\n\\n</div>\\n\\n              <div class=\"govuk-checkboxes__item\">\\n                <input type=\"checkbox\" name=\"people[]\" id=\"people-martin-coleman\" value=\"martin-coleman\" class=\"govuk-checkboxes__input\" data-controls=\"js-search-results-info\"><label for=\"people-martin-coleman\" class=\"govuk-label govuk-checkboxes__label\">Martin Coleman</label>\\n\\n</div>\\n\\n              <div class=\"govuk-checkboxes__item\">\\n                <input type=\"checkbox\" name=\"people[]\" id=\"people-martin-harris\" value=\"martin-harris\" class=\"govuk-checkboxes__input\" data-controls=\"js-search-results-info\"><label for=\"people-martin-harris\" class=\"govuk-label govuk-checkboxes__label\">Martin Harris CMG OBE</label>\\n\\n</div>\\n\\n              <div class=\"govuk-checkboxes__item\">\\n                <input type=\"checkbox\" name=\"people[]\" id=\"people-matt-baugh\" value=\"matt-baugh\" class=\"govuk-checkboxes__input\" data-controls=\"js-search-results-info\"><label for=\"people-matt-baugh\" class=\"govuk-label govuk-checkboxes__label\">Matt Baugh OBE</label>\\n\\n</div>\\n\\n              <div class=\"govuk-checkboxes__item\">\\n                <input type=\"checkbox\" name=\"people[]\" id=\"people-matthew-field\" value=\"matthew-field\" class=\"govuk-checkboxes__input\" data-controls=\"js-search-results-info\"><label for=\"people-matthew-field\" class=\"govuk-label govuk-checkboxes__label\">Matt Field OBE</label>\\n\\n</div>\\n\\n              <div class=\"govuk-checkboxes__item\">\\n                <input type=\"checkbox\" name=\"people[]\" id=\"people-matt-warman\" value=\"matt-warman\" class=\"govuk-checkboxes__input\" data-controls=\"js-search-results-info\"><label for=\"people-matt-warman\" class=\"govuk-label govuk-checkboxes__label\">Matt Warman</label>\\n\\n</div>\\n\\n              <div class=\"govuk-checkboxes__item\">\\n                <input type=\"checkbox\" name=\"people[]\" id=\"people-matthew-coffey\" value=\"matthew-coffey\" class=\"govuk-checkboxes__input\" data-controls=\"js-search-results-info\"><label for=\"people-matthew-coffey\" class=\"govuk-label govuk-checkboxes__label\">Matthew Coffey</label>\\n\\n</div>\\n\\n              <div class=\"govuk-checkboxes__item\">\\n                <input type=\"checkbox\" name=\"people[]\" id=\"people-matthew-gould\" value=\"matthew-gould\" class=\"govuk-checkboxes__input\" data-controls=\"js-search-results-info\"><label for=\"people-matthew-gould\" class=\"govuk-label govuk-checkboxes__label\">Matthew Gould</label>\\n\\n</div>\\n\\n              <div class=\"govuk-checkboxes__item\">\\n                <input type=\"checkbox\" name=\"people[]\" id=\"people-matthew-kidd\" value=\"matthew-kidd\" class=\"govuk-checkboxes__input\" data-controls=\"js-search-results-info\"><label for=\"people-matthew-kidd\" class=\"govuk-label govuk-checkboxes__label\">Matthew Kidd CMG</label>\\n\\n</div>\\n\\n              <div class=\"govuk-checkboxes__item\">\\n                <input type=\"checkbox\" name=\"people[]\" id=\"people-matthew-vickerstaff\" value=\"matthew-vickerstaff\" class=\"govuk-checkboxes__input\" data-controls=\"js-search-results-info\"><label for=\"people-matthew-vickerstaff\" class=\"govuk-label govuk-checkboxes__label\">Matthew Vickerstaff</label>\\n\\n</div>\\n\\n              <div class=\"govuk-checkboxes__item\">\\n                <input type=\"checkbox\" name=\"people[]\" id=\"people-melanie-hopkins\" value=\"melanie-hopkins\" class=\"govuk-checkboxes__input\" data-controls=\"js-search-results-info\"><label for=\"people-melanie-hopkins\" class=\"govuk-label govuk-checkboxes__label\">Melanie Hopkins OBE</label>\\n\\n</div>\\n\\n              <div class=\"govuk-checkboxes__item\">\\n                <input type=\"checkbox\" name=\"people[]\" id=\"people-michael-davenport\" value=\"michael-davenport\" class=\"govuk-checkboxes__input\" data-controls=\"js-search-results-info\"><label for=\"people-michael-davenport\" class=\"govuk-label govuk-checkboxes__label\">Michael Davenport MBE</label>\\n\\n</div>\\n\\n              <div class=\"govuk-checkboxes__item\">\\n                <input type=\"checkbox\" name=\"people[]\" id=\"people-michael-gifford\" value=\"michael-gifford\" class=\"govuk-checkboxes__input\" data-controls=\"js-search-results-info\"><label for=\"people-michael-gifford\" class=\"govuk-label govuk-checkboxes__label\">Michael Gifford OBE</label>\\n\\n</div>\\n\\n              <div class=\"govuk-checkboxes__item\">\\n                <input type=\"checkbox\" name=\"people[]\" id=\"people-michael-nevin\" value=\"michael-nevin\" class=\"govuk-checkboxes__input\" data-controls=\"js-search-results-info\"><label for=\"people-michael-nevin\" class=\"govuk-label govuk-checkboxes__label\">Michael Nevin</label>\\n\\n</div>\\n\\n              <div class=\"govuk-checkboxes__item\">\\n                <input type=\"checkbox\" name=\"people[]\" id=\"people-mike-freer\" value=\"mike-freer\" class=\"govuk-checkboxes__input\" data-controls=\"js-search-results-info\"><label for=\"people-mike-freer\" class=\"govuk-label govuk-checkboxes__label\">Mike Freer</label>\\n\\n</div>\\n\\n              <div class=\"govuk-checkboxes__item\">\\n                <input type=\"checkbox\" name=\"people[]\" id=\"people-mike-nithavrianakis\" value=\"mike-nithavrianakis\" class=\"govuk-checkboxes__input\" data-controls=\"js-search-results-info\"><label for=\"people-mike-nithavrianakis\" class=\"govuk-label govuk-checkboxes__label\">Mike Nithavrianakis</label>\\n\\n</div>\\n\\n              <div class=\"govuk-checkboxes__item\">\\n                <input type=\"checkbox\" name=\"people[]\" id=\"people-mims-davies\" value=\"mims-davies\" class=\"govuk-checkboxes__input\" data-controls=\"js-search-results-info\"><label for=\"people-mims-davies\" class=\"govuk-label govuk-checkboxes__label\">Mims Davies MP</label>\\n\\n</div>\\n\\n              <div class=\"govuk-checkboxes__item\">\\n                <input type=\"checkbox\" name=\"people[]\" id=\"people-miriam-shearman\" value=\"miriam-shearman\" class=\"govuk-checkboxes__input\" data-controls=\"js-search-results-info\"><label for=\"people-miriam-shearman\" class=\"govuk-label govuk-checkboxes__label\">Miriam Shearman</label>\\n\\n</div>\\n\\n              <div class=\"govuk-checkboxes__item\">\\n                <input type=\"checkbox\" name=\"people[]\" id=\"people-thorda-abbott-watt\" value=\"thorda-abbott-watt\" class=\"govuk-checkboxes__input\" data-controls=\"js-search-results-info\"><label for=\"people-thorda-abbott-watt\" class=\"govuk-label govuk-checkboxes__label\">Miss Thorda Abbott-Watt</label>\\n\\n</div>\\n\\n              <div class=\"govuk-checkboxes__item\">\\n                <input type=\"checkbox\" name=\"people[]\" id=\"people-moazzam-malik\" value=\"moazzam-malik\" class=\"govuk-checkboxes__input\" data-controls=\"js-search-results-info\"><label for=\"people-moazzam-malik\" class=\"govuk-label govuk-checkboxes__label\">Moazzam Malik</label>\\n\\n</div>\\n\\n              <div class=\"govuk-checkboxes__item\">\\n                <input type=\"checkbox\" name=\"people[]\" id=\"people-natalie-ceeney\" value=\"natalie-ceeney\" class=\"govuk-checkboxes__input\" data-controls=\"js-search-results-info\"><label for=\"people-natalie-ceeney\" class=\"govuk-label govuk-checkboxes__label\">Natalie Ceeney CBE</label>\\n\\n</div>\\n\\n              <div class=\"govuk-checkboxes__item\">\\n                <input type=\"checkbox\" name=\"people[]\" id=\"people-neil-bush\" value=\"neil-bush\" class=\"govuk-checkboxes__input\" data-controls=\"js-search-results-info\"><label for=\"people-neil-bush\" class=\"govuk-label govuk-checkboxes__label\">Neil Bush</label>\\n\\n</div>\\n\\n              <div class=\"govuk-checkboxes__item\">\\n                <input type=\"checkbox\" name=\"people[]\" id=\"people-neil-holland\" value=\"neil-holland\" class=\"govuk-checkboxes__input\" data-controls=\"js-search-results-info\"><label for=\"people-neil-holland\" class=\"govuk-label govuk-checkboxes__label\">Neil Holland</label>\\n\\n</div>\\n\\n              <div class=\"govuk-checkboxes__item\">\\n                <input type=\"checkbox\" name=\"people[]\" id=\"people-neil-obrien\" value=\"neil-obrien\" class=\"govuk-checkboxes__input\" data-controls=\"js-search-results-info\"><label for=\"people-neil-obrien\" class=\"govuk-label govuk-checkboxes__label\">Neil O\\'Brien MP</label>\\n\\n</div>\\n\\n              <div class=\"govuk-checkboxes__item\">\\n                <input type=\"checkbox\" name=\"people[]\" id=\"people-nic-hailey\" value=\"nic-hailey\" class=\"govuk-checkboxes__input\" data-controls=\"js-search-results-info\"><label for=\"people-nic-hailey\" class=\"govuk-label govuk-checkboxes__label\">Nic Hailey CMG</label>\\n\\n</div>\\n\\n              <div class=\"govuk-checkboxes__item\">\\n                <input type=\"checkbox\" name=\"people[]\" id=\"people-nicholas-abbott\" value=\"nicholas-abbott\" class=\"govuk-checkboxes__input\" data-controls=\"js-search-results-info\"><label for=\"people-nicholas-abbott\" class=\"govuk-label govuk-checkboxes__label\">Nicholas Abbott</label>\\n\\n</div>\\n\\n              <div class=\"govuk-checkboxes__item\">\\n                <input type=\"checkbox\" name=\"people[]\" id=\"people-nicholas-cannon\" value=\"nicholas-cannon\" class=\"govuk-checkboxes__input\" data-controls=\"js-search-results-info\"><label for=\"people-nicholas-cannon\" class=\"govuk-label govuk-checkboxes__label\">Nicholas Cannon OBE</label>\\n\\n</div>\\n\\n              <div class=\"govuk-checkboxes__item\">\\n                <input type=\"checkbox\" name=\"people[]\" id=\"people-nick-boles\" value=\"nick-boles\" class=\"govuk-checkboxes__input\" data-controls=\"js-search-results-info\"><label for=\"people-nick-boles\" class=\"govuk-label govuk-checkboxes__label\">Nick Boles</label>\\n\\n</div>\\n\\n              <div class=\"govuk-checkboxes__item\">\\n                <input type=\"checkbox\" name=\"people[]\" id=\"people-nick-bridge\" value=\"nick-bridge\" class=\"govuk-checkboxes__input\" data-controls=\"js-search-results-info\"><label for=\"people-nick-bridge\" class=\"govuk-label govuk-checkboxes__label\">Nick Bridge CMG</label>\\n\\n</div>\\n\\n              <div class=\"govuk-checkboxes__item\">\\n                <input type=\"checkbox\" name=\"people[]\" id=\"people-nick-dyer\" value=\"nick-dyer\" class=\"govuk-checkboxes__input\" data-controls=\"js-search-results-info\"><label for=\"people-nick-dyer\" class=\"govuk-label govuk-checkboxes__label\">Nick Dyer</label>\\n\\n</div>\\n\\n              <div class=\"govuk-checkboxes__item\">\\n                <input type=\"checkbox\" name=\"people[]\" id=\"people-nick-goodwin\" value=\"nick-goodwin\" class=\"govuk-checkboxes__input\" data-controls=\"js-search-results-info\"><label for=\"people-nick-goodwin\" class=\"govuk-label govuk-checkboxes__label\">Nick Goodwin</label>\\n\\n</div>\\n\\n              <div class=\"govuk-checkboxes__item\">\\n                <input type=\"checkbox\" name=\"people[]\" id=\"people-nick-mcinnes\" value=\"nick-mcinnes\" class=\"govuk-checkboxes__input\" data-controls=\"js-search-results-info\"><label for=\"people-nick-mcinnes\" class=\"govuk-label govuk-checkboxes__label\">Nick McInnes</label>\\n\\n</div>\\n\\n              <div class=\"govuk-checkboxes__item\">\\n                <input type=\"checkbox\" name=\"people[]\" id=\"people-nick-smallwood\" value=\"nick-smallwood\" class=\"govuk-checkboxes__input\" data-controls=\"js-search-results-info\"><label for=\"people-nick-smallwood\" class=\"govuk-label govuk-checkboxes__label\">Nick Smallwood</label>\\n\\n</div>\\n\\n              <div class=\"govuk-checkboxes__item\">\\n                <input type=\"checkbox\" name=\"people[]\" id=\"people-nicola-bolton\" value=\"nicola-bolton\" class=\"govuk-checkboxes__input\" data-controls=\"js-search-results-info\"><label for=\"people-nicola-bolton\" class=\"govuk-label govuk-checkboxes__label\">Nicola Bolton</label>\\n\\n</div>\\n\\n              <div class=\"govuk-checkboxes__item\">\\n                <input type=\"checkbox\" name=\"people[]\" id=\"people-nicola-murray\" value=\"nicola-murray\" class=\"govuk-checkboxes__input\" data-controls=\"js-search-results-info\"><label for=\"people-nicola-murray\" class=\"govuk-label govuk-checkboxes__label\">Nicola Murray</label>\\n\\n</div>\\n\\n              <div class=\"govuk-checkboxes__item\">\\n                <input type=\"checkbox\" name=\"people[]\" id=\"people-nigel-baker\" value=\"nigel-baker\" class=\"govuk-checkboxes__input\" data-controls=\"js-search-results-info\"><label for=\"people-nigel-baker\" class=\"govuk-label govuk-checkboxes__label\">Nigel Baker OBE MVO</label>\\n\\n</div>\\n\\n              <div class=\"govuk-checkboxes__item\">\\n                <input type=\"checkbox\" name=\"people[]\" id=\"people-nigel-dakin\" value=\"nigel-dakin\" class=\"govuk-checkboxes__input\" data-controls=\"js-search-results-info\"><label for=\"people-nigel-dakin\" class=\"govuk-label govuk-checkboxes__label\">Nigel Dakin CMG</label>\\n\\n</div>\\n\\n              <div class=\"govuk-checkboxes__item\">\\n                <input type=\"checkbox\" name=\"people[]\" id=\"people-nigel-haywood\" value=\"nigel-haywood\" class=\"govuk-checkboxes__input\" data-controls=\"js-search-results-info\"><label for=\"people-nigel-haywood\" class=\"govuk-label govuk-checkboxes__label\">Nigel Haywood CVO</label>\\n\\n</div>\\n\\n              <div class=\"govuk-checkboxes__item\">\\n                <input type=\"checkbox\" name=\"people[]\" id=\"people-nigel-huddleston\" value=\"nigel-huddleston\" class=\"govuk-checkboxes__input\" data-controls=\"js-search-results-info\"><label for=\"people-nigel-huddleston\" class=\"govuk-label govuk-checkboxes__label\">Nigel Huddleston MP</label>\\n\\n</div>\\n\\n              <div class=\"govuk-checkboxes__item\">\\n                <input type=\"checkbox\" name=\"people[]\" id=\"people-nigel-phillips\" value=\"nigel-phillips\" class=\"govuk-checkboxes__input\" data-controls=\"js-search-results-info\"><label for=\"people-nigel-phillips\" class=\"govuk-label govuk-checkboxes__label\">Nigel Phillips CBE</label>\\n\\n</div>\\n\\n              <div class=\"govuk-checkboxes__item\">\\n                <input type=\"checkbox\" name=\"people[]\" id=\"people-nikesh-mehta\" value=\"nikesh-mehta\" class=\"govuk-checkboxes__input\" data-controls=\"js-search-results-info\"><label for=\"people-nikesh-mehta\" class=\"govuk-label govuk-checkboxes__label\">Nikesh Mehta</label>\\n\\n</div>\\n\\n              <div class=\"govuk-checkboxes__item\">\\n                <input type=\"checkbox\" name=\"people[]\" id=\"people-nusrat-ghani\" value=\"nusrat-ghani\" class=\"govuk-checkboxes__input\" data-controls=\"js-search-results-info\"><label for=\"people-nusrat-ghani\" class=\"govuk-label govuk-checkboxes__label\">Nusrat Ghani MP</label>\\n\\n</div>\\n\\n              <div class=\"govuk-checkboxes__item\">\\n                <input type=\"checkbox\" name=\"people[]\" id=\"people-orlando-fraser\" value=\"orlando-fraser\" class=\"govuk-checkboxes__input\" data-controls=\"js-search-results-info\"><label for=\"people-orlando-fraser\" class=\"govuk-label govuk-checkboxes__label\">Orlando Fraser KC</label>\\n\\n</div>\\n\\n              <div class=\"govuk-checkboxes__item\">\\n                <input type=\"checkbox\" name=\"people[]\" id=\"people-paul-brummell\" value=\"paul-brummell\" class=\"govuk-checkboxes__input\" data-controls=\"js-search-results-info\"><label for=\"people-paul-brummell\" class=\"govuk-label govuk-checkboxes__label\">Paul Brummell CMG</label>\\n\\n</div>\\n\\n              <div class=\"govuk-checkboxes__item\">\\n                <input type=\"checkbox\" name=\"people[]\" id=\"people-paul-burstow\" value=\"paul-burstow\" class=\"govuk-checkboxes__input\" data-controls=\"js-search-results-info\"><label for=\"people-paul-burstow\" class=\"govuk-label govuk-checkboxes__label\">Paul Burstow</label>\\n\\n</div>\\n\\n              <div class=\"govuk-checkboxes__item\">\\n                <input type=\"checkbox\" name=\"people[]\" id=\"people-paul-johnston\" value=\"paul-johnston\" class=\"govuk-checkboxes__input\" data-controls=\"js-search-results-info\"><label for=\"people-paul-johnston\" class=\"govuk-label govuk-checkboxes__label\">Paul Johnston</label>\\n\\n</div>\\n\\n              <div class=\"govuk-checkboxes__item\">\\n                <input type=\"checkbox\" name=\"people[]\" id=\"people-paul-joyce\" value=\"paul-joyce\" class=\"govuk-checkboxes__input\" data-controls=\"js-search-results-info\"><label for=\"people-paul-joyce\" class=\"govuk-label govuk-checkboxes__label\">Paul Joyce HMI</label>\\n\\n</div>\\n\\n              <div class=\"govuk-checkboxes__item\">\\n                <input type=\"checkbox\" name=\"people[]\" id=\"people-paul-maynard\" value=\"paul-maynard\" class=\"govuk-checkboxes__input\" data-controls=\"js-search-results-info\"><label for=\"people-paul-maynard\" class=\"govuk-label govuk-checkboxes__label\">Paul Maynard</label>\\n\\n</div>\\n\\n              <div class=\"govuk-checkboxes__item\">\\n                <input type=\"checkbox\" name=\"people[]\" id=\"people-paul-rennie\" value=\"paul-rennie\" class=\"govuk-checkboxes__input\" data-controls=\"js-search-results-info\"><label for=\"people-paul-rennie\" class=\"govuk-label govuk-checkboxes__label\">Paul Rennie OBE</label>\\n\\n</div>\\n\\n              <div class=\"govuk-checkboxes__item\">\\n                <input type=\"checkbox\" name=\"people[]\" id=\"people-paul-scully\" value=\"paul-scully\" class=\"govuk-checkboxes__input\" data-controls=\"js-search-results-info\"><label for=\"people-paul-scully\" class=\"govuk-label govuk-checkboxes__label\">Paul Scully</label>\\n\\n</div>\\n\\n              <div class=\"govuk-checkboxes__item\">\\n                <input type=\"checkbox\" name=\"people[]\" id=\"people-paul-thomas-arkwright\" value=\"paul-thomas-arkwright\" class=\"govuk-checkboxes__input\" data-controls=\"js-search-results-info\"><label for=\"people-paul-thomas-arkwright\" class=\"govuk-label govuk-checkboxes__label\">Paul Thomas Arkwright</label>\\n\\n</div>\\n\\n              <div class=\"govuk-checkboxes__item\">\\n                <input type=\"checkbox\" name=\"people[]\" id=\"people-paula-sussex\" value=\"paula-sussex\" class=\"govuk-checkboxes__input\" data-controls=\"js-search-results-info\"><label for=\"people-paula-sussex\" class=\"govuk-label govuk-checkboxes__label\">Paula Sussex</label>\\n\\n</div>\\n\\n              <div class=\"govuk-checkboxes__item\">\\n                <input type=\"checkbox\" name=\"people[]\" id=\"people-pete-vowles\" value=\"pete-vowles\" class=\"govuk-checkboxes__input\" data-controls=\"js-search-results-info\"><label for=\"people-pete-vowles\" class=\"govuk-label govuk-checkboxes__label\">Pete Vowles</label>\\n\\n</div>\\n\\n              <div class=\"govuk-checkboxes__item\">\\n                <input type=\"checkbox\" name=\"people[]\" id=\"people-peter-beckingham\" value=\"peter-beckingham\" class=\"govuk-checkboxes__input\" data-controls=\"js-search-results-info\"><label for=\"people-peter-beckingham\" class=\"govuk-label govuk-checkboxes__label\">Peter Beckingham</label>\\n\\n</div>\\n\\n              <div class=\"govuk-checkboxes__item\">\\n                <input type=\"checkbox\" name=\"people[]\" id=\"people-peter-kyle\" value=\"peter-kyle\" class=\"govuk-checkboxes__input\" data-controls=\"js-search-results-info\"><label for=\"people-peter-kyle\" class=\"govuk-label govuk-checkboxes__label\">Peter Kyle MP</label>\\n\\n</div>\\n\\n              <div class=\"govuk-checkboxes__item\">\\n                <input type=\"checkbox\" name=\"people[]\" id=\"people-peter-luff\" value=\"peter-luff\" class=\"govuk-checkboxes__input\" data-controls=\"js-search-results-info\"><label for=\"people-peter-luff\" class=\"govuk-label govuk-checkboxes__label\">Peter Luff</label>\\n\\n</div>\\n\\n              <div class=\"govuk-checkboxes__item\">\\n                <input type=\"checkbox\" name=\"people[]\" id=\"people-peter-west\" value=\"peter-west\" class=\"govuk-checkboxes__input\" data-controls=\"js-search-results-info\"><label for=\"people-peter-west\" class=\"govuk-label govuk-checkboxes__label\">Peter West</label>\\n\\n</div>\\n\\n              <div class=\"govuk-checkboxes__item\">\\n                <input type=\"checkbox\" name=\"people[]\" id=\"people-peter-wilson--2\" value=\"peter-wilson--2\" class=\"govuk-checkboxes__input\" data-controls=\"js-search-results-info\"><label for=\"people-peter-wilson--2\" class=\"govuk-label govuk-checkboxes__label\">Peter Wilson CMG</label>\\n\\n</div>\\n\\n              <div class=\"govuk-checkboxes__item\">\\n                <input type=\"checkbox\" name=\"people[]\" id=\"people-phil-beach\" value=\"phil-beach\" class=\"govuk-checkboxes__input\" data-controls=\"js-search-results-info\"><label for=\"people-phil-beach\" class=\"govuk-label govuk-checkboxes__label\">Phil Beach CBE</label>\\n\\n</div>\\n\\n              <div class=\"govuk-checkboxes__item\">\\n                <input type=\"checkbox\" name=\"people[]\" id=\"people-phil-boyle\" value=\"phil-boyle\" class=\"govuk-checkboxes__input\" data-controls=\"js-search-results-info\"><label for=\"people-phil-boyle\" class=\"govuk-label govuk-checkboxes__label\">Phil Boyle</label>\\n\\n</div>\\n\\n              <div class=\"govuk-checkboxes__item\">\\n                <input type=\"checkbox\" name=\"people[]\" id=\"people-philip-dunne\" value=\"philip-dunne\" class=\"govuk-checkboxes__input\" data-controls=\"js-search-results-info\"><label for=\"people-philip-dunne\" class=\"govuk-label govuk-checkboxes__label\">Philip Dunne</label>\\n\\n</div>\\n\\n              <div class=\"govuk-checkboxes__item\">\\n                <input type=\"checkbox\" name=\"people[]\" id=\"people-philip-malone\" value=\"philip-malone\" class=\"govuk-checkboxes__input\" data-controls=\"js-search-results-info\"><label for=\"people-philip-malone\" class=\"govuk-label govuk-checkboxes__label\">Philip Malone LVO</label>\\n\\n</div>\\n\\n              <div class=\"govuk-checkboxes__item\">\\n                <input type=\"checkbox\" name=\"people[]\" id=\"people-philip-parham\" value=\"philip-parham\" class=\"govuk-checkboxes__input\" data-controls=\"js-search-results-info\"><label for=\"people-philip-parham\" class=\"govuk-label govuk-checkboxes__label\">Philip Parham</label>\\n\\n</div>\\n\\n              <div class=\"govuk-checkboxes__item\">\\n                <input type=\"checkbox\" name=\"people[]\" id=\"people-philip-smith\" value=\"philip-smith\" class=\"govuk-checkboxes__input\" data-controls=\"js-search-results-info\"><label for=\"people-philip-smith\" class=\"govuk-label govuk-checkboxes__label\">Philip Smith</label>\\n\\n</div>\\n\\n              <div class=\"govuk-checkboxes__item\">\\n                <input type=\"checkbox\" name=\"people[]\" id=\"people-charlotte-watts\" value=\"charlotte-watts\" class=\"govuk-checkboxes__input\" data-controls=\"js-search-results-info\"><label for=\"people-charlotte-watts\" class=\"govuk-label govuk-checkboxes__label\">Professor Charlotte Watts CMG FMedSci</label>\\n\\n</div>\\n\\n              <div class=\"govuk-checkboxes__item\">\\n                <input type=\"checkbox\" name=\"people[]\" id=\"people-christopher-whitty\" value=\"christopher-whitty\" class=\"govuk-checkboxes__input\" data-controls=\"js-search-results-info\"><label for=\"people-christopher-whitty\" class=\"govuk-label govuk-checkboxes__label\">Professor Chris Whitty</label>\\n\\n</div>\\n\\n              <div class=\"govuk-checkboxes__item\">\\n                <input type=\"checkbox\" name=\"people[]\" id=\"people-jenny-harries\" value=\"jenny-harries\" class=\"govuk-checkboxes__input\" data-controls=\"js-search-results-info\"><label for=\"people-jenny-harries\" class=\"govuk-label govuk-checkboxes__label\">Professor Dame Jenny Harries</label>\\n\\n</div>\\n\\n              <div class=\"govuk-checkboxes__item\">\\n                <input type=\"checkbox\" name=\"people[]\" id=\"people-sally-davies\" value=\"sally-davies\" class=\"govuk-checkboxes__input\" data-controls=\"js-search-results-info\"><label for=\"people-sally-davies\" class=\"govuk-label govuk-checkboxes__label\">Professor Dame Sally Davies</label>\\n\\n</div>\\n\\n              <div class=\"govuk-checkboxes__item\">\\n                <input type=\"checkbox\" name=\"people[]\" id=\"people-fraser-sampson\" value=\"fraser-sampson\" class=\"govuk-checkboxes__input\" data-controls=\"js-search-results-info\"><label for=\"people-fraser-sampson\" class=\"govuk-label govuk-checkboxes__label\">Professor Fraser Sampson</label>\\n\\n</div>\\n\\n              <div class=\"govuk-checkboxes__item\">\\n                <input type=\"checkbox\" name=\"people[]\" id=\"people-john-loughhead\" value=\"john-loughhead\" class=\"govuk-checkboxes__input\" data-controls=\"js-search-results-info\"><label for=\"people-john-loughhead\" class=\"govuk-label govuk-checkboxes__label\">Professor John Loughhead CB OBE</label>\\n\\n</div>\\n\\n              <div class=\"govuk-checkboxes__item\">\\n                <input type=\"checkbox\" name=\"people[]\" id=\"people-john-newton\" value=\"john-newton\" class=\"govuk-checkboxes__input\" data-controls=\"js-search-results-info\"><label for=\"people-john-newton\" class=\"govuk-label govuk-checkboxes__label\">Professor John Newton</label>\\n\\n</div>\\n\\n              <div class=\"govuk-checkboxes__item\">\\n                <input type=\"checkbox\" name=\"people[]\" id=\"people-paul-wiles\" value=\"paul-wiles\" class=\"govuk-checkboxes__input\" data-controls=\"js-search-results-info\"><label for=\"people-paul-wiles\" class=\"govuk-label govuk-checkboxes__label\">Professor Paul Wiles</label>\\n\\n</div>\\n\\n              <div class=\"govuk-checkboxes__item\">\\n                <input type=\"checkbox\" name=\"people[]\" id=\"people-robin-grimes\" value=\"robin-grimes\" class=\"govuk-checkboxes__input\" data-controls=\"js-search-results-info\"><label for=\"people-robin-grimes\" class=\"govuk-label govuk-checkboxes__label\">Professor Robin Grimes FRS FREng</label>\\n\\n</div>\\n\\n              <div class=\"govuk-checkboxes__item\">\\n                <input type=\"checkbox\" name=\"people[]\" id=\"people-mark-walport\" value=\"mark-walport\" class=\"govuk-checkboxes__input\" data-controls=\"js-search-results-info\"><label for=\"people-mark-walport\" class=\"govuk-label govuk-checkboxes__label\">Professor Sir Mark Walport</label>\\n\\n</div>\\n\\n              <div class=\"govuk-checkboxes__item\">\\n                <input type=\"checkbox\" name=\"people[]\" id=\"people-rachel-maclean\" value=\"rachel-maclean\" class=\"govuk-checkboxes__input\" data-controls=\"js-search-results-info\"><label for=\"people-rachel-maclean\" class=\"govuk-label govuk-checkboxes__label\">Rachel Maclean</label>\\n\\n</div>\\n\\n              <div class=\"govuk-checkboxes__item\">\\n                <input type=\"checkbox\" name=\"people[]\" id=\"people-ramin-navai\" value=\"ramin-navai\" class=\"govuk-checkboxes__input\" data-controls=\"js-search-results-info\"><label for=\"people-ramin-navai\" class=\"govuk-label govuk-checkboxes__label\">Ramin Navai</label>\\n\\n</div>\\n\\n              <div class=\"govuk-checkboxes__item\">\\n                <input type=\"checkbox\" name=\"people[]\" id=\"people-ray-kyles\" value=\"ray-kyles\" class=\"govuk-checkboxes__input\" data-controls=\"js-search-results-info\"><label for=\"people-ray-kyles\" class=\"govuk-label govuk-checkboxes__label\">Ray Kyles</label>\\n\\n</div>\\n\\n              <div class=\"govuk-checkboxes__item\">\\n                <input type=\"checkbox\" name=\"people[]\" id=\"people-rebecca-pow\" value=\"rebecca-pow\" class=\"govuk-checkboxes__input\" data-controls=\"js-search-results-info\"><label for=\"people-rebecca-pow\" class=\"govuk-label govuk-checkboxes__label\">Rebecca Pow</label>\\n\\n</div>\\n\\n              <div class=\"govuk-checkboxes__item\">\\n                <input type=\"checkbox\" name=\"people[]\" id=\"people-rehman-chishti\" value=\"rehman-chishti\" class=\"govuk-checkboxes__input\" data-controls=\"js-search-results-info\"><label for=\"people-rehman-chishti\" class=\"govuk-label govuk-checkboxes__label\">Rehman Chishti</label>\\n\\n</div>\\n\\n              <div class=\"govuk-checkboxes__item\">\\n                <input type=\"checkbox\" name=\"people[]\" id=\"people-damian-todd\" value=\"damian-todd\" class=\"govuk-checkboxes__input\" data-controls=\"js-search-results-info\"><label for=\"people-damian-todd\" class=\"govuk-label govuk-checkboxes__label\">Ric Todd</label>\\n\\n</div>\\n\\n              <div class=\"govuk-checkboxes__item\">\\n                <input type=\"checkbox\" name=\"people[]\" id=\"people-richard-fuller\" value=\"richard-fuller\" class=\"govuk-checkboxes__input\" data-controls=\"js-search-results-info\"><label for=\"people-richard-fuller\" class=\"govuk-label govuk-checkboxes__label\">Richard Fuller MP</label>\\n\\n</div>\\n\\n              <div class=\"govuk-checkboxes__item\">\\n                <input type=\"checkbox\" name=\"people[]\" id=\"people-richard-hermer\" value=\"richard-hermer\" class=\"govuk-checkboxes__input\" data-controls=\"js-search-results-info\"><label for=\"people-richard-hermer\" class=\"govuk-label govuk-checkboxes__label\">Richard Hermer KC</label>\\n\\n</div>\\n\\n              <div class=\"govuk-checkboxes__item\">\\n                <input type=\"checkbox\" name=\"people[]\" id=\"people-richard-wood\" value=\"richard-wood\" class=\"govuk-checkboxes__input\" data-controls=\"js-search-results-info\"><label for=\"people-richard-wood\" class=\"govuk-label govuk-checkboxes__label\">Richard Wood</label>\\n\\n</div>\\n\\n              <div class=\"govuk-checkboxes__item\">\\n                <input type=\"checkbox\" name=\"people[]\" id=\"people-rita-french\" value=\"rita-french\" class=\"govuk-checkboxes__input\" data-controls=\"js-search-results-info\"><label for=\"people-rita-french\" class=\"govuk-label govuk-checkboxes__label\">Rita French</label>\\n\\n</div>\\n\\n              <div class=\"govuk-checkboxes__item\">\\n                <input type=\"checkbox\" name=\"people[]\" id=\"people-rob-butler--2\" value=\"rob-butler--2\" class=\"govuk-checkboxes__input\" data-controls=\"js-search-results-info\"><label for=\"people-rob-butler--2\" class=\"govuk-label govuk-checkboxes__label\">Rob Butler</label>\\n\\n</div>\\n\\n              <div class=\"govuk-checkboxes__item\">\\n                <input type=\"checkbox\" name=\"people[]\" id=\"people-rob-cook\" value=\"rob-cook\" class=\"govuk-checkboxes__input\" data-controls=\"js-search-results-info\"><label for=\"people-rob-cook\" class=\"govuk-label govuk-checkboxes__label\">Rob Cook</label>\\n\\n</div>\\n\\n              <div class=\"govuk-checkboxes__item\">\\n                <input type=\"checkbox\" name=\"people[]\" id=\"people-rob-fenn\" value=\"rob-fenn\" class=\"govuk-checkboxes__input\" data-controls=\"js-search-results-info\"><label for=\"people-rob-fenn\" class=\"govuk-label govuk-checkboxes__label\">Rob Fenn</label>\\n\\n</div>\\n\\n              <div class=\"govuk-checkboxes__item\">\\n                <input type=\"checkbox\" name=\"people[]\" id=\"people-rob-wilson\" value=\"rob-wilson\" class=\"govuk-checkboxes__input\" data-controls=\"js-search-results-info\"><label for=\"people-rob-wilson\" class=\"govuk-label govuk-checkboxes__label\">Rob Wilson</label>\\n\\n</div>\\n\\n              <div class=\"govuk-checkboxes__item\">\\n                <input type=\"checkbox\" name=\"people[]\" id=\"people-robbie-douglas-miller\" value=\"robbie-douglas-miller\" class=\"govuk-checkboxes__input\" data-controls=\"js-search-results-info\"><label for=\"people-robbie-douglas-miller\" class=\"govuk-label govuk-checkboxes__label\">Robbie Douglas-Miller OBE</label>\\n\\n</div>\\n\\n              <div class=\"govuk-checkboxes__item\">\\n                <input type=\"checkbox\" name=\"people[]\" id=\"people-robbie-moore\" value=\"robbie-moore\" class=\"govuk-checkboxes__input\" data-controls=\"js-search-results-info\"><label for=\"people-robbie-moore\" class=\"govuk-label govuk-checkboxes__label\">Robbie Moore MP</label>\\n\\n</div>\\n\\n              <div class=\"govuk-checkboxes__item\">\\n                <input type=\"checkbox\" name=\"people[]\" id=\"people-robert-chatterton-dickson\" value=\"robert-chatterton-dickson\" class=\"govuk-checkboxes__input\" data-controls=\"js-search-results-info\"><label for=\"people-robert-chatterton-dickson\" class=\"govuk-label govuk-checkboxes__label\">Robert Chatterton Dickson</label>\\n\\n</div>\\n\\n              <div class=\"govuk-checkboxes__item\">\\n                <input type=\"checkbox\" name=\"people[]\" id=\"people-robert-courts\" value=\"robert-courts\" class=\"govuk-checkboxes__input\" data-controls=\"js-search-results-info\"><label for=\"people-robert-courts\" class=\"govuk-label govuk-checkboxes__label\">Robert Courts KC</label>\\n\\n</div>\\n\\n              <div class=\"govuk-checkboxes__item\">\\n                <input type=\"checkbox\" name=\"people[]\" id=\"people-robert-goodwill\" value=\"robert-goodwill\" class=\"govuk-checkboxes__input\" data-controls=\"js-search-results-info\"><label for=\"people-robert-goodwill\" class=\"govuk-label govuk-checkboxes__label\">Robert Goodwill</label>\\n\\n</div>\\n\\n              <div class=\"govuk-checkboxes__item\">\\n                <input type=\"checkbox\" name=\"people[]\" id=\"people-robert-w-gibson-cmg\" value=\"robert-w-gibson-cmg\" class=\"govuk-checkboxes__input\" data-controls=\"js-search-results-info\"><label for=\"people-robert-w-gibson-cmg\" class=\"govuk-label govuk-checkboxes__label\">Robert W Gibson CMG</label>\\n\\n</div>\\n\\n              <div class=\"govuk-checkboxes__item\">\\n                <input type=\"checkbox\" name=\"people[]\" id=\"people-robin-barnett\" value=\"robin-barnett\" class=\"govuk-checkboxes__input\" data-controls=\"js-search-results-info\"><label for=\"people-robin-barnett\" class=\"govuk-label govuk-checkboxes__label\">Robin Barnett CMG</label>\\n\\n</div>\\n\\n              <div class=\"govuk-checkboxes__item\">\\n                <input type=\"checkbox\" name=\"people[]\" id=\"people-robin-walker\" value=\"robin-walker\" class=\"govuk-checkboxes__input\" data-controls=\"js-search-results-info\"><label for=\"people-robin-walker\" class=\"govuk-label govuk-checkboxes__label\">Robin Walker</label>\\n\\n</div>\\n\\n              <div class=\"govuk-checkboxes__item\">\\n                <input type=\"checkbox\" name=\"people[]\" id=\"people-roderick-drummond\" value=\"roderick-drummond\" class=\"govuk-checkboxes__input\" data-controls=\"js-search-results-info\"><label for=\"people-roderick-drummond\" class=\"govuk-label govuk-checkboxes__label\">Roderick Drummond</label>\\n\\n</div>\\n\\n              <div class=\"govuk-checkboxes__item\">\\n                <input type=\"checkbox\" name=\"people[]\" id=\"people-ros-lynch\" value=\"ros-lynch\" class=\"govuk-checkboxes__input\" data-controls=\"js-search-results-info\"><label for=\"people-ros-lynch\" class=\"govuk-label govuk-checkboxes__label\">Ros Lynch</label>\\n\\n</div>\\n\\n              <div class=\"govuk-checkboxes__item\">\\n                <input type=\"checkbox\" name=\"people[]\" id=\"people-ruairi-oconnell\" value=\"ruairi-oconnell\" class=\"govuk-checkboxes__input\" data-controls=\"js-search-results-info\"><label for=\"people-ruairi-oconnell\" class=\"govuk-label govuk-checkboxes__label\">Ruair\\xc3\\xad O\\xe2\\x80\\x99Connell OBE</label>\\n\\n</div>\\n\\n              <div class=\"govuk-checkboxes__item\">\\n                <input type=\"checkbox\" name=\"people[]\" id=\"people-ruth-owen\" value=\"ruth-owen\" class=\"govuk-checkboxes__input\" data-controls=\"js-search-results-info\"><label for=\"people-ruth-owen\" class=\"govuk-label govuk-checkboxes__label\">Ruth Owen</label>\\n\\n</div>\\n\\n              <div class=\"govuk-checkboxes__item\">\\n                <input type=\"checkbox\" name=\"people[]\" id=\"people-sally-collier\" value=\"sally-collier\" class=\"govuk-checkboxes__input\" data-controls=\"js-search-results-info\"><label for=\"people-sally-collier\" class=\"govuk-label govuk-checkboxes__label\">Sally Collier</label>\\n\\n</div>\\n\\n              <div class=\"govuk-checkboxes__item\">\\n                <input type=\"checkbox\" name=\"people[]\" id=\"people-sam-gyimah\" value=\"sam-gyimah\" class=\"govuk-checkboxes__input\" data-controls=\"js-search-results-info\"><label for=\"people-sam-gyimah\" class=\"govuk-label govuk-checkboxes__label\">Sam Gyimah</label>\\n\\n</div>\\n\\n              <div class=\"govuk-checkboxes__item\">\\n                <input type=\"checkbox\" name=\"people[]\" id=\"people-sam-younger\" value=\"sam-younger\" class=\"govuk-checkboxes__input\" data-controls=\"js-search-results-info\"><label for=\"people-sam-younger\" class=\"govuk-label govuk-checkboxes__label\">Sam Younger CBE</label>\\n\\n</div>\\n\\n              <div class=\"govuk-checkboxes__item\">\\n                <input type=\"checkbox\" name=\"people[]\" id=\"people-sanjay-wadvani\" value=\"sanjay-wadvani\" class=\"govuk-checkboxes__input\" data-controls=\"js-search-results-info\"><label for=\"people-sanjay-wadvani\" class=\"govuk-label govuk-checkboxes__label\">Sanjay Wadvani OBE</label>\\n\\n</div>\\n\\n              <div class=\"govuk-checkboxes__item\">\\n                <input type=\"checkbox\" name=\"people[]\" id=\"people-saqib-bhatti\" value=\"saqib-bhatti\" class=\"govuk-checkboxes__input\" data-controls=\"js-search-results-info\"><label for=\"people-saqib-bhatti\" class=\"govuk-label govuk-checkboxes__label\">Saqib Bhatti MP</label>\\n\\n</div>\\n\\n              <div class=\"govuk-checkboxes__item\">\\n                <input type=\"checkbox\" name=\"people[]\" id=\"people-sara-khan\" value=\"sara-khan\" class=\"govuk-checkboxes__input\" data-controls=\"js-search-results-info\"><label for=\"people-sara-khan\" class=\"govuk-label govuk-checkboxes__label\">Sara Khan</label>\\n\\n</div>\\n\\n              <div class=\"govuk-checkboxes__item\">\\n                <input type=\"checkbox\" name=\"people[]\" id=\"people-sarah-albon\" value=\"sarah-albon\" class=\"govuk-checkboxes__input\" data-controls=\"js-search-results-info\"><label for=\"people-sarah-albon\" class=\"govuk-label govuk-checkboxes__label\">Sarah Albon</label>\\n\\n</div>\\n\\n              <div class=\"govuk-checkboxes__item\">\\n                <input type=\"checkbox\" name=\"people[]\" id=\"people-sarah-atherton\" value=\"sarah-atherton\" class=\"govuk-checkboxes__input\" data-controls=\"js-search-results-info\"><label for=\"people-sarah-atherton\" class=\"govuk-label govuk-checkboxes__label\">Sarah Atherton</label>\\n\\n</div>\\n\\n              <div class=\"govuk-checkboxes__item\">\\n                <input type=\"checkbox\" name=\"people[]\" id=\"people-sarah-atkinson\" value=\"sarah-atkinson\" class=\"govuk-checkboxes__input\" data-controls=\"js-search-results-info\"><label for=\"people-sarah-atkinson\" class=\"govuk-label govuk-checkboxes__label\">Sarah Atkinson</label>\\n\\n</div>\\n\\n              <div class=\"govuk-checkboxes__item\">\\n                <input type=\"checkbox\" name=\"people[]\" id=\"people-sarah-cardell\" value=\"sarah-cardell\" class=\"govuk-checkboxes__input\" data-controls=\"js-search-results-info\"><label for=\"people-sarah-cardell\" class=\"govuk-label govuk-checkboxes__label\">Sarah Cardell</label>\\n\\n</div>\\n\\n              <div class=\"govuk-checkboxes__item\">\\n                <input type=\"checkbox\" name=\"people[]\" id=\"people-sarah-cooke\" value=\"sarah-cooke\" class=\"govuk-checkboxes__input\" data-controls=\"js-search-results-info\"><label for=\"people-sarah-cooke\" class=\"govuk-label govuk-checkboxes__label\">Sarah Cooke</label>\\n\\n</div>\\n\\n              <div class=\"govuk-checkboxes__item\">\\n                <input type=\"checkbox\" name=\"people[]\" id=\"people-sarah-dickson\" value=\"sarah-dickson\" class=\"govuk-checkboxes__input\" data-controls=\"js-search-results-info\"><label for=\"people-sarah-dickson\" class=\"govuk-label govuk-checkboxes__label\">Sarah Dickson OBE</label>\\n\\n</div>\\n\\n              <div class=\"govuk-checkboxes__item\">\\n                <input type=\"checkbox\" name=\"people[]\" id=\"people-sarah-dines\" value=\"sarah-dines\" class=\"govuk-checkboxes__input\" data-controls=\"js-search-results-info\"><label for=\"people-sarah-dines\" class=\"govuk-label govuk-checkboxes__label\">Sarah Dines</label>\\n\\n</div>\\n\\n              <div class=\"govuk-checkboxes__item\">\\n                <input type=\"checkbox\" name=\"people[]\" id=\"people-sarah-metcalf\" value=\"sarah-metcalf\" class=\"govuk-checkboxes__input\" data-controls=\"js-search-results-info\"><label for=\"people-sarah-metcalf\" class=\"govuk-label govuk-checkboxes__label\">Sarah Metcalf</label>\\n\\n</div>\\n\\n              <div class=\"govuk-checkboxes__item\">\\n                <input type=\"checkbox\" name=\"people[]\" id=\"people-sarah-newton\" value=\"sarah-newton\" class=\"govuk-checkboxes__input\" data-controls=\"js-search-results-info\"><label for=\"people-sarah-newton\" class=\"govuk-label govuk-checkboxes__label\">Sarah Newton</label>\\n\\n</div>\\n\\n              <div class=\"govuk-checkboxes__item\">\\n                <input type=\"checkbox\" name=\"people[]\" id=\"people-sarah-teather\" value=\"sarah-teather\" class=\"govuk-checkboxes__input\" data-controls=\"js-search-results-info\"><label for=\"people-sarah-teather\" class=\"govuk-label govuk-checkboxes__label\">Sarah Teather</label>\\n\\n</div>\\n\\n              <div class=\"govuk-checkboxes__item\">\\n                <input type=\"checkbox\" name=\"people[]\" id=\"people-sarah-tucker\" value=\"sarah-tucker\" class=\"govuk-checkboxes__input\" data-controls=\"js-search-results-info\"><label for=\"people-sarah-tucker\" class=\"govuk-label govuk-checkboxes__label\">Sarah Tucker</label>\\n\\n</div>\\n\\n              <div class=\"govuk-checkboxes__item\">\\n                <input type=\"checkbox\" name=\"people[]\" id=\"people-scott-furssedonn-wood\" value=\"scott-furssedonn-wood\" class=\"govuk-checkboxes__input\" data-controls=\"js-search-results-info\"><label for=\"people-scott-furssedonn-wood\" class=\"govuk-label govuk-checkboxes__label\">Scott Furssedonn-Wood MVO</label>\\n\\n</div>\\n\\n              <div class=\"govuk-checkboxes__item\">\\n                <input type=\"checkbox\" name=\"people[]\" id=\"people-scott-mann\" value=\"scott-mann\" class=\"govuk-checkboxes__input\" data-controls=\"js-search-results-info\"><label for=\"people-scott-mann\" class=\"govuk-label govuk-checkboxes__label\">Scott Mann</label>\\n\\n</div>\\n\\n              <div class=\"govuk-checkboxes__item\">\\n                <input type=\"checkbox\" name=\"people[]\" id=\"people-scott-wightman\" value=\"scott-wightman\" class=\"govuk-checkboxes__input\" data-controls=\"js-search-results-info\"><label for=\"people-scott-wightman\" class=\"govuk-label govuk-checkboxes__label\">Scott Wightman</label>\\n\\n</div>\\n\\n              <div class=\"govuk-checkboxes__item\">\\n                <input type=\"checkbox\" name=\"people[]\" id=\"people-sean-harford\" value=\"sean-harford\" class=\"govuk-checkboxes__input\" data-controls=\"js-search-results-info\"><label for=\"people-sean-harford\" class=\"govuk-label govuk-checkboxes__label\">Sean Harford</label>\\n\\n</div>\\n\\n              <div class=\"govuk-checkboxes__item\">\\n                <input type=\"checkbox\" name=\"people[]\" id=\"people-sean-melbourne\" value=\"sean-melbourne\" class=\"govuk-checkboxes__input\" data-controls=\"js-search-results-info\"><label for=\"people-sean-melbourne\" class=\"govuk-label govuk-checkboxes__label\">Sean Melbourne</label>\\n\\n</div>\\n\\n              <div class=\"govuk-checkboxes__item\">\\n                <input type=\"checkbox\" name=\"people[]\" id=\"people-seema-kennedy\" value=\"seema-kennedy\" class=\"govuk-checkboxes__input\" data-controls=\"js-search-results-info\"><label for=\"people-seema-kennedy\" class=\"govuk-label govuk-checkboxes__label\">Seema Kennedy</label>\\n\\n</div>\\n\\n              <div class=\"govuk-checkboxes__item\">\\n                <input type=\"checkbox\" name=\"people[]\" id=\"people-seema-malhotra\" value=\"seema-malhotra\" class=\"govuk-checkboxes__input\" data-controls=\"js-search-results-info\"><label for=\"people-seema-malhotra\" class=\"govuk-label govuk-checkboxes__label\">Seema Malhotra MP</label>\\n\\n</div>\\n\\n              <div class=\"govuk-checkboxes__item\">\\n                <input type=\"checkbox\" name=\"people[]\" id=\"people-shabana-mahmood\" value=\"shabana-mahmood\" class=\"govuk-checkboxes__input\" data-controls=\"js-search-results-info\"><label for=\"people-shabana-mahmood\" class=\"govuk-label govuk-checkboxes__label\">Shabana Mahmood MP</label>\\n\\n</div>\\n\\n              <div class=\"govuk-checkboxes__item\">\\n                <input type=\"checkbox\" name=\"people[]\" id=\"people-shailesh-vara\" value=\"shailesh-vara\" class=\"govuk-checkboxes__input\" data-controls=\"js-search-results-info\"><label for=\"people-shailesh-vara\" class=\"govuk-label govuk-checkboxes__label\">Shailesh Vara</label>\\n\\n</div>\\n\\n              <div class=\"govuk-checkboxes__item\">\\n                <input type=\"checkbox\" name=\"people[]\" id=\"people-sian-macleod\" value=\"sian-macleod\" class=\"govuk-checkboxes__input\" data-controls=\"js-search-results-info\"><label for=\"people-sian-macleod\" class=\"govuk-label govuk-checkboxes__label\">Sian MacLeod</label>\\n\\n</div>\\n\\n              <div class=\"govuk-checkboxes__item\">\\n                <input type=\"checkbox\" name=\"people[]\" id=\"people-simon-baugh\" value=\"simon-baugh\" class=\"govuk-checkboxes__input\" data-controls=\"js-search-results-info\"><label for=\"people-simon-baugh\" class=\"govuk-label govuk-checkboxes__label\">Simon Baugh</label>\\n\\n</div>\\n\\n              <div class=\"govuk-checkboxes__item\">\\n                <input type=\"checkbox\" name=\"people[]\" id=\"people-simon-baynes\" value=\"simon-baynes\" class=\"govuk-checkboxes__input\" data-controls=\"js-search-results-info\"><label for=\"people-simon-baynes\" class=\"govuk-label govuk-checkboxes__label\">Simon Baynes</label>\\n\\n</div>\\n\\n              <div class=\"govuk-checkboxes__item\">\\n                <input type=\"checkbox\" name=\"people[]\" id=\"people-simon-case\" value=\"simon-case\" class=\"govuk-checkboxes__input\" data-controls=\"js-search-results-info\"><label for=\"people-simon-case\" class=\"govuk-label govuk-checkboxes__label\">Simon Case CVO</label>\\n\\n</div>\\n\\n              <div class=\"govuk-checkboxes__item\">\\n                <input type=\"checkbox\" name=\"people[]\" id=\"people-simon-featherstone\" value=\"simon-featherstone\" class=\"govuk-checkboxes__input\" data-controls=\"js-search-results-info\"><label for=\"people-simon-featherstone\" class=\"govuk-label govuk-checkboxes__label\">Simon Featherstone CMG</label>\\n\\n</div>\\n\\n              <div class=\"govuk-checkboxes__item\">\\n                <input type=\"checkbox\" name=\"people[]\" id=\"people-simon-hoare\" value=\"simon-hoare\" class=\"govuk-checkboxes__input\" data-controls=\"js-search-results-info\"><label for=\"people-simon-hoare\" class=\"govuk-label govuk-checkboxes__label\">Simon Hoare MP</label>\\n\\n</div>\\n\\n              <div class=\"govuk-checkboxes__item\">\\n                <input type=\"checkbox\" name=\"people[]\" id=\"people-simon-kirby--2\" value=\"simon-kirby--2\" class=\"govuk-checkboxes__input\" data-controls=\"js-search-results-info\"><label for=\"people-simon-kirby--2\" class=\"govuk-label govuk-checkboxes__label\">Simon Kirby</label>\\n\\n</div>\\n\\n              <div class=\"govuk-checkboxes__item\">\\n                <input type=\"checkbox\" name=\"people[]\" id=\"people-simon-lebus\" value=\"simon-lebus\" class=\"govuk-checkboxes__input\" data-controls=\"js-search-results-info\"><label for=\"people-simon-lebus\" class=\"govuk-label govuk-checkboxes__label\">Simon Lebus</label>\\n\\n</div>\\n\\n              <div class=\"govuk-checkboxes__item\">\\n                <input type=\"checkbox\" name=\"people[]\" id=\"people-simon-manley--2\" value=\"simon-manley--2\" class=\"govuk-checkboxes__input\" data-controls=\"js-search-results-info\"><label for=\"people-simon-manley--2\" class=\"govuk-label govuk-checkboxes__label\">Simon Manley CMG</label>\\n\\n</div>\\n\\n              <div class=\"govuk-checkboxes__item\">\\n                <input type=\"checkbox\" name=\"people[]\" id=\"people-simon-shercliff\" value=\"simon-shercliff\" class=\"govuk-checkboxes__input\" data-controls=\"js-search-results-info\"><label for=\"people-simon-shercliff\" class=\"govuk-label govuk-checkboxes__label\">Simon Shercliff CMG OBE</label>\\n\\n</div>\\n\\n              <div class=\"govuk-checkboxes__item\">\\n                <input type=\"checkbox\" name=\"people[]\" id=\"people-simon-smith\" value=\"simon-smith\" class=\"govuk-checkboxes__input\" data-controls=\"js-search-results-info\"><label for=\"people-simon-smith\" class=\"govuk-label govuk-checkboxes__label\">Simon Smith</label>\\n\\n</div>\\n\\n              <div class=\"govuk-checkboxes__item\">\\n                <input type=\"checkbox\" name=\"people[]\" id=\"people-alex-chisholm\" value=\"alex-chisholm\" class=\"govuk-checkboxes__input\" data-controls=\"js-search-results-info\"><label for=\"people-alex-chisholm\" class=\"govuk-label govuk-checkboxes__label\">Sir Alex Chisholm KCB</label>\\n\\n</div>\\n\\n              <div class=\"govuk-checkboxes__item\">\\n                <input type=\"checkbox\" name=\"people[]\" id=\"people-david-king\" value=\"david-king\" class=\"govuk-checkboxes__input\" data-controls=\"js-search-results-info\"><label for=\"people-david-king\" class=\"govuk-label govuk-checkboxes__label\">Sir David King</label>\\n\\n</div>\\n\\n              <div class=\"govuk-checkboxes__item\">\\n                <input type=\"checkbox\" name=\"people[]\" id=\"people-david-reddaway\" value=\"david-reddaway\" class=\"govuk-checkboxes__input\" data-controls=\"js-search-results-info\"><label for=\"people-david-reddaway\" class=\"govuk-label govuk-checkboxes__label\">Sir David Reddaway CMG MBE</label>\\n\\n</div>\\n\\n              <div class=\"govuk-checkboxes__item\">\\n                <input type=\"checkbox\" name=\"people[]\" id=\"people-dominic-asquith\" value=\"dominic-asquith\" class=\"govuk-checkboxes__input\" data-controls=\"js-search-results-info\"><label for=\"people-dominic-asquith\" class=\"govuk-label govuk-checkboxes__label\">Sir Dominic Asquith KCMG</label>\\n\\n</div>\\n\\n              <div class=\"govuk-checkboxes__item\">\\n                <input type=\"checkbox\" name=\"people[]\" id=\"people-dominick-chilcott\" value=\"dominick-chilcott\" class=\"govuk-checkboxes__input\" data-controls=\"js-search-results-info\"><label for=\"people-dominick-chilcott\" class=\"govuk-label govuk-checkboxes__label\">Sir Dominick Chilcott KCMG</label>\\n\\n</div>\\n\\n              <div class=\"govuk-checkboxes__item\">\\n                <input type=\"checkbox\" name=\"people[]\" id=\"people-edward-garnier\" value=\"edward-garnier\" class=\"govuk-checkboxes__input\" data-controls=\"js-search-results-info\"><label for=\"people-edward-garnier\" class=\"govuk-label govuk-checkboxes__label\">Sir Edward Garnier KC</label>\\n\\n</div>\\n\\n              <div class=\"govuk-checkboxes__item\">\\n                <input type=\"checkbox\" name=\"people[]\" id=\"people-geoffrey-adams\" value=\"geoffrey-adams\" class=\"govuk-checkboxes__input\" data-controls=\"js-search-results-info\"><label for=\"people-geoffrey-adams\" class=\"govuk-label govuk-checkboxes__label\">Sir Geoffrey Adams KCMG</label>\\n\\n</div>\\n\\n              <div class=\"govuk-checkboxes__item\">\\n                <input type=\"checkbox\" name=\"people[]\" id=\"people-george-hollingbery\" value=\"george-hollingbery\" class=\"govuk-checkboxes__input\" data-controls=\"js-search-results-info\"><label for=\"people-george-hollingbery\" class=\"govuk-label govuk-checkboxes__label\">Sir George Hollingbery KCMG</label>\\n\\n</div>\\n\\n              <div class=\"govuk-checkboxes__item\">\\n                <input type=\"checkbox\" name=\"people[]\" id=\"people-howard-davies\" value=\"howard-davies\" class=\"govuk-checkboxes__input\" data-controls=\"js-search-results-info\"><label for=\"people-howard-davies\" class=\"govuk-label govuk-checkboxes__label\">Sir Howard Davies</label>\\n\\n</div>\\n\\n              <div class=\"govuk-checkboxes__item\">\\n                <input type=\"checkbox\" name=\"people[]\" id=\"people-ian-bauckham\" value=\"ian-bauckham\" class=\"govuk-checkboxes__input\" data-controls=\"js-search-results-info\"><label for=\"people-ian-bauckham\" class=\"govuk-label govuk-checkboxes__label\">Sir Ian Bauckham CBE</label>\\n\\n</div>\\n\\n              <div class=\"govuk-checkboxes__item\">\\n                <input type=\"checkbox\" name=\"people[]\" id=\"people-james-bevan\" value=\"james-bevan\" class=\"govuk-checkboxes__input\" data-controls=\"js-search-results-info\"><label for=\"people-james-bevan\" class=\"govuk-label govuk-checkboxes__label\">Sir James Bevan</label>\\n\\n</div>\\n\\n              <div class=\"govuk-checkboxes__item\">\\n                <input type=\"checkbox\" name=\"people[]\" id=\"people-james-david-bevan-kcmg\" value=\"james-david-bevan-kcmg\" class=\"govuk-checkboxes__input\" data-controls=\"js-search-results-info\"><label for=\"people-james-david-bevan-kcmg\" class=\"govuk-label govuk-checkboxes__label\">Sir James David Bevan KCMG</label>\\n\\n</div>\\n\\n              <div class=\"govuk-checkboxes__item\">\\n                <input type=\"checkbox\" name=\"people[]\" id=\"people-jim-harra\" value=\"jim-harra\" class=\"govuk-checkboxes__input\" data-controls=\"js-search-results-info\"><label for=\"people-jim-harra\" class=\"govuk-label govuk-checkboxes__label\">Sir Jim Harra KCB</label>\\n\\n</div>\\n\\n              <div class=\"govuk-checkboxes__item\">\\n                <input type=\"checkbox\" name=\"people[]\" id=\"people-john-jenkins\" value=\"john-jenkins\" class=\"govuk-checkboxes__input\" data-controls=\"js-search-results-info\"><label for=\"people-john-jenkins\" class=\"govuk-label govuk-checkboxes__label\">Sir John Jenkins</label>\\n\\n</div>\\n\\n              <div class=\"govuk-checkboxes__item\">\\n                <input type=\"checkbox\" name=\"people[]\" id=\"people-laurie-bristow\" value=\"laurie-bristow\" class=\"govuk-checkboxes__input\" data-controls=\"js-search-results-info\"><label for=\"people-laurie-bristow\" class=\"govuk-label govuk-checkboxes__label\">Sir Laurie Bristow KCMG</label>\\n\\n</div>\\n\\n              <div class=\"govuk-checkboxes__item\">\\n                <input type=\"checkbox\" name=\"people[]\" id=\"people-mark-lyall-grant\" value=\"mark-lyall-grant\" class=\"govuk-checkboxes__input\" data-controls=\"js-search-results-info\"><label for=\"people-mark-lyall-grant\" class=\"govuk-label govuk-checkboxes__label\">Sir Mark Lyall Grant</label>\\n\\n</div>\\n\\n              <div class=\"govuk-checkboxes__item\">\\n                <input type=\"checkbox\" name=\"people[]\" id=\"people-mark-sedwill\" value=\"mark-sedwill\" class=\"govuk-checkboxes__input\" data-controls=\"js-search-results-info\"><label for=\"people-mark-sedwill\" class=\"govuk-label govuk-checkboxes__label\">Sir Mark Sedwill GCMG</label>\\n\\n</div>\\n\\n              <div class=\"govuk-checkboxes__item\">\\n                <input type=\"checkbox\" name=\"people[]\" id=\"people-martin-donnelly\" value=\"martin-donnelly\" class=\"govuk-checkboxes__input\" data-controls=\"js-search-results-info\"><label for=\"people-martin-donnelly\" class=\"govuk-label govuk-checkboxes__label\">Sir Martin Donnelly KCB CMG</label>\\n\\n</div>\\n\\n              <div class=\"govuk-checkboxes__item\">\\n                <input type=\"checkbox\" name=\"people[]\" id=\"people-martin-oliver\" value=\"martin-oliver\" class=\"govuk-checkboxes__input\" data-controls=\"js-search-results-info\"><label for=\"people-martin-oliver\" class=\"govuk-label govuk-checkboxes__label\">Sir Martyn Oliver</label>\\n\\n</div>\\n\\n              <div class=\"govuk-checkboxes__item\">\\n                <input type=\"checkbox\" name=\"people[]\" id=\"people-matthew-rycroft\" value=\"matthew-rycroft\" class=\"govuk-checkboxes__input\" data-controls=\"js-search-results-info\"><label for=\"people-matthew-rycroft\" class=\"govuk-label govuk-checkboxes__label\">Sir Matthew Rycroft KCMG CBE</label>\\n\\n</div>\\n\\n              <div class=\"govuk-checkboxes__item\">\\n                <input type=\"checkbox\" name=\"people[]\" id=\"people-michael-wilshaw\" value=\"michael-wilshaw\" class=\"govuk-checkboxes__input\" data-controls=\"js-search-results-info\"><label for=\"people-michael-wilshaw\" class=\"govuk-label govuk-checkboxes__label\">Sir Michael Wilshaw</label>\\n\\n</div>\\n\\n              <div class=\"govuk-checkboxes__item\">\\n                <input type=\"checkbox\" name=\"people[]\" id=\"people-nicholas-kay\" value=\"nicholas-kay\" class=\"govuk-checkboxes__input\" data-controls=\"js-search-results-info\"><label for=\"people-nicholas-kay\" class=\"govuk-label govuk-checkboxes__label\">Sir Nicholas Kay KCMG</label>\\n\\n</div>\\n\\n              <div class=\"govuk-checkboxes__item\">\\n                <input type=\"checkbox\" name=\"people[]\" id=\"people-nicholas-macpherson\" value=\"nicholas-macpherson\" class=\"govuk-checkboxes__input\" data-controls=\"js-search-results-info\"><label for=\"people-nicholas-macpherson\" class=\"govuk-label govuk-checkboxes__label\">Sir Nicholas Macpherson</label>\\n\\n</div>\\n\\n              <div class=\"govuk-checkboxes__item\">\\n                <input type=\"checkbox\" name=\"people[]\" id=\"people-nick-harvey\" value=\"nick-harvey\" class=\"govuk-checkboxes__input\" data-controls=\"js-search-results-info\"><label for=\"people-nick-harvey\" class=\"govuk-label govuk-checkboxes__label\">Sir Nick Harvey</label>\\n\\n</div>\\n\\n              <div class=\"govuk-checkboxes__item\">\\n                <input type=\"checkbox\" name=\"people[]\" id=\"people-peter-westmacott\" value=\"peter-westmacott\" class=\"govuk-checkboxes__input\" data-controls=\"js-search-results-info\"><label for=\"people-peter-westmacott\" class=\"govuk-label govuk-checkboxes__label\">Sir Peter Westmacott KCMG, LVO</label>\\n\\n</div>\\n\\n              <div class=\"govuk-checkboxes__item\">\\n                <input type=\"checkbox\" name=\"people[]\" id=\"people-philip-barton\" value=\"philip-barton\" class=\"govuk-checkboxes__input\" data-controls=\"js-search-results-info\"><label for=\"people-philip-barton\" class=\"govuk-label govuk-checkboxes__label\">Sir Philip Barton KCMG OBE</label>\\n\\n</div>\\n\\n              <div class=\"govuk-checkboxes__item\">\\n                <input type=\"checkbox\" name=\"people[]\" id=\"people-richard-heaton\" value=\"richard-heaton\" class=\"govuk-checkboxes__input\" data-controls=\"js-search-results-info\"><label for=\"people-richard-heaton\" class=\"govuk-label govuk-checkboxes__label\">Sir Richard Heaton KCB</label>\\n\\n</div>\\n\\n              <div class=\"govuk-checkboxes__item\">\\n                <input type=\"checkbox\" name=\"people[]\" id=\"people-richard-moore\" value=\"richard-moore\" class=\"govuk-checkboxes__input\" data-controls=\"js-search-results-info\"><label for=\"people-richard-moore\" class=\"govuk-label govuk-checkboxes__label\">Sir Richard Moore KCMG</label>\\n\\n</div>\\n\\n              <div class=\"govuk-checkboxes__item\">\\n                <input type=\"checkbox\" name=\"people[]\" id=\"people-sebastian-wood\" value=\"sebastian-wood\" class=\"govuk-checkboxes__input\" data-controls=\"js-search-results-info\"><label for=\"people-sebastian-wood\" class=\"govuk-label govuk-checkboxes__label\">Sir Sebastian Wood KCMG</label>\\n\\n</div>\\n\\n              <div class=\"govuk-checkboxes__item\">\\n                <input type=\"checkbox\" name=\"people[]\" id=\"people-simon-fraser\" value=\"simon-fraser\" class=\"govuk-checkboxes__input\" data-controls=\"js-search-results-info\"><label for=\"people-simon-fraser\" class=\"govuk-label govuk-checkboxes__label\">Sir Simon Fraser</label>\\n\\n</div>\\n\\n              <div class=\"govuk-checkboxes__item\">\\n                <input type=\"checkbox\" name=\"people[]\" id=\"people-stephen-lovegrove\" value=\"stephen-lovegrove\" class=\"govuk-checkboxes__input\" data-controls=\"js-search-results-info\"><label for=\"people-stephen-lovegrove\" class=\"govuk-label govuk-checkboxes__label\">Sir Stephen Lovegrove GCMG KCB</label>\\n\\n</div>\\n\\n              <div class=\"govuk-checkboxes__item\">\\n                <input type=\"checkbox\" name=\"people[]\" id=\"people-stephen-o-brien\" value=\"stephen-o-brien\" class=\"govuk-checkboxes__input\" data-controls=\"js-search-results-info\"><label for=\"people-stephen-o-brien\" class=\"govuk-label govuk-checkboxes__label\">Sir Stephen O\\xe2\\x80\\x99Brien</label>\\n\\n</div>\\n\\n              <div class=\"govuk-checkboxes__item\">\\n                <input type=\"checkbox\" name=\"people[]\" id=\"people-vincent-fean\" value=\"vincent-fean\" class=\"govuk-checkboxes__input\" data-controls=\"js-search-results-info\"><label for=\"people-vincent-fean\" class=\"govuk-label govuk-checkboxes__label\">Sir Vincent Fean</label>\\n\\n</div>\\n\\n              <div class=\"govuk-checkboxes__item\">\\n                <input type=\"checkbox\" name=\"people[]\" id=\"people-sonya-branch\" value=\"sonya-branch\" class=\"govuk-checkboxes__input\" data-controls=\"js-search-results-info\"><label for=\"people-sonya-branch\" class=\"govuk-label govuk-checkboxes__label\">Sonya Branch</label>\\n\\n</div>\\n\\n              <div class=\"govuk-checkboxes__item\">\\n                <input type=\"checkbox\" name=\"people[]\" id=\"people-stephen-hammond\" value=\"stephen-hammond\" class=\"govuk-checkboxes__input\" data-controls=\"js-search-results-info\"><label for=\"people-stephen-hammond\" class=\"govuk-label govuk-checkboxes__label\">Stephen Hammond</label>\\n\\n</div>\\n\\n              <div class=\"govuk-checkboxes__item\">\\n                <input type=\"checkbox\" name=\"people[]\" id=\"people-stephen-lillie\" value=\"stephen-lillie\" class=\"govuk-checkboxes__input\" data-controls=\"js-search-results-info\"><label for=\"people-stephen-lillie\" class=\"govuk-label govuk-checkboxes__label\">Stephen Lillie CMG</label>\\n\\n</div>\\n\\n              <div class=\"govuk-checkboxes__item\">\\n                <input type=\"checkbox\" name=\"people[]\" id=\"people-stephen-williams\" value=\"stephen-williams\" class=\"govuk-checkboxes__input\" data-controls=\"js-search-results-info\"><label for=\"people-stephen-williams\" class=\"govuk-label govuk-checkboxes__label\">Stephen Williams</label>\\n\\n</div>\\n\\n              <div class=\"govuk-checkboxes__item\">\\n                <input type=\"checkbox\" name=\"people[]\" id=\"people-steve-brine\" value=\"steve-brine\" class=\"govuk-checkboxes__input\" data-controls=\"js-search-results-info\"><label for=\"people-steve-brine\" class=\"govuk-label govuk-checkboxes__label\">Steve Brine</label>\\n\\n</div>\\n\\n              <div class=\"govuk-checkboxes__item\">\\n                <input type=\"checkbox\" name=\"people[]\" id=\"people-steve-double\" value=\"steve-double\" class=\"govuk-checkboxes__input\" data-controls=\"js-search-results-info\"><label for=\"people-steve-double\" class=\"govuk-label govuk-checkboxes__label\">Steve Double</label>\\n\\n</div>\\n\\n              <div class=\"govuk-checkboxes__item\">\\n                <input type=\"checkbox\" name=\"people[]\" id=\"people-steve-reed\" value=\"steve-reed\" class=\"govuk-checkboxes__input\" data-controls=\"js-search-results-info\"><label for=\"people-steve-reed\" class=\"govuk-label govuk-checkboxes__label\">Steve Reed OBE MP</label>\\n\\n</div>\\n\\n              <div class=\"govuk-checkboxes__item\">\\n                <input type=\"checkbox\" name=\"people[]\" id=\"people-steven-chandler\" value=\"steven-chandler\" class=\"govuk-checkboxes__input\" data-controls=\"js-search-results-info\"><label for=\"people-steven-chandler\" class=\"govuk-label govuk-checkboxes__label\">Steven Chandler</label>\\n\\n</div>\\n\\n              <div class=\"govuk-checkboxes__item\">\\n                <input type=\"checkbox\" name=\"people[]\" id=\"people-stuart-gill\" value=\"stuart-gill\" class=\"govuk-checkboxes__input\" data-controls=\"js-search-results-info\"><label for=\"people-stuart-gill\" class=\"govuk-label govuk-checkboxes__label\">Stuart Gill OBE</label>\\n\\n</div>\\n\\n              <div class=\"govuk-checkboxes__item\">\\n                <input type=\"checkbox\" name=\"people[]\" id=\"people-stuart-howard\" value=\"stuart-howard\" class=\"govuk-checkboxes__input\" data-controls=\"js-search-results-info\"><label for=\"people-stuart-howard\" class=\"govuk-label govuk-checkboxes__label\">Stuart Howard</label>\\n\\n</div>\\n\\n              <div class=\"govuk-checkboxes__item\">\\n                <input type=\"checkbox\" name=\"people[]\" id=\"people-sue-husband\" value=\"sue-husband\" class=\"govuk-checkboxes__input\" data-controls=\"js-search-results-info\"><label for=\"people-sue-husband\" class=\"govuk-label govuk-checkboxes__label\">Sue Husband</label>\\n\\n</div>\\n\\n              <div class=\"govuk-checkboxes__item\">\\n                <input type=\"checkbox\" name=\"people[]\" id=\"people-susie-kitchens\" value=\"susie-kitchens\" class=\"govuk-checkboxes__input\" data-controls=\"js-search-results-info\"><label for=\"people-susie-kitchens\" class=\"govuk-label govuk-checkboxes__label\">Susie Kitchens</label>\\n\\n</div>\\n\\n              <div class=\"govuk-checkboxes__item\">\\n                <input type=\"checkbox\" name=\"people[]\" id=\"people-earl-of-minto-the-earl-of-minto\" value=\"earl-of-minto-the-earl-of-minto\" class=\"govuk-checkboxes__input\" data-controls=\"js-search-results-info\"><label for=\"people-earl-of-minto-the-earl-of-minto\" class=\"govuk-label govuk-checkboxes__label\">The Earl of Minto</label>\\n\\n</div>\\n\\n              <div class=\"govuk-checkboxes__item\">\\n                <input type=\"checkbox\" name=\"people[]\" id=\"people-alan-milburn\" value=\"alan-milburn\" class=\"govuk-checkboxes__input\" data-controls=\"js-search-results-info\"><label for=\"people-alan-milburn\" class=\"govuk-label govuk-checkboxes__label\">The Rt Hon Alan Milburn</label>\\n\\n</div>\\n\\n              <div class=\"govuk-checkboxes__item\">\\n                <input type=\"checkbox\" name=\"people[]\" id=\"people-alec-shelbrooke\" value=\"alec-shelbrooke\" class=\"govuk-checkboxes__input\" data-controls=\"js-search-results-info\"><label for=\"people-alec-shelbrooke\" class=\"govuk-label govuk-checkboxes__label\">The Rt Hon Alec Shelbrooke MP</label>\\n\\n</div>\\n\\n              <div class=\"govuk-checkboxes__item\">\\n                <input type=\"checkbox\" name=\"people[]\" id=\"people-alex-chalk\" value=\"alex-chalk\" class=\"govuk-checkboxes__input\" data-controls=\"js-search-results-info\"><label for=\"people-alex-chalk\" class=\"govuk-label govuk-checkboxes__label\">The Rt Hon Alex Chalk KC</label>\\n\\n</div>\\n\\n              <div class=\"govuk-checkboxes__item\">\\n                <input type=\"checkbox\" name=\"people[]\" id=\"people-alistair-burt\" value=\"alistair-burt\" class=\"govuk-checkboxes__input\" data-controls=\"js-search-results-info\"><label for=\"people-alistair-burt\" class=\"govuk-label govuk-checkboxes__label\">The Rt Hon Alistair Burt</label>\\n\\n</div>\\n\\n              <div class=\"govuk-checkboxes__item\">\\n                <input type=\"checkbox\" name=\"people[]\" id=\"people-alistair-carmichael\" value=\"alistair-carmichael\" class=\"govuk-checkboxes__input\" data-controls=\"js-search-results-info\"><label for=\"people-alistair-carmichael\" class=\"govuk-label govuk-checkboxes__label\">The Rt Hon Alistair Carmichael MP</label>\\n\\n</div>\\n\\n              <div class=\"govuk-checkboxes__item\">\\n                <input type=\"checkbox\" name=\"people[]\" id=\"people-alister-jack\" value=\"alister-jack\" class=\"govuk-checkboxes__input\" data-controls=\"js-search-results-info\"><label for=\"people-alister-jack\" class=\"govuk-label govuk-checkboxes__label\">The Rt Hon Alister Jack</label>\\n\\n</div>\\n\\n              <div class=\"govuk-checkboxes__item\">\\n                <input type=\"checkbox\" name=\"people[]\" id=\"people-alun-cairns-mp\" value=\"alun-cairns-mp\" class=\"govuk-checkboxes__input\" data-controls=\"js-search-results-info\"><label for=\"people-alun-cairns-mp\" class=\"govuk-label govuk-checkboxes__label\">The Rt Hon Alun Cairns</label>\\n\\n</div>\\n\\n              <div class=\"govuk-checkboxes__item\">\\n                <input type=\"checkbox\" name=\"people[]\" id=\"people-amber-rudd\" value=\"amber-rudd\" class=\"govuk-checkboxes__input\" data-controls=\"js-search-results-info\"><label for=\"people-amber-rudd\" class=\"govuk-label govuk-checkboxes__label\">The Rt Hon Amber Rudd</label>\\n\\n</div>\\n\\n              <div class=\"govuk-checkboxes__item\">\\n                <input type=\"checkbox\" name=\"people[]\" id=\"people-andrea-leadsom\" value=\"andrea-leadsom\" class=\"govuk-checkboxes__input\" data-controls=\"js-search-results-info\"><label for=\"people-andrea-leadsom\" class=\"govuk-label govuk-checkboxes__label\">The Rt Hon Andrea Leadsom</label>\\n\\n</div>\\n\\n              <div class=\"govuk-checkboxes__item\">\\n                <input type=\"checkbox\" name=\"people[]\" id=\"people-andrew-lansley\" value=\"andrew-lansley\" class=\"govuk-checkboxes__input\" data-controls=\"js-search-results-info\"><label for=\"people-andrew-lansley\" class=\"govuk-label govuk-checkboxes__label\">The Rt Hon Andrew Lansley CBE</label>\\n\\n</div>\\n\\n              <div class=\"govuk-checkboxes__item\">\\n                <input type=\"checkbox\" name=\"people[]\" id=\"people-andrew-mitchell\" value=\"andrew-mitchell\" class=\"govuk-checkboxes__input\" data-controls=\"js-search-results-info\"><label for=\"people-andrew-mitchell\" class=\"govuk-label govuk-checkboxes__label\">The Rt Hon Andrew Mitchell MP</label>\\n\\n</div>\\n\\n              <div class=\"govuk-checkboxes__item\">\\n                <input type=\"checkbox\" name=\"people[]\" id=\"people-andrew-robathan\" value=\"andrew-robathan\" class=\"govuk-checkboxes__input\" data-controls=\"js-search-results-info\"><label for=\"people-andrew-robathan\" class=\"govuk-label govuk-checkboxes__label\">The Rt Hon Andrew Robathan</label>\\n\\n</div>\\n\\n              <div class=\"govuk-checkboxes__item\">\\n                <input type=\"checkbox\" name=\"people[]\" id=\"people-andrew-stephenson\" value=\"andrew-stephenson\" class=\"govuk-checkboxes__input\" data-controls=\"js-search-results-info\"><label for=\"people-andrew-stephenson\" class=\"govuk-label govuk-checkboxes__label\">The Rt Hon Andrew Stephenson CBE</label>\\n\\n</div>\\n\\n              <div class=\"govuk-checkboxes__item\">\\n                <input type=\"checkbox\" name=\"people[]\" id=\"people-angela-rayner\" value=\"angela-rayner\" class=\"govuk-checkboxes__input\" data-controls=\"js-search-results-info\"><label for=\"people-angela-rayner\" class=\"govuk-label govuk-checkboxes__label\">The Rt Hon Angela Rayner MP</label>\\n\\n</div>\\n\\n              <div class=\"govuk-checkboxes__item\">\\n                <input type=\"checkbox\" name=\"people[]\" id=\"people-anna-soubry\" value=\"anna-soubry\" class=\"govuk-checkboxes__input\" data-controls=\"js-search-results-info\"><label for=\"people-anna-soubry\" class=\"govuk-label govuk-checkboxes__label\">The Rt Hon Anna Soubry</label>\\n\\n</div>\\n\\n              <div class=\"govuk-checkboxes__item\">\\n                <input type=\"checkbox\" name=\"people[]\" id=\"people-anne-milton\" value=\"anne-milton\" class=\"govuk-checkboxes__input\" data-controls=\"js-search-results-info\"><label for=\"people-anne-milton\" class=\"govuk-label govuk-checkboxes__label\">The Rt Hon Anne Milton</label>\\n\\n</div>\\n\\n              <div class=\"govuk-checkboxes__item\">\\n                <input type=\"checkbox\" name=\"people[]\" id=\"people-anne-marie-trevelyan\" value=\"anne-marie-trevelyan\" class=\"govuk-checkboxes__input\" data-controls=\"js-search-results-info\"><label for=\"people-anne-marie-trevelyan\" class=\"govuk-label govuk-checkboxes__label\">The Rt Hon Anne-Marie Trevelyan</label>\\n\\n</div>\\n\\n              <div class=\"govuk-checkboxes__item\">\\n                <input type=\"checkbox\" name=\"people[]\" id=\"people-anelay-of-st-johns\" value=\"anelay-of-st-johns\" class=\"govuk-checkboxes__input\" data-controls=\"js-search-results-info\"><label for=\"people-anelay-of-st-johns\" class=\"govuk-label govuk-checkboxes__label\">The Rt Hon Baroness Anelay of St Johns DBE</label>\\n\\n</div>\\n\\n              <div class=\"govuk-checkboxes__item\">\\n                <input type=\"checkbox\" name=\"people[]\" id=\"people-nicky-morgan\" value=\"nicky-morgan\" class=\"govuk-checkboxes__input\" data-controls=\"js-search-results-info\"><label for=\"people-nicky-morgan\" class=\"govuk-label govuk-checkboxes__label\">The Rt Hon Baroness Nicky Morgan</label>\\n\\n</div>\\n\\n              <div class=\"govuk-checkboxes__item\">\\n                <input type=\"checkbox\" name=\"people[]\" id=\"people-baroness-stowell-of-beeston\" value=\"baroness-stowell-of-beeston\" class=\"govuk-checkboxes__input\" data-controls=\"js-search-results-info\"><label for=\"people-baroness-stowell-of-beeston\" class=\"govuk-label govuk-checkboxes__label\">The Rt Hon Baroness Stowell of Beeston MBE</label>\\n\\n</div>\\n\\n              <div class=\"govuk-checkboxes__item\">\\n                <input type=\"checkbox\" name=\"people[]\" id=\"people-baroness-warsi\" value=\"baroness-warsi\" class=\"govuk-checkboxes__input\" data-controls=\"js-search-results-info\"><label for=\"people-baroness-warsi\" class=\"govuk-label govuk-checkboxes__label\">The Rt Hon Baroness Warsi</label>\\n\\n</div>\\n\\n              <div class=\"govuk-checkboxes__item\">\\n                <input type=\"checkbox\" name=\"people[]\" id=\"people-susan-williams-of-trafford\" value=\"susan-williams-of-trafford\" class=\"govuk-checkboxes__input\" data-controls=\"js-search-results-info\"><label for=\"people-susan-williams-of-trafford\" class=\"govuk-label govuk-checkboxes__label\">The Rt Hon Baroness Williams of Trafford</label>\\n\\n</div>\\n\\n              <div class=\"govuk-checkboxes__item\">\\n                <input type=\"checkbox\" name=\"people[]\" id=\"people-ben-gummer\" value=\"ben-gummer\" class=\"govuk-checkboxes__input\" data-controls=\"js-search-results-info\"><label for=\"people-ben-gummer\" class=\"govuk-label govuk-checkboxes__label\">The Rt Hon Ben Gummer</label>\\n\\n</div>\\n\\n              <div class=\"govuk-checkboxes__item\">\\n                <input type=\"checkbox\" name=\"people[]\" id=\"people-ben-wallace\" value=\"ben-wallace\" class=\"govuk-checkboxes__input\" data-controls=\"js-search-results-info\"><label for=\"people-ben-wallace\" class=\"govuk-label govuk-checkboxes__label\">The Rt Hon Ben Wallace</label>\\n\\n</div>\\n\\n              <div class=\"govuk-checkboxes__item\">\\n                <input type=\"checkbox\" name=\"people[]\" id=\"people-boris-johnson\" value=\"boris-johnson\" class=\"govuk-checkboxes__input\" data-controls=\"js-search-results-info\"><label for=\"people-boris-johnson\" class=\"govuk-label govuk-checkboxes__label\">The Rt Hon Boris Johnson</label>\\n\\n</div>\\n\\n              <div class=\"govuk-checkboxes__item\">\\n                <input type=\"checkbox\" name=\"people[]\" id=\"people-brandon-lewis\" value=\"brandon-lewis\" class=\"govuk-checkboxes__input\" data-controls=\"js-search-results-info\"><label for=\"people-brandon-lewis\" class=\"govuk-label govuk-checkboxes__label\">The Rt Hon Brandon Lewis CBE</label>\\n\\n</div>\\n\\n              <div class=\"govuk-checkboxes__item\">\\n                <input type=\"checkbox\" name=\"people[]\" id=\"people-bridget-phillipson\" value=\"bridget-phillipson\" class=\"govuk-checkboxes__input\" data-controls=\"js-search-results-info\"><label for=\"people-bridget-phillipson\" class=\"govuk-label govuk-checkboxes__label\">The Rt Hon Bridget Phillipson MP</label>\\n\\n</div>\\n\\n              <div class=\"govuk-checkboxes__item\">\\n                <input type=\"checkbox\" name=\"people[]\" id=\"people-caroline-nokes\" value=\"caroline-nokes\" class=\"govuk-checkboxes__input\" data-controls=\"js-search-results-info\"><label for=\"people-caroline-nokes\" class=\"govuk-label govuk-checkboxes__label\">The Rt Hon Caroline Nokes MP</label>\\n\\n</div>\\n\\n              <div class=\"govuk-checkboxes__item\">\\n                <input type=\"checkbox\" name=\"people[]\" id=\"people-cheryl-gillan\" value=\"cheryl-gillan\" class=\"govuk-checkboxes__input\" data-controls=\"js-search-results-info\"><label for=\"people-cheryl-gillan\" class=\"govuk-label govuk-checkboxes__label\">The Rt Hon Cheryl Gillan</label>\\n\\n</div>\\n\\n              <div class=\"govuk-checkboxes__item\">\\n                <input type=\"checkbox\" name=\"people[]\" id=\"people-chris-grayling\" value=\"chris-grayling\" class=\"govuk-checkboxes__input\" data-controls=\"js-search-results-info\"><label for=\"people-chris-grayling\" class=\"govuk-label govuk-checkboxes__label\">The Rt Hon Chris Grayling</label>\\n\\n</div>\\n\\n              <div class=\"govuk-checkboxes__item\">\\n                <input type=\"checkbox\" name=\"people[]\" id=\"people-chris-heaton-harris\" value=\"chris-heaton-harris\" class=\"govuk-checkboxes__input\" data-controls=\"js-search-results-info\"><label for=\"people-chris-heaton-harris\" class=\"govuk-label govuk-checkboxes__label\">The Rt Hon Chris Heaton-Harris</label>\\n\\n</div>\\n\\n              <div class=\"govuk-checkboxes__item\">\\n                <input type=\"checkbox\" name=\"people[]\" id=\"people-chris-huhne\" value=\"chris-huhne\" class=\"govuk-checkboxes__input\" data-controls=\"js-search-results-info\"><label for=\"people-chris-huhne\" class=\"govuk-label govuk-checkboxes__label\">The Rt Hon Chris Huhne</label>\\n\\n</div>\\n\\n              <div class=\"govuk-checkboxes__item\">\\n                <input type=\"checkbox\" name=\"people[]\" id=\"people-chris-philp-mp\" value=\"chris-philp-mp\" class=\"govuk-checkboxes__input\" data-controls=\"js-search-results-info\"><label for=\"people-chris-philp-mp\" class=\"govuk-label govuk-checkboxes__label\">The Rt Hon Chris Philp MP</label>\\n\\n</div>\\n\\n              <div class=\"govuk-checkboxes__item\">\\n                <input type=\"checkbox\" name=\"people[]\" id=\"people-chris-skidmore\" value=\"chris-skidmore\" class=\"govuk-checkboxes__input\" data-controls=\"js-search-results-info\"><label for=\"people-chris-skidmore\" class=\"govuk-label govuk-checkboxes__label\">The Rt Hon Chris Skidmore</label>\\n\\n</div>\\n\\n              <div class=\"govuk-checkboxes__item\">\\n                <input type=\"checkbox\" name=\"people[]\" id=\"people-christopher-pincher\" value=\"christopher-pincher\" class=\"govuk-checkboxes__input\" data-controls=\"js-search-results-info\"><label for=\"people-christopher-pincher\" class=\"govuk-label govuk-checkboxes__label\">The Rt Hon Christopher Pincher</label>\\n\\n</div>\\n\\n              <div class=\"govuk-checkboxes__item\">\\n                <input type=\"checkbox\" name=\"people[]\" id=\"people-christopher-stuart\" value=\"christopher-stuart\" class=\"govuk-checkboxes__input\" data-controls=\"js-search-results-info\"><label for=\"people-christopher-stuart\" class=\"govuk-label govuk-checkboxes__label\">The Rt Hon Christopher Stuart</label>\\n\\n</div>\\n\\n              <div class=\"govuk-checkboxes__item\">\\n                <input type=\"checkbox\" name=\"people[]\" id=\"people-claire-coutinho\" value=\"claire-coutinho\" class=\"govuk-checkboxes__input\" data-controls=\"js-search-results-info\"><label for=\"people-claire-coutinho\" class=\"govuk-label govuk-checkboxes__label\">The Rt Hon Claire Coutinho MP</label>\\n\\n</div>\\n\\n              <div class=\"govuk-checkboxes__item\">\\n                <input type=\"checkbox\" name=\"people[]\" id=\"people-claire-perry\" value=\"claire-perry\" class=\"govuk-checkboxes__input\" data-controls=\"js-search-results-info\"><label for=\"people-claire-perry\" class=\"govuk-label govuk-checkboxes__label\">The Rt Hon Claire Perry</label>\\n\\n</div>\\n\\n              <div class=\"govuk-checkboxes__item\">\\n                <input type=\"checkbox\" name=\"people[]\" id=\"people-conor-burns\" value=\"conor-burns\" class=\"govuk-checkboxes__input\" data-controls=\"js-search-results-info\"><label for=\"people-conor-burns\" class=\"govuk-label govuk-checkboxes__label\">The Rt Hon Conor Burns</label>\\n\\n</div>\\n\\n              <div class=\"govuk-checkboxes__item\">\\n                <input type=\"checkbox\" name=\"people[]\" id=\"people-amanda-milling\" value=\"amanda-milling\" class=\"govuk-checkboxes__input\" data-controls=\"js-search-results-info\"><label for=\"people-amanda-milling\" class=\"govuk-label govuk-checkboxes__label\">The Rt Hon Dame Amanda Milling</label>\\n\\n</div>\\n\\n              <div class=\"govuk-checkboxes__item\">\\n                <input type=\"checkbox\" name=\"people[]\" id=\"people-damian-green\" value=\"damian-green\" class=\"govuk-checkboxes__input\" data-controls=\"js-search-results-info\"><label for=\"people-damian-green\" class=\"govuk-label govuk-checkboxes__label\">The Rt Hon Damian Green</label>\\n\\n</div>\\n\\n              <div class=\"govuk-checkboxes__item\">\\n                <input type=\"checkbox\" name=\"people[]\" id=\"people-damian-hinds\" value=\"damian-hinds\" class=\"govuk-checkboxes__input\" data-controls=\"js-search-results-info\"><label for=\"people-damian-hinds\" class=\"govuk-label govuk-checkboxes__label\">The Rt Hon Damian Hinds MP</label>\\n\\n</div>\\n\\n              <div class=\"govuk-checkboxes__item\">\\n                <input type=\"checkbox\" name=\"people[]\" id=\"people-danny-alexander\" value=\"danny-alexander\" class=\"govuk-checkboxes__input\" data-controls=\"js-search-results-info\"><label for=\"people-danny-alexander\" class=\"govuk-label govuk-checkboxes__label\">The Rt Hon Danny Alexander</label>\\n\\n</div>\\n\\n              <div class=\"govuk-checkboxes__item\">\\n                <input type=\"checkbox\" name=\"people[]\" id=\"people-david-davis\" value=\"david-davis\" class=\"govuk-checkboxes__input\" data-controls=\"js-search-results-info\"><label for=\"people-david-davis\" class=\"govuk-label govuk-checkboxes__label\">The Rt Hon David Davis MP</label>\\n\\n</div>\\n\\n              <div class=\"govuk-checkboxes__item\">\\n                <input type=\"checkbox\" name=\"people[]\" id=\"people-david-evennett\" value=\"david-evennett\" class=\"govuk-checkboxes__input\" data-controls=\"js-search-results-info\"><label for=\"people-david-evennett\" class=\"govuk-label govuk-checkboxes__label\">The Rt Hon David Evennett</label>\\n\\n</div>\\n\\n              <div class=\"govuk-checkboxes__item\">\\n                <input type=\"checkbox\" name=\"people[]\" id=\"people-david-gauke\" value=\"david-gauke\" class=\"govuk-checkboxes__input\" data-controls=\"js-search-results-info\"><label for=\"people-david-gauke\" class=\"govuk-label govuk-checkboxes__label\">The Rt Hon David Gauke</label>\\n\\n</div>\\n\\n              <div class=\"govuk-checkboxes__item\">\\n                <input type=\"checkbox\" name=\"people[]\" id=\"people-david-jones\" value=\"david-jones\" class=\"govuk-checkboxes__input\" data-controls=\"js-search-results-info\"><label for=\"people-david-jones\" class=\"govuk-label govuk-checkboxes__label\">The Rt Hon David Jones</label>\\n\\n</div>\\n\\n              <div class=\"govuk-checkboxes__item\">\\n                <input type=\"checkbox\" name=\"people[]\" id=\"people-david-lammy\" value=\"david-lammy\" class=\"govuk-checkboxes__input\" data-controls=\"js-search-results-info\"><label for=\"people-david-lammy\" class=\"govuk-label govuk-checkboxes__label\">The Rt Hon David Lammy MP</label>\\n\\n</div>\\n\\n              <div class=\"govuk-checkboxes__item\">\\n                <input type=\"checkbox\" name=\"people[]\" id=\"people-david-laws\" value=\"david-laws\" class=\"govuk-checkboxes__input\" data-controls=\"js-search-results-info\"><label for=\"people-david-laws\" class=\"govuk-label govuk-checkboxes__label\">The Rt Hon David Laws</label>\\n\\n</div>\\n\\n              <div class=\"govuk-checkboxes__item\">\\n                <input type=\"checkbox\" name=\"people[]\" id=\"people-david-lidington\" value=\"david-lidington\" class=\"govuk-checkboxes__input\" data-controls=\"js-search-results-info\"><label for=\"people-david-lidington\" class=\"govuk-label govuk-checkboxes__label\">The Rt Hon David Lidington CBE</label>\\n\\n</div>\\n\\n              <div class=\"govuk-checkboxes__item\">\\n                <input type=\"checkbox\" name=\"people[]\" id=\"people-david-mundell\" value=\"david-mundell\" class=\"govuk-checkboxes__input\" data-controls=\"js-search-results-info\"><label for=\"people-david-mundell\" class=\"govuk-label govuk-checkboxes__label\">The Rt Hon David Mundell MP</label>\\n\\n</div>\\n\\n              <div class=\"govuk-checkboxes__item\">\\n                <input type=\"checkbox\" name=\"people[]\" id=\"people-david-tc-davies\" value=\"david-tc-davies\" class=\"govuk-checkboxes__input\" data-controls=\"js-search-results-info\"><label for=\"people-david-tc-davies\" class=\"govuk-label govuk-checkboxes__label\">The Rt Hon David TC Davies</label>\\n\\n</div>\\n\\n              <div class=\"govuk-checkboxes__item\">\\n                <input type=\"checkbox\" name=\"people[]\" id=\"people-david-willetts\" value=\"david-willetts\" class=\"govuk-checkboxes__input\" data-controls=\"js-search-results-info\"><label for=\"people-david-willetts\" class=\"govuk-label govuk-checkboxes__label\">The Rt Hon David Willetts</label>\\n\\n</div>\\n\\n              <div class=\"govuk-checkboxes__item\">\\n                <input type=\"checkbox\" name=\"people[]\" id=\"people-dominic-grieve\" value=\"dominic-grieve\" class=\"govuk-checkboxes__input\" data-controls=\"js-search-results-info\"><label for=\"people-dominic-grieve\" class=\"govuk-label govuk-checkboxes__label\">The Rt Hon Dominic Grieve KC</label>\\n\\n</div>\\n\\n              <div class=\"govuk-checkboxes__item\">\\n                <input type=\"checkbox\" name=\"people[]\" id=\"people-dominic-raab\" value=\"dominic-raab\" class=\"govuk-checkboxes__input\" data-controls=\"js-search-results-info\"><label for=\"people-dominic-raab\" class=\"govuk-label govuk-checkboxes__label\">The Rt Hon Dominic Raab</label>\\n\\n</div>\\n\\n              <div class=\"govuk-checkboxes__item\">\\n                <input type=\"checkbox\" name=\"people[]\" id=\"people-don-foster\" value=\"don-foster\" class=\"govuk-checkboxes__input\" data-controls=\"js-search-results-info\"><label for=\"people-don-foster\" class=\"govuk-label govuk-checkboxes__label\">The Rt Hon Don Foster</label>\\n\\n</div>\\n\\n              <div class=\"govuk-checkboxes__item\">\\n                <input type=\"checkbox\" name=\"people[]\" id=\"people-andrew-murrison\" value=\"andrew-murrison\" class=\"govuk-checkboxes__input\" data-controls=\"js-search-results-info\"><label for=\"people-andrew-murrison\" class=\"govuk-label govuk-checkboxes__label\">The Rt Hon Dr Andrew Murrison MP</label>\\n\\n</div>\\n\\n              <div class=\"govuk-checkboxes__item\">\\n                <input type=\"checkbox\" name=\"people[]\" id=\"people-vince-cable\" value=\"vince-cable\" class=\"govuk-checkboxes__input\" data-controls=\"js-search-results-info\"><label for=\"people-vince-cable\" class=\"govuk-label govuk-checkboxes__label\">The Rt Hon Dr Vince Cable</label>\\n\\n</div>\\n\\n              <div class=\"govuk-checkboxes__item\">\\n                <input type=\"checkbox\" name=\"people[]\" id=\"people-lord-howe\" value=\"lord-howe\" class=\"govuk-checkboxes__input\" data-controls=\"js-search-results-info\"><label for=\"people-lord-howe\" class=\"govuk-label govuk-checkboxes__label\">The Rt Hon Earl Howe GBE</label>\\n\\n</div>\\n\\n              <div class=\"govuk-checkboxes__item\">\\n                <input type=\"checkbox\" name=\"people[]\" id=\"people-ed-miliband\" value=\"ed-miliband\" class=\"govuk-checkboxes__input\" data-controls=\"js-search-results-info\"><label for=\"people-ed-miliband\" class=\"govuk-label govuk-checkboxes__label\">The Rt Hon Ed Miliband MP</label>\\n\\n</div>\\n\\n              <div class=\"govuk-checkboxes__item\">\\n                <input type=\"checkbox\" name=\"people[]\" id=\"people-edward-argar\" value=\"edward-argar\" class=\"govuk-checkboxes__input\" data-controls=\"js-search-results-info\"><label for=\"people-edward-argar\" class=\"govuk-label govuk-checkboxes__label\">The Rt Hon Edward Argar MP</label>\\n\\n</div>\\n\\n              <div class=\"govuk-checkboxes__item\">\\n                <input type=\"checkbox\" name=\"people[]\" id=\"people-elizabeth-truss\" value=\"elizabeth-truss\" class=\"govuk-checkboxes__input\" data-controls=\"js-search-results-info\"><label for=\"people-elizabeth-truss\" class=\"govuk-label govuk-checkboxes__label\">The Rt Hon Elizabeth Truss</label>\\n\\n</div>\\n\\n              <div class=\"govuk-checkboxes__item\">\\n                <input type=\"checkbox\" name=\"people[]\" id=\"people-esther-mcvey\" value=\"esther-mcvey\" class=\"govuk-checkboxes__input\" data-controls=\"js-search-results-info\"><label for=\"people-esther-mcvey\" class=\"govuk-label govuk-checkboxes__label\">The Rt Hon Esther McVey MP</label>\\n\\n</div>\\n\\n              <div class=\"govuk-checkboxes__item\">\\n                <input type=\"checkbox\" name=\"people[]\" id=\"people-gavin-barwell\" value=\"gavin-barwell\" class=\"govuk-checkboxes__input\" data-controls=\"js-search-results-info\"><label for=\"people-gavin-barwell\" class=\"govuk-label govuk-checkboxes__label\">The Rt Hon Gavin Barwell</label>\\n\\n</div>\\n\\n              <div class=\"govuk-checkboxes__item\">\\n                <input type=\"checkbox\" name=\"people[]\" id=\"people-geoffrey-cox\" value=\"geoffrey-cox\" class=\"govuk-checkboxes__input\" data-controls=\"js-search-results-info\"><label for=\"people-geoffrey-cox\" class=\"govuk-label govuk-checkboxes__label\">The Rt Hon Geoffrey Cox KC MP</label>\\n\\n</div>\\n\\n              <div class=\"govuk-checkboxes__item\">\\n                <input type=\"checkbox\" name=\"people[]\" id=\"people-george-eustice\" value=\"george-eustice\" class=\"govuk-checkboxes__input\" data-controls=\"js-search-results-info\"><label for=\"people-george-eustice\" class=\"govuk-label govuk-checkboxes__label\">The Rt Hon George Eustice</label>\\n\\n</div>\\n\\n              <div class=\"govuk-checkboxes__item\">\\n                <input type=\"checkbox\" name=\"people[]\" id=\"people-george-osborne\" value=\"george-osborne\" class=\"govuk-checkboxes__input\" data-controls=\"js-search-results-info\"><label for=\"people-george-osborne\" class=\"govuk-label govuk-checkboxes__label\">The Rt Hon George Osborne</label>\\n\\n</div>\\n\\n              <div class=\"govuk-checkboxes__item\">\\n                <input type=\"checkbox\" name=\"people[]\" id=\"people-gillian-keegan\" value=\"gillian-keegan\" class=\"govuk-checkboxes__input\" data-controls=\"js-search-results-info\"><label for=\"people-gillian-keegan\" class=\"govuk-label govuk-checkboxes__label\">The Rt Hon Gillian Keegan</label>\\n\\n</div>\\n\\n              <div class=\"govuk-checkboxes__item\">\\n                <input type=\"checkbox\" name=\"people[]\" id=\"people-gordon-brown\" value=\"gordon-brown\" class=\"govuk-checkboxes__input\" data-controls=\"js-search-results-info\"><label for=\"people-gordon-brown\" class=\"govuk-label govuk-checkboxes__label\">The Rt Hon Gordon Brown</label>\\n\\n</div>\\n\\n              <div class=\"govuk-checkboxes__item\">\\n                <input type=\"checkbox\" name=\"people[]\" id=\"people-graham-stuart\" value=\"graham-stuart\" class=\"govuk-checkboxes__input\" data-controls=\"js-search-results-info\"><label for=\"people-graham-stuart\" class=\"govuk-label govuk-checkboxes__label\">The Rt Hon Graham Stuart MP</label>\\n\\n</div>\\n\\n              <div class=\"govuk-checkboxes__item\">\\n                <input type=\"checkbox\" name=\"people[]\" id=\"people-grant-shapps\" value=\"grant-shapps\" class=\"govuk-checkboxes__input\" data-controls=\"js-search-results-info\"><label for=\"people-grant-shapps\" class=\"govuk-label govuk-checkboxes__label\">The Rt Hon Grant Shapps</label>\\n\\n</div>\\n\\n              <div class=\"govuk-checkboxes__item\">\\n                <input type=\"checkbox\" name=\"people[]\" id=\"people-greg-clark\" value=\"greg-clark\" class=\"govuk-checkboxes__input\" data-controls=\"js-search-results-info\"><label for=\"people-greg-clark\" class=\"govuk-label govuk-checkboxes__label\">The Rt Hon Greg Clark</label>\\n\\n</div>\\n\\n              <div class=\"govuk-checkboxes__item\">\\n                <input type=\"checkbox\" name=\"people[]\" id=\"people-greg-hands\" value=\"greg-hands\" class=\"govuk-checkboxes__input\" data-controls=\"js-search-results-info\"><label for=\"people-greg-hands\" class=\"govuk-label govuk-checkboxes__label\">The Rt Hon Greg Hands</label>\\n\\n</div>\\n\\n              <div class=\"govuk-checkboxes__item\">\\n                <input type=\"checkbox\" name=\"people[]\" id=\"people-gregory-barker\" value=\"gregory-barker\" class=\"govuk-checkboxes__input\" data-controls=\"js-search-results-info\"><label for=\"people-gregory-barker\" class=\"govuk-label govuk-checkboxes__label\">The Rt Hon Gregory Barker</label>\\n\\n</div>\\n\\n              <div class=\"govuk-checkboxes__item\">\\n                <input type=\"checkbox\" name=\"people[]\" id=\"people-hilary-benn\" value=\"hilary-benn\" class=\"govuk-checkboxes__input\" data-controls=\"js-search-results-info\"><label for=\"people-hilary-benn\" class=\"govuk-label govuk-checkboxes__label\">The Rt Hon Hilary Benn MP</label>\\n\\n</div>\\n\\n              <div class=\"govuk-checkboxes__item\">\\n                <input type=\"checkbox\" name=\"people[]\" id=\"people-hugh-robertson\" value=\"hugh-robertson\" class=\"govuk-checkboxes__input\" data-controls=\"js-search-results-info\"><label for=\"people-hugh-robertson\" class=\"govuk-label govuk-checkboxes__label\">The Rt Hon Hugh Robertson</label>\\n\\n</div>\\n\\n              <div class=\"govuk-checkboxes__item\">\\n                <input type=\"checkbox\" name=\"people[]\" id=\"people-hugo-swire\" value=\"hugo-swire\" class=\"govuk-checkboxes__input\" data-controls=\"js-search-results-info\"><label for=\"people-hugo-swire\" class=\"govuk-label govuk-checkboxes__label\">The Rt Hon Hugo Swire</label>\\n\\n</div>\\n\\n              <div class=\"govuk-checkboxes__item\">\\n                <input type=\"checkbox\" name=\"people[]\" id=\"people-iain-duncan-smith\" value=\"iain-duncan-smith\" class=\"govuk-checkboxes__input\" data-controls=\"js-search-results-info\"><label for=\"people-iain-duncan-smith\" class=\"govuk-label govuk-checkboxes__label\">The Rt Hon Iain Duncan Smith MP</label>\\n\\n</div>\\n\\n              <div class=\"govuk-checkboxes__item\">\\n                <input type=\"checkbox\" name=\"people[]\" id=\"people-ian-murray\" value=\"ian-murray\" class=\"govuk-checkboxes__input\" data-controls=\"js-search-results-info\"><label for=\"people-ian-murray\" class=\"govuk-label govuk-checkboxes__label\">The Rt Hon Ian Murray MP</label>\\n\\n</div>\\n\\n              <div class=\"govuk-checkboxes__item\">\\n                <input type=\"checkbox\" name=\"people[]\" id=\"people-jacob-rees-mogg\" value=\"jacob-rees-mogg\" class=\"govuk-checkboxes__input\" data-controls=\"js-search-results-info\"><label for=\"people-jacob-rees-mogg\" class=\"govuk-label govuk-checkboxes__label\">The Rt Hon Jacob Rees-Mogg</label>\\n\\n</div>\\n\\n              <div class=\"govuk-checkboxes__item\">\\n                <input type=\"checkbox\" name=\"people[]\" id=\"people-jake-berry\" value=\"jake-berry\" class=\"govuk-checkboxes__input\" data-controls=\"js-search-results-info\"><label for=\"people-jake-berry\" class=\"govuk-label govuk-checkboxes__label\">The Rt Hon Jake Berry</label>\\n\\n</div>\\n\\n              <div class=\"govuk-checkboxes__item\">\\n                <input type=\"checkbox\" name=\"people[]\" id=\"people-james-brokenshire\" value=\"james-brokenshire\" class=\"govuk-checkboxes__input\" data-controls=\"js-search-results-info\"><label for=\"people-james-brokenshire\" class=\"govuk-label govuk-checkboxes__label\">The Rt Hon James Brokenshire</label>\\n\\n</div>\\n\\n              <div class=\"govuk-checkboxes__item\">\\n                <input type=\"checkbox\" name=\"people[]\" id=\"people-james-cleverly\" value=\"james-cleverly\" class=\"govuk-checkboxes__input\" data-controls=\"js-search-results-info\"><label for=\"people-james-cleverly\" class=\"govuk-label govuk-checkboxes__label\">The Rt Hon James Cleverly MP</label>\\n\\n</div>\\n\\n              <div class=\"govuk-checkboxes__item\">\\n                <input type=\"checkbox\" name=\"people[]\" id=\"people-james-heappey\" value=\"james-heappey\" class=\"govuk-checkboxes__input\" data-controls=\"js-search-results-info\"><label for=\"people-james-heappey\" class=\"govuk-label govuk-checkboxes__label\">The Rt Hon James Heappey</label>\\n\\n</div>\\n\\n              <div class=\"govuk-checkboxes__item\">\\n                <input type=\"checkbox\" name=\"people[]\" id=\"people-james-paice\" value=\"james-paice\" class=\"govuk-checkboxes__input\" data-controls=\"js-search-results-info\"><label for=\"people-james-paice\" class=\"govuk-label govuk-checkboxes__label\">The Rt Hon James Paice</label>\\n\\n</div>\\n\\n              <div class=\"govuk-checkboxes__item\">\\n                <input type=\"checkbox\" name=\"people[]\" id=\"people-jeremy-hunt\" value=\"jeremy-hunt\" class=\"govuk-checkboxes__input\" data-controls=\"js-search-results-info\"><label for=\"people-jeremy-hunt\" class=\"govuk-label govuk-checkboxes__label\">The Rt Hon Jeremy Hunt MP</label>\\n\\n</div>\\n\\n              <div class=\"govuk-checkboxes__item\">\\n                <input type=\"checkbox\" name=\"people[]\" id=\"people-jeremy-quin\" value=\"jeremy-quin\" class=\"govuk-checkboxes__input\" data-controls=\"js-search-results-info\"><label for=\"people-jeremy-quin\" class=\"govuk-label govuk-checkboxes__label\">The Rt Hon Jeremy Quin</label>\\n\\n</div>\\n\\n              <div class=\"govuk-checkboxes__item\">\\n                <input type=\"checkbox\" name=\"people[]\" id=\"people-jesse-norman\" value=\"jesse-norman\" class=\"govuk-checkboxes__input\" data-controls=\"js-search-results-info\"><label for=\"people-jesse-norman\" class=\"govuk-label govuk-checkboxes__label\">The Rt Hon Jesse Norman MP</label>\\n\\n</div>\\n\\n              <div class=\"govuk-checkboxes__item\">\\n                <input type=\"checkbox\" name=\"people[]\" id=\"people-jo-johnson\" value=\"jo-johnson\" class=\"govuk-checkboxes__input\" data-controls=\"js-search-results-info\"><label for=\"people-jo-johnson\" class=\"govuk-label govuk-checkboxes__label\">The Rt Hon Jo Johnson</label>\\n\\n</div>\\n\\n              <div class=\"govuk-checkboxes__item\">\\n                <input type=\"checkbox\" name=\"people[]\" id=\"people-john-glen\" value=\"john-glen\" class=\"govuk-checkboxes__input\" data-controls=\"js-search-results-info\"><label for=\"people-john-glen\" class=\"govuk-label govuk-checkboxes__label\">The Rt Hon John Glen MP</label>\\n\\n</div>\\n\\n              <div class=\"govuk-checkboxes__item\">\\n                <input type=\"checkbox\" name=\"people[]\" id=\"people-john-hayes\" value=\"john-hayes\" class=\"govuk-checkboxes__input\" data-controls=\"js-search-results-info\"><label for=\"people-john-hayes\" class=\"govuk-label govuk-checkboxes__label\">The Rt Hon John Hayes CBE MP</label>\\n\\n</div>\\n\\n              <div class=\"govuk-checkboxes__item\">\\n                <input type=\"checkbox\" name=\"people[]\" id=\"people-john-healey\" value=\"john-healey\" class=\"govuk-checkboxes__input\" data-controls=\"js-search-results-info\"><label for=\"people-john-healey\" class=\"govuk-label govuk-checkboxes__label\">The Rt Hon John Healey MP</label>\\n\\n</div>\\n\\n              <div class=\"govuk-checkboxes__item\">\\n                <input type=\"checkbox\" name=\"people[]\" id=\"people-johnny-mercer\" value=\"johnny-mercer\" class=\"govuk-checkboxes__input\" data-controls=\"js-search-results-info\"><label for=\"people-johnny-mercer\" class=\"govuk-label govuk-checkboxes__label\">The Rt Hon Johnny Mercer</label>\\n\\n</div>\\n\\n              <div class=\"govuk-checkboxes__item\">\\n                <input type=\"checkbox\" name=\"people[]\" id=\"people-julian-smith\" value=\"julian-smith\" class=\"govuk-checkboxes__input\" data-controls=\"js-search-results-info\"><label for=\"people-julian-smith\" class=\"govuk-label govuk-checkboxes__label\">The Rt Hon Julian Smith MP</label>\\n\\n</div>\\n\\n              <div class=\"govuk-checkboxes__item\">\\n                <input type=\"checkbox\" name=\"people[]\" id=\"people-justine-greening\" value=\"justine-greening\" class=\"govuk-checkboxes__input\" data-controls=\"js-search-results-info\"><label for=\"people-justine-greening\" class=\"govuk-label govuk-checkboxes__label\">The Rt Hon Justine Greening</label>\\n\\n</div>\\n\\n              <div class=\"govuk-checkboxes__item\">\\n                <input type=\"checkbox\" name=\"people[]\" id=\"people-karen-bradley\" value=\"karen-bradley\" class=\"govuk-checkboxes__input\" data-controls=\"js-search-results-info\"><label for=\"people-karen-bradley\" class=\"govuk-label govuk-checkboxes__label\">The Rt Hon Karen Bradley MP</label>\\n\\n</div>\\n\\n              <div class=\"govuk-checkboxes__item\">\\n                <input type=\"checkbox\" name=\"people[]\" id=\"people-kelly-tolhurst\" value=\"kelly-tolhurst\" class=\"govuk-checkboxes__input\" data-controls=\"js-search-results-info\"><label for=\"people-kelly-tolhurst\" class=\"govuk-label govuk-checkboxes__label\">The Rt Hon Kelly Tolhurst</label>\\n\\n</div>\\n\\n              <div class=\"govuk-checkboxes__item\">\\n                <input type=\"checkbox\" name=\"people[]\" id=\"people-kemi-badenoch\" value=\"kemi-badenoch\" class=\"govuk-checkboxes__input\" data-controls=\"js-search-results-info\"><label for=\"people-kemi-badenoch\" class=\"govuk-label govuk-checkboxes__label\">The Rt Hon Kemi Badenoch MP</label>\\n\\n</div>\\n\\n              <div class=\"govuk-checkboxes__item\">\\n                <input type=\"checkbox\" name=\"people[]\" id=\"people-kenneth-clarke\" value=\"kenneth-clarke\" class=\"govuk-checkboxes__input\" data-controls=\"js-search-results-info\"><label for=\"people-kenneth-clarke\" class=\"govuk-label govuk-checkboxes__label\">The Rt Hon Kenneth Clarke KC</label>\\n\\n</div>\\n\\n              <div class=\"govuk-checkboxes__item\">\\n                <input type=\"checkbox\" name=\"people[]\" id=\"people-kit-malthouse\" value=\"kit-malthouse\" class=\"govuk-checkboxes__input\" data-controls=\"js-search-results-info\"><label for=\"people-kit-malthouse\" class=\"govuk-label govuk-checkboxes__label\">The Rt Hon Kit Malthouse MP</label>\\n\\n</div>\\n\\n              <div class=\"govuk-checkboxes__item\">\\n                <input type=\"checkbox\" name=\"people[]\" id=\"people-kwasi-kwarteng\" value=\"kwasi-kwarteng\" class=\"govuk-checkboxes__input\" data-controls=\"js-search-results-info\"><label for=\"people-kwasi-kwarteng\" class=\"govuk-label govuk-checkboxes__label\">The Rt Hon Kwasi Kwarteng</label>\\n\\n</div>\\n\\n              <div class=\"govuk-checkboxes__item\">\\n                <input type=\"checkbox\" name=\"people[]\" id=\"people-laura-trott\" value=\"laura-trott\" class=\"govuk-checkboxes__input\" data-controls=\"js-search-results-info\"><label for=\"people-laura-trott\" class=\"govuk-label govuk-checkboxes__label\">The Rt Hon Laura Trott MBE MP</label>\\n\\n</div>\\n\\n              <div class=\"govuk-checkboxes__item\">\\n                <input type=\"checkbox\" name=\"people[]\" id=\"people-liam-fox\" value=\"liam-fox\" class=\"govuk-checkboxes__input\" data-controls=\"js-search-results-info\"><label for=\"people-liam-fox\" class=\"govuk-label govuk-checkboxes__label\">The Rt Hon Liam Fox</label>\\n\\n</div>\\n\\n              <div class=\"govuk-checkboxes__item\">\\n                <input type=\"checkbox\" name=\"people[]\" id=\"people-andrew-tyrie\" value=\"andrew-tyrie\" class=\"govuk-checkboxes__input\" data-controls=\"js-search-results-info\"><label for=\"people-andrew-tyrie\" class=\"govuk-label govuk-checkboxes__label\">The Rt Hon Lord Andrew Tyrie</label>\\n\\n</div>\\n\\n              <div class=\"govuk-checkboxes__item\">\\n                <input type=\"checkbox\" name=\"people[]\" id=\"people-lord-ashton-of-hyde\" value=\"lord-ashton-of-hyde\" class=\"govuk-checkboxes__input\" data-controls=\"js-search-results-info\"><label for=\"people-lord-ashton-of-hyde\" class=\"govuk-label govuk-checkboxes__label\">The Rt Hon Lord Ashton of Hyde</label>\\n\\n</div>\\n\\n              <div class=\"govuk-checkboxes__item\">\\n                <input type=\"checkbox\" name=\"people[]\" id=\"people-lord-bates\" value=\"lord-bates\" class=\"govuk-checkboxes__input\" data-controls=\"js-search-results-info\"><label for=\"people-lord-bates\" class=\"govuk-label govuk-checkboxes__label\">The Rt Hon Lord Bates</label>\\n\\n</div>\\n\\n              <div class=\"govuk-checkboxes__item\">\\n                <input type=\"checkbox\" name=\"people[]\" id=\"people-richard-benyon\" value=\"richard-benyon\" class=\"govuk-checkboxes__input\" data-controls=\"js-search-results-info\"><label for=\"people-richard-benyon\" class=\"govuk-label govuk-checkboxes__label\">The Rt Hon Lord Benyon</label>\\n\\n</div>\\n\\n              <div class=\"govuk-checkboxes__item\">\\n                <input type=\"checkbox\" name=\"people[]\" id=\"people-david-cameron\" value=\"david-cameron\" class=\"govuk-checkboxes__input\" data-controls=\"js-search-results-info\"><label for=\"people-david-cameron\" class=\"govuk-label govuk-checkboxes__label\">The Rt Hon Lord Cameron</label>\\n\\n</div>\\n\\n              <div class=\"govuk-checkboxes__item\">\\n                <input type=\"checkbox\" name=\"people[]\" id=\"people-lord-freud\" value=\"lord-freud\" class=\"govuk-checkboxes__input\" data-controls=\"js-search-results-info\"><label for=\"people-lord-freud\" class=\"govuk-label govuk-checkboxes__label\">The Rt Hon Lord Freud</label>\\n\\n</div>\\n\\n              <div class=\"govuk-checkboxes__item\">\\n                <input type=\"checkbox\" name=\"people[]\" id=\"people-lord-frost-of-allenton\" value=\"lord-frost-of-allenton\" class=\"govuk-checkboxes__input\" data-controls=\"js-search-results-info\"><label for=\"people-lord-frost-of-allenton\" class=\"govuk-label govuk-checkboxes__label\">The Rt Hon Lord Frost CMG</label>\\n\\n</div>\\n\\n              <div class=\"govuk-checkboxes__item\">\\n                <input type=\"checkbox\" name=\"people[]\" id=\"people-lord-henley\" value=\"lord-henley\" class=\"govuk-checkboxes__input\" data-controls=\"js-search-results-info\"><label for=\"people-lord-henley\" class=\"govuk-label govuk-checkboxes__label\">The Rt Hon Lord Henley</label>\\n\\n</div>\\n\\n              <div class=\"govuk-checkboxes__item\">\\n                <input type=\"checkbox\" name=\"people[]\" id=\"people-nick-herbert\" value=\"nick-herbert\" class=\"govuk-checkboxes__input\" data-controls=\"js-search-results-info\"><label for=\"people-nick-herbert\" class=\"govuk-label govuk-checkboxes__label\">The Rt Hon Lord Herbert of South Downs CBE PC</label>\\n\\n</div>\\n\\n              <div class=\"govuk-checkboxes__item\">\\n                <input type=\"checkbox\" name=\"people[]\" id=\"people-lord-hill-of-oareford\" value=\"lord-hill-of-oareford\" class=\"govuk-checkboxes__input\" data-controls=\"js-search-results-info\"><label for=\"people-lord-hill-of-oareford\" class=\"govuk-label govuk-checkboxes__label\">The Rt Hon Lord Hill of Oareford CBE</label>\\n\\n</div>\\n\\n              <div class=\"govuk-checkboxes__item\">\\n                <input type=\"checkbox\" name=\"people[]\" id=\"people-lord-howell-of-guildford\" value=\"lord-howell-of-guildford\" class=\"govuk-checkboxes__input\" data-controls=\"js-search-results-info\"><label for=\"people-lord-howell-of-guildford\" class=\"govuk-label govuk-checkboxes__label\">The Rt Hon Lord Howell of Guildford</label>\\n\\n</div>\\n\\n              <div class=\"govuk-checkboxes__item\">\\n                <input type=\"checkbox\" name=\"people[]\" id=\"people-richard-keen\" value=\"richard-keen\" class=\"govuk-checkboxes__input\" data-controls=\"js-search-results-info\"><label for=\"people-richard-keen\" class=\"govuk-label govuk-checkboxes__label\">The Rt Hon Lord Keen of Elie KC</label>\\n\\n</div>\\n\\n              <div class=\"govuk-checkboxes__item\">\\n                <input type=\"checkbox\" name=\"people[]\" id=\"people-lord-marland\" value=\"lord-marland\" class=\"govuk-checkboxes__input\" data-controls=\"js-search-results-info\"><label for=\"people-lord-marland\" class=\"govuk-label govuk-checkboxes__label\">The Rt Hon Lord Marland</label>\\n\\n</div>\\n\\n              <div class=\"govuk-checkboxes__item\">\\n                <input type=\"checkbox\" name=\"people[]\" id=\"people-francis-maude\" value=\"francis-maude\" class=\"govuk-checkboxes__input\" data-controls=\"js-search-results-info\"><label for=\"people-francis-maude\" class=\"govuk-label govuk-checkboxes__label\">The Rt Hon Lord Maude of Horsham</label>\\n\\n</div>\\n\\n              <div class=\"govuk-checkboxes__item\">\\n                <input type=\"checkbox\" name=\"people[]\" id=\"people-lord-mcnally\" value=\"lord-mcnally\" class=\"govuk-checkboxes__input\" data-controls=\"js-search-results-info\"><label for=\"people-lord-mcnally\" class=\"govuk-label govuk-checkboxes__label\">The Rt Hon Lord McNally</label>\\n\\n</div>\\n\\n              <div class=\"govuk-checkboxes__item\">\\n                <input type=\"checkbox\" name=\"people[]\" id=\"people-eric-pickles\" value=\"eric-pickles\" class=\"govuk-checkboxes__input\" data-controls=\"js-search-results-info\"><label for=\"people-eric-pickles\" class=\"govuk-label govuk-checkboxes__label\">The Rt Hon Lord Pickles</label>\\n\\n</div>\\n\\n              <div class=\"govuk-checkboxes__item\">\\n                <input type=\"checkbox\" name=\"people[]\" id=\"people-lord-strathclyde\" value=\"lord-strathclyde\" class=\"govuk-checkboxes__input\" data-controls=\"js-search-results-info\"><label for=\"people-lord-strathclyde\" class=\"govuk-label govuk-checkboxes__label\">The Rt Hon Lord Strathclyde</label>\\n\\n</div>\\n\\n              <div class=\"govuk-checkboxes__item\">\\n                <input type=\"checkbox\" name=\"people[]\" id=\"people-lord-taylor-of-holbeach\" value=\"lord-taylor-of-holbeach\" class=\"govuk-checkboxes__input\" data-controls=\"js-search-results-info\"><label for=\"people-lord-taylor-of-holbeach\" class=\"govuk-label govuk-checkboxes__label\">The Rt Hon Lord Taylor of Holbeach CBE</label>\\n\\n</div>\\n\\n              <div class=\"govuk-checkboxes__item\">\\n                <input type=\"checkbox\" name=\"people[]\" id=\"people-lord-true\" value=\"lord-true\" class=\"govuk-checkboxes__input\" data-controls=\"js-search-results-info\"><label for=\"people-lord-true\" class=\"govuk-label govuk-checkboxes__label\">The Rt Hon Lord True CBE</label>\\n\\n</div>\\n\\n              <div class=\"govuk-checkboxes__item\">\\n                <input type=\"checkbox\" name=\"people[]\" id=\"people-lord-wallace-of-saltaire\" value=\"lord-wallace-of-saltaire\" class=\"govuk-checkboxes__input\" data-controls=\"js-search-results-info\"><label for=\"people-lord-wallace-of-saltaire\" class=\"govuk-label govuk-checkboxes__label\">The Rt Hon Lord Wallace of Saltaire</label>\\n\\n</div>\\n\\n              <div class=\"govuk-checkboxes__item\">\\n                <input type=\"checkbox\" name=\"people[]\" id=\"people-lord-wallace-of-tankerness\" value=\"lord-wallace-of-tankerness\" class=\"govuk-checkboxes__input\" data-controls=\"js-search-results-info\"><label for=\"people-lord-wallace-of-tankerness\" class=\"govuk-label govuk-checkboxes__label\">The Rt Hon Lord Wallace of Tankerness KC</label>\\n\\n</div>\\n\\n              <div class=\"govuk-checkboxes__item\">\\n                <input type=\"checkbox\" name=\"people[]\" id=\"people-lord-young-of-cookham\" value=\"lord-young-of-cookham\" class=\"govuk-checkboxes__input\" data-controls=\"js-search-results-info\"><label for=\"people-lord-young-of-cookham\" class=\"govuk-label govuk-checkboxes__label\">The Rt Hon Lord Young of Cookham CH</label>\\n\\n</div>\\n\\n              <div class=\"govuk-checkboxes__item\">\\n                <input type=\"checkbox\" name=\"people[]\" id=\"people-louise-haigh\" value=\"louise-haigh\" class=\"govuk-checkboxes__input\" data-controls=\"js-search-results-info\"><label for=\"people-louise-haigh\" class=\"govuk-label govuk-checkboxes__label\">The Rt Hon Louise Haigh MP</label>\\n\\n</div>\\n\\n              <div class=\"govuk-checkboxes__item\">\\n                <input type=\"checkbox\" name=\"people[]\" id=\"people-lucy-frazer\" value=\"lucy-frazer\" class=\"govuk-checkboxes__input\" data-controls=\"js-search-results-info\"><label for=\"people-lucy-frazer\" class=\"govuk-label govuk-checkboxes__label\">The Rt Hon Lucy Frazer KC</label>\\n\\n</div>\\n\\n              <div class=\"govuk-checkboxes__item\">\\n                <input type=\"checkbox\" name=\"people[]\" id=\"people-lynne-featherstone\" value=\"lynne-featherstone\" class=\"govuk-checkboxes__input\" data-controls=\"js-search-results-info\"><label for=\"people-lynne-featherstone\" class=\"govuk-label govuk-checkboxes__label\">The Rt Hon Lynne Featherstone</label>\\n\\n</div>\\n\\n              <div class=\"govuk-checkboxes__item\">\\n                <input type=\"checkbox\" name=\"people[]\" id=\"people-marcus-jones\" value=\"marcus-jones\" class=\"govuk-checkboxes__input\" data-controls=\"js-search-results-info\"><label for=\"people-marcus-jones\" class=\"govuk-label govuk-checkboxes__label\">The Rt Hon Marcus Jones</label>\\n\\n</div>\\n\\n              <div class=\"govuk-checkboxes__item\">\\n                <input type=\"checkbox\" name=\"people[]\" id=\"people-maria-miller\" value=\"maria-miller\" class=\"govuk-checkboxes__input\" data-controls=\"js-search-results-info\"><label for=\"people-maria-miller\" class=\"govuk-label govuk-checkboxes__label\">The Rt Hon Maria Miller</label>\\n\\n</div>\\n\\n              <div class=\"govuk-checkboxes__item\">\\n                <input type=\"checkbox\" name=\"people[]\" id=\"people-mark-field\" value=\"mark-field\" class=\"govuk-checkboxes__input\" data-controls=\"js-search-results-info\"><label for=\"people-mark-field\" class=\"govuk-label govuk-checkboxes__label\">The Rt Hon Mark Field</label>\\n\\n</div>\\n\\n              <div class=\"govuk-checkboxes__item\">\\n                <input type=\"checkbox\" name=\"people[]\" id=\"people-mark-francois\" value=\"mark-francois\" class=\"govuk-checkboxes__input\" data-controls=\"js-search-results-info\"><label for=\"people-mark-francois\" class=\"govuk-label govuk-checkboxes__label\">The Rt Hon Mark Francois MP</label>\\n\\n</div>\\n\\n              <div class=\"govuk-checkboxes__item\">\\n                <input type=\"checkbox\" name=\"people[]\" id=\"people-mark-harper\" value=\"mark-harper\" class=\"govuk-checkboxes__input\" data-controls=\"js-search-results-info\"><label for=\"people-mark-harper\" class=\"govuk-label govuk-checkboxes__label\">The Rt Hon Mark Harper</label>\\n\\n</div>\\n\\n              <div class=\"govuk-checkboxes__item\">\\n                <input type=\"checkbox\" name=\"people[]\" id=\"people-mark-lancaster\" value=\"mark-lancaster\" class=\"govuk-checkboxes__input\" data-controls=\"js-search-results-info\"><label for=\"people-mark-lancaster\" class=\"govuk-label govuk-checkboxes__label\">The Rt Hon Mark Lancaster TD</label>\\n\\n</div>\\n\\n              <div class=\"govuk-checkboxes__item\">\\n                <input type=\"checkbox\" name=\"people[]\" id=\"people-matthew-hancock\" value=\"matthew-hancock\" class=\"govuk-checkboxes__input\" data-controls=\"js-search-results-info\"><label for=\"people-matthew-hancock\" class=\"govuk-label govuk-checkboxes__label\">The Rt Hon Matt Hancock</label>\\n\\n</div>\\n\\n              <div class=\"govuk-checkboxes__item\">\\n                <input type=\"checkbox\" name=\"people[]\" id=\"people-mel-stride\" value=\"mel-stride\" class=\"govuk-checkboxes__input\" data-controls=\"js-search-results-info\"><label for=\"people-mel-stride\" class=\"govuk-label govuk-checkboxes__label\">The Rt Hon Mel Stride MP</label>\\n\\n</div>\\n\\n              <div class=\"govuk-checkboxes__item\">\\n                <input type=\"checkbox\" name=\"people[]\" id=\"people-michael-ellis\" value=\"michael-ellis\" class=\"govuk-checkboxes__input\" data-controls=\"js-search-results-info\"><label for=\"people-michael-ellis\" class=\"govuk-label govuk-checkboxes__label\">The Rt Hon Michael Ellis KC</label>\\n\\n</div>\\n\\n              <div class=\"govuk-checkboxes__item\">\\n                <input type=\"checkbox\" name=\"people[]\" id=\"people-michael-gove\" value=\"michael-gove\" class=\"govuk-checkboxes__input\" data-controls=\"js-search-results-info\"><label for=\"people-michael-gove\" class=\"govuk-label govuk-checkboxes__label\">The Rt Hon Michael Gove</label>\\n\\n</div>\\n\\n              <div class=\"govuk-checkboxes__item\">\\n                <input type=\"checkbox\" name=\"people[]\" id=\"people-michael-moore\" value=\"michael-moore\" class=\"govuk-checkboxes__input\" data-controls=\"js-search-results-info\"><label for=\"people-michael-moore\" class=\"govuk-label govuk-checkboxes__label\">The Rt Hon Michael Moore</label>\\n\\n</div>\\n\\n              <div class=\"govuk-checkboxes__item\">\\n                <input type=\"checkbox\" name=\"people[]\" id=\"people-michael-tomlinson\" value=\"michael-tomlinson\" class=\"govuk-checkboxes__input\" data-controls=\"js-search-results-info\"><label for=\"people-michael-tomlinson\" class=\"govuk-label govuk-checkboxes__label\">The Rt Hon Michael Tomlinson KC</label>\\n\\n</div>\\n\\n              <div class=\"govuk-checkboxes__item\">\\n                <input type=\"checkbox\" name=\"people[]\" id=\"people-michelle-donelan\" value=\"michelle-donelan\" class=\"govuk-checkboxes__input\" data-controls=\"js-search-results-info\"><label for=\"people-michelle-donelan\" class=\"govuk-label govuk-checkboxes__label\">The Rt Hon Michelle Donelan</label>\\n\\n</div>\\n\\n              <div class=\"govuk-checkboxes__item\">\\n                <input type=\"checkbox\" name=\"people[]\" id=\"people-nadhim-zahawi\" value=\"nadhim-zahawi\" class=\"govuk-checkboxes__input\" data-controls=\"js-search-results-info\"><label for=\"people-nadhim-zahawi\" class=\"govuk-label govuk-checkboxes__label\">The Rt Hon Nadhim Zahawi</label>\\n\\n</div>\\n\\n              <div class=\"govuk-checkboxes__item\">\\n                <input type=\"checkbox\" name=\"people[]\" id=\"people-nadine-dorries\" value=\"nadine-dorries\" class=\"govuk-checkboxes__input\" data-controls=\"js-search-results-info\"><label for=\"people-nadine-dorries\" class=\"govuk-label govuk-checkboxes__label\">The Rt Hon Nadine Dorries</label>\\n\\n</div>\\n\\n              <div class=\"govuk-checkboxes__item\">\\n                <input type=\"checkbox\" name=\"people[]\" id=\"people-nick-clegg\" value=\"nick-clegg\" class=\"govuk-checkboxes__input\" data-controls=\"js-search-results-info\"><label for=\"people-nick-clegg\" class=\"govuk-label govuk-checkboxes__label\">The Rt Hon Nick Clegg</label>\\n\\n</div>\\n\\n              <div class=\"govuk-checkboxes__item\">\\n                <input type=\"checkbox\" name=\"people[]\" id=\"people-nick-gibb\" value=\"nick-gibb\" class=\"govuk-checkboxes__input\" data-controls=\"js-search-results-info\"><label for=\"people-nick-gibb\" class=\"govuk-label govuk-checkboxes__label\">The Rt Hon Nick Gibb</label>\\n\\n</div>\\n\\n              <div class=\"govuk-checkboxes__item\">\\n                <input type=\"checkbox\" name=\"people[]\" id=\"people-nick-hurd\" value=\"nick-hurd\" class=\"govuk-checkboxes__input\" data-controls=\"js-search-results-info\"><label for=\"people-nick-hurd\" class=\"govuk-label govuk-checkboxes__label\">The Rt Hon Nick Hurd</label>\\n\\n</div>\\n\\n              <div class=\"govuk-checkboxes__item\">\\n                <input type=\"checkbox\" name=\"people[]\" id=\"people-nick-thomas-symonds\" value=\"nick-thomas-symonds\" class=\"govuk-checkboxes__input\" data-controls=\"js-search-results-info\"><label for=\"people-nick-thomas-symonds\" class=\"govuk-label govuk-checkboxes__label\">The Rt Hon Nick Thomas\\xe2\\x80\\x93Symonds MP</label>\\n\\n</div>\\n\\n              <div class=\"govuk-checkboxes__item\">\\n                <input type=\"checkbox\" name=\"people[]\" id=\"people-nigel-adams\" value=\"nigel-adams\" class=\"govuk-checkboxes__input\" data-controls=\"js-search-results-info\"><label for=\"people-nigel-adams\" class=\"govuk-label govuk-checkboxes__label\">The Rt Hon Nigel Adams</label>\\n\\n</div>\\n\\n              <div class=\"govuk-checkboxes__item\">\\n                <input type=\"checkbox\" name=\"people[]\" id=\"people-norman-baker\" value=\"norman-baker\" class=\"govuk-checkboxes__input\" data-controls=\"js-search-results-info\"><label for=\"people-norman-baker\" class=\"govuk-label govuk-checkboxes__label\">The Rt Hon Norman Baker</label>\\n\\n</div>\\n\\n              <div class=\"govuk-checkboxes__item\">\\n                <input type=\"checkbox\" name=\"people[]\" id=\"people-norman-lamb\" value=\"norman-lamb\" class=\"govuk-checkboxes__input\" data-controls=\"js-search-results-info\"><label for=\"people-norman-lamb\" class=\"govuk-label govuk-checkboxes__label\">The Rt Hon Norman Lamb</label>\\n\\n</div>\\n\\n              <div class=\"govuk-checkboxes__item\">\\n                <input type=\"checkbox\" name=\"people[]\" id=\"people-dowden\" value=\"dowden\" class=\"govuk-checkboxes__input\" data-controls=\"js-search-results-info\"><label for=\"people-dowden\" class=\"govuk-label govuk-checkboxes__label\">The Rt Hon Oliver Dowden CBE MP</label>\\n\\n</div>\\n\\n              <div class=\"govuk-checkboxes__item\">\\n                <input type=\"checkbox\" name=\"people[]\" id=\"people-oliver-letwin\" value=\"oliver-letwin\" class=\"govuk-checkboxes__input\" data-controls=\"js-search-results-info\"><label for=\"people-oliver-letwin\" class=\"govuk-label govuk-checkboxes__label\">The Rt Hon Oliver Letwin</label>\\n\\n</div>\\n\\n              <div class=\"govuk-checkboxes__item\">\\n                <input type=\"checkbox\" name=\"people[]\" id=\"people-owen-paterson\" value=\"owen-paterson\" class=\"govuk-checkboxes__input\" data-controls=\"js-search-results-info\"><label for=\"people-owen-paterson\" class=\"govuk-label govuk-checkboxes__label\">The Rt Hon Owen Paterson</label>\\n\\n</div>\\n\\n              <div class=\"govuk-checkboxes__item\">\\n                <input type=\"checkbox\" name=\"people[]\" id=\"people-penny-mordaunt\" value=\"penny-mordaunt\" class=\"govuk-checkboxes__input\" data-controls=\"js-search-results-info\"><label for=\"people-penny-mordaunt\" class=\"govuk-label govuk-checkboxes__label\">The Rt Hon Penny Mordaunt</label>\\n\\n</div>\\n\\n              <div class=\"govuk-checkboxes__item\">\\n                <input type=\"checkbox\" name=\"people[]\" id=\"people-philip-hammond\" value=\"philip-hammond\" class=\"govuk-checkboxes__input\" data-controls=\"js-search-results-info\"><label for=\"people-philip-hammond\" class=\"govuk-label govuk-checkboxes__label\">The Rt Hon Philip Hammond</label>\\n\\n</div>\\n\\n              <div class=\"govuk-checkboxes__item\">\\n                <input type=\"checkbox\" name=\"people[]\" id=\"people-priti-patel\" value=\"priti-patel\" class=\"govuk-checkboxes__input\" data-controls=\"js-search-results-info\"><label for=\"people-priti-patel\" class=\"govuk-label govuk-checkboxes__label\">The Rt Hon Priti Patel MP</label>\\n\\n</div>\\n\\n              <div class=\"govuk-checkboxes__item\">\\n                <input type=\"checkbox\" name=\"people[]\" id=\"people-rachel-reeves\" value=\"rachel-reeves\" class=\"govuk-checkboxes__input\" data-controls=\"js-search-results-info\"><label for=\"people-rachel-reeves\" class=\"govuk-label govuk-checkboxes__label\">The Rt Hon Rachel Reeves MP</label>\\n\\n</div>\\n\\n              <div class=\"govuk-checkboxes__item\">\\n                <input type=\"checkbox\" name=\"people[]\" id=\"people-ranil-jayawardena\" value=\"ranil-jayawardena\" class=\"govuk-checkboxes__input\" data-controls=\"js-search-results-info\"><label for=\"people-ranil-jayawardena\" class=\"govuk-label govuk-checkboxes__label\">The Rt Hon Ranil Jayawardena</label>\\n\\n</div>\\n\\n              <div class=\"govuk-checkboxes__item\">\\n                <input type=\"checkbox\" name=\"people[]\" id=\"people-richard-holden\" value=\"richard-holden\" class=\"govuk-checkboxes__input\" data-controls=\"js-search-results-info\"><label for=\"people-richard-holden\" class=\"govuk-label govuk-checkboxes__label\">The Rt Hon Richard Holden MP</label>\\n\\n</div>\\n\\n              <div class=\"govuk-checkboxes__item\">\\n                <input type=\"checkbox\" name=\"people[]\" id=\"people-rishi-sunak\" value=\"rishi-sunak\" class=\"govuk-checkboxes__input\" data-controls=\"js-search-results-info\"><label for=\"people-rishi-sunak\" class=\"govuk-label govuk-checkboxes__label\">The Rt Hon Rishi Sunak MP</label>\\n\\n</div>\\n\\n              <div class=\"govuk-checkboxes__item\">\\n                <input type=\"checkbox\" name=\"people[]\" id=\"people-robert-buckland\" value=\"robert-buckland\" class=\"govuk-checkboxes__input\" data-controls=\"js-search-results-info\"><label for=\"people-robert-buckland\" class=\"govuk-label govuk-checkboxes__label\">The Rt Hon Robert Buckland KC</label>\\n\\n</div>\\n\\n              <div class=\"govuk-checkboxes__item\">\\n                <input type=\"checkbox\" name=\"people[]\" id=\"people-robert-halfon\" value=\"robert-halfon\" class=\"govuk-checkboxes__input\" data-controls=\"js-search-results-info\"><label for=\"people-robert-halfon\" class=\"govuk-label govuk-checkboxes__label\">The Rt Hon Robert Halfon</label>\\n\\n</div>\\n\\n              <div class=\"govuk-checkboxes__item\">\\n                <input type=\"checkbox\" name=\"people[]\" id=\"people-robert-jenrick\" value=\"robert-jenrick\" class=\"govuk-checkboxes__input\" data-controls=\"js-search-results-info\"><label for=\"people-robert-jenrick\" class=\"govuk-label govuk-checkboxes__label\">The Rt Hon Robert Jenrick MP</label>\\n\\n</div>\\n\\n              <div class=\"govuk-checkboxes__item\">\\n                <input type=\"checkbox\" name=\"people[]\" id=\"people-rory-stewart\" value=\"rory-stewart\" class=\"govuk-checkboxes__input\" data-controls=\"js-search-results-info\"><label for=\"people-rory-stewart\" class=\"govuk-label govuk-checkboxes__label\">The Rt Hon Rory Stewart OBE</label>\\n\\n</div>\\n\\n              <div class=\"govuk-checkboxes__item\">\\n                <input type=\"checkbox\" name=\"people[]\" id=\"people-sajid-javid\" value=\"sajid-javid\" class=\"govuk-checkboxes__input\" data-controls=\"js-search-results-info\"><label for=\"people-sajid-javid\" class=\"govuk-label govuk-checkboxes__label\">The Rt Hon Sajid Javid</label>\\n\\n</div>\\n\\n              <div class=\"govuk-checkboxes__item\">\\n                <input type=\"checkbox\" name=\"people[]\" id=\"people-simon-burns\" value=\"simon-burns\" class=\"govuk-checkboxes__input\" data-controls=\"js-search-results-info\"><label for=\"people-simon-burns\" class=\"govuk-label govuk-checkboxes__label\">The Rt Hon Simon Burns</label>\\n\\n</div>\\n\\n              <div class=\"govuk-checkboxes__item\">\\n                <input type=\"checkbox\" name=\"people[]\" id=\"people-simon-clarke\" value=\"simon-clarke\" class=\"govuk-checkboxes__input\" data-controls=\"js-search-results-info\"><label for=\"people-simon-clarke\" class=\"govuk-label govuk-checkboxes__label\">The Rt Hon Simon Clarke</label>\\n\\n</div>\\n\\n              <div class=\"govuk-checkboxes__item\">\\n                <input type=\"checkbox\" name=\"people[]\" id=\"people-simon-hart\" value=\"simon-hart\" class=\"govuk-checkboxes__input\" data-controls=\"js-search-results-info\"><label for=\"people-simon-hart\" class=\"govuk-label govuk-checkboxes__label\">The Rt Hon Simon Hart</label>\\n\\n</div>\\n\\n              <div class=\"govuk-checkboxes__item\">\\n                <input type=\"checkbox\" name=\"people[]\" id=\"people-simon-hughes\" value=\"simon-hughes\" class=\"govuk-checkboxes__input\" data-controls=\"js-search-results-info\"><label for=\"people-simon-hughes\" class=\"govuk-label govuk-checkboxes__label\">The Rt Hon Simon Hughes</label>\\n\\n</div>\\n\\n              <div class=\"govuk-checkboxes__item\">\\n                <input type=\"checkbox\" name=\"people[]\" id=\"people-alan-duncan\" value=\"alan-duncan\" class=\"govuk-checkboxes__input\" data-controls=\"js-search-results-info\"><label for=\"people-alan-duncan\" class=\"govuk-label govuk-checkboxes__label\">The Rt Hon Sir Alan Duncan KCMG</label>\\n\\n</div>\\n\\n              <div class=\"govuk-checkboxes__item\">\\n                <input type=\"checkbox\" name=\"people[]\" id=\"people-alok-sharma\" value=\"alok-sharma\" class=\"govuk-checkboxes__input\" data-controls=\"js-search-results-info\"><label for=\"people-alok-sharma\" class=\"govuk-label govuk-checkboxes__label\">The Rt Hon Sir Alok Sharma KCMG</label>\\n\\n</div>\\n\\n              <div class=\"govuk-checkboxes__item\">\\n                <input type=\"checkbox\" name=\"people[]\" id=\"people-desmond-swayne\" value=\"desmond-swayne\" class=\"govuk-checkboxes__input\" data-controls=\"js-search-results-info\"><label for=\"people-desmond-swayne\" class=\"govuk-label govuk-checkboxes__label\">The Rt Hon Sir Desmond Swayne TD MP</label>\\n\\n</div>\\n\\n              <div class=\"govuk-checkboxes__item\">\\n                <input type=\"checkbox\" name=\"people[]\" id=\"people-edward-davey\" value=\"edward-davey\" class=\"govuk-checkboxes__input\" data-controls=\"js-search-results-info\"><label for=\"people-edward-davey\" class=\"govuk-label govuk-checkboxes__label\">The Rt Hon Sir Edward Davey MP</label>\\n\\n</div>\\n\\n              <div class=\"govuk-checkboxes__item\">\\n                <input type=\"checkbox\" name=\"people[]\" id=\"people-gavin-williamson\" value=\"gavin-williamson\" class=\"govuk-checkboxes__input\" data-controls=\"js-search-results-info\"><label for=\"people-gavin-williamson\" class=\"govuk-label govuk-checkboxes__label\">The Rt Hon Sir Gavin Williamson CBE MP</label>\\n\\n</div>\\n\\n              <div class=\"govuk-checkboxes__item\">\\n                <input type=\"checkbox\" name=\"people[]\" id=\"people-george-young\" value=\"george-young\" class=\"govuk-checkboxes__input\" data-controls=\"js-search-results-info\"><label for=\"people-george-young\" class=\"govuk-label govuk-checkboxes__label\">The Rt Hon Sir George Young Bt</label>\\n\\n</div>\\n\\n              <div class=\"govuk-checkboxes__item\">\\n                <input type=\"checkbox\" name=\"people[]\" id=\"people-jeremy-wright\" value=\"jeremy-wright\" class=\"govuk-checkboxes__input\" data-controls=\"js-search-results-info\"><label for=\"people-jeremy-wright\" class=\"govuk-label govuk-checkboxes__label\">The Rt Hon Sir Jeremy Wright KC MP</label>\\n\\n</div>\\n\\n              <div class=\"govuk-checkboxes__item\">\\n                <input type=\"checkbox\" name=\"people[]\" id=\"people-john-whittingdale\" value=\"john-whittingdale\" class=\"govuk-checkboxes__input\" data-controls=\"js-search-results-info\"><label for=\"people-john-whittingdale\" class=\"govuk-label govuk-checkboxes__label\">The Rt Hon Sir John Whittingdale OBE MP</label>\\n\\n</div>\\n\\n              <div class=\"govuk-checkboxes__item\">\\n                <input type=\"checkbox\" name=\"people[]\" id=\"people-keir-starmer\" value=\"keir-starmer\" class=\"govuk-checkboxes__input\" data-controls=\"js-search-results-info\"><label for=\"people-keir-starmer\" class=\"govuk-label govuk-checkboxes__label\">The Rt Hon Sir Keir Starmer KCB KC MP</label>\\n\\n</div>\\n\\n              <div class=\"govuk-checkboxes__item\">\\n                <input type=\"checkbox\" name=\"people[]\" id=\"people-mark-spencer\" value=\"mark-spencer\" class=\"govuk-checkboxes__input\" data-controls=\"js-search-results-info\"><label for=\"people-mark-spencer\" class=\"govuk-label govuk-checkboxes__label\">The Rt Hon Sir Mark Spencer</label>\\n\\n</div>\\n\\n              <div class=\"govuk-checkboxes__item\">\\n                <input type=\"checkbox\" name=\"people[]\" id=\"people-michael-fallon\" value=\"michael-fallon\" class=\"govuk-checkboxes__input\" data-controls=\"js-search-results-info\"><label for=\"people-michael-fallon\" class=\"govuk-label govuk-checkboxes__label\">The Rt Hon Sir Michael Fallon</label>\\n\\n</div>\\n\\n              <div class=\"govuk-checkboxes__item\">\\n                <input type=\"checkbox\" name=\"people[]\" id=\"people-mike-penning\" value=\"mike-penning\" class=\"govuk-checkboxes__input\" data-controls=\"js-search-results-info\"><label for=\"people-mike-penning\" class=\"govuk-label govuk-checkboxes__label\">The Rt Hon Sir Mike Penning</label>\\n\\n</div>\\n\\n              <div class=\"govuk-checkboxes__item\">\\n                <input type=\"checkbox\" name=\"people[]\" id=\"people-oliver-heald\" value=\"oliver-heald\" class=\"govuk-checkboxes__input\" data-controls=\"js-search-results-info\"><label for=\"people-oliver-heald\" class=\"govuk-label govuk-checkboxes__label\">The Rt Hon Sir Oliver Heald KC</label>\\n\\n</div>\\n\\n              <div class=\"govuk-checkboxes__item\">\\n                <input type=\"checkbox\" name=\"people[]\" id=\"people-patrick-mcloughlin\" value=\"patrick-mcloughlin\" class=\"govuk-checkboxes__input\" data-controls=\"js-search-results-info\"><label for=\"people-patrick-mcloughlin\" class=\"govuk-label govuk-checkboxes__label\">The Rt Hon Sir Patrick McLoughlin</label>\\n\\n</div>\\n\\n              <div class=\"govuk-checkboxes__item\">\\n                <input type=\"checkbox\" name=\"people[]\" id=\"people-stephen-crabb\" value=\"stephen-crabb\" class=\"govuk-checkboxes__input\" data-controls=\"js-search-results-info\"><label for=\"people-stephen-crabb\" class=\"govuk-label govuk-checkboxes__label\">The Rt Hon Stephen Crabb</label>\\n\\n</div>\\n\\n              <div class=\"govuk-checkboxes__item\">\\n                <input type=\"checkbox\" name=\"people[]\" id=\"people-steve-baker\" value=\"steve-baker\" class=\"govuk-checkboxes__input\" data-controls=\"js-search-results-info\"><label for=\"people-steve-baker\" class=\"govuk-label govuk-checkboxes__label\">The Rt Hon Steve Baker</label>\\n\\n</div>\\n\\n              <div class=\"govuk-checkboxes__item\">\\n                <input type=\"checkbox\" name=\"people[]\" id=\"people-stephen-barclay\" value=\"stephen-barclay\" class=\"govuk-checkboxes__input\" data-controls=\"js-search-results-info\"><label for=\"people-stephen-barclay\" class=\"govuk-label govuk-checkboxes__label\">The Rt Hon Steve Barclay MP</label>\\n\\n</div>\\n\\n              <div class=\"govuk-checkboxes__item\">\\n                <input type=\"checkbox\" name=\"people[]\" id=\"people-steve-webb\" value=\"steve-webb\" class=\"govuk-checkboxes__input\" data-controls=\"js-search-results-info\"><label for=\"people-steve-webb\" class=\"govuk-label govuk-checkboxes__label\">The Rt Hon Steve Webb</label>\\n\\n</div>\\n\\n              <div class=\"govuk-checkboxes__item\">\\n                <input type=\"checkbox\" name=\"people[]\" id=\"people-stuart-andrew\" value=\"stuart-andrew\" class=\"govuk-checkboxes__input\" data-controls=\"js-search-results-info\"><label for=\"people-stuart-andrew\" class=\"govuk-label govuk-checkboxes__label\">The Rt Hon Stuart Andrew MP</label>\\n\\n</div>\\n\\n              <div class=\"govuk-checkboxes__item\">\\n                <input type=\"checkbox\" name=\"people[]\" id=\"people-braverman\" value=\"braverman\" class=\"govuk-checkboxes__input\" data-controls=\"js-search-results-info\"><label for=\"people-braverman\" class=\"govuk-label govuk-checkboxes__label\">The Rt Hon Suella Braverman KC MP</label>\\n\\n</div>\\n\\n              <div class=\"govuk-checkboxes__item\">\\n                <input type=\"checkbox\" name=\"people[]\" id=\"people-theresa-may\" value=\"theresa-may\" class=\"govuk-checkboxes__input\" data-controls=\"js-search-results-info\"><label for=\"people-theresa-may\" class=\"govuk-label govuk-checkboxes__label\">The Rt Hon Theresa May</label>\\n\\n</div>\\n\\n              <div class=\"govuk-checkboxes__item\">\\n                <input type=\"checkbox\" name=\"people[]\" id=\"people-theresa-villiers\" value=\"theresa-villiers\" class=\"govuk-checkboxes__input\" data-controls=\"js-search-results-info\"><label for=\"people-theresa-villiers\" class=\"govuk-label govuk-checkboxes__label\">The Rt Hon Theresa Villiers</label>\\n\\n</div>\\n\\n              <div class=\"govuk-checkboxes__item\">\\n                <input type=\"checkbox\" name=\"people[]\" id=\"people-therese-coffey\" value=\"therese-coffey\" class=\"govuk-checkboxes__input\" data-controls=\"js-search-results-info\"><label for=\"people-therese-coffey\" class=\"govuk-label govuk-checkboxes__label\">The Rt Hon Th\\xc3\\xa9r\\xc3\\xa8se Coffey</label>\\n\\n</div>\\n\\n              <div class=\"govuk-checkboxes__item\">\\n                <input type=\"checkbox\" name=\"people[]\" id=\"people-tobias-ellwood\" value=\"tobias-ellwood\" class=\"govuk-checkboxes__input\" data-controls=\"js-search-results-info\"><label for=\"people-tobias-ellwood\" class=\"govuk-label govuk-checkboxes__label\">The Rt Hon Tobias Ellwood</label>\\n\\n</div>\\n\\n              <div class=\"govuk-checkboxes__item\">\\n                <input type=\"checkbox\" name=\"people[]\" id=\"people-tom-brake\" value=\"tom-brake\" class=\"govuk-checkboxes__input\" data-controls=\"js-search-results-info\"><label for=\"people-tom-brake\" class=\"govuk-label govuk-checkboxes__label\">The Rt Hon Tom Brake</label>\\n\\n</div>\\n\\n              <div class=\"govuk-checkboxes__item\">\\n                <input type=\"checkbox\" name=\"people[]\" id=\"people-tom-tugendhat\" value=\"tom-tugendhat\" class=\"govuk-checkboxes__input\" data-controls=\"js-search-results-info\"><label for=\"people-tom-tugendhat\" class=\"govuk-label govuk-checkboxes__label\">The Rt Hon Tom Tugendhat MBE VR MP</label>\\n\\n</div>\\n\\n              <div class=\"govuk-checkboxes__item\">\\n                <input type=\"checkbox\" name=\"people[]\" id=\"people-victoria-atkins\" value=\"victoria-atkins\" class=\"govuk-checkboxes__input\" data-controls=\"js-search-results-info\"><label for=\"people-victoria-atkins\" class=\"govuk-label govuk-checkboxes__label\">The Rt Hon Victoria Atkins MP</label>\\n\\n</div>\\n\\n              <div class=\"govuk-checkboxes__item\">\\n                <input type=\"checkbox\" name=\"people[]\" id=\"people-victoria-prentis\" value=\"victoria-prentis\" class=\"govuk-checkboxes__input\" data-controls=\"js-search-results-info\"><label for=\"people-victoria-prentis\" class=\"govuk-label govuk-checkboxes__label\">The Rt Hon Victoria Prentis KC</label>\\n\\n</div>\\n\\n              <div class=\"govuk-checkboxes__item\">\\n                <input type=\"checkbox\" name=\"people[]\" id=\"people-william-hague\" value=\"william-hague\" class=\"govuk-checkboxes__input\" data-controls=\"js-search-results-info\"><label for=\"people-william-hague\" class=\"govuk-label govuk-checkboxes__label\">The Rt Hon William Hague</label>\\n\\n</div>\\n\\n              <div class=\"govuk-checkboxes__item\">\\n                <input type=\"checkbox\" name=\"people[]\" id=\"people-yvette-cooper\" value=\"yvette-cooper\" class=\"govuk-checkboxes__input\" data-controls=\"js-search-results-info\"><label for=\"people-yvette-cooper\" class=\"govuk-label govuk-checkboxes__label\">The Rt Hon Yvette Cooper MP</label>\\n\\n</div>\\n\\n              <div class=\"govuk-checkboxes__item\">\\n                <input type=\"checkbox\" name=\"people[]\" id=\"people-thomas-carter\" value=\"thomas-carter\" class=\"govuk-checkboxes__input\" data-controls=\"js-search-results-info\"><label for=\"people-thomas-carter\" class=\"govuk-label govuk-checkboxes__label\">Thomas Carter</label>\\n\\n</div>\\n\\n              <div class=\"govuk-checkboxes__item\">\\n                <input type=\"checkbox\" name=\"people[]\" id=\"people-thomas-reilly\" value=\"thomas-reilly\" class=\"govuk-checkboxes__input\" data-controls=\"js-search-results-info\"><label for=\"people-thomas-reilly\" class=\"govuk-label govuk-checkboxes__label\">Thomas Reilly</label>\\n\\n</div>\\n\\n              <div class=\"govuk-checkboxes__item\">\\n                <input type=\"checkbox\" name=\"people[]\" id=\"people-tim-loughton\" value=\"tim-loughton\" class=\"govuk-checkboxes__input\" data-controls=\"js-search-results-info\"><label for=\"people-tim-loughton\" class=\"govuk-label govuk-checkboxes__label\">Tim Loughton</label>\\n\\n</div>\\n\\n              <div class=\"govuk-checkboxes__item\">\\n                <input type=\"checkbox\" name=\"people[]\" id=\"people-tim-moss\" value=\"tim-moss\" class=\"govuk-checkboxes__input\" data-controls=\"js-search-results-info\"><label for=\"people-tim-moss\" class=\"govuk-label govuk-checkboxes__label\">Tim Moss</label>\\n\\n</div>\\n\\n              <div class=\"govuk-checkboxes__item\">\\n                <input type=\"checkbox\" name=\"people[]\" id=\"people-tim-parker\" value=\"tim-parker\" class=\"govuk-checkboxes__input\" data-controls=\"js-search-results-info\"><label for=\"people-tim-parker\" class=\"govuk-label govuk-checkboxes__label\">Tim Parker</label>\\n\\n</div>\\n\\n              <div class=\"govuk-checkboxes__item\">\\n                <input type=\"checkbox\" name=\"people[]\" id=\"people-tom-burn\" value=\"tom-burn\" class=\"govuk-checkboxes__input\" data-controls=\"js-search-results-info\"><label for=\"people-tom-burn\" class=\"govuk-label govuk-checkboxes__label\">Tom Burn</label>\\n\\n</div>\\n\\n              <div class=\"govuk-checkboxes__item\">\\n                <input type=\"checkbox\" name=\"people[]\" id=\"people-tom-hartley\" value=\"tom-hartley\" class=\"govuk-checkboxes__input\" data-controls=\"js-search-results-info\"><label for=\"people-tom-hartley\" class=\"govuk-label govuk-checkboxes__label\">Tom Hartley</label>\\n\\n</div>\\n\\n              <div class=\"govuk-checkboxes__item\">\\n                <input type=\"checkbox\" name=\"people[]\" id=\"people-tom-pursglove\" value=\"tom-pursglove\" class=\"govuk-checkboxes__input\" data-controls=\"js-search-results-info\"><label for=\"people-tom-pursglove\" class=\"govuk-label govuk-checkboxes__label\">Tom Pursglove</label>\\n\\n</div>\\n\\n              <div class=\"govuk-checkboxes__item\">\\n                <input type=\"checkbox\" name=\"people[]\" id=\"people-tony-collingridge\" value=\"tony-collingridge\" class=\"govuk-checkboxes__input\" data-controls=\"js-search-results-info\"><label for=\"people-tony-collingridge\" class=\"govuk-label govuk-checkboxes__label\">Tony Collingridge OBE</label>\\n\\n</div>\\n\\n              <div class=\"govuk-checkboxes__item\">\\n                <input type=\"checkbox\" name=\"people[]\" id=\"people-tony-kay\" value=\"tony-kay\" class=\"govuk-checkboxes__input\" data-controls=\"js-search-results-info\"><label for=\"people-tony-kay\" class=\"govuk-label govuk-checkboxes__label\">Tony Kay OBE</label>\\n\\n</div>\\n\\n              <div class=\"govuk-checkboxes__item\">\\n                <input type=\"checkbox\" name=\"people[]\" id=\"people-tony-meggs\" value=\"tony-meggs\" class=\"govuk-checkboxes__input\" data-controls=\"js-search-results-info\"><label for=\"people-tony-meggs\" class=\"govuk-label govuk-checkboxes__label\">Tony Meggs</label>\\n\\n</div>\\n\\n              <div class=\"govuk-checkboxes__item\">\\n                <input type=\"checkbox\" name=\"people[]\" id=\"people-tony-porter\" value=\"tony-porter\" class=\"govuk-checkboxes__input\" data-controls=\"js-search-results-info\"><label for=\"people-tony-porter\" class=\"govuk-label govuk-checkboxes__label\">Tony Porter</label>\\n\\n</div>\\n\\n              <div class=\"govuk-checkboxes__item\">\\n                <input type=\"checkbox\" name=\"people[]\" id=\"people-tracey-crouch\" value=\"tracey-crouch\" class=\"govuk-checkboxes__input\" data-controls=\"js-search-results-info\"><label for=\"people-tracey-crouch\" class=\"govuk-label govuk-checkboxes__label\">Tracey Crouch</label>\\n\\n</div>\\n\\n              <div class=\"govuk-checkboxes__item\">\\n                <input type=\"checkbox\" name=\"people[]\" id=\"people-trudy-harrison\" value=\"trudy-harrison\" class=\"govuk-checkboxes__input\" data-controls=\"js-search-results-info\"><label for=\"people-trudy-harrison\" class=\"govuk-label govuk-checkboxes__label\">Trudy Harrison</label>\\n\\n</div>\\n\\n              <div class=\"govuk-checkboxes__item\">\\n                <input type=\"checkbox\" name=\"people[]\" id=\"people-ursula-brennan\" value=\"ursula-brennan\" class=\"govuk-checkboxes__input\" data-controls=\"js-search-results-info\"><label for=\"people-ursula-brennan\" class=\"govuk-label govuk-checkboxes__label\">Ursula Brennan</label>\\n\\n</div>\\n\\n              <div class=\"govuk-checkboxes__item\">\\n                <input type=\"checkbox\" name=\"people[]\" id=\"people-vicki-treadell\" value=\"vicki-treadell\" class=\"govuk-checkboxes__input\" data-controls=\"js-search-results-info\"><label for=\"people-vicki-treadell\" class=\"govuk-label govuk-checkboxes__label\">Vicki Treadell CMG, MVO</label>\\n\\n</div>\\n\\n              <div class=\"govuk-checkboxes__item\">\\n                <input type=\"checkbox\" name=\"people[]\" id=\"people-vicky-ford\" value=\"vicky-ford\" class=\"govuk-checkboxes__input\" data-controls=\"js-search-results-info\"><label for=\"people-vicky-ford\" class=\"govuk-label govuk-checkboxes__label\">Vicky Ford</label>\\n\\n</div>\\n\\n              <div class=\"govuk-checkboxes__item\">\\n                <input type=\"checkbox\" name=\"people[]\" id=\"people-viscount-camrose\" value=\"viscount-camrose\" class=\"govuk-checkboxes__input\" data-controls=\"js-search-results-info\"><label for=\"people-viscount-camrose\" class=\"govuk-label govuk-checkboxes__label\">Viscount Camrose</label>\\n\\n</div>\\n\\n              <div class=\"govuk-checkboxes__item\">\\n                <input type=\"checkbox\" name=\"people[]\" id=\"people-viscount-younger-of-leckie\" value=\"viscount-younger-of-leckie\" class=\"govuk-checkboxes__input\" data-controls=\"js-search-results-info\"><label for=\"people-viscount-younger-of-leckie\" class=\"govuk-label govuk-checkboxes__label\">Viscount Younger of Leckie</label>\\n\\n</div>\\n\\n              <div class=\"govuk-checkboxes__item\">\\n                <input type=\"checkbox\" name=\"people[]\" id=\"people-wendy-morton\" value=\"wendy-morton\" class=\"govuk-checkboxes__input\" data-controls=\"js-search-results-info\"><label for=\"people-wendy-morton\" class=\"govuk-label govuk-checkboxes__label\">Wendy Morton MP</label>\\n\\n</div>\\n\\n              <div class=\"govuk-checkboxes__item\">\\n                <input type=\"checkbox\" name=\"people[]\" id=\"people-wes-streeting\" value=\"wes-streeting\" class=\"govuk-checkboxes__input\" data-controls=\"js-search-results-info\"><label for=\"people-wes-streeting\" class=\"govuk-label govuk-checkboxes__label\">Wes Streeting MP</label>\\n\\n</div>\\n\\n              <div class=\"govuk-checkboxes__item\">\\n                <input type=\"checkbox\" name=\"people[]\" id=\"people-will-quince\" value=\"will-quince\" class=\"govuk-checkboxes__input\" data-controls=\"js-search-results-info\"><label for=\"people-will-quince\" class=\"govuk-label govuk-checkboxes__label\">Will Quince</label>\\n\\n</div>\\n\\n              <div class=\"govuk-checkboxes__item\">\\n                <input type=\"checkbox\" name=\"people[]\" id=\"people-william-gelling\" value=\"william-gelling\" class=\"govuk-checkboxes__input\" data-controls=\"js-search-results-info\"><label for=\"people-william-gelling\" class=\"govuk-label govuk-checkboxes__label\">William Gelling OBE</label>\\n\\n</div>\\n\\n              <div class=\"govuk-checkboxes__item\">\\n                <input type=\"checkbox\" name=\"people[]\" id=\"people-william-kovacic\" value=\"william-kovacic\" class=\"govuk-checkboxes__input\" data-controls=\"js-search-results-info\"><label for=\"people-william-kovacic\" class=\"govuk-label govuk-checkboxes__label\">William Kovacic</label>\\n\\n</div>\\n\\n              <div class=\"govuk-checkboxes__item\">\\n                <input type=\"checkbox\" name=\"people[]\" id=\"people-william-shawcross\" value=\"william-shawcross\" class=\"govuk-checkboxes__input\" data-controls=\"js-search-results-info\"><label for=\"people-william-shawcross\" class=\"govuk-label govuk-checkboxes__label\">William Shawcross</label>\\n\\n</div>\\n\\n              <div class=\"govuk-checkboxes__item\">\\n                <input type=\"checkbox\" name=\"people[]\" id=\"people-yvette-stanley\" value=\"yvette-stanley\" class=\"govuk-checkboxes__input\" data-controls=\"js-search-results-info\"><label for=\"people-yvette-stanley\" class=\"govuk-label govuk-checkboxes__label\">Yvette Stanley</label>\\n\\n</div>\\n\\n</div>\\n</fieldset>\\n</div>\\n    </div>\\n</div>\\n</div>\\n\\n              <input type=\"hidden\" name=\"roles\" id=\"roles\" autocomplete=\"off\">\\n\\n            <div id=\"world_locations\">\\n\\n\\n    <input type=\"hidden\" name=\"world_locations\" id=\"world_locations_0\" autocomplete=\"off\">\\n</div>\\n\\n            <span data-ga4-change-category=\"update-filter text\">\\n      <div data-ga4-filter-parent=\"Updated\" data-ga4-index=\\'{\"index_section\":3,\"index_section_count\":3}\\' data-module=\"expander\" data-open-on-load=\"false\" data-button-data-attributes=\\'{\"ga4_expandable\":\"\",\"ga4_event\":{\"event_name\":\"select_content\",\"type\":\"finder\",\"section\":\"Updated\",\"index_section\":3,\"index_section_count\":3}}\\' class=\"app-c-expander\">\\n    <h3 class=\"app-c-expander__heading\">\\n      <span class=\"app-c-expander__title js-toggle\">Updated</span>\\n      <svg version=\"1.1\" viewbox=\"0 0 1024 1024\" xmlns=\"http://www.w3.org/2000/svg\" width=\"0\" height=\"0\" class=\"app-c-expander__icon app-c-expander__icon--up\" aria-hidden=\"true\" focusable=\"false\"><path d=\"m798.16 609.84l-256-256c-16.683-16.683-43.691-16.683-60.331 0l-256 256c-16.683 16.683-16.683 43.691 0 60.331s43.691 16.683 60.331 0l225.84-225.84 225.84 225.84c16.683 16.683 43.691 16.683 60.331 0s16.683-43.691 0-60.331z\"></path></svg>\\n      <svg version=\"1.1\" viewbox=\"0 0 1024 1024\" xmlns=\"http://www.w3.org/2000/svg\" width=\"0\" height=\"0\" class=\"app-c-expander__icon app-c-expander__icon--down\" aria-hidden=\"true\" focusable=\"false\"><path d=\"m225.84 414.16l256 256c16.683 16.683 43.691 16.683 60.331 0l256-256c16.683-16.683 16.683-43.691 0-60.331s-43.691-16.683-60.331 0l-225.84 225.84-225.84-225.84c-16.683-16.683-43.691-16.683-60.331 0s-16.683 43.691 0 60.331z\"></path></svg>\\n    </h3>\\n    <div class=\"app-c-expander__content js-content \" id=\"expander-content-01a9891d\">\\n      \\n    <div class=\"govuk-!-margin-bottom-0\" id=\"public_timestamp\">\\n      \\n<div class=\"govuk-form-group\">\\n\\n            \\n  <label for=\"public_timestamp[from]\" class=\"gem-c-label govuk-label\">Updated after</label>\\n\\n\\n\\n\\n    \\n<div id=\"hint-be2d8bd4\" class=\"gem-c-hint govuk-hint\">\\n  For example, 2005 or 21/11/2014\\n</div>\\n\\n\\n\\n    \\n    <input aria-describedby=\"hint-be2d8bd4\" aria-controls=\"js-search-results-info\" class=\"gem-c-input govuk-input\" data-ga4-section=\"Updated after\" id=\"public_timestamp[from]\" name=\"public_timestamp[from]\" spellcheck=\"false\" type=\"text\" value=\"\">\\n</div>\\n\\n      \\n<div class=\"govuk-form-group\">\\n\\n            \\n  <label for=\"public_timestamp[to]\" class=\"gem-c-label govuk-label\">Updated before</label>\\n\\n\\n\\n\\n    \\n<div id=\"hint-4efbfafe\" class=\"gem-c-hint govuk-hint\">\\n  For example, 2005 or 21/11/2014\\n</div>\\n\\n\\n\\n    \\n    <input aria-describedby=\"hint-4efbfafe\" aria-controls=\"js-search-results-info\" class=\"gem-c-input govuk-input\" data-ga4-section=\"Updated before\" id=\"public_timestamp[to]\" name=\"public_timestamp[to]\" spellcheck=\"false\" type=\"text\" value=\"\">\\n</div>\\n    </div>\\n\\n    </div>\\n</div>\\n</span>\\n            <div id=\"topical_events\">\\n\\n\\n    <input type=\"hidden\" name=\"topical_events\" id=\"topical_events_0\" autocomplete=\"off\">\\n</div>\\n\\n          <div class=\"facets__tags-block js-mobile-facet-tag-block\" data-module=\"remove-filter\">\\n              <span class=\"govuk-visually-hidden\">\\n    129,851 results\\n    sorted by Updated (newest)\\n  </span>\\n\\n  <div class=\"facet-tags\">\\n  </div>\\n\\n          </div>\\n          <button class=\"app-c-button-as-link facets__clear-link js-clear-selected-filters\" type=\"button\">\\n            Clear all filters\\n          </button>\\n        </div>\\n        <div class=\"facets__footer\">\\n        \\n\\n\\n  <a class=\"gem-c-button govuk-button\" role=\"button\" data-module=\"govuk-button govuk-skip-link\" draggable=\"false\" href=\"#js-results\">Go to search results</a>\\n\\n\\n      </div>\\n      </div>\\n    </div>\\n\\n  <div class=\"js-live-search-fallback button__wrapper\">\\n    \\n\\n\\n  <button class=\"gem-c-button govuk-button gem-c-button--bottom-margin\" type=\"submit\">Filter results</button>\\n\\n\\n  </div>\\n</div>\\n\\n      </div>\\n\\n      <div class=\"govuk-grid-column-two-thirds js-live-search-results-block filtered-results\" role=\"region\" aria-label=\"News and communications search results\" data-ga4-ecommerce data-ga4-ecommerce-start-index=\"1\" data-ga4-list-title=\"News and communications\" data-ga4-search-query=\"\" data-ga4-ecommerce-variant=\"Updated (newest)\">\\n        <div id=\"js-search-results-info\" data-module=\"remove-filter\" class=\"result-info \">\\n          <div class=\"govuk-grid-row\">\\n            <div class=\"govuk-grid-column-one-half\">\\n              <div class=\"result-info__header\">\\n                <h2 id=\"js-result-count\" class=\"gem-c-heading govuk-heading-s   govuk-!-margin-bottom-2\">\\n  129,851 results\\n</h2>\\n                  <a class=\"gem-c-skip-link govuk-skip-link govuk-!-display-none-print\" data-module=\"govuk-skip-link\" href=\"#js-results\">Skip to results</a>\\n\\n              </div>\\n            </div>\\n\\n            <div class=\"govuk-grid-column-one-half govuk-!-text-align-right subscription-links subscription-links--desktop\" data-module=\"ga4-link-tracker\" data-ga4-track-links-only data-ga4-link=\\'{ \"event_name\": \"navigation\", \"type\": \"subscribe\", \"section\": \"Top\" }\\'>\\n                <section class=\"gem-c-subscription-links govuk-!-display-none-print\">\\n    <ul class=\"gem-c-subscription-links__list gem-c-subscription-links__list--small\">\\n        <li class=\"gem-c-subscription-links__list-item gem-c-subscription-links__list-item--small\">\\n          <a class=\"govuk-link gem-c-subscription-links__item  gem-c-subscription-links__item--link\" href=\"/search/news-and-communications/email-signup\">            <svg xmlns=\"http://www.w3.org/2000/svg\" width=\"21\" height=\"15.75\" class=\"gem-c-subscription-links__icon\" focusable=\"false\" fill=\"currentColor\" aria-hidden=\"true\"><path d=\"M19.687 0H1.312C.589 0 0 .587 0 1.313v13.124c0 .726.588 1.313 1.313 1.313h18.374c.725 0 1.313-.587 1.313-1.313V1.313C21 .587 20.412 0 19.687 0zm-2.625 2.625L10.5 7.875l-6.563-5.25h13.126zm1.313 10.5H2.625V3.937L10.5 10.5l7.875-6.563v9.188z\"></path>\\n            </svg>Get emails\\n</a>\\n        </li>\\n\\n        <li class=\"gem-c-subscription-links__list-item gem-c-subscription-links__list-item--small\">\\n          \\n          <a class=\"govuk-link govuk-link--no-underline gem-c-subscription-links__item  gem-c-subscription-links__item--link\" href=\"/search/news-and-communications.atom\">            <svg xmlns=\"http://www.w3.org/2000/svg\" width=\"15\" height=\"15\" class=\"gem-c-subscription-links__icon\" focusable=\"false\" fill=\"currentColor\" aria-hidden=\"true\"><path d=\"M1.996 11A2 2 0 0 0 0 12.993c0 1.101.895 1.99 1.996 1.99 1.106 0 2-.889 2-1.99a2 2 0 0 0-2-1.993zM.002 5.097V7.97c1.872 0 3.632.733 4.958 2.059A6.984 6.984 0 0 1 7.015 15h2.888c0-5.461-4.443-9.903-9.9-9.903zM.006 0v2.876c6.676 0 12.11 5.44 12.11 12.124H15C15 6.731 8.273 0 .006 0z\"></path>\\n            </svg>Subscribe to feed\\n</a>\\n        </li>\\n    </ul>\\n\\n</section>\\n            </div>\\n          </div>\\n          <div id=\"js-facet-tag-wrapper\" class=\"facet-tags__container\" aria-live=\"assertive\">\\n              <span class=\"govuk-visually-hidden\">\\n    129,851 results\\n    sorted by Updated (newest)\\n  </span>\\n\\n  <div class=\"facet-tags\">\\n  </div>\\n\\n          </div>\\n        </div>\\n\\n        <div class=\"govuk-caption-l live-search-loading-message\" id=\"js-loading-message\"></div>\\n\\n        <div id=\"js-sort-options\" data-ga4-change-category=\"update-sort select\">\\n            <div class=\"govuk-form-group sort-options gem-c-select\">\\n    <label for=\"order\" class=\"sort-options__label govuk-label\">Sort by</label>\\n    <select class=\"js-order-results govuk-select sort-options__select\" name=\"order\" id=\"order\" aria-controls=\"js-search-results-info\" data-default-sort-option=\"updated-newest\" data-relevance-sort-option=\"relevance\">\\n        <option value=\"most-viewed\">Most viewed</option>\\n        <option value=\"relevance\" disabled>Relevance</option>\\n        <option value=\"updated-newest\" selected>Updated (newest)</option>\\n        <option value=\"updated-oldest\">Updated (oldest)</option>\\n    </select>\\n  </div>\\n\\n        </div>\\n\\n        <div id=\"js-results\">\\n          \\n<div class=\"finder-results js-finder-results\">\\n    <ul class=\"gem-c-document-list gem-c-document-list--no-underline govuk-!-margin-bottom-5\">\\n      <li class=\"gem-c-document-list__item  \">\\n\\n        <div class=\"gem-c-document-list__item-title\">          <a data-ga4-ecommerce-path=\"/government/news/mhra-approves-the-first-generic-raltegravir-medicines-to-treat-adult-and-paediatric-patients-infected-by-hiv\" data-ga4-ecommerce-content-id=\"64fd2101-f4db-43c5-980f-f336bcac7743\" data-ga4-ecommerce-row=\"1\" data-ga4-ecommerce-index=\"1\" class=\"  govuk-link\" href=\"/government/news/mhra-approves-the-first-generic-raltegravir-medicines-to-treat-adult-and-paediatric-patients-infected-by-hiv\">MHRA approves the first generic raltegravir medicines to treat adult and paediatric patients infected by HIV</a>\\n</div>\\n\\n          <p class=\"gem-c-document-list__item-description \">The Medicines and Healthcare products Regulatory Agency (MHRA) has today, 19 July 2024, approved the first generic raltegravir medicines to treat adult and paediatric HIV patients who weigh at least 40kg.</p>\\n\\n          <ul class=\"gem-c-document-list__item-metadata\">\\n\\n                <li class=\"gem-c-document-list__attribute\">\\n                    Updated: <time datetime=\"2024-07-19\">19 July 2024</time>\\n</li>          </ul>\\n\\n\\n      </li>\\n      <li class=\"gem-c-document-list__item  \">\\n\\n        <div class=\"gem-c-document-list__item-title\">          <a data-ga4-ecommerce-path=\"/government/news/edition-37-news-from-the-adjudicator\" data-ga4-ecommerce-content-id=\"cd3351c3-7c29-43e3-8efd-57a801f76777\" data-ga4-ecommerce-row=\"1\" data-ga4-ecommerce-index=\"2\" class=\"  govuk-link\" href=\"/government/news/edition-37-news-from-the-adjudicator\">Edition 37: News from the Adjudicator</a>\\n</div>\\n\\n          <p class=\"gem-c-document-list__item-description \">Read the latest newsletter from the Groceries Code Adjudicator (GCA).\\r\\n</p>\\n\\n          <ul class=\"gem-c-document-list__item-metadata\">\\n\\n                <li class=\"gem-c-document-list__attribute\">\\n                    Updated: <time datetime=\"2024-07-19\">19 July 2024</time>\\n</li>          </ul>\\n\\n\\n      </li>\\n      <li class=\"gem-c-document-list__item  \">\\n\\n        <div class=\"gem-c-document-list__item-title\">          <a data-ga4-ecommerce-path=\"/government/news/collusion\" data-ga4-ecommerce-content-id=\"588ff30c-1159-4a30-9a9d-28f8853aa1ee\" data-ga4-ecommerce-row=\"1\" data-ga4-ecommerce-index=\"3\" class=\"  govuk-link\" href=\"/government/news/collusion\">Collusion</a>\\n</div>\\n\\n          <p class=\"gem-c-document-list__item-description \">In a recent public inquiry, Traffic Commissioner Kevin Rooney heard the case of transport manager Phillip Lee Edney. </p>\\n\\n          <ul class=\"gem-c-document-list__item-metadata\">\\n\\n                <li class=\"gem-c-document-list__attribute\">\\n                    Updated: <time datetime=\"2024-07-19\">19 July 2024</time>\\n</li>          </ul>\\n\\n\\n      </li>\\n      <li class=\"gem-c-document-list__item  \">\\n\\n        <div class=\"gem-c-document-list__item-title\">          <a data-ga4-ecommerce-path=\"/government/news/southwark-council-grading-under-review\" data-ga4-ecommerce-content-id=\"7e484259-2971-4b8f-8104-cfd725f74b23\" data-ga4-ecommerce-row=\"1\" data-ga4-ecommerce-index=\"4\" class=\"  govuk-link\" href=\"/government/news/southwark-council-grading-under-review\">Southwark Council Grading Under Review</a>\\n</div>\\n\\n          <p class=\"gem-c-document-list__item-description \">Southwark Council has been placed on the gradings under review list.</p>\\n\\n          <ul class=\"gem-c-document-list__item-metadata\">\\n\\n                <li class=\"gem-c-document-list__attribute\">\\n                    Updated: <time datetime=\"2024-07-19\">19 July 2024</time>\\n</li>          </ul>\\n\\n\\n      </li>\\n      <li class=\"gem-c-document-list__item  \">\\n\\n        <div class=\"gem-c-document-list__item-title\">          <a data-ga4-ecommerce-path=\"/government/news/members-wanted-for-new-opss-register-of-child-health-specialists\" data-ga4-ecommerce-content-id=\"ee8bd759-2430-466d-8175-9c2345e2cbfd\" data-ga4-ecommerce-row=\"1\" data-ga4-ecommerce-index=\"5\" class=\"  govuk-link\" href=\"/government/news/members-wanted-for-new-opss-register-of-child-health-specialists\">Members wanted for new OPSS Register of Child Health Specialists</a>\\n</div>\\n\\n          <p class=\"gem-c-document-list__item-description \">Applications are open for experts wishing to join the OPSS Register of Specialists.</p>\\n\\n          <ul class=\"gem-c-document-list__item-metadata\">\\n\\n                <li class=\"gem-c-document-list__attribute\">\\n                    Updated: <time datetime=\"2024-07-19\">19 July 2024</time>\\n</li>          </ul>\\n\\n\\n      </li>\\n      <li class=\"gem-c-document-list__item  \">\\n\\n        <div class=\"gem-c-document-list__item-title\">          <a data-ga4-ecommerce-path=\"/government/news/regulator-investigates-newbury-park-masjid-after-concerns-over-trustee-elections\" data-ga4-ecommerce-content-id=\"e07cb9ab-ceb2-48fd-a8dc-420f4e6572c1\" data-ga4-ecommerce-row=\"1\" data-ga4-ecommerce-index=\"6\" class=\"  govuk-link\" href=\"/government/news/regulator-investigates-newbury-park-masjid-after-concerns-over-trustee-elections\">Regulator investigates Newbury Park Masjid after concerns over trustee elections</a>\\n</div>\\n\\n          <p class=\"gem-c-document-list__item-description \">The Charity Commission has opened a statutory inquiry into Newbury Park Masjid.</p>\\n\\n          <ul class=\"gem-c-document-list__item-metadata\">\\n\\n                <li class=\"gem-c-document-list__attribute\">\\n                    Updated: <time datetime=\"2024-07-19\">19 July 2024</time>\\n</li>          </ul>\\n\\n\\n      </li>\\n      <li class=\"gem-c-document-list__item  \">\\n\\n        <div class=\"gem-c-document-list__item-title\">          <a data-ga4-ecommerce-path=\"/government/news/june-2024-transaction-data\" data-ga4-ecommerce-content-id=\"fceb4981-8e3c-46f0-8339-5702f058ed74\" data-ga4-ecommerce-row=\"1\" data-ga4-ecommerce-index=\"7\" class=\"  govuk-link\" href=\"/government/news/june-2024-transaction-data\">June 2024 Transaction Data</a>\\n</div>\\n\\n          <p class=\"gem-c-document-list__item-description \">This data provides information about the number and types of applications that HM Land Registry completed in June 2024.</p>\\n\\n          <ul class=\"gem-c-document-list__item-metadata\">\\n\\n                <li class=\"gem-c-document-list__attribute\">\\n                    Updated: <time datetime=\"2024-07-19\">19 July 2024</time>\\n</li>          </ul>\\n\\n\\n      </li>\\n      <li class=\"gem-c-document-list__item  \">\\n\\n        <div class=\"gem-c-document-list__item-title\">          <a data-ga4-ecommerce-path=\"/government/news/caninsulin-40-iuml-suspension-for-injection-adverse-events\" data-ga4-ecommerce-content-id=\"a2379af7-a94e-49c1-805d-0b49f051dcfe\" data-ga4-ecommerce-row=\"1\" data-ga4-ecommerce-index=\"8\" class=\"  govuk-link\" href=\"/government/news/caninsulin-40-iuml-suspension-for-injection-adverse-events\">Caninsulin 40 IU/ml Suspension for Injection \\xe2\\x80\\x93 Adverse events</a>\\n</div>\\n\\n          <p class=\"gem-c-document-list__item-description \">Increase in suspected adverse event reports following use of Caninsulin 40 IU/ml Suspension for Injection.</p>\\n\\n          <ul class=\"gem-c-document-list__item-metadata\">\\n\\n                <li class=\"gem-c-document-list__attribute\">\\n                    Updated: <time datetime=\"2024-07-19\">19 July 2024</time>\\n</li>          </ul>\\n\\n\\n      </li>\\n      <li class=\"gem-c-document-list__item  \">\\n\\n        <div class=\"gem-c-document-list__item-title\">          <a data-ga4-ecommerce-path=\"/government/news/biodiverse-landscapes-fund-launched-by-uk-and-belize-governments\" data-ga4-ecommerce-content-id=\"d9890074-8aa1-42bb-af7c-457db37e483f\" data-ga4-ecommerce-row=\"1\" data-ga4-ecommerce-index=\"9\" class=\"  govuk-link\" href=\"/government/news/biodiverse-landscapes-fund-launched-by-uk-and-belize-governments\">Biodiverse landscapes fund launched by UK and Belize governments</a>\\n</div>\\n\\n          <p class=\"gem-c-document-list__item-description \">The UK and Belize governments launched the Resilient and Biodiverse Landscapes of Northern Mesoamerica project to restore and conserve the Selva Maya Forest through sustainable practices.</p>\\n\\n          <ul class=\"gem-c-document-list__item-metadata\">\\n\\n                <li class=\"gem-c-document-list__attribute\">\\n                    Updated: <time datetime=\"2024-07-19\">19 July 2024</time>\\n</li>          </ul>\\n\\n\\n      </li>\\n      <li class=\"gem-c-document-list__item  \">\\n\\n        <div class=\"gem-c-document-list__item-title\">          <a data-ga4-ecommerce-path=\"/government/news/cma-secures-over-4-million-in-refunds-for-wowcher-customers\" data-ga4-ecommerce-content-id=\"e0d1607e-8cec-429b-bf64-b8d50fd871e8\" data-ga4-ecommerce-row=\"1\" data-ga4-ecommerce-index=\"10\" class=\"  govuk-link\" href=\"/government/news/cma-secures-over-4-million-in-refunds-for-wowcher-customers\">CMA secures over \\xc2\\xa34 million in refunds for Wowcher customers</a>\\n</div>\\n\\n          <p class=\"gem-c-document-list__item-description \">Following CMA action, Wowcher will change the way it promotes products and services to customers \\xe2\\x80\\x93 as well as providing over \\xc2\\xa34 million in refunds.   </p>\\n\\n          <ul class=\"gem-c-document-list__item-metadata\">\\n\\n                <li class=\"gem-c-document-list__attribute\">\\n                    Updated: <time datetime=\"2024-07-19\">19 July 2024</time>\\n</li>          </ul>\\n\\n\\n      </li>\\n      <li class=\"gem-c-document-list__item  \">\\n\\n        <div class=\"gem-c-document-list__item-title\">          <a data-ga4-ecommerce-path=\"/government/news/regulator-refreshes-meetings-guidance-for-the-zoom-era\" data-ga4-ecommerce-content-id=\"a4ee528e-2e1e-4398-8f90-9036897d1ccf\" data-ga4-ecommerce-row=\"1\" data-ga4-ecommerce-index=\"11\" class=\"  govuk-link\" href=\"/government/news/regulator-refreshes-meetings-guidance-for-the-zoom-era\">Regulator refreshes meetings guidance for the Zoom era</a>\\n</div>\\n\\n          <p class=\"gem-c-document-list__item-description \">The Charity Commission is calling on charities that hold online meetings to review their governing document to ensure it is up to date.</p>\\n\\n          <ul class=\"gem-c-document-list__item-metadata\">\\n\\n                <li class=\"gem-c-document-list__attribute\">\\n                    Updated: <time datetime=\"2024-07-19\">19 July 2024</time>\\n</li>          </ul>\\n\\n\\n      </li>\\n      <li class=\"gem-c-document-list__item  \">\\n\\n        <div class=\"gem-c-document-list__item-title\">          <a data-ga4-ecommerce-path=\"/government/news/uk-to-restart-funding-to-unrwa\" data-ga4-ecommerce-content-id=\"03982e09-0f4f-44b1-aa9e-c2bcd0470778\" data-ga4-ecommerce-row=\"1\" data-ga4-ecommerce-index=\"12\" class=\"  govuk-link\" href=\"/government/news/uk-to-restart-funding-to-unrwa\">UK to restart funding to UNRWA</a>\\n</div>\\n\\n          <p class=\"gem-c-document-list__item-description \">The Foreign Secretary has announced that the UK will lift the pause on funding to the UN Relief and Works Agency, the key aid delivery body operating in Gaza\\r\\n\\r\\n</p>\\n\\n          <ul class=\"gem-c-document-list__item-metadata\">\\n\\n                <li class=\"gem-c-document-list__attribute\">\\n                    Updated: <time datetime=\"2024-07-19\">19 July 2024</time>\\n</li>          </ul>\\n\\n\\n      </li>\\n      <li class=\"gem-c-document-list__item  \">\\n\\n        <div class=\"gem-c-document-list__item-title\">          <a data-ga4-ecommerce-path=\"/government/news/pm-meeting-with-president-zelenskyy-of-ukraine-19-july-2024\" data-ga4-ecommerce-content-id=\"292b7aa8-0439-4727-9626-88b06c9269d2\" data-ga4-ecommerce-row=\"1\" data-ga4-ecommerce-index=\"13\" class=\"  govuk-link\" href=\"/government/news/pm-meeting-with-president-zelenskyy-of-ukraine-19-july-2024\">PM meeting with President Zelenskyy of Ukraine: 19 July 2024</a>\\n</div>\\n\\n          <p class=\"gem-c-document-list__item-description \">The Prime Minister welcomed President Zelenskyy to Downing Street this morning, the first foreign leader to visit No10 during this government.</p>\\n\\n          <ul class=\"gem-c-document-list__item-metadata\">\\n\\n                <li class=\"gem-c-document-list__attribute\">\\n                    Updated: <time datetime=\"2024-07-19\">19 July 2024</time>\\n</li>          </ul>\\n\\n\\n      </li>\\n      <li class=\"gem-c-document-list__item  \">\\n\\n        <div class=\"gem-c-document-list__item-title\">          <a data-ga4-ecommerce-path=\"/government/news/government-launches-curriculum-and-assessment-review\" data-ga4-ecommerce-content-id=\"7ec3ca89-35c3-47b6-953c-73df449ef8ec\" data-ga4-ecommerce-row=\"1\" data-ga4-ecommerce-index=\"14\" class=\"  govuk-link\" href=\"/government/news/government-launches-curriculum-and-assessment-review\">Government launches Curriculum and Assessment Review</a>\\n</div>\\n\\n          <p class=\"gem-c-document-list__item-description \">Leading education expert, Professor Becky Francis CBE, named as review chair.</p>\\n\\n          <ul class=\"gem-c-document-list__item-metadata\">\\n\\n                <li class=\"gem-c-document-list__attribute\">\\n                    Updated: <time datetime=\"2024-07-19\">19 July 2024</time>\\n</li>          </ul>\\n\\n\\n      </li>\\n      <li class=\"gem-c-document-list__item  \">\\n\\n        <div class=\"gem-c-document-list__item-title\">          <a data-ga4-ecommerce-path=\"/government/news/simon-blagden-resigns-as-chair-of-bduk\" data-ga4-ecommerce-content-id=\"91b6d9c7-8aaf-4f70-ba8e-9d76e3b4f360\" data-ga4-ecommerce-row=\"1\" data-ga4-ecommerce-index=\"15\" class=\"  govuk-link\" href=\"/government/news/simon-blagden-resigns-as-chair-of-bduk\">Simon Blagden resigns as Chair of BDUK</a>\\n</div>\\n\\n          <p class=\"gem-c-document-list__item-description \">The Department for Science, Innovation and Technology has confirmed that Simon Blagden has resigned as Chair of BDUK. </p>\\n\\n          <ul class=\"gem-c-document-list__item-metadata\">\\n\\n                <li class=\"gem-c-document-list__attribute\">\\n                    Updated: <time datetime=\"2024-07-19\">19 July 2024</time>\\n</li>          </ul>\\n\\n\\n      </li>\\n      <li class=\"gem-c-document-list__item  \">\\n\\n        <div class=\"gem-c-document-list__item-title\">          <a data-ga4-ecommerce-path=\"/government/news/student-protests-in-bangladesh-july-2024-fcdo-parliamentary-under-secretary-of-state-statement\" data-ga4-ecommerce-content-id=\"37e1aa07-8884-4025-8e67-dee37f7a78e9\" data-ga4-ecommerce-row=\"1\" data-ga4-ecommerce-index=\"16\" class=\"  govuk-link\" href=\"/government/news/student-protests-in-bangladesh-july-2024-fcdo-parliamentary-under-secretary-of-state-statement\">Student Protests in Bangladesh, July 2024: FCDO Parliamentary Under-Secretary of State statement</a>\\n</div>\\n\\n          <p class=\"gem-c-document-list__item-description \">Following the escalating violence during the student protests about quota reforms in Bangladesh in July, Catherine West, Parliamentary Under-Secretary of State, Foreign, Commonwealth &amp; Development Office (FCDO) gave a st\\xe2\\x80\\xa6</p>\\n\\n          <ul class=\"gem-c-document-list__item-metadata\">\\n\\n                <li class=\"gem-c-document-list__attribute\">\\n                    Updated: <time datetime=\"2024-07-18\">18 July 2024</time>\\n</li>          </ul>\\n\\n\\n      </li>\\n      <li class=\"gem-c-document-list__item  \">\\n\\n        <div class=\"gem-c-document-list__item-title\">          <a data-ga4-ecommerce-path=\"/government/news/joint-statement-between-uk-and-france-18-july-2024\" data-ga4-ecommerce-content-id=\"36687b5e-1eb5-4eda-b6d8-6b26dc63a006\" data-ga4-ecommerce-row=\"1\" data-ga4-ecommerce-index=\"17\" class=\"  govuk-link\" href=\"/government/news/joint-statement-between-uk-and-france-18-july-2024\">Joint Statement between UK and France: 18 July 2024</a>\\n</div>\\n\\n          <p class=\"gem-c-document-list__item-description \">Prime Minister Keir Starmer and President of France Emmanuel Macron released a joint statement today.</p>\\n\\n          <ul class=\"gem-c-document-list__item-metadata\">\\n\\n                <li class=\"gem-c-document-list__attribute\">\\n                    Updated: <time datetime=\"2024-07-18\">18 July 2024</time>\\n</li>          </ul>\\n\\n\\n      </li>\\n      <li class=\"gem-c-document-list__item  \">\\n\\n        <div class=\"gem-c-document-list__item-title\">          <a data-ga4-ecommerce-path=\"/government/news/pm-meeting-with-prime-minister-store-of-norway-18-july-2024\" data-ga4-ecommerce-content-id=\"5da9e792-ddcb-40b4-ab35-90cd8afb8c16\" data-ga4-ecommerce-row=\"1\" data-ga4-ecommerce-index=\"18\" class=\"  govuk-link\" href=\"/government/news/pm-meeting-with-prime-minister-store-of-norway-18-july-2024\">PM meeting with Prime Minister St\\xc3\\xb8re\\xe2\\x80\\xaf of Norway: 18 July 2024</a>\\n</div>\\n\\n          <p class=\"gem-c-document-list__item-description \">The Prime Minister met Jonas St\\xc3\\xb8re\\xe2\\x80\\xaf, the Prime Minister of Norway at Blenheim Palace today, as part of the European Political Community meeting.</p>\\n\\n          <ul class=\"gem-c-document-list__item-metadata\">\\n\\n                <li class=\"gem-c-document-list__attribute\">\\n                    Updated: <time datetime=\"2024-07-18\">18 July 2024</time>\\n</li>          </ul>\\n\\n\\n      </li>\\n      <li class=\"gem-c-document-list__item  \">\\n\\n        <div class=\"gem-c-document-list__item-title\">          <a data-ga4-ecommerce-path=\"/government/news/pm-meeting-with-prime-minister-sanchez-of-spain-18-july-2024\" data-ga4-ecommerce-content-id=\"45c8bdf9-dd02-4b3f-aa43-4e8099995f4e\" data-ga4-ecommerce-row=\"1\" data-ga4-ecommerce-index=\"19\" class=\"  govuk-link\" href=\"/government/news/pm-meeting-with-prime-minister-sanchez-of-spain-18-july-2024\">PM meeting with Prime Minister S\\xc3\\xa1nchez of Spain: 18 July 2024</a>\\n</div>\\n\\n          <p class=\"gem-c-document-list__item-description \">The Prime Minister welcomed Pedro S\\xc3\\xa1nchez, the Prime Minister of Spain, to Oxfordshire this afternoon.</p>\\n\\n          <ul class=\"gem-c-document-list__item-metadata\">\\n\\n                <li class=\"gem-c-document-list__attribute\">\\n                    Updated: <time datetime=\"2024-07-18\">18 July 2024</time>\\n</li>          </ul>\\n\\n\\n      </li>\\n      <li class=\"gem-c-document-list__item  \">\\n\\n        <div class=\"gem-c-document-list__item-title\">          <a data-ga4-ecommerce-path=\"/government/news/pm-meeting-with-prime-minister-tusk-of-poland-18-july-2024\" data-ga4-ecommerce-content-id=\"a649defc-264d-4a73-ae8a-4604162e6b89\" data-ga4-ecommerce-row=\"1\" data-ga4-ecommerce-index=\"20\" class=\"  govuk-link\" href=\"/government/news/pm-meeting-with-prime-minister-tusk-of-poland-18-july-2024\">PM meeting with Prime Minister Tusk of Poland: 18 July 2024</a>\\n</div>\\n\\n          <p class=\"gem-c-document-list__item-description \">The Prime Minister met Polish Prime Minister Donald Tusk at Blenheim Palace today.</p>\\n\\n          <ul class=\"gem-c-document-list__item-metadata\">\\n\\n                <li class=\"gem-c-document-list__attribute\">\\n                    Updated: <time datetime=\"2024-07-18\">18 July 2024</time>\\n</li>          </ul>\\n\\n\\n      </li>\\n</ul>\\n</div>\\n\\n\\n        </div>\\n\\n        <div id=\"js-pagination\">\\n            <nav class=\"govuk-pagination govuk-pagination--block\" role=\"navigation\" aria-label=\"Pagination\" data-module=\"ga4-link-tracker\">\\n\\n      <div class=\"govuk-pagination__next\">\\n        <a class=\"govuk-link govuk-pagination__link\" href=\"/search/news-and-communications?page=2\" rel=\"next\" data-track-category=\"contentsClicked\" data-track-action=\"next\" data-track-label=\"/search/news-and-communications?page=2\" data-track-dimension=\"next\" data-track-dimension-index=\"29\" data-ga4-link=\\'{\"event_name\":\"navigation\",\"type\":\"previous and next\",\"text\":\"2 of 6493\",\"section\":\"Next\"}\\'>\\n          <svg class=\"govuk-pagination__icon govuk-pagination__icon--next\" xmlns=\"http://www.w3.org/2000/svg\" height=\"13\" width=\"15\" aria-hidden=\"true\" focusable=\"false\" viewbox=\"0 0 15 13\">\\n            <path d=\"m8.107-0.0078125-1.4136 1.414 4.2926 4.293h-12.986v2h12.896l-4.1855 3.9766 1.377 1.4492 6.7441-6.4062-6.7246-6.7266z\"></path>\\n          </svg>\\n          <span class=\"govuk-pagination__link-title\">Next page</span>\\n            <span class=\"govuk-visually-hidden\">:</span>\\n            <span class=\"govuk-pagination__link-label\">2 of 6493</span>\\n        </a>\\n      </div>\\n  </nav>\\n\\n        </div>\\n\\n        <div class=\"subscription-links\" id=\"subscription-links-footer\" data-module=\"ga4-link-tracker\" data-ga4-track-links-only data-ga4-link=\\'{ \"event_name\": \"navigation\", \"type\": \"subscribe\", \"section\": \"Footer\" }\\'>\\n            <section class=\"gem-c-subscription-links govuk-!-display-none-print\">\\n    <ul class=\"gem-c-subscription-links__list gem-c-subscription-links__list--small\">\\n        <li class=\"gem-c-subscription-links__list-item gem-c-subscription-links__list-item--small\">\\n          <a class=\"govuk-link gem-c-subscription-links__item  gem-c-subscription-links__item--link\" href=\"/search/news-and-communications/email-signup\">            <svg xmlns=\"http://www.w3.org/2000/svg\" width=\"21\" height=\"15.75\" class=\"gem-c-subscription-links__icon\" focusable=\"false\" fill=\"currentColor\" aria-hidden=\"true\"><path d=\"M19.687 0H1.312C.589 0 0 .587 0 1.313v13.124c0 .726.588 1.313 1.313 1.313h18.374c.725 0 1.313-.587 1.313-1.313V1.313C21 .587 20.412 0 19.687 0zm-2.625 2.625L10.5 7.875l-6.563-5.25h13.126zm1.313 10.5H2.625V3.937L10.5 10.5l7.875-6.563v9.188z\"></path>\\n            </svg>Get emails\\n</a>\\n        </li>\\n\\n        <li class=\"gem-c-subscription-links__list-item gem-c-subscription-links__list-item--small\">\\n          \\n          <a class=\"govuk-link govuk-link--no-underline gem-c-subscription-links__item  gem-c-subscription-links__item--link\" href=\"/search/news-and-communications.atom\">            <svg xmlns=\"http://www.w3.org/2000/svg\" width=\"15\" height=\"15\" class=\"gem-c-subscription-links__icon\" focusable=\"false\" fill=\"currentColor\" aria-hidden=\"true\"><path d=\"M1.996 11A2 2 0 0 0 0 12.993c0 1.101.895 1.99 1.996 1.99 1.106 0 2-.889 2-1.99a2 2 0 0 0-2-1.993zM.002 5.097V7.97c1.872 0 3.632.733 4.958 2.059A6.984 6.984 0 0 1 7.015 15h2.888c0-5.461-4.443-9.903-9.9-9.903zM.006 0v2.876c6.676 0 12.11 5.44 12.11 12.124H15C15 6.731 8.273 0 .006 0z\"></path>\\n            </svg>Subscribe to feed\\n</a>\\n        </li>\\n    </ul>\\n\\n</section>\\n        </div>\\n      </div>\\n    </div>\\n  </div>\\n</form>\\n\\n    </div>\\n  </main>\\n\\n    </div>\\n\\n      <div class=\"govuk-width-container\">\\n        \\n<div class=\"gem-c-feedback govuk-!-display-none-print\" data-module=\"feedback ga4-event-tracker\">\\n  \\n<div class=\"gem-c-feedback__prompt gem-c-feedback__js-show js-prompt\" tabindex=\"-1\">\\n  <div class=\"gem-c-feedback__prompt-content\">\\n    <div class=\"gem-c-feedback__prompt-questions js-prompt-questions\" hidden>\\n      <div class=\"gem-c-feedback__prompt-question-answer\">\\n        <h2 class=\"gem-c-feedback__prompt-question\">Is this page useful?</h2>\\n        <ul class=\"gem-c-feedback__option-list\">\\n          <li class=\"gem-c-feedback__option-list-item govuk-visually-hidden\" hidden>\\n            <a class=\"gem-c-feedback__prompt-link\" data-track-category=\"yesNoFeedbackForm\" data-track-action=\"ffMaybeClick\" role=\"button\" hidden=\"hidden\" aria-hidden=\"true\" href=\"/contact/govuk\">\\n              Maybe\\n</a>          </li>\\n          <li class=\"gem-c-feedback__option-list-item\">\\n            <button class=\"govuk-button gem-c-feedback__prompt-link js-page-is-useful\" data-track-category=\"yesNoFeedbackForm\" data-track-action=\"ffYesClick\" data-ga4-event=\\'{\"event_name\":\"form_submit\",\"type\":\"feedback\",\"text\":\"Yes\",\"section\":\"Is this page useful?\",\"tool_name\":\"Is this page useful?\"}\\'>\\n              Yes <span class=\"govuk-visually-hidden\">this page is useful</span>\\n</button>          </li>\\n          <li class=\"gem-c-feedback__option-list-item\">\\n\\n            <button class=\"govuk-button gem-c-feedback__prompt-link js-toggle-form js-page-is-not-useful\" aria-controls=\"page-is-not-useful\" aria-expanded=\"false\" data-track-category=\"yesNoFeedbackForm\" data-track-action=\"ffNoClick\" data-ga4-event=\\'{\"event_name\":\"form_submit\",\"type\":\"feedback\",\"text\":\"No\",\"section\":\"Is this page useful?\",\"tool_name\":\"Is this page useful?\"}\\'>\\n              No <span class=\"govuk-visually-hidden\">this page is not useful</span>\\n</button>          </li>\\n        </ul>\\n      </div>\\n    </div>\\n\\n    <div class=\"gem-c-feedback__prompt-questions gem-c-feedback__prompt-success js-prompt-success\" role=\"alert\" hidden>\\n      Thank you for your feedback\\n    </div>\\n\\n    <div class=\"gem-c-feedback__prompt-questions gem-c-feedback__prompt-questions--something-is-wrong js-prompt-questions\" hidden>\\n      <button class=\"govuk-button gem-c-feedback__prompt-link js-toggle-form js-something-is-wrong\" aria-expanded=\"false\" aria-controls=\"something-is-wrong\" data-track-category=\"Onsite Feedback\" data-track-action=\"GOV-UK Open Form\" data-ga4-event=\\'{\"event_name\":\"form_submit\",\"type\":\"feedback\",\"text\":\"Report a problem with this page\",\"section\":\"Is this page useful?\",\"tool_name\":\"Is this page useful?\"}\\'>\\n        Report a problem with this page\\n</button>    </div>\\n  </div>\\n</div>\\n\\n  \\n<form action=\"https://www.gov.uk/contact/govuk/problem_reports\" id=\"something-is-wrong\" class=\"gem-c-feedback__form js-feedback-form\" data-track-category=\"Onsite Feedback\" data-track-action=\"GOV.UK Send Form\" method=\"post\" hidden>\\n\\n  <div class=\"govuk-grid-row\">\\n    <div class=\"govuk-grid-column-two-thirds\">\\n      <div class=\"gem-c-feedback__error-summary gem-c-feedback__js-show js-errors\" tabindex=\"-1\" hidden></div>\\n\\n      <input type=\"hidden\" name=\"url\" value=\"https://www.gov.uk/search/news-and-communications\">\\n\\n      <h3 class=\"gem-c-feedback__form-heading\">Help us improve GOV.UK</h3>\\n      <p id=\"feedback_explanation\" class=\"gem-c-feedback__form-paragraph\">Don\\xe2\\x80\\x99t include personal or financial information like your National Insurance number or credit card details.</p>\\n\\n      <div class=\"govuk-visually-hidden\" aria-hidden=\"true\">\\n        <label for=\"giraffe\">This field is for robots only. Please leave blank</label>\\n        <input id=\"giraffe\" name=\"giraffe\" type=\"text\" pattern=\".{0}\" tabindex=\"-1\" autocomplete=\"off\">\\n      </div>\\n\\n      \\n<div class=\"gem-c-textarea govuk-form-group govuk-!-margin-bottom-6\">\\n    \\n  <label for=\"textarea-432b4de5\" class=\"gem-c-label govuk-label\">What were you doing?</label>\\n\\n\\n\\n\\n\\n  <textarea name=\"what_doing\" class=\"govuk-textarea\" id=\"textarea-432b4de5\" rows=\"3\" spellcheck=\"true\" aria-describedby=\"feedback_explanation\">\\n</textarea>\\n    \\n</div>\\n\\n      \\n<div class=\"gem-c-textarea govuk-form-group govuk-!-margin-bottom-6\">\\n    \\n  <label for=\"textarea-36d8f1c2\" class=\"gem-c-label govuk-label\">What went wrong?</label>\\n\\n\\n\\n\\n\\n  <textarea name=\"what_wrong\" class=\"govuk-textarea\" id=\"textarea-36d8f1c2\" rows=\"3\" spellcheck=\"true\">\\n</textarea>\\n    \\n</div>\\n\\n\\n      \\n\\n\\n  <button class=\"gem-c-button govuk-button\" type=\"submit\" data-ga4-event=\\'{\"event_name\":\"form_submit\",\"type\":\"feedback\",\"text\":\"Send\",\"section\":\"Help us improve GOV.UK\",\"tool_name\":\"Help us improve GOV.UK\"}\\'>Send</button>\\n\\n\\n\\n      <button class=\"govuk-button govuk-button--secondary gem-c-feedback__close gem-c-feedback__js-show js-close-form\" data-track-category=\"Onsite Feedback\" data-track-action=\"GOV.UK Close Form\" aria-controls=\"something-is-wrong\" aria-expanded=\"true\">\\n        Cancel\\n      </button>\\n    </div>\\n  </div>\\n</form>\\n\\n\\n<script nonce=\"oHOM7u6b4xjkZm0ij9H4Yw==\">\\n//<![CDATA[\\n  document.addEventListener(\"DOMContentLoaded\", function () {\\n    var input = document.querySelector(\"#giraffe\"),\\n      form = document.querySelector(\"#something-is-wrong\")\\n\\n    form.addEventListener(\"submit\", spamCapture);\\n\\n    function spamCapture(e) {\\n      if (input.value.length !== 0) return;\\n      e.preventDefault();\\n    }\\n  });\\n\\n//]]>\\n</script>\\n  \\n<div id=\"page-is-not-useful\" class=\"gem-c-feedback__form gem-c-feedback__form--email gem-c-feedback__js-show js-feedback-form\">\\n  <div class=\"govuk-grid-row\">\\n    <div class=\"govuk-grid-column-two-thirds\" id=\"survey-wrapper\">\\n      <div class=\"gem-c-feedback__error-summary js-errors\" tabindex=\"-1\" hidden></div>\\n\\n      <h3 class=\"gem-c-feedback__form-heading\">Help us improve GOV.UK</h3>\\n      <p id=\"survey_explanation\" class=\"gem-c-feedback__form-paragraph\">\\n        To help us improve GOV.UK, we\\xe2\\x80\\x99d like to know more about your visit today.\\n        <a href=\"https://www.smartsurvey.co.uk/s/gov-uk-banner/?c=no-js\" class=\"govuk-link\" target=\"_blank\" rel=\"noopener noreferrer external\">Please fill in this survey (opens in a new tab)</a>.\\n      </p>\\n      <button class=\"govuk-button govuk-button--secondary js-close-form\" data-track-category=\"yesNoFeedbackForm\" data-track-action=\"ffFormClose\" aria-controls=\"page-is-not-useful\" aria-expanded=\"true\" hidden>\\n        Cancel\\n      </button>\\n    </div>\\n  </div>\\n</div>\\n\\n</div>\\n\\n      </div>\\n\\n      <footer class=\"gem-c-layout-footer govuk-footer gem-c-layout-footer--border\" role=\"contentinfo\" data-module=\"ga4-link-tracker\">\\n  <div class=\"govuk-width-container\">\\n      <div class=\"govuk-footer__navigation\" data-module=\"gem-track-click\" data-track-links-only>\\n            <div class=\"govuk-grid-column-two-thirds govuk-!-display-none-print\">\\n              <h2 class=\"govuk-footer__heading govuk-heading-m\">Services and information</h2>\\n                <ul class=\"govuk-footer__list govuk-footer__list--columns-2\">\\n                      <li class=\"govuk-footer__list-item\">\\n                        <a class=\"govuk-footer__link\" data-track-category=\"footerClicked\" data-track-action=\"topicsLink\" data-track-label=\"/browse/benefits\" data-track-options=\\'{\"dimension29\":\"Benefits\"}\\' data-ga4-link=\\'{\"event_name\":\"navigation\",\"type\":\"footer\",\"index_link\":\"1\",\"index_section\":\"1\",\"index_section_count\":\"5\",\"index_total\":\"16\",\"section\":\"Services and information\"}\\' href=\"https://www.gov.uk/browse/benefits\">Benefits</a>\\n                      </li>\\n                      <li class=\"govuk-footer__list-item\">\\n                        <a class=\"govuk-footer__link\" data-track-category=\"footerClicked\" data-track-action=\"topicsLink\" data-track-label=\"/browse/births-deaths-marriages\" data-track-options=\\'{\"dimension29\":\"Births, death, marriages and care\"}\\' data-ga4-link=\\'{\"event_name\":\"navigation\",\"type\":\"footer\",\"index_link\":\"2\",\"index_section\":\"1\",\"index_section_count\":\"5\",\"index_total\":\"16\",\"section\":\"Services and information\"}\\' href=\"https://www.gov.uk/browse/births-deaths-marriages\">Births, death, marriages and care</a>\\n                      </li>\\n                      <li class=\"govuk-footer__list-item\">\\n                        <a class=\"govuk-footer__link\" data-track-category=\"footerClicked\" data-track-action=\"topicsLink\" data-track-label=\"/browse/business\" data-track-options=\\'{\"dimension29\":\"Business and self-employed\"}\\' data-ga4-link=\\'{\"event_name\":\"navigation\",\"type\":\"footer\",\"index_link\":\"3\",\"index_section\":\"1\",\"index_section_count\":\"5\",\"index_total\":\"16\",\"section\":\"Services and information\"}\\' href=\"https://www.gov.uk/browse/business\">Business and self-employed</a>\\n                      </li>\\n                      <li class=\"govuk-footer__list-item\">\\n                        <a class=\"govuk-footer__link\" data-track-category=\"footerClicked\" data-track-action=\"topicsLink\" data-track-label=\"/browse/childcare-parenting\" data-track-options=\\'{\"dimension29\":\"Childcare and parenting\"}\\' data-ga4-link=\\'{\"event_name\":\"navigation\",\"type\":\"footer\",\"index_link\":\"4\",\"index_section\":\"1\",\"index_section_count\":\"5\",\"index_total\":\"16\",\"section\":\"Services and information\"}\\' href=\"https://www.gov.uk/browse/childcare-parenting\">Childcare and parenting</a>\\n                      </li>\\n                      <li class=\"govuk-footer__list-item\">\\n                        <a class=\"govuk-footer__link\" data-track-category=\"footerClicked\" data-track-action=\"topicsLink\" data-track-label=\"/browse/citizenship\" data-track-options=\\'{\"dimension29\":\"Citizenship and living in the UK\"}\\' data-ga4-link=\\'{\"event_name\":\"navigation\",\"type\":\"footer\",\"index_link\":\"5\",\"index_section\":\"1\",\"index_section_count\":\"5\",\"index_total\":\"16\",\"section\":\"Services and information\"}\\' href=\"https://www.gov.uk/browse/citizenship\">Citizenship and living in the UK</a>\\n                      </li>\\n                      <li class=\"govuk-footer__list-item\">\\n                        <a class=\"govuk-footer__link\" data-track-category=\"footerClicked\" data-track-action=\"topicsLink\" data-track-label=\"/browse/justice\" data-track-options=\\'{\"dimension29\":\"Crime, justice and the law\"}\\' data-ga4-link=\\'{\"event_name\":\"navigation\",\"type\":\"footer\",\"index_link\":\"6\",\"index_section\":\"1\",\"index_section_count\":\"5\",\"index_total\":\"16\",\"section\":\"Services and information\"}\\' href=\"https://www.gov.uk/browse/justice\">Crime, justice and the law</a>\\n                      </li>\\n                      <li class=\"govuk-footer__list-item\">\\n                        <a class=\"govuk-footer__link\" data-track-category=\"footerClicked\" data-track-action=\"topicsLink\" data-track-label=\"/browse/disabilities\" data-track-options=\\'{\"dimension29\":\"Disabled people\"}\\' data-ga4-link=\\'{\"event_name\":\"navigation\",\"type\":\"footer\",\"index_link\":\"7\",\"index_section\":\"1\",\"index_section_count\":\"5\",\"index_total\":\"16\",\"section\":\"Services and information\"}\\' href=\"https://www.gov.uk/browse/disabilities\">Disabled people</a>\\n                      </li>\\n                      <li class=\"govuk-footer__list-item\">\\n                        <a class=\"govuk-footer__link\" data-track-category=\"footerClicked\" data-track-action=\"topicsLink\" data-track-label=\"/browse/driving\" data-track-options=\\'{\"dimension29\":\"Driving and transport\"}\\' data-ga4-link=\\'{\"event_name\":\"navigation\",\"type\":\"footer\",\"index_link\":\"8\",\"index_section\":\"1\",\"index_section_count\":\"5\",\"index_total\":\"16\",\"section\":\"Services and information\"}\\' href=\"https://www.gov.uk/browse/driving\">Driving and transport</a>\\n                      </li>\\n                      <li class=\"govuk-footer__list-item\">\\n                        <a class=\"govuk-footer__link\" data-track-category=\"footerClicked\" data-track-action=\"topicsLink\" data-track-label=\"/browse/education\" data-track-options=\\'{\"dimension29\":\"Education and learning\"}\\' data-ga4-link=\\'{\"event_name\":\"navigation\",\"type\":\"footer\",\"index_link\":\"9\",\"index_section\":\"1\",\"index_section_count\":\"5\",\"index_total\":\"16\",\"section\":\"Services and information\"}\\' href=\"https://www.gov.uk/browse/education\">Education and learning</a>\\n                      </li>\\n                      <li class=\"govuk-footer__list-item\">\\n                        <a class=\"govuk-footer__link\" data-track-category=\"footerClicked\" data-track-action=\"topicsLink\" data-track-label=\"/browse/employing-people\" data-track-options=\\'{\"dimension29\":\"Employing people\"}\\' data-ga4-link=\\'{\"event_name\":\"navigation\",\"type\":\"footer\",\"index_link\":\"10\",\"index_section\":\"1\",\"index_section_count\":\"5\",\"index_total\":\"16\",\"section\":\"Services and information\"}\\' href=\"https://www.gov.uk/browse/employing-people\">Employing people</a>\\n                      </li>\\n                      <li class=\"govuk-footer__list-item\">\\n                        <a class=\"govuk-footer__link\" data-track-category=\"footerClicked\" data-track-action=\"topicsLink\" data-track-label=\"/browse/environment-countryside\" data-track-options=\\'{\"dimension29\":\"Environment and countryside\"}\\' data-ga4-link=\\'{\"event_name\":\"navigation\",\"type\":\"footer\",\"index_link\":\"11\",\"index_section\":\"1\",\"index_section_count\":\"5\",\"index_total\":\"16\",\"section\":\"Services and information\"}\\' href=\"https://www.gov.uk/browse/environment-countryside\">Environment and countryside</a>\\n                      </li>\\n                      <li class=\"govuk-footer__list-item\">\\n                        <a class=\"govuk-footer__link\" data-track-category=\"footerClicked\" data-track-action=\"topicsLink\" data-track-label=\"/browse/housing-local-services\" data-track-options=\\'{\"dimension29\":\"Housing and local services\"}\\' data-ga4-link=\\'{\"event_name\":\"navigation\",\"type\":\"footer\",\"index_link\":\"12\",\"index_section\":\"1\",\"index_section_count\":\"5\",\"index_total\":\"16\",\"section\":\"Services and information\"}\\' href=\"https://www.gov.uk/browse/housing-local-services\">Housing and local services</a>\\n                      </li>\\n                      <li class=\"govuk-footer__list-item\">\\n                        <a class=\"govuk-footer__link\" data-track-category=\"footerClicked\" data-track-action=\"topicsLink\" data-track-label=\"/browse/tax\" data-track-options=\\'{\"dimension29\":\"Money and tax\"}\\' data-ga4-link=\\'{\"event_name\":\"navigation\",\"type\":\"footer\",\"index_link\":\"13\",\"index_section\":\"1\",\"index_section_count\":\"5\",\"index_total\":\"16\",\"section\":\"Services and information\"}\\' href=\"https://www.gov.uk/browse/tax\">Money and tax</a>\\n                      </li>\\n                      <li class=\"govuk-footer__list-item\">\\n                        <a class=\"govuk-footer__link\" data-track-category=\"footerClicked\" data-track-action=\"topicsLink\" data-track-label=\"/browse/abroad\" data-track-options=\\'{\"dimension29\":\"Passports, travel and living abroad\"}\\' data-ga4-link=\\'{\"event_name\":\"navigation\",\"type\":\"footer\",\"index_link\":\"14\",\"index_section\":\"1\",\"index_section_count\":\"5\",\"index_total\":\"16\",\"section\":\"Services and information\"}\\' href=\"https://www.gov.uk/browse/abroad\">Passports, travel and living abroad</a>\\n                      </li>\\n                      <li class=\"govuk-footer__list-item\">\\n                        <a class=\"govuk-footer__link\" data-track-category=\"footerClicked\" data-track-action=\"topicsLink\" data-track-label=\"/browse/visas-immigration\" data-track-options=\\'{\"dimension29\":\"Visas and immigration\"}\\' data-ga4-link=\\'{\"event_name\":\"navigation\",\"type\":\"footer\",\"index_link\":\"15\",\"index_section\":\"1\",\"index_section_count\":\"5\",\"index_total\":\"16\",\"section\":\"Services and information\"}\\' href=\"https://www.gov.uk/browse/visas-immigration\">Visas and immigration</a>\\n                      </li>\\n                      <li class=\"govuk-footer__list-item\">\\n                        <a class=\"govuk-footer__link\" data-track-category=\"footerClicked\" data-track-action=\"topicsLink\" data-track-label=\"/browse/working\" data-track-options=\\'{\"dimension29\":\"Working, jobs and pensions\"}\\' data-ga4-link=\\'{\"event_name\":\"navigation\",\"type\":\"footer\",\"index_link\":\"16\",\"index_section\":\"1\",\"index_section_count\":\"5\",\"index_total\":\"16\",\"section\":\"Services and information\"}\\' href=\"https://www.gov.uk/browse/working\">Working, jobs and pensions</a>\\n                      </li>\\n                </ul>\\n            </div>\\n            <div class=\"govuk-grid-column-one-third govuk-!-display-none-print\">\\n              <h2 class=\"govuk-footer__heading govuk-heading-m\">Government activity</h2>\\n                <ul class=\"govuk-footer__list govuk-footer__list--columns-1\">\\n                      <li class=\"govuk-footer__list-item\">\\n                        <a class=\"govuk-footer__link\" data-track-category=\"footerClicked\" data-track-action=\"governmentactivityLink\" data-track-label=\"/government/organisations\" data-track-options=\\'{\"dimension29\":\"Departments\"}\\' data-ga4-link=\\'{\"event_name\":\"navigation\",\"type\":\"footer\",\"index_link\":\"1\",\"index_section\":\"2\",\"index_section_count\":\"5\",\"index_total\":\"8\",\"section\":\"Government activity\"}\\' href=\"https://www.gov.uk/government/organisations\">Departments</a>\\n                      </li>\\n                      <li class=\"govuk-footer__list-item\">\\n                        <a class=\"govuk-footer__link\" data-track-category=\"footerClicked\" data-track-action=\"governmentactivityLink\" data-track-label=\"/search/news-and-communications\" data-track-options=\\'{\"dimension29\":\"News\"}\\' data-ga4-link=\\'{\"event_name\":\"navigation\",\"type\":\"footer\",\"index_link\":\"2\",\"index_section\":\"2\",\"index_section_count\":\"5\",\"index_total\":\"8\",\"section\":\"Government activity\"}\\' href=\"https://www.gov.uk/search/news-and-communications\">News</a>\\n                      </li>\\n                      <li class=\"govuk-footer__list-item\">\\n                        <a class=\"govuk-footer__link\" data-track-category=\"footerClicked\" data-track-action=\"governmentactivityLink\" data-track-label=\"/search/guidance-and-regulation\" data-track-options=\\'{\"dimension29\":\"Guidance and regulation\"}\\' data-ga4-link=\\'{\"event_name\":\"navigation\",\"type\":\"footer\",\"index_link\":\"3\",\"index_section\":\"2\",\"index_section_count\":\"5\",\"index_total\":\"8\",\"section\":\"Government activity\"}\\' href=\"https://www.gov.uk/search/guidance-and-regulation\">Guidance and regulation</a>\\n                      </li>\\n                      <li class=\"govuk-footer__list-item\">\\n                        <a class=\"govuk-footer__link\" data-track-category=\"footerClicked\" data-track-action=\"governmentactivityLink\" data-track-label=\"/search/research-and-statistics\" data-track-options=\\'{\"dimension29\":\"Research and statistics\"}\\' data-ga4-link=\\'{\"event_name\":\"navigation\",\"type\":\"footer\",\"index_link\":\"4\",\"index_section\":\"2\",\"index_section_count\":\"5\",\"index_total\":\"8\",\"section\":\"Government activity\"}\\' href=\"https://www.gov.uk/search/research-and-statistics\">Research and statistics</a>\\n                      </li>\\n                      <li class=\"govuk-footer__list-item\">\\n                        <a class=\"govuk-footer__link\" data-track-category=\"footerClicked\" data-track-action=\"governmentactivityLink\" data-track-label=\"/search/policy-papers-and-consultations\" data-track-options=\\'{\"dimension29\":\"Policy papers and consultations\"}\\' data-ga4-link=\\'{\"event_name\":\"navigation\",\"type\":\"footer\",\"index_link\":\"5\",\"index_section\":\"2\",\"index_section_count\":\"5\",\"index_total\":\"8\",\"section\":\"Government activity\"}\\' href=\"https://www.gov.uk/search/policy-papers-and-consultations\">Policy papers and consultations</a>\\n                      </li>\\n                      <li class=\"govuk-footer__list-item\">\\n                        <a class=\"govuk-footer__link\" data-track-category=\"footerClicked\" data-track-action=\"governmentactivityLink\" data-track-label=\"/search/transparency-and-freedom-of-information-releases\" data-track-options=\\'{\"dimension29\":\"Transparency\"}\\' data-ga4-link=\\'{\"event_name\":\"navigation\",\"type\":\"footer\",\"index_link\":\"6\",\"index_section\":\"2\",\"index_section_count\":\"5\",\"index_total\":\"8\",\"section\":\"Government activity\"}\\' href=\"https://www.gov.uk/search/transparency-and-freedom-of-information-releases\">Transparency</a>\\n                      </li>\\n                      <li class=\"govuk-footer__list-item\">\\n                        <a class=\"govuk-footer__link\" data-track-category=\"footerClicked\" data-track-action=\"governmentactivityLink\" data-track-label=\"/government/how-government-works\" data-track-options=\\'{\"dimension29\":\"How government works\"}\\' data-ga4-link=\\'{\"event_name\":\"navigation\",\"type\":\"footer\",\"index_link\":\"7\",\"index_section\":\"2\",\"index_section_count\":\"5\",\"index_total\":\"8\",\"section\":\"Government activity\"}\\' href=\"https://www.gov.uk/government/how-government-works\">How government works</a>\\n                      </li>\\n                      <li class=\"govuk-footer__list-item\">\\n                        <a class=\"govuk-footer__link\" data-track-category=\"footerClicked\" data-track-action=\"governmentactivityLink\" data-track-label=\"/government/get-involved\" data-track-options=\\'{\"dimension29\":\"Get involved\"}\\' data-ga4-link=\\'{\"event_name\":\"navigation\",\"type\":\"footer\",\"index_link\":\"8\",\"index_section\":\"2\",\"index_section_count\":\"5\",\"index_total\":\"8\",\"section\":\"Government activity\"}\\' href=\"https://www.gov.uk/government/get-involved\">Get involved</a>\\n                      </li>\\n                </ul>\\n            </div>\\n      </div>\\n\\n      <hr class=\"govuk-footer__section-break\">\\n    <div class=\"govuk-footer__meta\">\\n      <div class=\"govuk-footer__meta-item govuk-footer__meta-item--grow\">\\n          <h2 class=\"govuk-visually-hidden\">Support links</h2>\\n          <ul class=\"govuk-footer__inline-list govuk-!-display-none-print\" data-module=\"gem-track-click\" data-track-links-only>\\n              <li class=\"govuk-footer__inline-list-item\">\\n                <a class=\"govuk-footer__link\" data-track-category=\"footerClicked\" data-track-action=\"supportLink\" data-track-label=\"/help\" data-track-options=\\'{\"dimension29\":\"Help\"}\\' data-ga4-link=\\'{\"event_name\":\"navigation\",\"type\":\"footer\",\"index_link\":\"1\",\"index_section\":\"3\",\"index_section_count\":\"5\",\"index_total\":\"8\",\"section\":\"Support links\"}\\' href=\"https://www.gov.uk/help\">Help</a>\\n              </li>\\n              <li class=\"govuk-footer__inline-list-item\">\\n                <a class=\"govuk-footer__link\" data-track-category=\"footerClicked\" data-track-action=\"supportLink\" data-track-label=\"/help/privacy-notice\" data-track-options=\\'{\"dimension29\":\"Privacy\"}\\' data-ga4-link=\\'{\"event_name\":\"navigation\",\"type\":\"footer\",\"index_link\":\"2\",\"index_section\":\"3\",\"index_section_count\":\"5\",\"index_total\":\"8\",\"section\":\"Support links\"}\\' href=\"https://www.gov.uk/help/privacy-notice\">Privacy</a>\\n              </li>\\n              <li class=\"govuk-footer__inline-list-item\">\\n                <a class=\"govuk-footer__link\" data-track-category=\"footerClicked\" data-track-action=\"supportLink\" data-track-label=\"/help/cookies\" data-track-options=\\'{\"dimension29\":\"Cookies\"}\\' data-ga4-link=\\'{\"event_name\":\"navigation\",\"type\":\"footer\",\"index_link\":\"3\",\"index_section\":\"3\",\"index_section_count\":\"5\",\"index_total\":\"8\",\"section\":\"Support links\"}\\' href=\"https://www.gov.uk/help/cookies\">Cookies</a>\\n              </li>\\n              <li class=\"govuk-footer__inline-list-item\">\\n                <a class=\"govuk-footer__link\" data-track-category=\"footerClicked\" data-track-action=\"supportLink\" data-track-label=\"/help/accessibility-statement\" data-track-options=\\'{\"dimension29\":\"Accessibility statement\"}\\' data-ga4-link=\\'{\"event_name\":\"navigation\",\"type\":\"footer\",\"index_link\":\"4\",\"index_section\":\"3\",\"index_section_count\":\"5\",\"index_total\":\"8\",\"section\":\"Support links\"}\\' href=\"https://www.gov.uk/help/accessibility-statement\">Accessibility statement</a>\\n              </li>\\n              <li class=\"govuk-footer__inline-list-item\">\\n                <a class=\"govuk-footer__link\" data-track-category=\"footerClicked\" data-track-action=\"supportLink\" data-track-label=\"/contact\" data-track-options=\\'{\"dimension29\":\"Contact\"}\\' data-ga4-link=\\'{\"event_name\":\"navigation\",\"type\":\"footer\",\"index_link\":\"5\",\"index_section\":\"3\",\"index_section_count\":\"5\",\"index_total\":\"8\",\"section\":\"Support links\"}\\' href=\"https://www.gov.uk/contact\">Contact</a>\\n              </li>\\n              <li class=\"govuk-footer__inline-list-item\">\\n                <a class=\"govuk-footer__link\" data-track-category=\"footerClicked\" data-track-action=\"supportLink\" data-track-label=\"/help/terms-conditions\" data-track-options=\\'{\"dimension29\":\"Terms and conditions\"}\\' data-ga4-link=\\'{\"event_name\":\"navigation\",\"type\":\"footer\",\"index_link\":\"6\",\"index_section\":\"3\",\"index_section_count\":\"5\",\"index_total\":\"8\",\"section\":\"Support links\"}\\' href=\"https://www.gov.uk/help/terms-conditions\">Terms and conditions</a>\\n              </li>\\n              <li class=\"govuk-footer__inline-list-item\">\\n                <a class=\"govuk-footer__link\" lang=\"cy\" data-track-category=\"footerClicked\" data-track-action=\"supportLink\" data-track-label=\"/cymraeg\" data-track-options=\\'{\"dimension29\":\"Rhestr o Wasanaethau Cymraeg\"}\\' data-ga4-link=\\'{\"event_name\":\"navigation\",\"type\":\"footer\",\"index_link\":\"7\",\"index_section\":\"3\",\"index_section_count\":\"5\",\"index_total\":\"8\",\"section\":\"Support links\"}\\' href=\"https://www.gov.uk/cymraeg\">Rhestr o Wasanaethau Cymraeg</a>\\n              </li>\\n              <li class=\"govuk-footer__inline-list-item\">\\n                <a class=\"govuk-footer__link\" data-track-category=\"footerClicked\" data-track-action=\"supportLink\" data-track-label=\"/government/organisations/government-digital-service\" data-track-options=\\'{\"dimension29\":\"Government Digital Service\"}\\' data-ga4-link=\\'{\"event_name\":\"navigation\",\"type\":\"footer\",\"index_link\":\"8\",\"index_section\":\"3\",\"index_section_count\":\"5\",\"index_total\":\"8\",\"section\":\"Support links\"}\\' href=\"https://www.gov.uk/government/organisations/government-digital-service\">Government Digital Service</a>\\n              </li>\\n          </ul>\\n        <svg aria-hidden=\"true\" focusable=\"false\" class=\"govuk-footer__licence-logo\" xmlns=\"http://www.w3.org/2000/svg\" viewbox=\"0 0 483.2 195.7\" height=\"17\" width=\"41\">\\n          <path fill=\"currentColor\" d=\"M421.5 142.8V.1l-50.7 32.3v161.1h112.4v-50.7zm-122.3-9.6A47.12 47.12 0 0 1 221 97.8c0-26 21.1-47.1 47.1-47.1 16.7 0 31.4 8.7 39.7 21.8l42.7-27.2A97.63 97.63 0 0 0 268.1 0c-36.5 0-68.3 20.1-85.1 49.7A98 98 0 0 0 97.8 0C43.9 0 0 43.9 0 97.8s43.9 97.8 97.8 97.8c36.5 0 68.3-20.1 85.1-49.7a97.76 97.76 0 0 0 149.6 25.4l19.4 22.2h3v-87.8h-80l24.3 27.5zM97.8 145c-26 0-47.1-21.1-47.1-47.1s21.1-47.1 47.1-47.1 47.2 21 47.2 47S123.8 145 97.8 145\"></path>\\n        </svg>\\n        <span class=\"govuk-footer__licence-description\" data-module=\"gem-track-click\" data-track-action=\"copyrightLink\" data-track-category=\"footerClicked\" data-track-label=\"https://www.nationalarchives.gov.uk/doc/open-government-licence/version/3/\" data-track-options=\\'{\"dimension29\": \"Open Government Licence v3.0\"}\\' data-track-links-only data-ga4-track-links-only data-ga4-link=\\'{\"event_name\":\"navigation\",\"section\":\"Licence\",\"index_section\":\"4\",\"index_link\":\"1\",\"index_section_count\":\"5\",\"text\":\"Open Government Licence v3.0\",\"index_total\":\"1\",\"type\":\"footer\"}\\'>\\n          All content is available under the <a class=\"govuk-footer__link\" href=\"https://www.nationalarchives.gov.uk/doc/open-government-licence/version/3/\" rel=\"license\">Open Government Licence v3.0</a>, except where otherwise stated\\n        </span>\\n      </div>\\n      <div class=\"govuk-footer__meta-item\" data-module=\"gem-track-click\" data-track-action=\"copyrightLink\" data-track-category=\"footerClicked\" data-track-label=\"https://www.nationalarchives.gov.uk/information-management/re-using-public-sector-information/uk-government-licensing-framework/crown-copyright/\" data-track-options=\\'{\"dimension29\": \"\\xc2\\xa9 Crown copyright\"}\\' data-track-links-only data-ga4-link=\\'{\"event_name\":\"navigation\",\"section\":\"Copyright\",\"index_section\":\"5\",\"index_link\":\"1\",\"index_section_count\":\"5\",\"text\":\"\\xc2\\xa9 Crown copyright\",\"index_total\":\"1\",\"type\":\"footer\"}\\'>\\n        <a class=\"govuk-footer__link govuk-footer__copyright-logo\" href=\"https://www.nationalarchives.gov.uk/information-management/re-using-public-sector-information/uk-government-licensing-framework/crown-copyright/\">\\xc2\\xa9 Crown copyright</a>\\n      </div>\\n    </div>\\n  </div>\\n</footer>\\n    <script src=\"/assets/static/application-bf3b8058df855aacafa55b17d58b46fd8e11075621709e2795344f905294b85e.js\"></script>\\n      <script src=\"/assets/static/es6-components-e08bb63a67e2ca09f2d40d96f6119c9baba57ef81fdd8174decb19610104e2a3.js\" type=\"module\"></script>\\n<script src=\"/assets/finder-frontend/application-0dd21325d74dfcafb799d9cf7048835f0d51eb07b8c7477c69a6c1ffea72cb34.js\"></script><script src=\"/assets/finder-frontend/es6-components-5b4f70fbc95087aa8233535041f9906e5d2eabdd67508dc44d4c96a870b28edf.js\" type=\"module\"></script><script type=\"application/ld+json\">\\n  {\\n  \"@context\": \"http://schema.org\",\\n  \"@type\": \"SearchResultsPage\",\\n  \"mainEntityOfPage\": {\\n    \"@type\": \"WebPage\",\\n    \"@id\": \"https://www.gov.uk/search/news-and-communications\"\\n  },\\n  \"name\": \"News and communications\",\\n  \"datePublished\": \"2019-02-01T12:31:51+00:00\",\\n  \"dateModified\": \"2021-02-09T10:00:56+00:00\",\\n  \"text\": \"Find news and communications from government\",\\n  \"publisher\": {\\n    \"@type\": \"Organization\",\\n    \"name\": \"GOV.UK\",\\n    \"url\": \"https://www.gov.uk\",\\n    \"logo\": {\\n      \"@type\": \"ImageObject\",\\n      \"url\": \"https://www.gov.uk/assets/finder-frontend/govuk_publishing_components/govuk-logo-b15a4d254746d1642b8187217576d1e8fe50b51352d352fda13eee55d3c1c80a.png\"\\n    }\\n  },\\n  \"image\": [\\n    \"https://www.gov.uk/assets/finder-frontend/govuk_publishing_components/govuk-schema-placeholder-1x1-c3d38c0d4fc00005df38a71e1db7097276681d6917bca58f0dc8336a252e1bb3.png\",\\n    \"https://www.gov.uk/assets/finder-frontend/govuk_publishing_components/govuk-schema-placeholder-4x3-edc38c137a14ecfc3fc83f404090e20dab806dad345c96a1df6a163ee2d1e3aa.png\",\\n    \"https://www.gov.uk/assets/finder-frontend/govuk_publishing_components/govuk-schema-placeholder-16x9-5dc2d0ea1eb72cd94e66db210ef41b22ce364e7ed09d63a3acc28fda09e27864.png\"\\n  ]\\n}\\n</script><script type=\"application/ld+json\">\\n  {\\n  \"@context\": \"http://schema.org\",\\n  \"@type\": \"BreadcrumbList\",\\n  \"itemListElement\": [\\n    {\\n      \"@type\": \"ListItem\",\\n      \"position\": 1,\\n      \"item\": {\\n        \"name\": \"Home\",\\n        \"@id\": \"https://www.gov.uk/\"\\n      }\\n    }\\n  ]\\n}\\n</script>\\n</body>\\n</html>\\n'\n"
     ]
    }
   ],
   "source": [
    "import requests\n",
    "\n",
    "url = \"https://www.gov.uk/search/news-and-communications\"\n",
    "page = requests.get(url)\n",
    "\n",
    "# Voir le code html source\n",
    "print(page.content)"
   ]
  },
  {
   "cell_type": "code",
   "execution_count": null,
   "id": "3872733e",
   "metadata": {},
   "outputs": [
    {
     "name": "stdout",
     "output_type": "stream",
     "text": [
      "Defaulting to user installation because normal site-packages is not writeable\n",
      "Requirement already satisfied: beautifulsoup4 in c:\\users\\a-bez\\appdata\\local\\packages\\pythonsoftwarefoundation.python.3.12_qbz5n2kfra8p0\\localcache\\local-packages\\python312\\site-packages (4.12.3)\n",
      "Requirement already satisfied: soupsieve>1.2 in c:\\users\\a-bez\\appdata\\local\\packages\\pythonsoftwarefoundation.python.3.12_qbz5n2kfra8p0\\localcache\\local-packages\\python312\\site-packages (from beautifulsoup4) (2.5)\n",
      "Note: you may need to restart the kernel to use updated packages.\n"
     ]
    },
    {
     "name": "stderr",
     "output_type": "stream",
     "text": [
      "\n",
      "[notice] A new release of pip is available: 24.0 -> 24.1.2\n",
      "[notice] To update, run: C:\\Users\\A-Bez\\AppData\\Local\\Microsoft\\WindowsApps\\PythonSoftwareFoundation.Python.3.12_qbz5n2kfra8p0\\python.exe -m pip install --upgrade pip\n"
     ]
    }
   ],
   "source": [
    "pip install beautifulsoup4"
   ]
  },
  {
   "cell_type": "code",
   "execution_count": null,
   "id": "6f741519",
   "metadata": {},
   "outputs": [],
   "source": [
    "import requests\n",
    "\n",
    "from bs4 import BeautifulSoup\n",
    "\n",
    "url = \"https://www.gov.uk/search/news-and-communications\"\n",
    "page = requests.get(url)\n",
    "soup = BeautifulSoup(page.content, 'html.parser')"
   ]
  },
  {
   "cell_type": "code",
   "execution_count": null,
   "id": "b6753b57",
   "metadata": {},
   "outputs": [],
   "source": [
    "descriptions = soup.find_all(\"p\", class_=\"gem-c-document-list__item-description\")"
   ]
  },
  {
   "cell_type": "code",
   "execution_count": null,
   "id": "768e79ca",
   "metadata": {},
   "outputs": [
    {
     "data": {
      "text/plain": [
       "[<p class=\"gem-c-document-list__item-description\">Bringing together professionals from across the public sector, online and in person, to uncover the secrets to exceptional workplace experiences this September.</p>,\n",
       " <p class=\"gem-c-document-list__item-description\">Defence Infrastructure Organisation (DIO) has awarded Willmot Dixon a contract to deliver vital infrastructure for the rebasing of the 1st Military Working Dog (MWD) Regiment from St George’s Barracks to Kendrew Barracks in …</p>,\n",
       " <p class=\"gem-c-document-list__item-description\">At the OSCE Forum for Security Cooperation (FSC), Ambassador Neil Holland calls on Russia to end its war, withdraw all its forces from all of Ukraine and to re-engage in dialogue and risk-reduction.</p>,\n",
       " <p class=\"gem-c-document-list__item-description\">Publication of the Bona Vacantia accounts for 2023 – 2024</p>,\n",
       " <p class=\"gem-c-document-list__item-description\">Father and son sentenced for Bounce Back Loan abuse </p>,\n",
       " <p class=\"gem-c-document-list__item-description\">Are you flash flood ready? Environment Agency roadshow on 2 August a chance for public to prepare for flash flooding.</p>,\n",
       " <p class=\"gem-c-document-list__item-description\">The Regulator of Social Housing has published the first set of regulatory judgements from its planned inspection programme.\n",
       " </p>,\n",
       " <p class=\"gem-c-document-list__item-description\">UK finalists awarded funding through the joint UK-Canada £1.2 million Aqualunar Challenge to develop new lunar water purifying technologies.</p>,\n",
       " <p class=\"gem-c-document-list__item-description\">Foreign Secretary makes first visit to New Delhi to push UK growth agenda </p>,\n",
       " <p class=\"gem-c-document-list__item-description\">Secretary of State for Education Bridget Phillipson delivers a speech at the Embassy Education Conference.</p>,\n",
       " <p class=\"gem-c-document-list__item-description\">The Insolvency Service’s Redundancy Payments Service processed more than 85,000 claims from former employees of companies which had become insolvent </p>,\n",
       " <p class=\"gem-c-document-list__item-description\">Appointment of a new Chief Operating Officer to help provide continued leadership of the organisation as its remit grows. </p>,\n",
       " <p class=\"gem-c-document-list__item-description\">The Environment Agency has started flood embankment work in the Raynesway area of Derby following on from the impacts of winter 2023/24.</p>,\n",
       " <p class=\"gem-c-document-list__item-description\">Semaglutide is the first weight loss drug approved in the UK as a preventative treatment for those with established cardiovascular disease</p>,\n",
       " <p class=\"gem-c-document-list__item-description\">STEP brand launch marks transition to next phase of pioneering programme to build a prototype fusion powerplant at West Burton site by 2040.</p>,\n",
       " <p class=\"gem-c-document-list__item-description\">Work to tackle Covid loan abuse revealed in Insolvency Service’s Annual Report and Accounts</p>,\n",
       " <p class=\"gem-c-document-list__item-description\">The Rt Hon Pat McFadden MP, Chancellor of the Duchy of Lancaster's response to the Module One Report of the Covid-19 Inquiry.</p>,\n",
       " <p class=\"gem-c-document-list__item-description\">Decision letter and Inspector’s Report for a called-in decision.</p>,\n",
       " <p class=\"gem-c-document-list__item-description\">Secretary of State for Defence, John Healey, gave a speech to the RUSI Land Warfare Conference 2024</p>,\n",
       " <p class=\"gem-c-document-list__item-description\">Environment Agency and Nottingham City Council co-hosting two public drop-ins where residents and business owners can discuss impacts of flooding this winter  </p>]"
      ]
     },
     "execution_count": 6,
     "metadata": {},
     "output_type": "execute_result"
    }
   ],
   "source": [
    "descriptions"
   ]
  },
  {
   "cell_type": "code",
   "execution_count": null,
   "id": "b6f9dd52",
   "metadata": {},
   "outputs": [],
   "source": [
    "with open(\"index.html\", 'r') as file:\n",
    "    soup = BeautifulSoup(file, 'html.parser')"
   ]
  },
  {
   "cell_type": "code",
   "execution_count": null,
   "id": "1e55ca25",
   "metadata": {},
   "outputs": [
    {
     "data": {
      "text/plain": [
       "<!DOCTYPE html>\n",
       "\n",
       "<html>\n",
       "<head>\n",
       "<title>Exercice extraction HTML</title>\n",
       "</head>\n",
       "<body>\n",
       "<h1>Bienvenue sur notre site web</h1>\n",
       "<p>Voici une liste de nos produits :</p>\n",
       "<ul>\n",
       "<li>\n",
       "<h2>Produit 1</h2>\n",
       "<p>Prix : 10â‚¬</p>\n",
       "<p>Description : Lorem ipsum dolor sit amet, consectetur adipiscing elit.</p>\n",
       "</li>\n",
       "<li>\n",
       "<h2>Produit 2</h2>\n",
       "<p>Prix : 20â‚¬</p>\n",
       "<p>Description : Sed do eiusmod tempor incididunt ut labore et dolore magna aliqua.</p>\n",
       "</li>\n",
       "<li>\n",
       "<h2>Produit 3</h2>\n",
       "<p>Prix : 30â‚¬</p>\n",
       "<p>Description : Ut enim ad minim veniam, quis nostrud exercitation ullamco laboris nisi ut aliquip ex ea commodo consequat.</p>\n",
       "</li>\n",
       "</ul>\n",
       "</body>\n",
       "</html>"
      ]
     },
     "execution_count": 8,
     "metadata": {},
     "output_type": "execute_result"
    }
   ],
   "source": [
    "soup"
   ]
  },
  {
   "cell_type": "code",
   "execution_count": null,
   "id": "924e1154",
   "metadata": {},
   "outputs": [],
   "source": [
    "titre = soup.title.string"
   ]
  },
  {
   "cell_type": "code",
   "execution_count": null,
   "id": "62e190a8",
   "metadata": {},
   "outputs": [],
   "source": [
    "h1_text = soup.h1.string"
   ]
  },
  {
   "cell_type": "code",
   "execution_count": null,
   "id": "af016a40",
   "metadata": {},
   "outputs": [],
   "source": [
    "produits = soup.find_all(\"li\")\n",
    "produits_list = []\n",
    "for produit in produits:\n",
    "    nom = produit.h2.string\n",
    "    prix = produit.find(\"p\", string=lambda s: \"Prix\" in s).string\n",
    "    produits_list.append((nom, prix))"
   ]
  },
  {
   "cell_type": "code",
   "execution_count": null,
   "id": "65914bf0",
   "metadata": {},
   "outputs": [],
   "source": [
    "description_liste = []\n",
    "for produit in produits:\n",
    "    description = produit.find(\"p\", string=lambda s: \"Description\" in s).string\n",
    "    description_liste.append(description)"
   ]
  },
  {
   "cell_type": "code",
   "execution_count": null,
   "id": "8353c680",
   "metadata": {},
   "outputs": [
    {
     "name": "stdout",
     "output_type": "stream",
     "text": [
      "Titre de la page : Exercice extraction HTML\n",
      "Texte de la balise h1 : Bienvenue sur notre site web\n",
      "Liste des produits : [('Produit 1', 'Prix : 10â‚¬'), ('Produit 2', 'Prix : 20â‚¬'), ('Produit 3', 'Prix : 30â‚¬')]\n",
      "Liste des descriptions de produits : ['Description : Lorem ipsum dolor sit amet, consectetur adipiscing elit.', 'Description : Sed do eiusmod tempor incididunt ut labore et dolore magna aliqua.', 'Description : Ut enim ad minim veniam, quis nostrud exercitation ullamco laboris nisi ut aliquip ex ea commodo consequat.']\n"
     ]
    }
   ],
   "source": [
    "print(\"Titre de la page :\", titre)\n",
    "print(\"Texte de la balise h1 :\", h1_text)\n",
    "print(\"Liste des produits :\", produits_list)\n",
    "print(\"Liste des descriptions de produits :\", description_liste)"
   ]
  },
  {
   "cell_type": "markdown",
   "id": "c49a6f1e",
   "metadata": {},
   "source": [
    "# Étape 3 : Conversion des prix en dollars\n",
    "for i, (name, price) in enumerate(products_list):\n",
    "    # Supprimer les caractères non numériques de la chaîne de prix\n",
    "    euro_price_str = ''.join(filter(str.isdigit, price.split()[2])) \n",
    "    euro_price = int(euro_price_str)\n",
    "    dollar_price = euro_price * 1.2\n",
    "    products_list[i] = (name, f\"{dollar_price}$\")\n",
    "\n",
    "# Étape 4 : Affichage de la nouvelle liste avec les prix en dollars\n",
    "print(\"Liste des produits :\", products_list)"
   ]
  },
  {
   "cell_type": "code",
   "execution_count": null,
   "id": "0020924f",
   "metadata": {},
   "outputs": [],
   "source": [
    "fichier = open(\"hello.txt\", \"w\")\n",
    "fichier.write(\"Hello, world!\")\n",
    "fichier.close()"
   ]
  },
  {
   "cell_type": "markdown",
   "id": "726eb8e2",
   "metadata": {},
   "source": [
    "NumPy"
   ]
  },
  {
   "cell_type": "code",
   "execution_count": 48,
   "id": "e9fe81e8",
   "metadata": {},
   "outputs": [],
   "source": [
    "revenus = [1800, 1500, 2200, 3000, 2172]"
   ]
  },
  {
   "cell_type": "code",
   "execution_count": null,
   "id": "8b7a7f11",
   "metadata": {},
   "outputs": [
    {
     "name": "stdout",
     "output_type": "stream",
     "text": [
      "Defaulting to user installation because normal site-packages is not writeable\n",
      "Collecting numpy\n",
      "  Downloading numpy-2.0.1-cp312-cp312-win_amd64.whl.metadata (60 kB)\n",
      "     ---------------------------------------- 0.0/60.9 kB ? eta -:--:--\n",
      "     ------------ ------------------------- 20.5/60.9 kB 330.3 kB/s eta 0:00:01\n",
      "     ------------------------------- ------ 51.2/60.9 kB 525.1 kB/s eta 0:00:01\n",
      "     -------------------------------------- 60.9/60.9 kB 464.8 kB/s eta 0:00:00\n",
      "Downloading numpy-2.0.1-cp312-cp312-win_amd64.whl (16.3 MB)\n",
      "   ---------------------------------------- 0.0/16.3 MB ? eta -:--:--\n",
      "    --------------------------------------- 0.2/16.3 MB 7.3 MB/s eta 0:00:03\n",
      "   - -------------------------------------- 0.6/16.3 MB 8.1 MB/s eta 0:00:02\n",
      "   -- ------------------------------------- 1.2/16.3 MB 9.2 MB/s eta 0:00:02\n",
      "   ---- ----------------------------------- 1.8/16.3 MB 10.2 MB/s eta 0:00:02\n",
      "   ------ --------------------------------- 2.6/16.3 MB 11.7 MB/s eta 0:00:02\n",
      "   -------- ------------------------------- 3.6/16.3 MB 13.3 MB/s eta 0:00:01\n",
      "   ----------- ---------------------------- 4.7/16.3 MB 15.2 MB/s eta 0:00:01\n",
      "   --------------- ------------------------ 6.2/16.3 MB 17.2 MB/s eta 0:00:01\n",
      "   ------------------- -------------------- 8.1/16.3 MB 19.8 MB/s eta 0:00:01\n",
      "   ------------------------- -------------- 10.3/16.3 MB 22.6 MB/s eta 0:00:01\n",
      "   -------------------------------- ------- 13.0/16.3 MB 38.5 MB/s eta 0:00:01\n",
      "   ---------------------------------------  16.3/16.3 MB 59.5 MB/s eta 0:00:01\n",
      "   ---------------------------------------  16.3/16.3 MB 59.5 MB/s eta 0:00:01\n",
      "   ---------------------------------------  16.3/16.3 MB 59.5 MB/s eta 0:00:01\n",
      "   ---------------------------------------  16.3/16.3 MB 59.5 MB/s eta 0:00:01\n",
      "   ---------------------------------------  16.3/16.3 MB 59.5 MB/s eta 0:00:01\n",
      "   ---------------------------------------  16.3/16.3 MB 59.5 MB/s eta 0:00:01\n",
      "   ---------------------------------------  16.3/16.3 MB 59.5 MB/s eta 0:00:01\n",
      "   ---------------------------------------- 16.3/16.3 MB 20.4 MB/s eta 0:00:00\n",
      "Installing collected packages: numpy\n",
      "Successfully installed numpy-2.0.1\n",
      "Note: you may need to restart the kernel to use updated packages.\n"
     ]
    },
    {
     "name": "stderr",
     "output_type": "stream",
     "text": [
      "\n",
      "[notice] A new release of pip is available: 24.0 -> 24.1.2\n",
      "[notice] To update, run: C:\\Users\\A-Bez\\AppData\\Local\\Microsoft\\WindowsApps\\PythonSoftwareFoundation.Python.3.12_qbz5n2kfra8p0\\python.exe -m pip install --upgrade pip\n"
     ]
    }
   ],
   "source": [
    "pip install numpy\n"
   ]
  },
  {
   "cell_type": "code",
   "execution_count": 46,
   "id": "06b795d4",
   "metadata": {},
   "outputs": [],
   "source": [
    "import numpy as np"
   ]
  },
  {
   "cell_type": "code",
   "execution_count": 49,
   "id": "17e5ad41",
   "metadata": {},
   "outputs": [
    {
     "data": {
      "text/plain": [
       "array([1800, 1500, 2200, 3000, 2172])"
      ]
     },
     "execution_count": 49,
     "metadata": {},
     "output_type": "execute_result"
    }
   ],
   "source": [
    "revenus_array = np.array(revenus)\n",
    "revenus_array\n"
   ]
  },
  {
   "cell_type": "code",
   "execution_count": 50,
   "id": "11e28156",
   "metadata": {},
   "outputs": [
    {
     "data": {
      "text/plain": [
       "np.int64(2172)"
      ]
     },
     "execution_count": 50,
     "metadata": {},
     "output_type": "execute_result"
    }
   ],
   "source": [
    "# pour accéder au 5ème élement\n",
    "revenus_array[4]"
   ]
  },
  {
   "cell_type": "code",
   "execution_count": null,
   "id": "6855840f",
   "metadata": {},
   "outputs": [
    {
     "data": {
      "text/plain": [
       "np.int64(2172)"
      ]
     },
     "execution_count": 8,
     "metadata": {},
     "output_type": "execute_result"
    }
   ],
   "source": [
    "# pour accéder au dernier élément\n",
    "revenus_array[-1]"
   ]
  },
  {
   "cell_type": "code",
   "execution_count": null,
   "id": "5d5e526b",
   "metadata": {},
   "outputs": [],
   "source": [
    "# On peut aussi modifier les valeurs\n",
    "revenus_array[1] = 1900"
   ]
  },
  {
   "cell_type": "code",
   "execution_count": null,
   "id": "2e7f73fd",
   "metadata": {},
   "outputs": [
    {
     "name": "stdout",
     "output_type": "stream",
     "text": [
      "[1800 1900 2200]\n"
     ]
    }
   ],
   "source": [
    "# Les 3 premiers éléments\n",
    "print(revenus_array[:3])"
   ]
  },
  {
   "cell_type": "code",
   "execution_count": null,
   "id": "6241c4d2",
   "metadata": {},
   "outputs": [
    {
     "name": "stdout",
     "output_type": "stream",
     "text": [
      "[2200 3000 2172]\n"
     ]
    }
   ],
   "source": [
    "# Les éléments à partir de l’indice 2\n",
    "print(revenus_array[2:])"
   ]
  },
  {
   "cell_type": "code",
   "execution_count": null,
   "id": "72d53b0e",
   "metadata": {},
   "outputs": [
    {
     "name": "stdout",
     "output_type": "stream",
     "text": [
      "[1800 2200 2172]\n"
     ]
    }
   ],
   "source": [
    "# Un élément sur deux\n",
    "print(revenus_array[::2])"
   ]
  },
  {
   "cell_type": "code",
   "execution_count": null,
   "id": "5b664191",
   "metadata": {},
   "outputs": [
    {
     "data": {
      "text/plain": [
       "array([2200, 3000, 2172])"
      ]
     },
     "execution_count": 13,
     "metadata": {},
     "output_type": "execute_result"
    }
   ],
   "source": [
    "revenus_array[revenus_array > 2000]\n"
   ]
  },
  {
   "cell_type": "code",
   "execution_count": null,
   "id": "347bb25e",
   "metadata": {},
   "outputs": [
    {
     "data": {
      "text/plain": [
       "array([2200, 2172])"
      ]
     },
     "execution_count": 14,
     "metadata": {},
     "output_type": "execute_result"
    }
   ],
   "source": [
    "revenus_array[(revenus_array > 2000) & (revenus_array < 3000)]\n"
   ]
  },
  {
   "cell_type": "code",
   "execution_count": null,
   "id": "cb1bd48d",
   "metadata": {},
   "outputs": [
    {
     "data": {
      "text/plain": [
       "(5,)"
      ]
     },
     "execution_count": 15,
     "metadata": {},
     "output_type": "execute_result"
    }
   ],
   "source": [
    "revenus_array.shape\n",
    "# (5,) on a array contenant 5 éléments"
   ]
  },
  {
   "cell_type": "code",
   "execution_count": null,
   "id": "4c823af2",
   "metadata": {},
   "outputs": [
    {
     "data": {
      "text/plain": [
       "np.float64(2214.4)"
      ]
     },
     "execution_count": 16,
     "metadata": {},
     "output_type": "execute_result"
    }
   ],
   "source": [
    "# calculer la moyenne\n",
    "revenus_array.mean()"
   ]
  },
  {
   "cell_type": "code",
   "execution_count": null,
   "id": "18caf3cc",
   "metadata": {},
   "outputs": [
    {
     "data": {
      "text/plain": [
       "np.int64(1800)"
      ]
     },
     "execution_count": 17,
     "metadata": {},
     "output_type": "execute_result"
    }
   ],
   "source": [
    "# calculer le maximum (ou le minimum) :\n",
    "revenus_array.max()\n",
    "revenus_array.min()"
   ]
  },
  {
   "cell_type": "code",
   "execution_count": null,
   "id": "3d877dea",
   "metadata": {},
   "outputs": [
    {
     "data": {
      "text/plain": [
       "np.int64(3)"
      ]
     },
     "execution_count": 18,
     "metadata": {},
     "output_type": "execute_result"
    }
   ],
   "source": [
    "# accéder à l’indice de l’élement minimum (ou maximum) :\n",
    "revenus_array.argmin()\n",
    "revenus_array.argmax()"
   ]
  },
  {
   "cell_type": "code",
   "execution_count": null,
   "id": "e683b8ad",
   "metadata": {},
   "outputs": [
    {
     "name": "stdout",
     "output_type": "stream",
     "text": [
      "[1800 1900 2172 2200 3000]\n"
     ]
    }
   ],
   "source": [
    "# ordonner par ordre croissant :\n",
    "revenus_array.sort()\n",
    "print(revenus_array)"
   ]
  },
  {
   "cell_type": "code",
   "execution_count": null,
   "id": "33826552",
   "metadata": {},
   "outputs": [
    {
     "data": {
      "text/plain": [
       "np.int64(11072)"
      ]
     },
     "execution_count": 20,
     "metadata": {},
     "output_type": "execute_result"
    }
   ],
   "source": [
    "# calculer la somme :\n",
    "revenus_array.sum()"
   ]
  },
  {
   "cell_type": "code",
   "execution_count": null,
   "id": "fadedbd0",
   "metadata": {},
   "outputs": [],
   "source": [
    "tab1 = np.array([[1, 2],\n",
    "    [3, 4],\n",
    "    [5, 6]])\n",
    "\n",
    "tab2 = np.array([[1, 2, 3],\n",
    "        [4, 5, 6]])"
   ]
  },
  {
   "cell_type": "code",
   "execution_count": null,
   "id": "b52e5b75",
   "metadata": {},
   "outputs": [],
   "source": [
    "import numpy as np"
   ]
  },
  {
   "cell_type": "code",
   "execution_count": null,
   "id": "bca3d947",
   "metadata": {},
   "outputs": [
    {
     "data": {
      "text/plain": [
       "array([[1., 1., 1., 1., 1.],\n",
       "       [1., 1., 1., 1., 1.],\n",
       "       [1., 1., 1., 1., 1.]])"
      ]
     },
     "execution_count": 3,
     "metadata": {},
     "output_type": "execute_result"
    }
   ],
   "source": [
    "# un tableau de 3x5 rempli de 1\n",
    "np.ones((3, 5))"
   ]
  },
  {
   "cell_type": "code",
   "execution_count": null,
   "id": "9310925e",
   "metadata": {},
   "outputs": [
    {
     "data": {
      "text/plain": [
       "array([[0., 0., 0., 0.],\n",
       "       [0., 0., 0., 0.],\n",
       "       [0., 0., 0., 0.],\n",
       "       [0., 0., 0., 0.]])"
      ]
     },
     "execution_count": 4,
     "metadata": {},
     "output_type": "execute_result"
    }
   ],
   "source": [
    "# un tableau de 4 lignes et de 4 colonnes contenant que des 0\n",
    "np.zeros((4, 4))"
   ]
  },
  {
   "cell_type": "code",
   "execution_count": null,
   "id": "aa2ff9e4",
   "metadata": {},
   "outputs": [
    {
     "data": {
      "text/plain": [
       "array([[0.58954166, 0.43234728, 0.40777668],\n",
       "       [0.45371384, 0.63879086, 0.0646735 ],\n",
       "       [0.83023129, 0.56960939, 0.30525291],\n",
       "       [0.08193958, 0.62485328, 0.38767397],\n",
       "       [0.70106059, 0.61408222, 0.26145213],\n",
       "       [0.26332944, 0.73884125, 0.23619675]])"
      ]
     },
     "execution_count": 5,
     "metadata": {},
     "output_type": "execute_result"
    }
   ],
   "source": [
    "# un tableau de 6x3 rempli de valeurs aléatoires comprises entre 0 et 1\n",
    "np.random.random((6, 3))"
   ]
  },
  {
   "cell_type": "code",
   "execution_count": null,
   "id": "9d6901c8",
   "metadata": {},
   "outputs": [
    {
     "data": {
      "text/plain": [
       "array([[2, 8, 1],\n",
       "       [9, 8, 8],\n",
       "       [5, 3, 1]], dtype=int32)"
      ]
     },
     "execution_count": 6,
     "metadata": {},
     "output_type": "execute_result"
    }
   ],
   "source": [
    "# un tableau de 3x3 rempli de valeurs aléatoires entières, comprises entre 1 et 10\n",
    "np.random.randint(1, 10, size=(3, 3))"
   ]
  },
  {
   "cell_type": "code",
   "execution_count": null,
   "id": "48992d18",
   "metadata": {},
   "outputs": [
    {
     "data": {
      "text/plain": [
       "array([[ 6, 12],\n",
       "       [18, 24]])"
      ]
     },
     "execution_count": 7,
     "metadata": {},
     "output_type": "execute_result"
    }
   ],
   "source": [
    "A = np.array([[1, 2], [3, 4]])\n",
    "B = np.array([[5, 10], [15, 20]])\n",
    "C = np.array([[2, 4, 6], [8, 10, 12]])\n",
    "\n",
    "A+B"
   ]
  },
  {
   "cell_type": "code",
   "execution_count": null,
   "id": "8ed67ea7",
   "metadata": {},
   "outputs": [
    {
     "data": {
      "text/plain": [
       "array([[ 35,  50],\n",
       "       [ 75, 110]])"
      ]
     },
     "execution_count": 8,
     "metadata": {},
     "output_type": "execute_result"
    }
   ],
   "source": [
    "# Produit matriciel\n",
    "A@B"
   ]
  },
  {
   "cell_type": "code",
   "execution_count": null,
   "id": "29393cd9",
   "metadata": {},
   "outputs": [],
   "source": [
    "# ou bien\n",
    "AC = np.dot(A,B)"
   ]
  },
  {
   "cell_type": "code",
   "execution_count": null,
   "id": "864ef25d",
   "metadata": {},
   "outputs": [
    {
     "data": {
      "text/plain": [
       "array([[ 35,  50],\n",
       "       [ 75, 110]])"
      ]
     },
     "execution_count": 10,
     "metadata": {},
     "output_type": "execute_result"
    }
   ],
   "source": [
    "AC"
   ]
  },
  {
   "cell_type": "code",
   "execution_count": null,
   "id": "5870f06c",
   "metadata": {},
   "outputs": [],
   "source": [
    "louise = [1900, 31, 1]\n",
    "#pour ajouter : array = np.vstack((array, louise))"
   ]
  },
  {
   "cell_type": "code",
   "execution_count": null,
   "id": "8d6246eb",
   "metadata": {},
   "outputs": [
    {
     "data": {
      "text/plain": [
       "array([ 5. ,  5.5,  6. ,  6.5,  7. ,  7.5,  8. ,  8.5,  9. ,  9.5, 10. ])"
      ]
     },
     "execution_count": 13,
     "metadata": {},
     "output_type": "execute_result"
    }
   ],
   "source": [
    "a = np.linspace(5, 10, 11)\n",
    "\n",
    "a"
   ]
  },
  {
   "cell_type": "markdown",
   "id": "95cf0cbc",
   "metadata": {},
   "source": [
    "PANDAS"
   ]
  },
  {
   "cell_type": "code",
   "execution_count": null,
   "id": "fd46cf3a",
   "metadata": {},
   "outputs": [
    {
     "name": "stdout",
     "output_type": "stream",
     "text": [
      "Defaulting to user installation because normal site-packages is not writeable\n",
      "Collecting pandas\n",
      "  Downloading pandas-2.2.2-cp312-cp312-win_amd64.whl.metadata (19 kB)\n",
      "Requirement already satisfied: numpy>=1.26.0 in c:\\users\\a-bez\\appdata\\local\\packages\\pythonsoftwarefoundation.python.3.12_qbz5n2kfra8p0\\localcache\\local-packages\\python312\\site-packages (from pandas) (2.0.1)\n",
      "Requirement already satisfied: python-dateutil>=2.8.2 in c:\\users\\a-bez\\appdata\\local\\packages\\pythonsoftwarefoundation.python.3.12_qbz5n2kfra8p0\\localcache\\local-packages\\python312\\site-packages (from pandas) (2.9.0.post0)\n",
      "Collecting pytz>=2020.1 (from pandas)\n",
      "  Downloading pytz-2024.1-py2.py3-none-any.whl.metadata (22 kB)\n",
      "Collecting tzdata>=2022.7 (from pandas)\n",
      "  Downloading tzdata-2024.1-py2.py3-none-any.whl.metadata (1.4 kB)\n",
      "Requirement already satisfied: six>=1.5 in c:\\users\\a-bez\\appdata\\local\\packages\\pythonsoftwarefoundation.python.3.12_qbz5n2kfra8p0\\localcache\\local-packages\\python312\\site-packages (from python-dateutil>=2.8.2->pandas) (1.16.0)\n",
      "Downloading pandas-2.2.2-cp312-cp312-win_amd64.whl (11.5 MB)\n",
      "   ---------------------------------------- 0.0/11.5 MB ? eta -:--:--\n",
      "    --------------------------------------- 0.2/11.5 MB 5.6 MB/s eta 0:00:03\n",
      "   - -------------------------------------- 0.6/11.5 MB 7.0 MB/s eta 0:00:02\n",
      "   --- ------------------------------------ 1.0/11.5 MB 7.9 MB/s eta 0:00:02\n",
      "   ----- ---------------------------------- 1.6/11.5 MB 9.0 MB/s eta 0:00:02\n",
      "   ------- -------------------------------- 2.3/11.5 MB 10.4 MB/s eta 0:00:01\n",
      "   ----------- ---------------------------- 3.2/11.5 MB 12.0 MB/s eta 0:00:01\n",
      "   -------------- ------------------------- 4.3/11.5 MB 13.7 MB/s eta 0:00:01\n",
      "   ------------------- -------------------- 5.7/11.5 MB 15.8 MB/s eta 0:00:01\n",
      "   ------------------------- -------------- 7.5/11.5 MB 18.4 MB/s eta 0:00:01\n",
      "   --------------------------------- ------ 9.7/11.5 MB 21.4 MB/s eta 0:00:01\n",
      "   ---------------------------------------  11.5/11.5 MB 29.8 MB/s eta 0:00:01\n",
      "   ---------------------------------------- 11.5/11.5 MB 27.3 MB/s eta 0:00:00\n",
      "Downloading pytz-2024.1-py2.py3-none-any.whl (505 kB)\n",
      "   ---------------------------------------- 0.0/505.5 kB ? eta -:--:--\n",
      "   ---------------------------------------  501.8/505.5 kB ? eta -:--:--\n",
      "   ---------------------------------------  501.8/505.5 kB ? eta -:--:--\n",
      "   ---------------------------------------  501.8/505.5 kB ? eta -:--:--\n",
      "   ---------------------------------------  501.8/505.5 kB ? eta -:--:--\n",
      "   ---------------------------------------- 505.5/505.5 kB 2.6 MB/s eta 0:00:00\n",
      "Downloading tzdata-2024.1-py2.py3-none-any.whl (345 kB)\n",
      "   ---------------------------------------- 0.0/345.4 kB ? eta -:--:--\n",
      "   ---------------------------------------- 345.4/345.4 kB ? eta 0:00:00\n",
      "Installing collected packages: pytz, tzdata, pandas\n",
      "Successfully installed pandas-2.2.2 pytz-2024.1 tzdata-2024.1\n",
      "Note: you may need to restart the kernel to use updated packages.\n"
     ]
    },
    {
     "name": "stderr",
     "output_type": "stream",
     "text": [
      "\n",
      "[notice] A new release of pip is available: 24.0 -> 24.1.2\n",
      "[notice] To update, run: C:\\Users\\A-Bez\\AppData\\Local\\Microsoft\\WindowsApps\\PythonSoftwareFoundation.Python.3.12_qbz5n2kfra8p0\\python.exe -m pip install --upgrade pip\n"
     ]
    }
   ],
   "source": [
    "pip install pandas"
   ]
  },
  {
   "cell_type": "code",
   "execution_count": null,
   "id": "d3c61192",
   "metadata": {},
   "outputs": [],
   "source": [
    "import pandas as pd"
   ]
  },
  {
   "cell_type": "code",
   "execution_count": null,
   "id": "975d02bb",
   "metadata": {},
   "outputs": [
    {
     "data": {
      "text/html": [
       "<div>\n",
       "<style scoped>\n",
       "    .dataframe tbody tr th:only-of-type {\n",
       "        vertical-align: middle;\n",
       "    }\n",
       "\n",
       "    .dataframe tbody tr th {\n",
       "        vertical-align: top;\n",
       "    }\n",
       "\n",
       "    .dataframe thead th {\n",
       "        text-align: right;\n",
       "    }\n",
       "</style>\n",
       "<table border=\"1\" class=\"dataframe\">\n",
       "  <thead>\n",
       "    <tr style=\"text-align: right;\">\n",
       "      <th></th>\n",
       "      <th>identifiant</th>\n",
       "      <th>email</th>\n",
       "      <th>nom</th>\n",
       "      <th>genre</th>\n",
       "    </tr>\n",
       "  </thead>\n",
       "  <tbody>\n",
       "    <tr>\n",
       "      <th>0</th>\n",
       "      <td>0</td>\n",
       "      <td>LaurentDagenais@rhyta.com</td>\n",
       "      <td>Laurent Dagenais</td>\n",
       "      <td>M</td>\n",
       "    </tr>\n",
       "    <tr>\n",
       "      <th>1</th>\n",
       "      <td>1</td>\n",
       "      <td>GuyMarois@fleckens.hu</td>\n",
       "      <td>Guy Marois</td>\n",
       "      <td>M</td>\n",
       "    </tr>\n",
       "    <tr>\n",
       "      <th>2</th>\n",
       "      <td>2</td>\n",
       "      <td>BeaufortLesage@einrot.com</td>\n",
       "      <td>Beaufort Lesage</td>\n",
       "      <td>M</td>\n",
       "    </tr>\n",
       "    <tr>\n",
       "      <th>3</th>\n",
       "      <td>3</td>\n",
       "      <td>RussellDurand@armyspy.com</td>\n",
       "      <td>Russell Durand</td>\n",
       "      <td>M</td>\n",
       "    </tr>\n",
       "    <tr>\n",
       "      <th>4</th>\n",
       "      <td>4</td>\n",
       "      <td>AlexisRiel@rhyta.com</td>\n",
       "      <td>Alexis Riel</td>\n",
       "      <td>M</td>\n",
       "    </tr>\n",
       "  </tbody>\n",
       "</table>\n",
       "</div>"
      ],
      "text/plain": [
       "   identifiant                      email               nom genre\n",
       "0            0  LaurentDagenais@rhyta.com  Laurent Dagenais     M\n",
       "1            1      GuyMarois@fleckens.hu        Guy Marois     M\n",
       "2            2  BeaufortLesage@einrot.com   Beaufort Lesage     M\n",
       "3            3  RussellDurand@armyspy.com    Russell Durand     M\n",
       "4            4       AlexisRiel@rhyta.com       Alexis Riel     M"
      ]
     },
     "execution_count": 21,
     "metadata": {},
     "output_type": "execute_result"
    }
   ],
   "source": [
    "data_csv= pd.read_csv('clients.csv')\n",
    "data_csv.head()"
   ]
  },
  {
   "cell_type": "code",
   "execution_count": null,
   "id": "c94b583a",
   "metadata": {},
   "outputs": [
    {
     "data": {
      "text/html": [
       "<div>\n",
       "<style scoped>\n",
       "    .dataframe tbody tr th:only-of-type {\n",
       "        vertical-align: middle;\n",
       "    }\n",
       "\n",
       "    .dataframe tbody tr th {\n",
       "        vertical-align: top;\n",
       "    }\n",
       "\n",
       "    .dataframe thead th {\n",
       "        text-align: right;\n",
       "    }\n",
       "</style>\n",
       "<table border=\"1\" class=\"dataframe\">\n",
       "  <thead>\n",
       "    <tr style=\"text-align: right;\">\n",
       "      <th></th>\n",
       "      <th>identifiant</th>\n",
       "      <th>email</th>\n",
       "      <th>nom</th>\n",
       "      <th>genre</th>\n",
       "    </tr>\n",
       "  </thead>\n",
       "  <tbody>\n",
       "    <tr>\n",
       "      <th>0</th>\n",
       "      <td>0</td>\n",
       "      <td>LaurentDagenais@rhyta.com</td>\n",
       "      <td>Laurent Dagenais</td>\n",
       "      <td>M</td>\n",
       "    </tr>\n",
       "    <tr>\n",
       "      <th>1</th>\n",
       "      <td>1</td>\n",
       "      <td>GuyMarois@fleckens.hu</td>\n",
       "      <td>Guy Marois</td>\n",
       "      <td>M</td>\n",
       "    </tr>\n",
       "    <tr>\n",
       "      <th>2</th>\n",
       "      <td>2</td>\n",
       "      <td>BeaufortLesage@einrot.com</td>\n",
       "      <td>Beaufort Lesage</td>\n",
       "      <td>M</td>\n",
       "    </tr>\n",
       "    <tr>\n",
       "      <th>3</th>\n",
       "      <td>3</td>\n",
       "      <td>RussellDurand@armyspy.com</td>\n",
       "      <td>Russell Durand</td>\n",
       "      <td>M</td>\n",
       "    </tr>\n",
       "    <tr>\n",
       "      <th>4</th>\n",
       "      <td>4</td>\n",
       "      <td>AlexisRiel@rhyta.com</td>\n",
       "      <td>Alexis Riel</td>\n",
       "      <td>M</td>\n",
       "    </tr>\n",
       "  </tbody>\n",
       "</table>\n",
       "</div>"
      ],
      "text/plain": [
       "   identifiant                      email               nom genre\n",
       "0            0  LaurentDagenais@rhyta.com  Laurent Dagenais     M\n",
       "1            1      GuyMarois@fleckens.hu        Guy Marois     M\n",
       "2            2  BeaufortLesage@einrot.com   Beaufort Lesage     M\n",
       "3            3  RussellDurand@armyspy.com    Russell Durand     M\n",
       "4            4       AlexisRiel@rhyta.com       Alexis Riel     M"
      ]
     },
     "execution_count": 25,
     "metadata": {},
     "output_type": "execute_result"
    }
   ],
   "source": [
    "data_json= pd.read_json('clients.json')\n",
    "data_json.head()"
   ]
  },
  {
   "cell_type": "code",
   "execution_count": null,
   "id": "3f0cb3eb",
   "metadata": {},
   "outputs": [
    {
     "data": {
      "text/plain": [
       "(228, 4)"
      ]
     },
     "execution_count": 30,
     "metadata": {},
     "output_type": "execute_result"
    }
   ],
   "source": [
    "data_json.shape"
   ]
  },
  {
   "cell_type": "code",
   "execution_count": null,
   "id": "69ed34dd",
   "metadata": {},
   "outputs": [
    {
     "name": "stdout",
     "output_type": "stream",
     "text": [
      "228\n",
      "4\n"
     ]
    }
   ],
   "source": [
    "dim = data_json.shape\n",
    "print(dim[0]) \n",
    "print(dim[1]) "
   ]
  },
  {
   "cell_type": "code",
   "execution_count": null,
   "id": "8b08e5dd",
   "metadata": {},
   "outputs": [
    {
     "data": {
      "text/plain": [
       "identifiant     int64\n",
       "email          object\n",
       "nom            object\n",
       "genre          object\n",
       "dtype: object"
      ]
     },
     "execution_count": 34,
     "metadata": {},
     "output_type": "execute_result"
    }
   ],
   "source": [
    "data_json.dtypes"
   ]
  },
  {
   "cell_type": "code",
   "execution_count": null,
   "id": "a489e67e",
   "metadata": {},
   "outputs": [],
   "source": [
    "#transformer un data frame en Array Numpy"
   ]
  },
  {
   "cell_type": "code",
   "execution_count": null,
   "id": "00612831",
   "metadata": {},
   "outputs": [
    {
     "data": {
      "text/plain": [
       "array([[0, 'LaurentDagenais@rhyta.com', 'Laurent Dagenais', 'M'],\n",
       "       [1, 'GuyMarois@fleckens.hu', 'Guy Marois', 'M'],\n",
       "       [2, 'BeaufortLesage@einrot.com', 'Beaufort Lesage', 'M'],\n",
       "       [3, 'RussellDurand@armyspy.com', 'Russell Durand', 'M'],\n",
       "       [4, 'AlexisRiel@rhyta.com', 'Alexis Riel', 'M'],\n",
       "       [5, 'LeonLapresse@cuvox.de', 'Leon Lapresse', 'M'],\n",
       "       [6, 'OrvilleRouthier@gustr.com', 'Orville Routhier', 'M'],\n",
       "       [7, 'AgramantPepin@dayrep.com', 'Agramant Pepin', 'M'],\n",
       "       [8, 'AiglentinaLambert@fleckens.hu', 'Aiglentina Lambert', 'F'],\n",
       "       [9, 'TheodoreClavet@teleworm.us', 'Theodore Clavet', 'M'],\n",
       "       [10, 'ByronLefebvre@jourrapide.com', 'Byron Lefebvre', 'M'],\n",
       "       [11, 'FlorusDevoe@einrot.com', 'Florus Devoe', 'M'],\n",
       "       [12, 'NormandArsenault@armyspy.com', 'Normand Arsenault', 'M'],\n",
       "       [13, 'AcelineHughes@jourrapide.com', 'Aceline Hughes', 'F'],\n",
       "       [14, 'GastonBrisette@superrito.com', 'Gaston Brisette', 'M'],\n",
       "       [15, 'AgateGrandbois@gustr.com', 'Agate Grandbois', 'F'],\n",
       "       [16, 'AgricanFoucault@jourrapide.com', 'Agrican Foucault', 'M'],\n",
       "       [17, 'PrunellaJosseaume@armyspy.com', 'Prunella Josseaume', 'F'],\n",
       "       [18, 'YseultCharest@armyspy.com', 'Yseult Charest', 'F'],\n",
       "       [19, 'DorotheeAupry@cuvox.de', 'Dorothee Aupry', 'F'],\n",
       "       [20, 'AmauryReault@teleworm.us', 'Amaury Reault', 'M'],\n",
       "       [21, 'GillesBeauchamps@superrito.com', 'Gilles Beauchamps', 'M'],\n",
       "       [22, 'FranckDumont@gustr.com', 'Franck Dumont', 'M'],\n",
       "       [23, 'DelmareLHeureux@dayrep.com', 'Delmare L Heureux', 'F'],\n",
       "       [24, 'AlphonseCantin@cuvox.de', 'Alphonse Cantin', 'M'],\n",
       "       [25, 'BlondelleRochon@gustr.com', 'Blondelle Rochon', 'F'],\n",
       "       [26, 'SavilleBernard@armyspy.com', 'Saville Bernard', 'M'],\n",
       "       [27, 'AnnetteJolicoeur@armyspy.com', 'Annette Jolicoeur', 'F'],\n",
       "       [28, 'BradamateMichel@armyspy.com', 'Bradamate Michel', 'F'],\n",
       "       [29, 'HilaireFrappier@armyspy.com', 'Hilaire Frappier', 'F'],\n",
       "       [30, 'MarieBriard@gustr.com', 'Marie Briard', 'F'],\n",
       "       [31, 'MadeleineBatard@superrito.com', 'Madeleine Batard', 'F'],\n",
       "       [32, 'ArberGarcia@dayrep.com', 'Arber Garcia', 'M'],\n",
       "       [33, 'SaberViens@superrito.com', 'Saber Viens', 'M'],\n",
       "       [34, 'ArnaudDubois@rhyta.com', 'Arnaud Dubois', 'M'],\n",
       "       [35, 'PryorBeauchamp@dayrep.com', 'Pryor Beauchamp', 'M'],\n",
       "       [36, 'AlphonsePotvin@armyspy.com', 'Alphonse Potvin', 'M'],\n",
       "       [37, 'FitzLafontaine@dayrep.com', 'Fitz Lafontaine', 'M'],\n",
       "       [38, 'DelmareLamothe@gustr.com', 'Delmare Lamothe', 'F'],\n",
       "       [39, 'DaisiBoileau@jourrapide.com', 'Daisi Boileau', 'F'],\n",
       "       [40, 'SomerPaquette@jourrapide.com', 'Somer Paquette', 'M'],\n",
       "       [41, 'OlivieCourtemanche@armyspy.com', 'Olivie Courtemanche', 'F'],\n",
       "       [42, 'GermainHughes@teleworm.us', 'Germain Hughes', 'M'],\n",
       "       [43, 'MorganaBellemare@superrito.com', 'Morgana Bellemare', 'F'],\n",
       "       [44, 'MerciMorin@gustr.com', 'Merci Morin', 'F'],\n",
       "       [45, 'VerneyBedard@dayrep.com', 'Verney Bedard', 'M'],\n",
       "       [46, 'IgnaceAudibert@armyspy.com', 'Ignace Audibert', 'M'],\n",
       "       [47, 'FranckBinet@superrito.com', 'Franck Binet', 'M'],\n",
       "       [48, 'SumnerRocheleau@einrot.com', 'Sumner Rocheleau', 'M'],\n",
       "       [49, 'AubertPatel@armyspy.com', 'Aubert Patel', 'M'],\n",
       "       [50, 'SumnerLaprise@superrito.com', 'Sumner Laprise', 'M'],\n",
       "       [51, 'MadeleineLeveille@dayrep.com', 'Madeleine Leveille', 'F'],\n",
       "       [52, 'BelisardaGuedry@dayrep.com', 'Belisarda Guedry', 'F'],\n",
       "       [53, 'ZurieTheberge@gustr.com', 'Zurie Theberge', 'F'],\n",
       "       [54, 'ErmengardiBousquet@dayrep.com', 'Ermengardi Bousquet', 'F'],\n",
       "       [55, 'FlorenceBeaudoin@einrot.com', 'Florence Beaudoin', 'F'],\n",
       "       [56, 'LeoneCrete@armyspy.com', 'Leone Crete', 'F'],\n",
       "       [57, 'SearlaitCote@superrito.com', 'Searlait Cote', 'F'],\n",
       "       [58, 'AlphonsineBourassa@cuvox.de', 'Alphonsine Bourassa', 'F'],\n",
       "       [59, 'DidianeDAubigne@einrot.com', 'Didiane D Aubigne', 'F'],\n",
       "       [60, 'EdouardLacroix@cuvox.de', 'Edouard Lacroix', 'M'],\n",
       "       [61, 'OdeletteCharron@superrito.com', 'Odelette Charron', 'F'],\n",
       "       [62, 'AleronBerard@rhyta.com', 'Aleron Berard', 'M'],\n",
       "       [63, 'SylvieDuranseau@einrot.com', 'Sylvie Duranseau', 'F'],\n",
       "       [64, 'YvetteDAvis@cuvox.de', 'Yvette D Avis', 'F'],\n",
       "       [65, 'SolaineLecuyer@dayrep.com', 'Solaine Lecuyer', 'F'],\n",
       "       [66, 'CourtlandDavid@cuvox.de', 'Courtland David', 'M'],\n",
       "       [67, 'PatienceCharbonneau@jourrapide.com', 'Patience Charbonneau',\n",
       "        'F'],\n",
       "       [68, 'EmmanuelLanctot@cuvox.de', 'Emmanuel Lanctot', 'M'],\n",
       "       [69, 'MusetteProvencher@armyspy.com', 'Musette Provencher', 'F'],\n",
       "       [70, 'MorganaMarchesseault@teleworm.us', 'Morgana Marchesseault',\n",
       "        'F'],\n",
       "       [71, 'ViolletteArnoux@cuvox.de', 'Viollette Arnoux', 'F'],\n",
       "       [72, 'SlainieGregoire@cuvox.de', 'Slainie Gregoire', 'F'],\n",
       "       [73, 'GarlandLagueux@rhyta.com', 'Garland Lagueux', 'F'],\n",
       "       [74, 'FerragusGrimard@cuvox.de', 'Ferragus Grimard', 'M'],\n",
       "       [75, 'JeanTollmache@einrot.com', 'Jean Tollmache', 'M'],\n",
       "       [76, 'LanceParent@teleworm.us', 'Lance Parent', 'M'],\n",
       "       [77, 'CheneyChaloux@cuvox.de', 'Cheney Chaloux', 'M'],\n",
       "       [78, 'PierpontLamarre@superrito.com', 'Pierpont Lamarre', 'M'],\n",
       "       [79, 'ComforteQuerry@superrito.com', 'Comforte Querry', 'F'],\n",
       "       [80, 'NadineMasson@teleworm.us', 'Nadine Masson', 'F'],\n",
       "       [81, 'FranceLaderoute@jourrapide.com', 'France Laderoute', 'F'],\n",
       "       [82, 'LothairBonenfant@dayrep.com', 'Lothair Bonenfant', 'M'],\n",
       "       [83, 'OlivieNorbert@cuvox.de', 'Olivie Norbert', 'F'],\n",
       "       [84, 'SomerMarleau@cuvox.de', 'Somer Marleau', 'M'],\n",
       "       [85, 'AstridJolicoeur@superrito.com', 'Astrid Jolicoeur', 'F'],\n",
       "       [86, 'OlivierGaillard@superrito.com', 'Olivier Gaillard', 'M'],\n",
       "       [87, 'PhilipPinneau@teleworm.us', 'Philip Pinneau', 'M'],\n",
       "       [88, 'AlexisLagrange@gustr.com', 'Alexis Lagrange', 'M'],\n",
       "       [89, 'HeloiseGregoire@dayrep.com', 'Heloise Gregoire', 'F'],\n",
       "       [90, 'DexterDavid@fleckens.hu', 'Dexter David', 'M'],\n",
       "       [91, 'JacquesMethot@cuvox.de', 'Jacques Methot', 'M'],\n",
       "       [92, 'AnceloteDesforges@cuvox.de', 'Ancelote Desforges', 'F'],\n",
       "       [93, 'JulietteOuellet@rhyta.com', 'Juliette Ouellet', 'F'],\n",
       "       [94, 'AvrilSylvain@superrito.com', 'Avril Sylvain', 'F'],\n",
       "       [95, 'RachellePlaisance@armyspy.com', 'Rachelle Plaisance', 'F'],\n",
       "       [96, 'BenjaminLabrie@fleckens.hu', 'Benjamin Labrie', 'M'],\n",
       "       [97, 'LaureBondy@superrito.com', 'Laure Bondy', 'F'],\n",
       "       [98, 'NatalieLeveille@rhyta.com', 'Natalie Leveille', 'F'],\n",
       "       [99, 'SydneyGuibord@superrito.com', 'Sydney Guibord', 'F'],\n",
       "       [100, 'ZdenekVadnais@superrito.com', 'Zdenek Vadnais', 'M'],\n",
       "       [101, 'LoyalQuenneville@superrito.com', 'Loyal Quenneville', 'M'],\n",
       "       [102, 'ErnestTachel@cuvox.de', 'Ernest Tachel', 'M'],\n",
       "       [103, 'MatthieuPouchard@teleworm.us', 'Matthieu Pouchard', 'M'],\n",
       "       [104, 'SearlasArtois@rhyta.com', 'Searlas Artois', 'M'],\n",
       "       [105, 'ArnoLeBatelier@einrot.com', 'Arno Le Batelier', 'M'],\n",
       "       [106, 'EstellePoisson@jourrapide.com', 'Estelle Poisson', 'F'],\n",
       "       [107, 'HarcourtCharpentier@cuvox.de', 'Harcourt Charpentier', 'M'],\n",
       "       [108, 'CrescentLavallee@armyspy.com', 'Crescent Lavallee', 'F'],\n",
       "       [109, 'EugeniaVadeboncoeur@cuvox.de', 'Eugenia Vadeboncoeur', 'F'],\n",
       "       [110, 'GenevreLabrie@cuvox.de', 'Genevre Labrie', 'F'],\n",
       "       [111, 'NormandCote@dayrep.com', 'Normand Cote', 'M'],\n",
       "       [112, 'ZoeLeclair@gustr.com', 'Zoe Leclair', 'F'],\n",
       "       [113, 'PhillipaPerrault@einrot.com', 'Phillipa Perrault', 'F'],\n",
       "       [114, 'EliseDesrosiers@jourrapide.com', 'Elise Desrosiers', 'F'],\n",
       "       [115, 'RussellRochon@superrito.com', 'Russell Rochon', 'M'],\n",
       "       [116, 'BeldaLauzier@armyspy.com', 'Belda Lauzier', 'F'],\n",
       "       [117, 'AlphonsineSacre@einrot.com', 'Alphonsine Sacre', 'F'],\n",
       "       [118, 'AubineLabelle@cuvox.de', 'Aubine Labelle', 'F'],\n",
       "       [119, 'EmileVadnais@rhyta.com', 'Emile Vadnais', 'M'],\n",
       "       [120, 'ArienneCantin@superrito.com', 'Arienne Cantin', 'F'],\n",
       "       [121, 'JacquesMarcheterre@einrot.com', 'Jacques Marcheterre', 'M'],\n",
       "       [122, 'EliotDupuis@gustr.com', 'Eliot Dupuis', 'M'],\n",
       "       [123, 'ArthurPlante@jourrapide.com', 'Arthur Plante', 'M'],\n",
       "       [124, 'SacripantLabrie@armyspy.com', 'Sacripant Labrie', 'M'],\n",
       "       [125, 'SibylaLizotte@cuvox.de', 'Sibyla Lizotte', 'F'],\n",
       "       [126, 'ChristianLaberge@armyspy.com', 'Christian Laberge', 'M'],\n",
       "       [127, 'VickDavid@gustr.com', 'Vick David', 'M'],\n",
       "       [128, 'ComforteCloutier@einrot.com', 'Comforte Cloutier', 'F'],\n",
       "       [129, 'ClaudeGalarneau@armyspy.com', 'Claude Galarneau', 'M'],\n",
       "       [130, 'ElisePerrault@superrito.com', 'Elise Perrault', 'F'],\n",
       "       [131, 'LoringRocheleau@cuvox.de', 'Loring Rocheleau', 'M'],\n",
       "       [132, 'MathildeSansouci@superrito.com', 'Mathilde Sansouci', 'F'],\n",
       "       [133, 'AmaurySirois@superrito.com', 'Amaury Sirois', 'M'],\n",
       "       [134, 'ChristelleLandry@jourrapide.com', 'Christelle Landry', 'F'],\n",
       "       [135, 'AdelaideBrousse@gustr.com', 'Adelaide Brousse', 'F'],\n",
       "       [136, 'BriceFaure@einrot.com', 'Brice Faure', 'M'],\n",
       "       [137, 'AlaineHervieux@rhyta.com', 'Alaine Hervieux', 'F'],\n",
       "       [138, 'LanceCroteau@einrot.com', 'Lance Croteau', 'M'],\n",
       "       [139, 'AurelieBazinet@dayrep.com', 'Aurelie Bazinet', 'F'],\n",
       "       [140, 'AstolphoVeronneau@teleworm.us', 'Astolpho Veronneau', 'M'],\n",
       "       [141, 'JolieDeblois@armyspy.com', 'Jolie Deblois', 'F'],\n",
       "       [142, 'MireilleParenteau@superrito.com', 'Mireille Parenteau',\n",
       "        'F'],\n",
       "       [143, 'ToussaintBrodeur@rhyta.com', 'Toussaint Brodeur', 'M'],\n",
       "       [144, 'PorterSimard@armyspy.com', 'Porter Simard', 'M'],\n",
       "       [145, 'JeromedeLaunay@fleckens.hu', 'Jeromede Launay', 'M'],\n",
       "       [146, 'LowellPatel@rhyta.com', 'Lowell Patel', 'M'],\n",
       "       [147, 'GarlandMarcheterre@fleckens.hu', 'Garland Marcheterre',\n",
       "        'F'],\n",
       "       [148, 'OlivierAube@armyspy.com', 'Olivier Aube', 'M'],\n",
       "       [149, 'FrontinoBrian@einrot.com', 'Frontino Brian', 'M'],\n",
       "       [150, 'RochMireault@gustr.com', 'Roch Mireault', 'M'],\n",
       "       [151, 'NathalieCormier@cuvox.de', 'Nathalie Cormier', 'F'],\n",
       "       [152, 'VallisMainville@gustr.com', 'Vallis Mainville', 'M'],\n",
       "       [153, 'DanielleNeufville@teleworm.us', 'Danielle Neufville', 'F'],\n",
       "       [154, 'AllyrianeRacine@gustr.com', 'Allyriane Racine', 'F'],\n",
       "       [155, 'PierpontFlamand@fleckens.hu', 'Pierpont Flamand', 'M'],\n",
       "       [156, 'DanielHuot@rhyta.com', 'Daniel Huot', 'M'],\n",
       "       [157, 'HughPoisson@fleckens.hu', 'Hugh Poisson', 'M'],\n",
       "       [158, 'YoletteMoreau@dayrep.com', 'Yolette Moreau', 'F'],\n",
       "       [159, 'GasparReault@dayrep.com', 'Gaspar Reault', 'M'],\n",
       "       [160, 'DelitBisaillon@teleworm.us', 'Delit Bisaillon', 'F'],\n",
       "       [161, 'ManonDastous@armyspy.com', 'Manon Dastous', 'F'],\n",
       "       [162, 'LoyalFouquet@armyspy.com', 'Loyal Fouquet', 'M'],\n",
       "       [163, 'ApollineLaframboise@teleworm.us', 'Apolline Laframboise',\n",
       "        'F'],\n",
       "       [164, 'OrielMiron@jourrapide.com', 'Oriel Miron', 'F'],\n",
       "       [165, 'LianeLaGarde@cuvox.de', 'Liane La Garde', 'F'],\n",
       "       [166, 'AnastasieCroteau@rhyta.com', 'Anastasie Croteau', 'F'],\n",
       "       [167, 'VerneyCourse@armyspy.com', 'Verney Course', 'M'],\n",
       "       [168, 'VoletaAdler@armyspy.com', 'Voleta Adler', 'F'],\n",
       "       [169, 'PlattParent@jourrapide.com', 'Platt Parent', 'M'],\n",
       "       [170, 'BlondelleAilleboust@gustr.com', 'Blondelle Ailleboust',\n",
       "        'F'],\n",
       "       [171, 'AurelieDesnoyer@armyspy.com', 'Aurelie Desnoyer', 'F'],\n",
       "       [172, 'AvelaineGadbois@dayrep.com', 'Avelaine Gadbois', 'F'],\n",
       "       [173, 'BriceGrondin@fleckens.hu', 'Brice Grondin', 'M'],\n",
       "       [174, 'ZacharieDuplessis@rhyta.com', 'Zacharie Duplessis', 'M'],\n",
       "       [175, 'OgierGervais@gustr.com', 'Ogier Gervais', 'M'],\n",
       "       [176, 'FusbertaRancourt@rhyta.com', 'Fusberta Rancourt', 'F'],\n",
       "       [177, 'CamilleLaurent@superrito.com', 'Camille Laurent', 'F'],\n",
       "       [178, 'CeriseMontminy@dayrep.com', 'Cerise Montminy', 'F'],\n",
       "       [179, 'JosetteRiquier@armyspy.com', 'Josette Riquier', 'F'],\n",
       "       [180, 'AgnesBriard@cuvox.de', 'Agnes Briard', 'F'],\n",
       "       [181, 'AvrilRocheleau@fleckens.hu', 'Avril Rocheleau', 'F'],\n",
       "       [182, 'BenoitGauvin@teleworm.us', 'Benoit Gauvin', 'M'],\n",
       "       [183, 'HeloiseMarcil@fleckens.hu', 'Heloise Marcil', 'F'],\n",
       "       [184, 'RolandDupont@einrot.com', 'Roland Dupont', 'M'],\n",
       "       [185, 'SolaineLabrecque@fleckens.hu', 'Solaine Labrecque', 'F'],\n",
       "       [186, 'JulieBeauchemin@teleworm.us', 'Julie Beauchemin', 'F'],\n",
       "       [187, 'KarelDandonneau@dayrep.com', 'Karel Dandonneau', 'M'],\n",
       "       [188, 'PaienBeauchesne@rhyta.com', 'Paien Beauchesne', 'M'],\n",
       "       [189, 'AdeleClavette@cuvox.de', 'Adele Clavette', 'F'],\n",
       "       [190, 'LotyeJodion@fleckens.hu', 'Lotye Jodion', 'F'],\n",
       "       [191, 'AmaranteLacroix@fleckens.hu', 'Amarante Lacroix', 'F'],\n",
       "       [192, 'XarlesCaisse@jourrapide.com', 'Xarles Caisse', 'M'],\n",
       "       [193, 'LealaLemelin@dayrep.com', 'Leala Lemelin', 'F'],\n",
       "       [194, 'ChantalLamoureux@jourrapide.com', 'Chantal Lamoureux', 'F'],\n",
       "       [195, 'NinetteAdler@superrito.com', 'Ninette Adler', 'F'],\n",
       "       [196, 'EmmanuelleLabrie@einrot.com', 'Emmanuelle Labrie', 'F'],\n",
       "       [197, 'HuonDeLaRonde@rhyta.com', 'Huon De La Ronde', 'M'],\n",
       "       [198, 'SimoneSt-Pierre@jourrapide.com', 'Simone St- Pierre', 'F'],\n",
       "       [199, 'PeverellMazuret@dayrep.com', 'Peverell Mazuret', 'M'],\n",
       "       [200, 'LorrainePaulet@einrot.com', 'Lorraine Paulet', 'F'],\n",
       "       [201, 'DemiLazure@cuvox.de', 'Demi Lazure', 'F'],\n",
       "       [202, 'AgramantGrandpre@rhyta.com', 'Agramant Grandpre', 'M'],\n",
       "       [203, 'ClothildeBerie@teleworm.us', 'Clothilde Berie', 'F'],\n",
       "       [204, 'AimeMarseau@dayrep.com', 'Aime Marseau', 'M'],\n",
       "       [205, 'RogerDeLaRonde@gustr.com', 'Roger De La Ronde', 'M'],\n",
       "       [206, 'AiglentinaMarcheterre@superrito.com',\n",
       "        'Aiglentina Marcheterre', 'F'],\n",
       "       [207, 'NoemiLaisne@rhyta.com', 'Noemi Laisne', 'F'],\n",
       "       [208, 'DenisPatenaude@einrot.com', 'Denis Patenaude', 'M'],\n",
       "       [209, 'JulienBeriault@rhyta.com', 'Julien Beriault', 'M'],\n",
       "       [210, 'MartheQuerry@einrot.com', 'Marthe Querry', 'F'],\n",
       "       [211, 'ParfaitBedard@armyspy.com', 'Parfait Bedard', 'M'],\n",
       "       [212, 'MandelBarteaux@gustr.com', 'Mandel Barteaux', 'M'],\n",
       "       [213, 'PauletteLemaitre@fleckens.hu', 'Paulette Lemaitre', 'F'],\n",
       "       [214, 'YoletteLanoie@dayrep.com', 'Yolette Lanoie', 'F'],\n",
       "       [215, 'LucilleBaron@superrito.com', 'Lucille Baron', 'F'],\n",
       "       [216, 'ChappellSarrazin@rhyta.com', 'Chappell Sarrazin', 'M'],\n",
       "       [217, 'GanoHetu@fleckens.hu', 'Gano Hetu', 'M'],\n",
       "       [218, 'MinetteRoy@fleckens.hu', 'Minette Roy', 'F'],\n",
       "       [219, 'RoslynChalifour@cuvox.de', 'Roslyn Chalifour', 'M'],\n",
       "       [220, 'KarelBazinet@einrot.com', 'Karel Bazinet', 'M'],\n",
       "       [221, 'JosetteBordeleau@einrot.com', 'Josette Bordeleau', 'F'],\n",
       "       [222, 'LangleyCaron@armyspy.com', 'Langley Caron', 'M'],\n",
       "       [223, 'ClaudeDandonneau@jourrapide.com', 'Claude Dandonneau', 'F'],\n",
       "       [224, 'ApollineMichaud@superrito.com', 'Apolline Michaud', 'F'],\n",
       "       [225, 'PascalineBeaudry@rhyta.com', 'Pascaline Beaudry', 'F'],\n",
       "       [226, 'FleurCaouette@jourrapide.com', 'Fleur Caouette', 'F'],\n",
       "       [227, 'FrancisMasse@jourrapide.com', 'Francis Masse', 'M']],\n",
       "      dtype=object)"
      ]
     },
     "metadata": {},
     "output_type": "display_data"
    }
   ],
   "source": [
    "clients_array = data_json.values\n",
    "display(clients_array)"
   ]
  },
  {
   "cell_type": "code",
   "execution_count": null,
   "id": "dfe6a478",
   "metadata": {},
   "outputs": [],
   "source": [
    "data = data_json"
   ]
  },
  {
   "cell_type": "code",
   "execution_count": null,
   "id": "fc5b4f2c",
   "metadata": {},
   "outputs": [
    {
     "data": {
      "text/plain": [
       "0            LaurentDagenais@rhyta.com\n",
       "1                GuyMarois@fleckens.hu\n",
       "2            BeaufortLesage@einrot.com\n",
       "3            RussellDurand@armyspy.com\n",
       "4                 AlexisRiel@rhyta.com\n",
       "                    ...               \n",
       "223    ClaudeDandonneau@jourrapide.com\n",
       "224      ApollineMichaud@superrito.com\n",
       "225         PascalineBeaudry@rhyta.com\n",
       "226       FleurCaouette@jourrapide.com\n",
       "227        FrancisMasse@jourrapide.com\n",
       "Name: email, Length: 228, dtype: object"
      ]
     },
     "execution_count": 38,
     "metadata": {},
     "output_type": "execute_result"
    }
   ],
   "source": [
    "data[\"email\"]"
   ]
  },
  {
   "cell_type": "code",
   "execution_count": null,
   "id": "64336190",
   "metadata": {},
   "outputs": [],
   "source": [
    "email = data[\"email\"]"
   ]
  },
  {
   "cell_type": "code",
   "execution_count": 45,
   "id": "339bb4b0",
   "metadata": {},
   "outputs": [
    {
     "ename": "NameError",
     "evalue": "name 'data' is not defined",
     "output_type": "error",
     "traceback": [
      "\u001b[1;31m---------------------------------------------------------------------------\u001b[0m",
      "\u001b[1;31mNameError\u001b[0m                                 Traceback (most recent call last)",
      "Cell \u001b[1;32mIn[45], line 2\u001b[0m\n\u001b[0;32m      1\u001b[0m variables \u001b[38;5;241m=\u001b[39m [\u001b[38;5;124m\"\u001b[39m\u001b[38;5;124mnom\u001b[39m\u001b[38;5;124m\"\u001b[39m, \u001b[38;5;124m\"\u001b[39m\u001b[38;5;124memail\u001b[39m\u001b[38;5;124m\"\u001b[39m]\n\u001b[1;32m----> 2\u001b[0m \u001b[43mdata\u001b[49m[variables]\n",
      "\u001b[1;31mNameError\u001b[0m: name 'data' is not defined"
     ]
    }
   ],
   "source": [
    "variables = [\"nom\", \"email\"]\n",
    "data[variables]"
   ]
  },
  {
   "cell_type": "code",
   "execution_count": null,
   "id": "77b7e8b6",
   "metadata": {},
   "outputs": [
    {
     "data": {
      "text/html": [
       "<div>\n",
       "<style scoped>\n",
       "    .dataframe tbody tr th:only-of-type {\n",
       "        vertical-align: middle;\n",
       "    }\n",
       "\n",
       "    .dataframe tbody tr th {\n",
       "        vertical-align: top;\n",
       "    }\n",
       "\n",
       "    .dataframe thead th {\n",
       "        text-align: right;\n",
       "    }\n",
       "</style>\n",
       "<table border=\"1\" class=\"dataframe\">\n",
       "  <thead>\n",
       "    <tr style=\"text-align: right;\">\n",
       "      <th></th>\n",
       "      <th>identifiant</th>\n",
       "      <th>email</th>\n",
       "      <th>nom</th>\n",
       "      <th>genre</th>\n",
       "      <th>id</th>\n",
       "    </tr>\n",
       "  </thead>\n",
       "  <tbody>\n",
       "    <tr>\n",
       "      <th>0</th>\n",
       "      <td>0</td>\n",
       "      <td>LaurentDagenais@rhyta.com</td>\n",
       "      <td>Laurent Dagenais</td>\n",
       "      <td>M</td>\n",
       "      <td>1</td>\n",
       "    </tr>\n",
       "    <tr>\n",
       "      <th>1</th>\n",
       "      <td>1</td>\n",
       "      <td>GuyMarois@fleckens.hu</td>\n",
       "      <td>Guy Marois</td>\n",
       "      <td>M</td>\n",
       "      <td>2</td>\n",
       "    </tr>\n",
       "    <tr>\n",
       "      <th>2</th>\n",
       "      <td>2</td>\n",
       "      <td>BeaufortLesage@einrot.com</td>\n",
       "      <td>Beaufort Lesage</td>\n",
       "      <td>M</td>\n",
       "      <td>3</td>\n",
       "    </tr>\n",
       "    <tr>\n",
       "      <th>3</th>\n",
       "      <td>3</td>\n",
       "      <td>RussellDurand@armyspy.com</td>\n",
       "      <td>Russell Durand</td>\n",
       "      <td>M</td>\n",
       "      <td>4</td>\n",
       "    </tr>\n",
       "    <tr>\n",
       "      <th>4</th>\n",
       "      <td>4</td>\n",
       "      <td>AlexisRiel@rhyta.com</td>\n",
       "      <td>Alexis Riel</td>\n",
       "      <td>M</td>\n",
       "      <td>5</td>\n",
       "    </tr>\n",
       "  </tbody>\n",
       "</table>\n",
       "</div>"
      ],
      "text/plain": [
       "   identifiant                      email               nom genre  id\n",
       "0            0  LaurentDagenais@rhyta.com  Laurent Dagenais     M   1\n",
       "1            1      GuyMarois@fleckens.hu        Guy Marois     M   2\n",
       "2            2  BeaufortLesage@einrot.com   Beaufort Lesage     M   3\n",
       "3            3  RussellDurand@armyspy.com    Russell Durand     M   4\n",
       "4            4       AlexisRiel@rhyta.com       Alexis Riel     M   5"
      ]
     },
     "execution_count": 45,
     "metadata": {},
     "output_type": "execute_result"
    }
   ],
   "source": [
    "#créer une colonne\n",
    "\n",
    "data['id'] = data['identifiant'] + 1\n",
    "data.head()"
   ]
  },
  {
   "cell_type": "code",
   "execution_count": null,
   "id": "a05bee29",
   "metadata": {},
   "outputs": [
    {
     "data": {
      "text/html": [
       "<div>\n",
       "<style scoped>\n",
       "    .dataframe tbody tr th:only-of-type {\n",
       "        vertical-align: middle;\n",
       "    }\n",
       "\n",
       "    .dataframe tbody tr th {\n",
       "        vertical-align: top;\n",
       "    }\n",
       "\n",
       "    .dataframe thead th {\n",
       "        text-align: right;\n",
       "    }\n",
       "</style>\n",
       "<table border=\"1\" class=\"dataframe\">\n",
       "  <thead>\n",
       "    <tr style=\"text-align: right;\">\n",
       "      <th></th>\n",
       "      <th>iden</th>\n",
       "      <th>email</th>\n",
       "      <th>nom</th>\n",
       "      <th>genre</th>\n",
       "      <th>id</th>\n",
       "    </tr>\n",
       "  </thead>\n",
       "  <tbody>\n",
       "    <tr>\n",
       "      <th>0</th>\n",
       "      <td>0</td>\n",
       "      <td>LaurentDagenais@rhyta.com</td>\n",
       "      <td>Laurent Dagenais</td>\n",
       "      <td>M</td>\n",
       "      <td>1</td>\n",
       "    </tr>\n",
       "    <tr>\n",
       "      <th>1</th>\n",
       "      <td>1</td>\n",
       "      <td>GuyMarois@fleckens.hu</td>\n",
       "      <td>Guy Marois</td>\n",
       "      <td>M</td>\n",
       "      <td>2</td>\n",
       "    </tr>\n",
       "    <tr>\n",
       "      <th>2</th>\n",
       "      <td>2</td>\n",
       "      <td>BeaufortLesage@einrot.com</td>\n",
       "      <td>Beaufort Lesage</td>\n",
       "      <td>M</td>\n",
       "      <td>3</td>\n",
       "    </tr>\n",
       "    <tr>\n",
       "      <th>3</th>\n",
       "      <td>3</td>\n",
       "      <td>RussellDurand@armyspy.com</td>\n",
       "      <td>Russell Durand</td>\n",
       "      <td>M</td>\n",
       "      <td>4</td>\n",
       "    </tr>\n",
       "    <tr>\n",
       "      <th>4</th>\n",
       "      <td>4</td>\n",
       "      <td>AlexisRiel@rhyta.com</td>\n",
       "      <td>Alexis Riel</td>\n",
       "      <td>M</td>\n",
       "      <td>5</td>\n",
       "    </tr>\n",
       "    <tr>\n",
       "      <th>...</th>\n",
       "      <td>...</td>\n",
       "      <td>...</td>\n",
       "      <td>...</td>\n",
       "      <td>...</td>\n",
       "      <td>...</td>\n",
       "    </tr>\n",
       "    <tr>\n",
       "      <th>223</th>\n",
       "      <td>223</td>\n",
       "      <td>ClaudeDandonneau@jourrapide.com</td>\n",
       "      <td>Claude Dandonneau</td>\n",
       "      <td>F</td>\n",
       "      <td>224</td>\n",
       "    </tr>\n",
       "    <tr>\n",
       "      <th>224</th>\n",
       "      <td>224</td>\n",
       "      <td>ApollineMichaud@superrito.com</td>\n",
       "      <td>Apolline Michaud</td>\n",
       "      <td>F</td>\n",
       "      <td>225</td>\n",
       "    </tr>\n",
       "    <tr>\n",
       "      <th>225</th>\n",
       "      <td>225</td>\n",
       "      <td>PascalineBeaudry@rhyta.com</td>\n",
       "      <td>Pascaline Beaudry</td>\n",
       "      <td>F</td>\n",
       "      <td>226</td>\n",
       "    </tr>\n",
       "    <tr>\n",
       "      <th>226</th>\n",
       "      <td>226</td>\n",
       "      <td>FleurCaouette@jourrapide.com</td>\n",
       "      <td>Fleur Caouette</td>\n",
       "      <td>F</td>\n",
       "      <td>227</td>\n",
       "    </tr>\n",
       "    <tr>\n",
       "      <th>227</th>\n",
       "      <td>227</td>\n",
       "      <td>FrancisMasse@jourrapide.com</td>\n",
       "      <td>Francis Masse</td>\n",
       "      <td>M</td>\n",
       "      <td>228</td>\n",
       "    </tr>\n",
       "  </tbody>\n",
       "</table>\n",
       "<p>228 rows × 5 columns</p>\n",
       "</div>"
      ],
      "text/plain": [
       "     iden                            email                nom genre   id\n",
       "0       0        LaurentDagenais@rhyta.com   Laurent Dagenais     M    1\n",
       "1       1            GuyMarois@fleckens.hu         Guy Marois     M    2\n",
       "2       2        BeaufortLesage@einrot.com    Beaufort Lesage     M    3\n",
       "3       3        RussellDurand@armyspy.com     Russell Durand     M    4\n",
       "4       4             AlexisRiel@rhyta.com        Alexis Riel     M    5\n",
       "..    ...                              ...                ...   ...  ...\n",
       "223   223  ClaudeDandonneau@jourrapide.com  Claude Dandonneau     F  224\n",
       "224   224    ApollineMichaud@superrito.com   Apolline Michaud     F  225\n",
       "225   225       PascalineBeaudry@rhyta.com  Pascaline Beaudry     F  226\n",
       "226   226     FleurCaouette@jourrapide.com     Fleur Caouette     F  227\n",
       "227   227      FrancisMasse@jourrapide.com      Francis Masse     M  228\n",
       "\n",
       "[228 rows x 5 columns]"
      ]
     },
     "execution_count": 46,
     "metadata": {},
     "output_type": "execute_result"
    }
   ],
   "source": [
    "#supprimer une colonne\n",
    "#data.drop(columns='id')\n",
    "\n",
    "#renommer une colonne  \n",
    "data.rename(columns={'identifiant': 'iden'})"
   ]
  },
  {
   "cell_type": "code",
   "execution_count": null,
   "id": "374d1e26",
   "metadata": {},
   "outputs": [
    {
     "data": {
      "text/plain": [
       "0        0.0\n",
       "1        1.0\n",
       "2        2.0\n",
       "3        3.0\n",
       "4        4.0\n",
       "       ...  \n",
       "223    223.0\n",
       "224    224.0\n",
       "225    225.0\n",
       "226    226.0\n",
       "227    227.0\n",
       "Name: identifiant, Length: 228, dtype: float64"
      ]
     },
     "execution_count": 47,
     "metadata": {},
     "output_type": "execute_result"
    }
   ],
   "source": [
    "data['identifiant'].astype(float)"
   ]
  },
  {
   "cell_type": "code",
   "execution_count": null,
   "id": "81d6b59b",
   "metadata": {},
   "outputs": [
    {
     "data": {
      "text/html": [
       "<div>\n",
       "<style scoped>\n",
       "    .dataframe tbody tr th:only-of-type {\n",
       "        vertical-align: middle;\n",
       "    }\n",
       "\n",
       "    .dataframe tbody tr th {\n",
       "        vertical-align: top;\n",
       "    }\n",
       "\n",
       "    .dataframe thead th {\n",
       "        text-align: right;\n",
       "    }\n",
       "</style>\n",
       "<table border=\"1\" class=\"dataframe\">\n",
       "  <thead>\n",
       "    <tr style=\"text-align: right;\">\n",
       "      <th></th>\n",
       "      <th>identifiant</th>\n",
       "      <th>email</th>\n",
       "      <th>nom</th>\n",
       "      <th>genre</th>\n",
       "      <th>id</th>\n",
       "    </tr>\n",
       "  </thead>\n",
       "  <tbody>\n",
       "    <tr>\n",
       "      <th>227</th>\n",
       "      <td>227</td>\n",
       "      <td>FrancisMasse@jourrapide.com</td>\n",
       "      <td>Francis Masse</td>\n",
       "      <td>M</td>\n",
       "      <td>228</td>\n",
       "    </tr>\n",
       "    <tr>\n",
       "      <th>226</th>\n",
       "      <td>226</td>\n",
       "      <td>FleurCaouette@jourrapide.com</td>\n",
       "      <td>Fleur Caouette</td>\n",
       "      <td>F</td>\n",
       "      <td>227</td>\n",
       "    </tr>\n",
       "    <tr>\n",
       "      <th>225</th>\n",
       "      <td>225</td>\n",
       "      <td>PascalineBeaudry@rhyta.com</td>\n",
       "      <td>Pascaline Beaudry</td>\n",
       "      <td>F</td>\n",
       "      <td>226</td>\n",
       "    </tr>\n",
       "    <tr>\n",
       "      <th>224</th>\n",
       "      <td>224</td>\n",
       "      <td>ApollineMichaud@superrito.com</td>\n",
       "      <td>Apolline Michaud</td>\n",
       "      <td>F</td>\n",
       "      <td>225</td>\n",
       "    </tr>\n",
       "    <tr>\n",
       "      <th>223</th>\n",
       "      <td>223</td>\n",
       "      <td>ClaudeDandonneau@jourrapide.com</td>\n",
       "      <td>Claude Dandonneau</td>\n",
       "      <td>F</td>\n",
       "      <td>224</td>\n",
       "    </tr>\n",
       "    <tr>\n",
       "      <th>...</th>\n",
       "      <td>...</td>\n",
       "      <td>...</td>\n",
       "      <td>...</td>\n",
       "      <td>...</td>\n",
       "      <td>...</td>\n",
       "    </tr>\n",
       "    <tr>\n",
       "      <th>4</th>\n",
       "      <td>4</td>\n",
       "      <td>AlexisRiel@rhyta.com</td>\n",
       "      <td>Alexis Riel</td>\n",
       "      <td>M</td>\n",
       "      <td>5</td>\n",
       "    </tr>\n",
       "    <tr>\n",
       "      <th>3</th>\n",
       "      <td>3</td>\n",
       "      <td>RussellDurand@armyspy.com</td>\n",
       "      <td>Russell Durand</td>\n",
       "      <td>M</td>\n",
       "      <td>4</td>\n",
       "    </tr>\n",
       "    <tr>\n",
       "      <th>2</th>\n",
       "      <td>2</td>\n",
       "      <td>BeaufortLesage@einrot.com</td>\n",
       "      <td>Beaufort Lesage</td>\n",
       "      <td>M</td>\n",
       "      <td>3</td>\n",
       "    </tr>\n",
       "    <tr>\n",
       "      <th>1</th>\n",
       "      <td>1</td>\n",
       "      <td>GuyMarois@fleckens.hu</td>\n",
       "      <td>Guy Marois</td>\n",
       "      <td>M</td>\n",
       "      <td>2</td>\n",
       "    </tr>\n",
       "    <tr>\n",
       "      <th>0</th>\n",
       "      <td>0</td>\n",
       "      <td>LaurentDagenais@rhyta.com</td>\n",
       "      <td>Laurent Dagenais</td>\n",
       "      <td>M</td>\n",
       "      <td>1</td>\n",
       "    </tr>\n",
       "  </tbody>\n",
       "</table>\n",
       "<p>228 rows × 5 columns</p>\n",
       "</div>"
      ],
      "text/plain": [
       "     identifiant                            email                nom genre  \\\n",
       "227          227      FrancisMasse@jourrapide.com      Francis Masse     M   \n",
       "226          226     FleurCaouette@jourrapide.com     Fleur Caouette     F   \n",
       "225          225       PascalineBeaudry@rhyta.com  Pascaline Beaudry     F   \n",
       "224          224    ApollineMichaud@superrito.com   Apolline Michaud     F   \n",
       "223          223  ClaudeDandonneau@jourrapide.com  Claude Dandonneau     F   \n",
       "..           ...                              ...                ...   ...   \n",
       "4              4             AlexisRiel@rhyta.com        Alexis Riel     M   \n",
       "3              3        RussellDurand@armyspy.com     Russell Durand     M   \n",
       "2              2        BeaufortLesage@einrot.com    Beaufort Lesage     M   \n",
       "1              1            GuyMarois@fleckens.hu         Guy Marois     M   \n",
       "0              0        LaurentDagenais@rhyta.com   Laurent Dagenais     M   \n",
       "\n",
       "      id  \n",
       "227  228  \n",
       "226  227  \n",
       "225  226  \n",
       "224  225  \n",
       "223  224  \n",
       "..   ...  \n",
       "4      5  \n",
       "3      4  \n",
       "2      3  \n",
       "1      2  \n",
       "0      1  \n",
       "\n",
       "[228 rows x 5 columns]"
      ]
     },
     "execution_count": 49,
     "metadata": {},
     "output_type": "execute_result"
    }
   ],
   "source": [
    "#trier selon l’identifiant par ordre décroissant :\n",
    "data.sort_values('identifiant', ascending = False)"
   ]
  },
  {
   "cell_type": "code",
   "execution_count": null,
   "id": "f2019ffe",
   "metadata": {},
   "outputs": [
    {
     "data": {
      "text/html": [
       "<div>\n",
       "<style scoped>\n",
       "    .dataframe tbody tr th:only-of-type {\n",
       "        vertical-align: middle;\n",
       "    }\n",
       "\n",
       "    .dataframe tbody tr th {\n",
       "        vertical-align: top;\n",
       "    }\n",
       "\n",
       "    .dataframe thead th {\n",
       "        text-align: right;\n",
       "    }\n",
       "</style>\n",
       "<table border=\"1\" class=\"dataframe\">\n",
       "  <thead>\n",
       "    <tr style=\"text-align: right;\">\n",
       "      <th></th>\n",
       "      <th>identifiant</th>\n",
       "      <th>email</th>\n",
       "      <th>nom</th>\n",
       "      <th>genre</th>\n",
       "      <th>id</th>\n",
       "    </tr>\n",
       "  </thead>\n",
       "  <tbody>\n",
       "    <tr>\n",
       "      <th>13</th>\n",
       "      <td>13</td>\n",
       "      <td>AcelineHughes@jourrapide.com</td>\n",
       "      <td>Aceline Hughes</td>\n",
       "      <td>F</td>\n",
       "      <td>14</td>\n",
       "    </tr>\n",
       "    <tr>\n",
       "      <th>135</th>\n",
       "      <td>135</td>\n",
       "      <td>AdelaideBrousse@gustr.com</td>\n",
       "      <td>Adelaide Brousse</td>\n",
       "      <td>F</td>\n",
       "      <td>136</td>\n",
       "    </tr>\n",
       "    <tr>\n",
       "      <th>189</th>\n",
       "      <td>189</td>\n",
       "      <td>AdeleClavette@cuvox.de</td>\n",
       "      <td>Adele Clavette</td>\n",
       "      <td>F</td>\n",
       "      <td>190</td>\n",
       "    </tr>\n",
       "    <tr>\n",
       "      <th>15</th>\n",
       "      <td>15</td>\n",
       "      <td>AgateGrandbois@gustr.com</td>\n",
       "      <td>Agate Grandbois</td>\n",
       "      <td>F</td>\n",
       "      <td>16</td>\n",
       "    </tr>\n",
       "    <tr>\n",
       "      <th>180</th>\n",
       "      <td>180</td>\n",
       "      <td>AgnesBriard@cuvox.de</td>\n",
       "      <td>Agnes Briard</td>\n",
       "      <td>F</td>\n",
       "      <td>181</td>\n",
       "    </tr>\n",
       "    <tr>\n",
       "      <th>...</th>\n",
       "      <td>...</td>\n",
       "      <td>...</td>\n",
       "      <td>...</td>\n",
       "      <td>...</td>\n",
       "      <td>...</td>\n",
       "    </tr>\n",
       "    <tr>\n",
       "      <th>167</th>\n",
       "      <td>167</td>\n",
       "      <td>VerneyCourse@armyspy.com</td>\n",
       "      <td>Verney Course</td>\n",
       "      <td>M</td>\n",
       "      <td>168</td>\n",
       "    </tr>\n",
       "    <tr>\n",
       "      <th>127</th>\n",
       "      <td>127</td>\n",
       "      <td>VickDavid@gustr.com</td>\n",
       "      <td>Vick David</td>\n",
       "      <td>M</td>\n",
       "      <td>128</td>\n",
       "    </tr>\n",
       "    <tr>\n",
       "      <th>192</th>\n",
       "      <td>192</td>\n",
       "      <td>XarlesCaisse@jourrapide.com</td>\n",
       "      <td>Xarles Caisse</td>\n",
       "      <td>M</td>\n",
       "      <td>193</td>\n",
       "    </tr>\n",
       "    <tr>\n",
       "      <th>174</th>\n",
       "      <td>174</td>\n",
       "      <td>ZacharieDuplessis@rhyta.com</td>\n",
       "      <td>Zacharie Duplessis</td>\n",
       "      <td>M</td>\n",
       "      <td>175</td>\n",
       "    </tr>\n",
       "    <tr>\n",
       "      <th>100</th>\n",
       "      <td>100</td>\n",
       "      <td>ZdenekVadnais@superrito.com</td>\n",
       "      <td>Zdenek Vadnais</td>\n",
       "      <td>M</td>\n",
       "      <td>101</td>\n",
       "    </tr>\n",
       "  </tbody>\n",
       "</table>\n",
       "<p>228 rows × 5 columns</p>\n",
       "</div>"
      ],
      "text/plain": [
       "     identifiant                         email                 nom genre   id\n",
       "13            13  AcelineHughes@jourrapide.com      Aceline Hughes     F   14\n",
       "135          135     AdelaideBrousse@gustr.com    Adelaide Brousse     F  136\n",
       "189          189        AdeleClavette@cuvox.de      Adele Clavette     F  190\n",
       "15            15      AgateGrandbois@gustr.com     Agate Grandbois     F   16\n",
       "180          180          AgnesBriard@cuvox.de        Agnes Briard     F  181\n",
       "..           ...                           ...                 ...   ...  ...\n",
       "167          167      VerneyCourse@armyspy.com       Verney Course     M  168\n",
       "127          127           VickDavid@gustr.com          Vick David     M  128\n",
       "192          192   XarlesCaisse@jourrapide.com       Xarles Caisse     M  193\n",
       "174          174   ZacharieDuplessis@rhyta.com  Zacharie Duplessis     M  175\n",
       "100          100   ZdenekVadnais@superrito.com      Zdenek Vadnais     M  101\n",
       "\n",
       "[228 rows x 5 columns]"
      ]
     },
     "execution_count": 50,
     "metadata": {},
     "output_type": "execute_result"
    }
   ],
   "source": [
    "# trier selon le genre puis le nom, par ordre croissant :\n",
    "data.sort_values(['genre', 'nom'])"
   ]
  },
  {
   "cell_type": "code",
   "execution_count": null,
   "id": "ae5e957b",
   "metadata": {},
   "outputs": [
    {
     "data": {
      "text/html": [
       "<div>\n",
       "<style scoped>\n",
       "    .dataframe tbody tr th:only-of-type {\n",
       "        vertical-align: middle;\n",
       "    }\n",
       "\n",
       "    .dataframe tbody tr th {\n",
       "        vertical-align: top;\n",
       "    }\n",
       "\n",
       "    .dataframe thead th {\n",
       "        text-align: right;\n",
       "    }\n",
       "</style>\n",
       "<table border=\"1\" class=\"dataframe\">\n",
       "  <thead>\n",
       "    <tr style=\"text-align: right;\">\n",
       "      <th></th>\n",
       "      <th>identifiant</th>\n",
       "      <th>email</th>\n",
       "      <th>nom</th>\n",
       "      <th>genre</th>\n",
       "      <th>id</th>\n",
       "    </tr>\n",
       "  </thead>\n",
       "  <tbody>\n",
       "    <tr>\n",
       "      <th>53</th>\n",
       "      <td>53</td>\n",
       "      <td>ZurieTheberge@gustr.com</td>\n",
       "      <td>Zurie Theberge</td>\n",
       "      <td>F</td>\n",
       "      <td>54</td>\n",
       "    </tr>\n",
       "    <tr>\n",
       "      <th>112</th>\n",
       "      <td>112</td>\n",
       "      <td>ZoeLeclair@gustr.com</td>\n",
       "      <td>Zoe Leclair</td>\n",
       "      <td>F</td>\n",
       "      <td>113</td>\n",
       "    </tr>\n",
       "    <tr>\n",
       "      <th>64</th>\n",
       "      <td>64</td>\n",
       "      <td>YvetteDAvis@cuvox.de</td>\n",
       "      <td>Yvette D Avis</td>\n",
       "      <td>F</td>\n",
       "      <td>65</td>\n",
       "    </tr>\n",
       "    <tr>\n",
       "      <th>18</th>\n",
       "      <td>18</td>\n",
       "      <td>YseultCharest@armyspy.com</td>\n",
       "      <td>Yseult Charest</td>\n",
       "      <td>F</td>\n",
       "      <td>19</td>\n",
       "    </tr>\n",
       "    <tr>\n",
       "      <th>158</th>\n",
       "      <td>158</td>\n",
       "      <td>YoletteMoreau@dayrep.com</td>\n",
       "      <td>Yolette Moreau</td>\n",
       "      <td>F</td>\n",
       "      <td>159</td>\n",
       "    </tr>\n",
       "    <tr>\n",
       "      <th>...</th>\n",
       "      <td>...</td>\n",
       "      <td>...</td>\n",
       "      <td>...</td>\n",
       "      <td>...</td>\n",
       "      <td>...</td>\n",
       "    </tr>\n",
       "    <tr>\n",
       "      <th>62</th>\n",
       "      <td>62</td>\n",
       "      <td>AleronBerard@rhyta.com</td>\n",
       "      <td>Aleron Berard</td>\n",
       "      <td>M</td>\n",
       "      <td>63</td>\n",
       "    </tr>\n",
       "    <tr>\n",
       "      <th>204</th>\n",
       "      <td>204</td>\n",
       "      <td>AimeMarseau@dayrep.com</td>\n",
       "      <td>Aime Marseau</td>\n",
       "      <td>M</td>\n",
       "      <td>205</td>\n",
       "    </tr>\n",
       "    <tr>\n",
       "      <th>16</th>\n",
       "      <td>16</td>\n",
       "      <td>AgricanFoucault@jourrapide.com</td>\n",
       "      <td>Agrican Foucault</td>\n",
       "      <td>M</td>\n",
       "      <td>17</td>\n",
       "    </tr>\n",
       "    <tr>\n",
       "      <th>7</th>\n",
       "      <td>7</td>\n",
       "      <td>AgramantPepin@dayrep.com</td>\n",
       "      <td>Agramant Pepin</td>\n",
       "      <td>M</td>\n",
       "      <td>8</td>\n",
       "    </tr>\n",
       "    <tr>\n",
       "      <th>202</th>\n",
       "      <td>202</td>\n",
       "      <td>AgramantGrandpre@rhyta.com</td>\n",
       "      <td>Agramant Grandpre</td>\n",
       "      <td>M</td>\n",
       "      <td>203</td>\n",
       "    </tr>\n",
       "  </tbody>\n",
       "</table>\n",
       "<p>228 rows × 5 columns</p>\n",
       "</div>"
      ],
      "text/plain": [
       "     identifiant                           email                nom genre   id\n",
       "53            53         ZurieTheberge@gustr.com     Zurie Theberge     F   54\n",
       "112          112            ZoeLeclair@gustr.com        Zoe Leclair     F  113\n",
       "64            64            YvetteDAvis@cuvox.de      Yvette D Avis     F   65\n",
       "18            18       YseultCharest@armyspy.com     Yseult Charest     F   19\n",
       "158          158        YoletteMoreau@dayrep.com     Yolette Moreau     F  159\n",
       "..           ...                             ...                ...   ...  ...\n",
       "62            62          AleronBerard@rhyta.com      Aleron Berard     M   63\n",
       "204          204          AimeMarseau@dayrep.com       Aime Marseau     M  205\n",
       "16            16  AgricanFoucault@jourrapide.com   Agrican Foucault     M   17\n",
       "7              7        AgramantPepin@dayrep.com     Agramant Pepin     M    8\n",
       "202          202      AgramantGrandpre@rhyta.com  Agramant Grandpre     M  203\n",
       "\n",
       "[228 rows x 5 columns]"
      ]
     },
     "execution_count": 52,
     "metadata": {},
     "output_type": "execute_result"
    }
   ],
   "source": [
    "data.sort_values(['genre', 'nom'], ascending=[True, False])"
   ]
  },
  {
   "cell_type": "code",
   "execution_count": null,
   "id": "ae997379",
   "metadata": {},
   "outputs": [
    {
     "data": {
      "text/plain": [
       "0      Laurent Dagenais\n",
       "1            Guy Marois\n",
       "2       Beaufort Lesage\n",
       "3        Russell Durand\n",
       "4           Alexis Riel\n",
       "5         Leon Lapresse\n",
       "6      Orville Routhier\n",
       "7        Agramant Pepin\n",
       "8    Aiglentina Lambert\n",
       "9       Theodore Clavet\n",
       "Name: nom, dtype: object"
      ]
     },
     "execution_count": 54,
     "metadata": {},
     "output_type": "execute_result"
    }
   ],
   "source": [
    "# sélectionner le nom des 10 premiers clients :\n",
    "data.iloc[:10, 2]"
   ]
  },
  {
   "cell_type": "code",
   "execution_count": null,
   "id": "29942f46",
   "metadata": {},
   "outputs": [
    {
     "data": {
      "text/html": [
       "<div>\n",
       "<style scoped>\n",
       "    .dataframe tbody tr th:only-of-type {\n",
       "        vertical-align: middle;\n",
       "    }\n",
       "\n",
       "    .dataframe tbody tr th {\n",
       "        vertical-align: top;\n",
       "    }\n",
       "\n",
       "    .dataframe thead th {\n",
       "        text-align: right;\n",
       "    }\n",
       "</style>\n",
       "<table border=\"1\" class=\"dataframe\">\n",
       "  <thead>\n",
       "    <tr style=\"text-align: right;\">\n",
       "      <th></th>\n",
       "      <th>email</th>\n",
       "      <th>nom</th>\n",
       "    </tr>\n",
       "  </thead>\n",
       "  <tbody>\n",
       "    <tr>\n",
       "      <th>10</th>\n",
       "      <td>ByronLefebvre@jourrapide.com</td>\n",
       "      <td>Byron Lefebvre</td>\n",
       "    </tr>\n",
       "    <tr>\n",
       "      <th>11</th>\n",
       "      <td>FlorusDevoe@einrot.com</td>\n",
       "      <td>Florus Devoe</td>\n",
       "    </tr>\n",
       "    <tr>\n",
       "      <th>12</th>\n",
       "      <td>NormandArsenault@armyspy.com</td>\n",
       "      <td>Normand Arsenault</td>\n",
       "    </tr>\n",
       "    <tr>\n",
       "      <th>13</th>\n",
       "      <td>AcelineHughes@jourrapide.com</td>\n",
       "      <td>Aceline Hughes</td>\n",
       "    </tr>\n",
       "    <tr>\n",
       "      <th>14</th>\n",
       "      <td>GastonBrisette@superrito.com</td>\n",
       "      <td>Gaston Brisette</td>\n",
       "    </tr>\n",
       "    <tr>\n",
       "      <th>15</th>\n",
       "      <td>AgateGrandbois@gustr.com</td>\n",
       "      <td>Agate Grandbois</td>\n",
       "    </tr>\n",
       "    <tr>\n",
       "      <th>16</th>\n",
       "      <td>AgricanFoucault@jourrapide.com</td>\n",
       "      <td>Agrican Foucault</td>\n",
       "    </tr>\n",
       "    <tr>\n",
       "      <th>17</th>\n",
       "      <td>PrunellaJosseaume@armyspy.com</td>\n",
       "      <td>Prunella Josseaume</td>\n",
       "    </tr>\n",
       "    <tr>\n",
       "      <th>18</th>\n",
       "      <td>YseultCharest@armyspy.com</td>\n",
       "      <td>Yseult Charest</td>\n",
       "    </tr>\n",
       "    <tr>\n",
       "      <th>19</th>\n",
       "      <td>DorotheeAupry@cuvox.de</td>\n",
       "      <td>Dorothee Aupry</td>\n",
       "    </tr>\n",
       "  </tbody>\n",
       "</table>\n",
       "</div>"
      ],
      "text/plain": [
       "                             email                 nom\n",
       "10    ByronLefebvre@jourrapide.com      Byron Lefebvre\n",
       "11          FlorusDevoe@einrot.com        Florus Devoe\n",
       "12    NormandArsenault@armyspy.com   Normand Arsenault\n",
       "13    AcelineHughes@jourrapide.com      Aceline Hughes\n",
       "14    GastonBrisette@superrito.com     Gaston Brisette\n",
       "15        AgateGrandbois@gustr.com     Agate Grandbois\n",
       "16  AgricanFoucault@jourrapide.com    Agrican Foucault\n",
       "17   PrunellaJosseaume@armyspy.com  Prunella Josseaume\n",
       "18       YseultCharest@armyspy.com      Yseult Charest\n",
       "19          DorotheeAupry@cuvox.de      Dorothee Aupry"
      ]
     },
     "execution_count": 55,
     "metadata": {},
     "output_type": "execute_result"
    }
   ],
   "source": [
    "# sélectionner l’email et le nom des 10 clients suivants :\n",
    "data.iloc[10:20, 1:3]"
   ]
  },
  {
   "cell_type": "code",
   "execution_count": null,
   "id": "3eb58b3b",
   "metadata": {},
   "outputs": [
    {
     "data": {
      "text/html": [
       "<div>\n",
       "<style scoped>\n",
       "    .dataframe tbody tr th:only-of-type {\n",
       "        vertical-align: middle;\n",
       "    }\n",
       "\n",
       "    .dataframe tbody tr th {\n",
       "        vertical-align: top;\n",
       "    }\n",
       "\n",
       "    .dataframe thead th {\n",
       "        text-align: right;\n",
       "    }\n",
       "</style>\n",
       "<table border=\"1\" class=\"dataframe\">\n",
       "  <thead>\n",
       "    <tr style=\"text-align: right;\">\n",
       "      <th></th>\n",
       "      <th>email</th>\n",
       "      <th>genre</th>\n",
       "    </tr>\n",
       "  </thead>\n",
       "  <tbody>\n",
       "    <tr>\n",
       "      <th>218</th>\n",
       "      <td>MinetteRoy@fleckens.hu</td>\n",
       "      <td>F</td>\n",
       "    </tr>\n",
       "    <tr>\n",
       "      <th>219</th>\n",
       "      <td>RoslynChalifour@cuvox.de</td>\n",
       "      <td>M</td>\n",
       "    </tr>\n",
       "    <tr>\n",
       "      <th>220</th>\n",
       "      <td>KarelBazinet@einrot.com</td>\n",
       "      <td>M</td>\n",
       "    </tr>\n",
       "    <tr>\n",
       "      <th>221</th>\n",
       "      <td>JosetteBordeleau@einrot.com</td>\n",
       "      <td>F</td>\n",
       "    </tr>\n",
       "    <tr>\n",
       "      <th>222</th>\n",
       "      <td>LangleyCaron@armyspy.com</td>\n",
       "      <td>M</td>\n",
       "    </tr>\n",
       "    <tr>\n",
       "      <th>223</th>\n",
       "      <td>ClaudeDandonneau@jourrapide.com</td>\n",
       "      <td>F</td>\n",
       "    </tr>\n",
       "    <tr>\n",
       "      <th>224</th>\n",
       "      <td>ApollineMichaud@superrito.com</td>\n",
       "      <td>F</td>\n",
       "    </tr>\n",
       "    <tr>\n",
       "      <th>225</th>\n",
       "      <td>PascalineBeaudry@rhyta.com</td>\n",
       "      <td>F</td>\n",
       "    </tr>\n",
       "    <tr>\n",
       "      <th>226</th>\n",
       "      <td>FleurCaouette@jourrapide.com</td>\n",
       "      <td>F</td>\n",
       "    </tr>\n",
       "    <tr>\n",
       "      <th>227</th>\n",
       "      <td>FrancisMasse@jourrapide.com</td>\n",
       "      <td>M</td>\n",
       "    </tr>\n",
       "  </tbody>\n",
       "</table>\n",
       "</div>"
      ],
      "text/plain": [
       "                               email genre\n",
       "218           MinetteRoy@fleckens.hu     F\n",
       "219         RoslynChalifour@cuvox.de     M\n",
       "220          KarelBazinet@einrot.com     M\n",
       "221      JosetteBordeleau@einrot.com     F\n",
       "222         LangleyCaron@armyspy.com     M\n",
       "223  ClaudeDandonneau@jourrapide.com     F\n",
       "224    ApollineMichaud@superrito.com     F\n",
       "225       PascalineBeaudry@rhyta.com     F\n",
       "226     FleurCaouette@jourrapide.com     F\n",
       "227      FrancisMasse@jourrapide.com     M"
      ]
     },
     "execution_count": 58,
     "metadata": {},
     "output_type": "execute_result"
    }
   ],
   "source": [
    "# sélectionner l’e-mail et le genre des 10 derniers clients :\n",
    "data.iloc[-10:, [1, 3]]"
   ]
  },
  {
   "cell_type": "code",
   "execution_count": null,
   "id": "970e3b74",
   "metadata": {},
   "outputs": [
    {
     "data": {
      "text/html": [
       "<div>\n",
       "<style scoped>\n",
       "    .dataframe tbody tr th:only-of-type {\n",
       "        vertical-align: middle;\n",
       "    }\n",
       "\n",
       "    .dataframe tbody tr th {\n",
       "        vertical-align: top;\n",
       "    }\n",
       "\n",
       "    .dataframe thead th {\n",
       "        text-align: right;\n",
       "    }\n",
       "</style>\n",
       "<table border=\"1\" class=\"dataframe\">\n",
       "  <thead>\n",
       "    <tr style=\"text-align: right;\">\n",
       "      <th></th>\n",
       "      <th>identifiant</th>\n",
       "      <th>email</th>\n",
       "      <th>nom</th>\n",
       "      <th>id</th>\n",
       "    </tr>\n",
       "    <tr>\n",
       "      <th>genre</th>\n",
       "      <th></th>\n",
       "      <th></th>\n",
       "      <th></th>\n",
       "      <th></th>\n",
       "    </tr>\n",
       "  </thead>\n",
       "  <tbody>\n",
       "    <tr>\n",
       "      <th>F</th>\n",
       "      <td>14209</td>\n",
       "      <td>AiglentinaLambert@fleckens.huAcelineHughes@jou...</td>\n",
       "      <td>Aiglentina LambertAceline HughesAgate Grandboi...</td>\n",
       "      <td>14327</td>\n",
       "    </tr>\n",
       "    <tr>\n",
       "      <th>M</th>\n",
       "      <td>11669</td>\n",
       "      <td>LaurentDagenais@rhyta.comGuyMarois@fleckens.hu...</td>\n",
       "      <td>Laurent DagenaisGuy MaroisBeaufort LesageRusse...</td>\n",
       "      <td>11779</td>\n",
       "    </tr>\n",
       "  </tbody>\n",
       "</table>\n",
       "</div>"
      ],
      "text/plain": [
       "       identifiant                                              email  \\\n",
       "genre                                                                   \n",
       "F            14209  AiglentinaLambert@fleckens.huAcelineHughes@jou...   \n",
       "M            11669  LaurentDagenais@rhyta.comGuyMarois@fleckens.hu...   \n",
       "\n",
       "                                                     nom     id  \n",
       "genre                                                            \n",
       "F      Aiglentina LambertAceline HughesAgate Grandboi...  14327  \n",
       "M      Laurent DagenaisGuy MaroisBeaufort LesageRusse...  11779  "
      ]
     },
     "execution_count": 62,
     "metadata": {},
     "output_type": "execute_result"
    }
   ],
   "source": [
    "data.groupby('genre').sum()"
   ]
  },
  {
   "cell_type": "code",
   "execution_count": null,
   "id": "3d635613",
   "metadata": {},
   "outputs": [
    {
     "name": "stdout",
     "output_type": "stream",
     "text": [
      "Defaulting to user installation because normal site-packages is not writeable\n",
      "Collecting matplotlib\n",
      "  Downloading matplotlib-3.9.1-cp312-cp312-win_amd64.whl.metadata (11 kB)\n",
      "Collecting contourpy>=1.0.1 (from matplotlib)\n",
      "  Downloading contourpy-1.2.1-cp312-cp312-win_amd64.whl.metadata (5.8 kB)\n",
      "Collecting cycler>=0.10 (from matplotlib)\n",
      "  Downloading cycler-0.12.1-py3-none-any.whl.metadata (3.8 kB)\n",
      "Collecting fonttools>=4.22.0 (from matplotlib)\n",
      "  Downloading fonttools-4.53.1-cp312-cp312-win_amd64.whl.metadata (165 kB)\n",
      "     ---------------------------------------- 0.0/165.9 kB ? eta -:--:--\n",
      "     --------- ----------------------------- 41.0/165.9 kB 2.0 MB/s eta 0:00:01\n",
      "     -------------------------------------- 165.9/165.9 kB 3.3 MB/s eta 0:00:00\n",
      "Collecting kiwisolver>=1.3.1 (from matplotlib)\n",
      "  Downloading kiwisolver-1.4.5-cp312-cp312-win_amd64.whl.metadata (6.5 kB)\n",
      "Requirement already satisfied: numpy>=1.23 in c:\\users\\a-bez\\appdata\\local\\packages\\pythonsoftwarefoundation.python.3.12_qbz5n2kfra8p0\\localcache\\local-packages\\python312\\site-packages (from matplotlib) (2.0.1)\n",
      "Requirement already satisfied: packaging>=20.0 in c:\\users\\a-bez\\appdata\\local\\packages\\pythonsoftwarefoundation.python.3.12_qbz5n2kfra8p0\\localcache\\local-packages\\python312\\site-packages (from matplotlib) (24.1)\n",
      "Collecting pillow>=8 (from matplotlib)\n",
      "  Downloading pillow-10.4.0-cp312-cp312-win_amd64.whl.metadata (9.3 kB)\n",
      "Collecting pyparsing>=2.3.1 (from matplotlib)\n",
      "  Downloading pyparsing-3.1.2-py3-none-any.whl.metadata (5.1 kB)\n",
      "Requirement already satisfied: python-dateutil>=2.7 in c:\\users\\a-bez\\appdata\\local\\packages\\pythonsoftwarefoundation.python.3.12_qbz5n2kfra8p0\\localcache\\local-packages\\python312\\site-packages (from matplotlib) (2.9.0.post0)\n",
      "Requirement already satisfied: six>=1.5 in c:\\users\\a-bez\\appdata\\local\\packages\\pythonsoftwarefoundation.python.3.12_qbz5n2kfra8p0\\localcache\\local-packages\\python312\\site-packages (from python-dateutil>=2.7->matplotlib) (1.16.0)\n",
      "Downloading matplotlib-3.9.1-cp312-cp312-win_amd64.whl (8.0 MB)\n",
      "   ---------------------------------------- 0.0/8.0 MB ? eta -:--:--\n",
      "   ---------- ----------------------------- 2.0/8.0 MB 65.4 MB/s eta 0:00:01\n",
      "   ------------------------------------- -- 7.5/8.0 MB 96.1 MB/s eta 0:00:01\n",
      "   ---------------------------------------- 8.0/8.0 MB 73.1 MB/s eta 0:00:00\n",
      "Downloading contourpy-1.2.1-cp312-cp312-win_amd64.whl (189 kB)\n",
      "   ---------------------------------------- 0.0/189.9 kB ? eta -:--:--\n",
      "   --------------------------------------- 189.9/189.9 kB 12.0 MB/s eta 0:00:00\n",
      "Downloading cycler-0.12.1-py3-none-any.whl (8.3 kB)\n",
      "Downloading fonttools-4.53.1-cp312-cp312-win_amd64.whl (2.2 MB)\n",
      "   ---------------------------------------- 0.0/2.2 MB ? eta -:--:--\n",
      "   ------------------------------- -------- 1.7/2.2 MB 36.2 MB/s eta 0:00:01\n",
      "   ------------------------------- -------- 1.8/2.2 MB 18.5 MB/s eta 0:00:01\n",
      "   ---------------------------------------- 2.2/2.2 MB 19.8 MB/s eta 0:00:00\n",
      "Downloading kiwisolver-1.4.5-cp312-cp312-win_amd64.whl (56 kB)\n",
      "   ---------------------------------------- 0.0/56.0 kB ? eta -:--:--\n",
      "   ---------------------------------------- 56.0/56.0 kB ? eta 0:00:00\n",
      "Downloading pillow-10.4.0-cp312-cp312-win_amd64.whl (2.6 MB)\n",
      "   ---------------------------------------- 0.0/2.6 MB ? eta -:--:--\n",
      "   ---------------------------------------- 2.6/2.6 MB 82.1 MB/s eta 0:00:00\n",
      "Downloading pyparsing-3.1.2-py3-none-any.whl (103 kB)\n",
      "   ---------------------------------------- 0.0/103.2 kB ? eta -:--:--\n",
      "   ---------------------------------------- 103.2/103.2 kB 6.2 MB/s eta 0:00:00\n",
      "Installing collected packages: pyparsing, pillow, kiwisolver, fonttools, cycler, contourpy, matplotlib\n",
      "Successfully installed contourpy-1.2.1 cycler-0.12.1 fonttools-4.53.1 kiwisolver-1.4.5 matplotlib-3.9.1 pillow-10.4.0 pyparsing-3.1.2\n",
      "Note: you may need to restart the kernel to use updated packages.\n"
     ]
    },
    {
     "name": "stderr",
     "output_type": "stream",
     "text": [
      "\n",
      "[notice] A new release of pip is available: 24.0 -> 24.1.2\n",
      "[notice] To update, run: C:\\Users\\A-Bez\\AppData\\Local\\Microsoft\\WindowsApps\\PythonSoftwareFoundation.Python.3.12_qbz5n2kfra8p0\\python.exe -m pip install --upgrade pip\n"
     ]
    }
   ],
   "source": [
    "pip install matplotlib\n"
   ]
  },
  {
   "cell_type": "code",
   "execution_count": 6,
   "id": "738b25db",
   "metadata": {},
   "outputs": [],
   "source": [
    "import matplotlib.pyplot as plt"
   ]
  },
  {
   "cell_type": "code",
   "execution_count": 8,
   "id": "8066b577",
   "metadata": {},
   "outputs": [
    {
     "ename": "NameError",
     "evalue": "name 'prets' is not defined",
     "output_type": "error",
     "traceback": [
      "\u001b[1;31m---------------------------------------------------------------------------\u001b[0m",
      "\u001b[1;31mNameError\u001b[0m                                 Traceback (most recent call last)",
      "Cell \u001b[1;32mIn[8], line 1\u001b[0m\n\u001b[1;32m----> 1\u001b[0m plt\u001b[38;5;241m.\u001b[39mscatter(\u001b[43mprets\u001b[49m[\u001b[38;5;124m'\u001b[39m\u001b[38;5;124mrevenu\u001b[39m\u001b[38;5;124m'\u001b[39m], prets[\u001b[38;5;124m'\u001b[39m\u001b[38;5;124mtaux_endettement\u001b[39m\u001b[38;5;124m'\u001b[39m])\n",
      "\u001b[1;31mNameError\u001b[0m: name 'prets' is not defined"
     ]
    }
   ],
   "source": [
    "plt.scatter(prets['revenu'], prets['taux_endettement'])"
   ]
  },
  {
   "cell_type": "code",
   "execution_count": 1,
   "id": "6f92d887",
   "metadata": {},
   "outputs": [
    {
     "name": "stdout",
     "output_type": "stream",
     "text": [
      "asttokens==2.4.1\n",
      "beautifulsoup4==4.12.3\n",
      "certifi==2024.7.4\n",
      "charset-normalizer==3.3.2\n",
      "colorama==0.4.6\n",
      "comm==0.2.2\n",
      "contourpy==1.2.1\n",
      "cycler==0.12.1\n",
      "debugpy==1.8.2\n",
      "decorator==5.1.1\n",
      "executing==2.0.1\n",
      "fonttools==4.53.1\n",
      "idna==3.7\n",
      "ipykernel==6.29.5\n",
      "ipython==8.26.0\n",
      "jedi==0.19.1\n",
      "jupyter_client==8.6.2\n",
      "jupyter_core==5.7.2\n",
      "kiwisolver==1.4.5\n",
      "matplotlib==3.9.1\n",
      "matplotlib-inline==0.1.7\n",
      "nest-asyncio==1.6.0\n",
      "numpy==2.0.1\n",
      "packaging==24.1\n",
      "pandas==2.2.2\n",
      "parso==0.8.4\n",
      "pillow==10.4.0\n",
      "platformdirs==4.2.2\n",
      "prompt_toolkit==3.0.47\n",
      "psutil==6.0.0\n",
      "pure-eval==0.2.2\n",
      "Pygments==2.18.0\n",
      "pyparsing==3.1.2\n",
      "python-dateutil==2.9.0.post0\n",
      "pytz==2024.1\n",
      "pywin32==306\n",
      "pyzmq==26.0.3\n",
      "request2==0.2\n",
      "requests==2.32.3\n",
      "six==1.16.0\n",
      "soupsieve==2.5\n",
      "stack-data==0.6.3\n",
      "tornado==6.4.1\n",
      "traitlets==5.14.3\n",
      "tzdata==2024.1\n",
      "urllib3==2.2.2\n",
      "wcwidth==0.2.13\n",
      "Note: you may need to restart the kernel to use updated packages.\n"
     ]
    }
   ],
   "source": [
    "pip freeze"
   ]
  },
  {
   "cell_type": "code",
   "execution_count": 1,
   "id": "9fb8878c",
   "metadata": {},
   "outputs": [],
   "source": [
    "class Rectangle:\n",
    "    def __init__(self, length, width, color=\"red\"):\n",
    "        self.length = length\n",
    "        self.width = width\n",
    "        self.color = color"
   ]
  },
  {
   "cell_type": "code",
   "execution_count": null,
   "id": "bb8e5db4",
   "metadata": {},
   "outputs": [],
   "source": []
  }
 ],
 "metadata": {
  "kernelspec": {
   "display_name": "Python 3 (ipykernel)",
   "language": "python",
   "name": "python3"
  },
  "language_info": {
   "codemirror_mode": {
    "name": "ipython",
    "version": 3
   },
   "file_extension": ".py",
   "mimetype": "text/x-python",
   "name": "python",
   "nbconvert_exporter": "python",
   "pygments_lexer": "ipython3",
   "version": "3.12.5"
  }
 },
 "nbformat": 4,
 "nbformat_minor": 5
}
